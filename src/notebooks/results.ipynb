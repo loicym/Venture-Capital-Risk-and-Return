{
 "cells": [
  {
   "cell_type": "code",
   "execution_count": 19,
   "metadata": {},
   "outputs": [],
   "source": [
    "from pickle import load, dump\n",
    "import pandas as pd\n",
    "import numpy as np\n",
    "import matplotlib.pyplot as plt"
   ]
  },
  {
   "cell_type": "code",
   "execution_count": 2,
   "metadata": {},
   "outputs": [],
   "source": [
    "bootstrap = load(open('../../res_bootstrap.pkl', 'rb'))\n",
    "values = pd.DataFrame([sample.loc['value'] for sample in bootstrap.values()], index=range(len(bootstrap)))\n",
    "boot_res = values.describe().loc[['mean', 'std']]"
   ]
  },
  {
   "cell_type": "code",
   "execution_count": 20,
   "metadata": {},
   "outputs": [],
   "source": [
    "with open('../../res_bootstrap.pkl', 'wb') as file:\n",
    "        dump(boot_res, file)"
   ]
  },
  {
   "cell_type": "code",
   "execution_count": 21,
   "metadata": {},
   "outputs": [
    {
     "data": {
      "text/html": [
       "<div>\n",
       "<style scoped>\n",
       "    .dataframe tbody tr th:only-of-type {\n",
       "        vertical-align: middle;\n",
       "    }\n",
       "\n",
       "    .dataframe tbody tr th {\n",
       "        vertical-align: top;\n",
       "    }\n",
       "\n",
       "    .dataframe thead th {\n",
       "        text-align: right;\n",
       "    }\n",
       "</style>\n",
       "<table border=\"1\" class=\"dataframe\">\n",
       "  <thead>\n",
       "    <tr style=\"text-align: right;\">\n",
       "      <th></th>\n",
       "      <th>gamma</th>\n",
       "      <th>delta</th>\n",
       "      <th>sigma</th>\n",
       "      <th>k</th>\n",
       "      <th>a</th>\n",
       "      <th>b</th>\n",
       "      <th>pi_err</th>\n",
       "    </tr>\n",
       "  </thead>\n",
       "  <tbody>\n",
       "    <tr>\n",
       "      <th>mean</th>\n",
       "      <td>0.077230</td>\n",
       "      <td>0.420911</td>\n",
       "      <td>0.485440</td>\n",
       "      <td>0.169712</td>\n",
       "      <td>0.769765</td>\n",
       "      <td>4.706462</td>\n",
       "      <td>0.054911</td>\n",
       "    </tr>\n",
       "    <tr>\n",
       "      <th>std</th>\n",
       "      <td>0.003841</td>\n",
       "      <td>0.358876</td>\n",
       "      <td>0.018074</td>\n",
       "      <td>0.023714</td>\n",
       "      <td>0.053891</td>\n",
       "      <td>0.301137</td>\n",
       "      <td>0.012944</td>\n",
       "    </tr>\n",
       "  </tbody>\n",
       "</table>\n",
       "</div>"
      ],
      "text/plain": [
       "         gamma     delta     sigma         k         a         b    pi_err\n",
       "mean  0.077230  0.420911  0.485440  0.169712  0.769765  4.706462  0.054911\n",
       "std   0.003841  0.358876  0.018074  0.023714  0.053891  0.301137  0.012944"
      ]
     },
     "execution_count": 21,
     "metadata": {},
     "output_type": "execute_result"
    }
   ],
   "source": [
    "boot_res"
   ]
  },
  {
   "cell_type": "code",
   "execution_count": 22,
   "metadata": {},
   "outputs": [
    {
     "data": {
      "text/html": [
       "<div>\n",
       "<style scoped>\n",
       "    .dataframe tbody tr th:only-of-type {\n",
       "        vertical-align: middle;\n",
       "    }\n",
       "\n",
       "    .dataframe tbody tr th {\n",
       "        vertical-align: top;\n",
       "    }\n",
       "\n",
       "    .dataframe thead th {\n",
       "        text-align: right;\n",
       "    }\n",
       "</style>\n",
       "<table border=\"1\" class=\"dataframe\">\n",
       "  <thead>\n",
       "    <tr style=\"text-align: right;\">\n",
       "      <th></th>\n",
       "      <th>gamma</th>\n",
       "      <th>delta</th>\n",
       "      <th>sigma</th>\n",
       "      <th>k</th>\n",
       "      <th>a</th>\n",
       "      <th>b</th>\n",
       "      <th>pi_err</th>\n",
       "    </tr>\n",
       "  </thead>\n",
       "  <tbody>\n",
       "    <tr>\n",
       "      <th>value</th>\n",
       "      <td>0.047021</td>\n",
       "      <td>0.960933</td>\n",
       "      <td>0.481416</td>\n",
       "      <td>0.172459</td>\n",
       "      <td>0.748421</td>\n",
       "      <td>4.807627</td>\n",
       "      <td>0.057652</td>\n",
       "    </tr>\n",
       "    <tr>\n",
       "      <th>std</th>\n",
       "      <td>0.002637</td>\n",
       "      <td>0.078594</td>\n",
       "      <td>0.010839</td>\n",
       "      <td>0.029880</td>\n",
       "      <td>0.028682</td>\n",
       "      <td>0.115496</td>\n",
       "      <td>0.105350</td>\n",
       "    </tr>\n",
       "  </tbody>\n",
       "</table>\n",
       "</div>"
      ],
      "text/plain": [
       "          gamma     delta     sigma         k         a         b    pi_err\n",
       "value  0.047021  0.960933  0.481416  0.172459  0.748421  4.807627  0.057652\n",
       "std    0.002637  0.078594  0.010839  0.029880  0.028682  0.115496  0.105350"
      ]
     },
     "execution_count": 22,
     "metadata": {},
     "output_type": "execute_result"
    }
   ],
   "source": [
    "load(open('../../res_cochrane.pkl', 'rb'))"
   ]
  },
  {
   "cell_type": "code",
   "execution_count": 23,
   "metadata": {},
   "outputs": [
    {
     "data": {
      "text/html": [
       "<div>\n",
       "<style scoped>\n",
       "    .dataframe tbody tr th:only-of-type {\n",
       "        vertical-align: middle;\n",
       "    }\n",
       "\n",
       "    .dataframe tbody tr th {\n",
       "        vertical-align: top;\n",
       "    }\n",
       "\n",
       "    .dataframe thead th {\n",
       "        text-align: right;\n",
       "    }\n",
       "</style>\n",
       "<table border=\"1\" class=\"dataframe\">\n",
       "  <thead>\n",
       "    <tr style=\"text-align: right;\">\n",
       "      <th></th>\n",
       "      <th>gamma</th>\n",
       "      <th>delta</th>\n",
       "      <th>sigma</th>\n",
       "      <th>k</th>\n",
       "      <th>a</th>\n",
       "      <th>b</th>\n",
       "      <th>pi_err</th>\n",
       "    </tr>\n",
       "  </thead>\n",
       "  <tbody>\n",
       "    <tr>\n",
       "      <th>value</th>\n",
       "      <td>0.102201</td>\n",
       "      <td>-0.417924</td>\n",
       "      <td>0.187363</td>\n",
       "      <td>0.563505</td>\n",
       "      <td>0.49931</td>\n",
       "      <td>10.000077</td>\n",
       "      <td>0.294141</td>\n",
       "    </tr>\n",
       "    <tr>\n",
       "      <th>std</th>\n",
       "      <td>0.000396</td>\n",
       "      <td>0.023129</td>\n",
       "      <td>0.003252</td>\n",
       "      <td>0.004875</td>\n",
       "      <td>0.00162</td>\n",
       "      <td>0.001222</td>\n",
       "      <td>0.032076</td>\n",
       "    </tr>\n",
       "  </tbody>\n",
       "</table>\n",
       "</div>"
      ],
      "text/plain": [
       "          gamma     delta     sigma         k        a          b    pi_err\n",
       "value  0.102201 -0.417924  0.187363  0.563505  0.49931  10.000077  0.294141\n",
       "std    0.000396  0.023129  0.003252  0.004875  0.00162   0.001222  0.032076"
      ]
     },
     "execution_count": 23,
     "metadata": {},
     "output_type": "execute_result"
    }
   ],
   "source": [
    "load(open('../../res.pkl', 'rb'))"
   ]
  },
  {
   "cell_type": "code",
   "execution_count": 24,
   "metadata": {},
   "outputs": [
    {
     "data": {
      "text/html": [
       "<div>\n",
       "<style scoped>\n",
       "    .dataframe tbody tr th:only-of-type {\n",
       "        vertical-align: middle;\n",
       "    }\n",
       "\n",
       "    .dataframe tbody tr th {\n",
       "        vertical-align: top;\n",
       "    }\n",
       "\n",
       "    .dataframe thead th {\n",
       "        text-align: right;\n",
       "    }\n",
       "</style>\n",
       "<table border=\"1\" class=\"dataframe\">\n",
       "  <thead>\n",
       "    <tr style=\"text-align: right;\">\n",
       "      <th></th>\n",
       "      <th>gamma</th>\n",
       "      <th>delta</th>\n",
       "      <th>sigma</th>\n",
       "      <th>k</th>\n",
       "      <th>a</th>\n",
       "      <th>b</th>\n",
       "      <th>pi_err</th>\n",
       "    </tr>\n",
       "  </thead>\n",
       "  <tbody>\n",
       "    <tr>\n",
       "      <th>value</th>\n",
       "      <td>0.096578</td>\n",
       "      <td>-0.901324</td>\n",
       "      <td>0.275805</td>\n",
       "      <td>0.323172</td>\n",
       "      <td>0.493515</td>\n",
       "      <td>10.000001</td>\n",
       "      <td>0.062939</td>\n",
       "    </tr>\n",
       "    <tr>\n",
       "      <th>std</th>\n",
       "      <td>0.001887</td>\n",
       "      <td>0.015105</td>\n",
       "      <td>0.016693</td>\n",
       "      <td>0.028529</td>\n",
       "      <td>0.006648</td>\n",
       "      <td>0.000719</td>\n",
       "      <td>0.204670</td>\n",
       "    </tr>\n",
       "  </tbody>\n",
       "</table>\n",
       "</div>"
      ],
      "text/plain": [
       "          gamma     delta     sigma         k         a          b    pi_err\n",
       "value  0.096578 -0.901324  0.275805  0.323172  0.493515  10.000001  0.062939\n",
       "std    0.001887  0.015105  0.016693  0.028529  0.006648   0.000719  0.204670"
      ]
     },
     "execution_count": 24,
     "metadata": {},
     "output_type": "execute_result"
    }
   ],
   "source": [
    "load(open('../../res_nopred.pkl', 'rb'))"
   ]
  },
  {
   "cell_type": "code",
   "execution_count": null,
   "metadata": {},
   "outputs": [],
   "source": []
  }
 ],
 "metadata": {
  "kernelspec": {
   "display_name": "Python 3.10.2 64-bit ('3.10.2')",
   "language": "python",
   "name": "python3"
  },
  "language_info": {
   "codemirror_mode": {
    "name": "ipython",
    "version": 3
   },
   "file_extension": ".py",
   "mimetype": "text/x-python",
   "name": "python",
   "nbconvert_exporter": "python",
   "pygments_lexer": "ipython3",
   "version": "3.10.2"
  },
  "orig_nbformat": 4,
  "vscode": {
   "interpreter": {
    "hash": "4cd4398770f52323a936c32f4c9c33f20493122a0515696d6ebafdd949421bc2"
   }
  }
 },
 "nbformat": 4,
 "nbformat_minor": 2
}
