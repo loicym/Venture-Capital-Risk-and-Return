{
 "cells": [
  {
   "cell_type": "code",
   "execution_count": 1,
   "metadata": {},
   "outputs": [],
   "source": [
    "import pandas as pd\n",
    "import numpy as np\n",
    "import matplotlib.pyplot as plt\n",
    "\n",
    "from pickle import load, dump\n",
    "from scripts.preprocess import load_index_data, load_tbills_data\n",
    "from scripts.utils import print_results"
   ]
  },
  {
   "cell_type": "code",
   "execution_count": 2,
   "metadata": {},
   "outputs": [],
   "source": [
    "\n",
    "start = '1987-01-01'\n",
    "end = '2000-08-02'\n",
    "log_rf = load_tbills_data('TB3MS', start, end).iloc[:,0].values\n",
    "log_mk = load_index_data('^SP500TR', start, end, '1mo').iloc[:,0].values"
   ]
  },
  {
   "cell_type": "code",
   "execution_count": 3,
   "metadata": {},
   "outputs": [],
   "source": [
    "bootstrap = load(open('../../res_bootstrap_unpacked.pkl', 'rb'))\n",
    "values = pd.DataFrame([sample.loc['value'] for sample in bootstrap.values()], index=range(len(bootstrap)))\n",
    "boot_res = values.describe().loc[['mean', 'std']]"
   ]
  },
  {
   "cell_type": "code",
   "execution_count": 4,
   "metadata": {},
   "outputs": [],
   "source": [
    "with open('../../res_bootstrap.pkl', 'wb') as file:\n",
    "        dump(boot_res, file)"
   ]
  },
  {
   "cell_type": "code",
   "execution_count": 5,
   "metadata": {},
   "outputs": [
    {
     "data": {
      "text/html": [
       "<div>\n",
       "<style scoped>\n",
       "    .dataframe tbody tr th:only-of-type {\n",
       "        vertical-align: middle;\n",
       "    }\n",
       "\n",
       "    .dataframe tbody tr th {\n",
       "        vertical-align: top;\n",
       "    }\n",
       "\n",
       "    .dataframe thead th {\n",
       "        text-align: right;\n",
       "    }\n",
       "</style>\n",
       "<table border=\"1\" class=\"dataframe\">\n",
       "  <thead>\n",
       "    <tr style=\"text-align: right;\">\n",
       "      <th></th>\n",
       "      <th>gamma</th>\n",
       "      <th>delta</th>\n",
       "      <th>sigma</th>\n",
       "      <th>k</th>\n",
       "      <th>a</th>\n",
       "      <th>b</th>\n",
       "      <th>pi_err</th>\n",
       "    </tr>\n",
       "  </thead>\n",
       "  <tbody>\n",
       "    <tr>\n",
       "      <th>mean</th>\n",
       "      <td>0.077230</td>\n",
       "      <td>0.420911</td>\n",
       "      <td>0.485440</td>\n",
       "      <td>0.169712</td>\n",
       "      <td>0.769765</td>\n",
       "      <td>4.706462</td>\n",
       "      <td>0.054911</td>\n",
       "    </tr>\n",
       "    <tr>\n",
       "      <th>std</th>\n",
       "      <td>0.003841</td>\n",
       "      <td>0.358876</td>\n",
       "      <td>0.018074</td>\n",
       "      <td>0.023714</td>\n",
       "      <td>0.053891</td>\n",
       "      <td>0.301137</td>\n",
       "      <td>0.012944</td>\n",
       "    </tr>\n",
       "  </tbody>\n",
       "</table>\n",
       "</div>"
      ],
      "text/plain": [
       "         gamma     delta     sigma         k         a         b    pi_err\n",
       "mean  0.077230  0.420911  0.485440  0.169712  0.769765  4.706462  0.054911\n",
       "std   0.003841  0.358876  0.018074  0.023714  0.053891  0.301137  0.012944"
      ]
     },
     "execution_count": 5,
     "metadata": {},
     "output_type": "execute_result"
    }
   ],
   "source": [
    "boot_res"
   ]
  },
  {
   "cell_type": "code",
   "execution_count": 6,
   "metadata": {},
   "outputs": [
    {
     "data": {
      "text/html": [
       "<div>\n",
       "<style scoped>\n",
       "    .dataframe tbody tr th:only-of-type {\n",
       "        vertical-align: middle;\n",
       "    }\n",
       "\n",
       "    .dataframe tbody tr th {\n",
       "        vertical-align: top;\n",
       "    }\n",
       "\n",
       "    .dataframe thead th {\n",
       "        text-align: right;\n",
       "    }\n",
       "</style>\n",
       "<table border=\"1\" class=\"dataframe\">\n",
       "  <thead>\n",
       "    <tr style=\"text-align: right;\">\n",
       "      <th></th>\n",
       "      <th>gamma</th>\n",
       "      <th>delta</th>\n",
       "      <th>sigma</th>\n",
       "      <th>k</th>\n",
       "      <th>a</th>\n",
       "      <th>b</th>\n",
       "      <th>pi_err</th>\n",
       "    </tr>\n",
       "  </thead>\n",
       "  <tbody>\n",
       "    <tr>\n",
       "      <th>value</th>\n",
       "      <td>0.047021</td>\n",
       "      <td>0.960933</td>\n",
       "      <td>0.481416</td>\n",
       "      <td>0.172459</td>\n",
       "      <td>0.748421</td>\n",
       "      <td>4.807627</td>\n",
       "      <td>0.057652</td>\n",
       "    </tr>\n",
       "    <tr>\n",
       "      <th>std</th>\n",
       "      <td>0.002637</td>\n",
       "      <td>0.078594</td>\n",
       "      <td>0.010839</td>\n",
       "      <td>0.029880</td>\n",
       "      <td>0.028682</td>\n",
       "      <td>0.115496</td>\n",
       "      <td>0.105350</td>\n",
       "    </tr>\n",
       "  </tbody>\n",
       "</table>\n",
       "</div>"
      ],
      "text/plain": [
       "          gamma     delta     sigma         k         a         b    pi_err\n",
       "value  0.047021  0.960933  0.481416  0.172459  0.748421  4.807627  0.057652\n",
       "std    0.002637  0.078594  0.010839  0.029880  0.028682  0.115496  0.105350"
      ]
     },
     "execution_count": 6,
     "metadata": {},
     "output_type": "execute_result"
    }
   ],
   "source": [
    "cochrane = load(open('../../res_cochrane.pkl', 'rb'))\n",
    "cochrane"
   ]
  },
  {
   "cell_type": "code",
   "execution_count": 7,
   "metadata": {},
   "outputs": [
    {
     "data": {
      "text/html": [
       "<div>\n",
       "<style scoped>\n",
       "    .dataframe tbody tr th:only-of-type {\n",
       "        vertical-align: middle;\n",
       "    }\n",
       "\n",
       "    .dataframe tbody tr th {\n",
       "        vertical-align: top;\n",
       "    }\n",
       "\n",
       "    .dataframe thead th {\n",
       "        text-align: right;\n",
       "    }\n",
       "</style>\n",
       "<table border=\"1\" class=\"dataframe\">\n",
       "  <thead>\n",
       "    <tr style=\"text-align: right;\">\n",
       "      <th></th>\n",
       "      <th>gamma</th>\n",
       "      <th>delta</th>\n",
       "      <th>sigma</th>\n",
       "      <th>k</th>\n",
       "      <th>a</th>\n",
       "      <th>b</th>\n",
       "      <th>pi_err</th>\n",
       "    </tr>\n",
       "  </thead>\n",
       "  <tbody>\n",
       "    <tr>\n",
       "      <th>value</th>\n",
       "      <td>0.102201</td>\n",
       "      <td>-0.417924</td>\n",
       "      <td>0.187363</td>\n",
       "      <td>0.563505</td>\n",
       "      <td>0.49931</td>\n",
       "      <td>10.000077</td>\n",
       "      <td>0.294141</td>\n",
       "    </tr>\n",
       "    <tr>\n",
       "      <th>std</th>\n",
       "      <td>0.000396</td>\n",
       "      <td>0.023129</td>\n",
       "      <td>0.003252</td>\n",
       "      <td>0.004875</td>\n",
       "      <td>0.00162</td>\n",
       "      <td>0.001222</td>\n",
       "      <td>0.032076</td>\n",
       "    </tr>\n",
       "  </tbody>\n",
       "</table>\n",
       "</div>"
      ],
      "text/plain": [
       "          gamma     delta     sigma         k        a          b    pi_err\n",
       "value  0.102201 -0.417924  0.187363  0.563505  0.49931  10.000077  0.294141\n",
       "std    0.000396  0.023129  0.003252  0.004875  0.00162   0.001222  0.032076"
      ]
     },
     "execution_count": 7,
     "metadata": {},
     "output_type": "execute_result"
    }
   ],
   "source": [
    "pred = load(open('../../res.pkl', 'rb'))\n",
    "pred"
   ]
  },
  {
   "cell_type": "code",
   "execution_count": 8,
   "metadata": {},
   "outputs": [
    {
     "data": {
      "text/html": [
       "<div>\n",
       "<style scoped>\n",
       "    .dataframe tbody tr th:only-of-type {\n",
       "        vertical-align: middle;\n",
       "    }\n",
       "\n",
       "    .dataframe tbody tr th {\n",
       "        vertical-align: top;\n",
       "    }\n",
       "\n",
       "    .dataframe thead th {\n",
       "        text-align: right;\n",
       "    }\n",
       "</style>\n",
       "<table border=\"1\" class=\"dataframe\">\n",
       "  <thead>\n",
       "    <tr style=\"text-align: right;\">\n",
       "      <th></th>\n",
       "      <th>gamma</th>\n",
       "      <th>delta</th>\n",
       "      <th>sigma</th>\n",
       "      <th>k</th>\n",
       "      <th>a</th>\n",
       "      <th>b</th>\n",
       "      <th>pi_err</th>\n",
       "    </tr>\n",
       "  </thead>\n",
       "  <tbody>\n",
       "    <tr>\n",
       "      <th>value</th>\n",
       "      <td>0.045979</td>\n",
       "      <td>-0.906263</td>\n",
       "      <td>0.250294</td>\n",
       "      <td>0.401622</td>\n",
       "      <td>0.609122</td>\n",
       "      <td>8.134123</td>\n",
       "      <td>0.084366</td>\n",
       "    </tr>\n",
       "    <tr>\n",
       "      <th>std</th>\n",
       "      <td>0.002142</td>\n",
       "      <td>0.111163</td>\n",
       "      <td>0.011984</td>\n",
       "      <td>0.020418</td>\n",
       "      <td>0.038075</td>\n",
       "      <td>0.265462</td>\n",
       "      <td>0.170207</td>\n",
       "    </tr>\n",
       "  </tbody>\n",
       "</table>\n",
       "</div>"
      ],
      "text/plain": [
       "          gamma     delta     sigma         k         a         b    pi_err\n",
       "value  0.045979 -0.906263  0.250294  0.401622  0.609122  8.134123  0.084366\n",
       "std    0.002142  0.111163  0.011984  0.020418  0.038075  0.265462  0.170207"
      ]
     },
     "execution_count": 8,
     "metadata": {},
     "output_type": "execute_result"
    }
   ],
   "source": [
    "nopred = load(open('../../res_nopred.pkl', 'rb'))\n",
    "nopred"
   ]
  },
  {
   "cell_type": "code",
   "execution_count": 9,
   "metadata": {},
   "outputs": [
    {
     "name": "stdout",
     "output_type": "stream",
     "text": [
      "Using parameters (annualized percentages)\n",
      "E[log Rf]=5.25%, E[log Rm]=5.48%, V[log Rm]=7.64%\n"
     ]
    }
   ],
   "source": [
    "implied, params = print_results(pred, log_mk, log_rf)"
   ]
  },
  {
   "cell_type": "code",
   "execution_count": 10,
   "metadata": {},
   "outputs": [
    {
     "data": {
      "text/html": [
       "<div>\n",
       "<style scoped>\n",
       "    .dataframe tbody tr th:only-of-type {\n",
       "        vertical-align: middle;\n",
       "    }\n",
       "\n",
       "    .dataframe tbody tr th {\n",
       "        vertical-align: top;\n",
       "    }\n",
       "\n",
       "    .dataframe thead th {\n",
       "        text-align: right;\n",
       "    }\n",
       "</style>\n",
       "<table border=\"1\" class=\"dataframe\">\n",
       "  <thead>\n",
       "    <tr style=\"text-align: right;\">\n",
       "      <th></th>\n",
       "      <th>E[ln R] (%)</th>\n",
       "      <th>SD[ln R] (%)</th>\n",
       "      <th>E[R] (%)</th>\n",
       "      <th>SD[R] (%)</th>\n",
       "      <th>alpha (%)</th>\n",
       "      <th>beta</th>\n",
       "    </tr>\n",
       "  </thead>\n",
       "  <tbody>\n",
       "    <tr>\n",
       "      <th>value</th>\n",
       "      <td>46.035027</td>\n",
       "      <td>37.608361</td>\n",
       "      <td>56.79375</td>\n",
       "      <td>40.54758</td>\n",
       "      <td>51.757003</td>\n",
       "      <td>-0.469938</td>\n",
       "    </tr>\n",
       "  </tbody>\n",
       "</table>\n",
       "</div>"
      ],
      "text/plain": [
       "       E[ln R] (%)  SD[ln R] (%)  E[R] (%)  SD[R] (%)  alpha (%)      beta\n",
       "value    46.035027     37.608361  56.79375   40.54758  51.757003 -0.469938"
      ]
     },
     "execution_count": 10,
     "metadata": {},
     "output_type": "execute_result"
    }
   ],
   "source": [
    "implied"
   ]
  },
  {
   "cell_type": "code",
   "execution_count": 11,
   "metadata": {},
   "outputs": [
    {
     "data": {
      "text/html": [
       "<div>\n",
       "<style scoped>\n",
       "    .dataframe tbody tr th:only-of-type {\n",
       "        vertical-align: middle;\n",
       "    }\n",
       "\n",
       "    .dataframe tbody tr th {\n",
       "        vertical-align: top;\n",
       "    }\n",
       "\n",
       "    .dataframe thead th {\n",
       "        text-align: right;\n",
       "    }\n",
       "</style>\n",
       "<table border=\"1\" class=\"dataframe\">\n",
       "  <thead>\n",
       "    <tr style=\"text-align: right;\">\n",
       "      <th></th>\n",
       "      <th>gamma (%)</th>\n",
       "      <th>delta</th>\n",
       "      <th>sigma (%)</th>\n",
       "      <th>k (%)</th>\n",
       "      <th>a</th>\n",
       "      <th>b</th>\n",
       "      <th>pi (%)</th>\n",
       "    </tr>\n",
       "  </thead>\n",
       "  <tbody>\n",
       "    <tr>\n",
       "      <th>value</th>\n",
       "      <td>40.8804</td>\n",
       "      <td>-0.417924</td>\n",
       "      <td>37.4726</td>\n",
       "      <td>56.350500</td>\n",
       "      <td>0.499310</td>\n",
       "      <td>10.000077</td>\n",
       "      <td>29.414100</td>\n",
       "    </tr>\n",
       "    <tr>\n",
       "      <th>sd</th>\n",
       "      <td>0.1584</td>\n",
       "      <td>0.023129</td>\n",
       "      <td>0.6504</td>\n",
       "      <td>0.274709</td>\n",
       "      <td>0.000809</td>\n",
       "      <td>0.001222</td>\n",
       "      <td>0.665969</td>\n",
       "    </tr>\n",
       "  </tbody>\n",
       "</table>\n",
       "</div>"
      ],
      "text/plain": [
       "       gamma (%)     delta  sigma (%)      k (%)         a          b  \\\n",
       "value    40.8804 -0.417924    37.4726  56.350500  0.499310  10.000077   \n",
       "sd        0.1584  0.023129     0.6504   0.274709  0.000809   0.001222   \n",
       "\n",
       "          pi (%)  \n",
       "value  29.414100  \n",
       "sd      0.665969  "
      ]
     },
     "execution_count": 11,
     "metadata": {},
     "output_type": "execute_result"
    }
   ],
   "source": [
    "params"
   ]
  },
  {
   "cell_type": "code",
   "execution_count": null,
   "metadata": {},
   "outputs": [],
   "source": []
  },
  {
   "cell_type": "code",
   "execution_count": 12,
   "metadata": {},
   "outputs": [
    {
     "name": "stdout",
     "output_type": "stream",
     "text": [
      "Using parameters (annualized percentages)\n",
      "E[log Rf]=5.25%, E[log Rm]=5.48%, V[log Rm]=7.64%\n"
     ]
    }
   ],
   "source": [
    "implied, params = print_results(nopred, log_mk, log_rf)"
   ]
  },
  {
   "cell_type": "code",
   "execution_count": 13,
   "metadata": {},
   "outputs": [
    {
     "data": {
      "text/html": [
       "<div>\n",
       "<style scoped>\n",
       "    .dataframe tbody tr th:only-of-type {\n",
       "        vertical-align: middle;\n",
       "    }\n",
       "\n",
       "    .dataframe tbody tr th {\n",
       "        vertical-align: top;\n",
       "    }\n",
       "\n",
       "    .dataframe thead th {\n",
       "        text-align: right;\n",
       "    }\n",
       "</style>\n",
       "<table border=\"1\" class=\"dataframe\">\n",
       "  <thead>\n",
       "    <tr style=\"text-align: right;\">\n",
       "      <th></th>\n",
       "      <th>E[ln R] (%)</th>\n",
       "      <th>SD[ln R] (%)</th>\n",
       "      <th>E[R] (%)</th>\n",
       "      <th>SD[R] (%)</th>\n",
       "      <th>alpha (%)</th>\n",
       "      <th>beta</th>\n",
       "    </tr>\n",
       "  </thead>\n",
       "  <tbody>\n",
       "    <tr>\n",
       "      <th>value</th>\n",
       "      <td>23.433766</td>\n",
       "      <td>50.535224</td>\n",
       "      <td>37.891679</td>\n",
       "      <td>53.729937</td>\n",
       "      <td>33.122967</td>\n",
       "      <td>-0.976539</td>\n",
       "    </tr>\n",
       "  </tbody>\n",
       "</table>\n",
       "</div>"
      ],
      "text/plain": [
       "       E[ln R] (%)  SD[ln R] (%)   E[R] (%)  SD[R] (%)  alpha (%)      beta\n",
       "value    23.433766     50.535224  37.891679  53.729937  33.122967 -0.976539"
      ]
     },
     "execution_count": 13,
     "metadata": {},
     "output_type": "execute_result"
    }
   ],
   "source": [
    "implied"
   ]
  },
  {
   "cell_type": "code",
   "execution_count": 14,
   "metadata": {},
   "outputs": [],
   "source": [
    "params.to_csv('params.csv')"
   ]
  }
 ],
 "metadata": {
  "kernelspec": {
   "display_name": "Python 3.10.2 64-bit ('3.10.2')",
   "language": "python",
   "name": "python3"
  },
  "language_info": {
   "codemirror_mode": {
    "name": "ipython",
    "version": 3
   },
   "file_extension": ".py",
   "mimetype": "text/x-python",
   "name": "python",
   "nbconvert_exporter": "python",
   "pygments_lexer": "ipython3",
   "version": "3.10.2"
  },
  "orig_nbformat": 4,
  "vscode": {
   "interpreter": {
    "hash": "4cd4398770f52323a936c32f4c9c33f20493122a0515696d6ebafdd949421bc2"
   }
  }
 },
 "nbformat": 4,
 "nbformat_minor": 2
}
