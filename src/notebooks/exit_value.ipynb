{
 "cells": [
  {
   "cell_type": "code",
   "execution_count": 1,
   "metadata": {
    "collapsed": true
   },
   "outputs": [],
   "source": [
    "import pandas as pd\n",
    "import numpy as np"
   ]
  },
  {
   "cell_type": "code",
   "execution_count": 2,
   "outputs": [],
   "source": [
    "ipos_data = pd.read_csv(\"../../data/crunchbase/ipos.csv\")\n",
    "acqs_data = pd.read_csv(\"../../data/crunchbase/acquisitions.csv\")\n",
    "orgs_data = pd.read_csv(\"../../data/crunchbase/organizations.csv\")\n",
    "rnds_data = pd.read_csv('../../data/crunchbase/funding_rounds.csv')"
   ],
   "metadata": {
    "collapsed": false,
    "pycharm": {
     "name": "#%%\n"
    }
   }
  },
  {
   "cell_type": "code",
   "execution_count": 3,
   "outputs": [],
   "source": [
    "ipos = ipos_data[['org_uuid', 'org_name', 'went_public_on', 'valuation_price_usd']]\n",
    "ipos.columns = ['org_uuid', 'name', 'exit_date', 'exit_value']\n",
    "\n",
    "acqs = acqs_data[['acquiree_uuid', 'acquiree_name', 'acquired_on', 'price_usd']]\n",
    "acqs.columns = ['org_uuid', 'name',  'exit_date', 'exit_value']\n",
    "\n",
    "bkpt = pd.DataFrame(orgs_data[['uuid', 'name', 'closed_on']].dropna())\n",
    "bkpt.columns = ['org_uuid', 'name', 'exit_date']"
   ],
   "metadata": {
    "collapsed": false,
    "pycharm": {
     "name": "#%%\n"
    }
   }
  },
  {
   "cell_type": "code",
   "execution_count": 7,
   "outputs": [
    {
     "name": "stderr",
     "output_type": "stream",
     "text": [
      "/var/folders/9g/9p32rxp10c37hppq5lydn44c0000gn/T/ipykernel_13841/2409518501.py:1: SettingWithCopyWarning: \n",
      "A value is trying to be set on a copy of a slice from a DataFrame.\n",
      "Try using .loc[row_indexer,col_indexer] = value instead\n",
      "\n",
      "See the caveats in the documentation: https://pandas.pydata.org/pandas-docs/stable/user_guide/indexing.html#returning-a-view-versus-a-copy\n",
      "  ipos.loc[:,\"exit_type\"] = 1\n",
      "/var/folders/9g/9p32rxp10c37hppq5lydn44c0000gn/T/ipykernel_13841/2409518501.py:2: SettingWithCopyWarning: \n",
      "A value is trying to be set on a copy of a slice from a DataFrame.\n",
      "Try using .loc[row_indexer,col_indexer] = value instead\n",
      "\n",
      "See the caveats in the documentation: https://pandas.pydata.org/pandas-docs/stable/user_guide/indexing.html#returning-a-view-versus-a-copy\n",
      "  acqs.loc[:,\"exit_type\"] = 2\n"
     ]
    }
   ],
   "source": [
    "ipos[\"exit_type\"] = 1\n",
    "acqs[\"exit_type\"] = 2\n",
    "bkpt[\"exit_type\"] = 3\n",
    "bkpt[\"exit_value\"] = np.nan"
   ],
   "metadata": {
    "collapsed": false,
    "pycharm": {
     "name": "#%%\n"
    }
   }
  },
  {
   "cell_type": "code",
   "execution_count": 5,
   "outputs": [],
   "source": [
    "exits = pd.concat([acqs, ipos, bkpt]).set_index(\"org_uuid\")"
   ],
   "metadata": {
    "collapsed": false,
    "pycharm": {
     "name": "#%%\n"
    }
   }
  },
  {
   "cell_type": "code",
   "execution_count": 9,
   "outputs": [
    {
     "data": {
      "text/plain": "                                        uuid  \\\n0       c62807f2-3487-f63b-e7fc-559b752ed44c   \n1       419cabe1-4d71-5f64-3e9b-c9d0fb445cca   \n2       01bd2058-ccf8-6102-f253-9224a67a592b   \n3       831becd6-e913-b9f5-ac09-2bff915f9453   \n4       9da90ee7-aad7-e0b4-8456-839363032e5e   \n...                                      ...   \n135950  2816cd3c-9fa9-4ac0-a06c-b26975a6a793   \n135951  c9221942-3a53-46c4-9d9a-2069055fab96   \n135952  f92cc769-7ae7-4709-bb0b-67b6fb26edd4   \n135953  b0d751ad-deae-4e64-8772-eefef7b4f68b   \n135954  e5df9f75-e60b-4906-9a11-175194d207cb   \n\n                                                  name         type  \\\n0            Flektor acquired by Fox Interactive Media  acquisition   \n1                      GrandCentral acquired by Google  acquisition   \n2                Last.fm acquired by CBS Entertainment  acquisition   \n3                    Kosiso - store acquired by Google  acquisition   \n4              Recipezaar acquired by Scripps Networks  acquisition   \n...                                                ...          ...   \n135950        Gate Labs acquired by Smartfrog & Canary  acquisition   \n135951     Grundium acquired by EW Healthcare Partners  acquisition   \n135952                Arts People acquired by Neon One  acquisition   \n135953               StayFree acquired by Sensor Tower  acquisition   \n135954  VCP Veterinary Care Plans acquired by Covetrus  acquisition   \n\n                                                permalink  \\\n0        fox-interactive-media-acquires-flektor--c62807f2   \n1                  google-acquires-grandcentral--419cabe1   \n2                          cbs-acquires-last-fm--01bd2058   \n3                    google-acquires-feedburner--831becd6   \n4       scripps-networks-interactive-acquires-recipeza...   \n...                                                   ...   \n135950         smartfrog-com-acquires-gate-labs--2816cd3c   \n135951  ew-healthcare-partners-acquires-grundium--c922...   \n135952            neon-one-acquires-arts-people--f92cc769   \n135953           sensor-tower-acquires-stayfree--b0d751ad   \n135954  covetrus-acquires-vcp-veterinary-care-plans--e...   \n\n                                                   cb_url      rank  \\\n0       https://www.crunchbase.com/acquisition/fox-int...  128469.0   \n1       https://www.crunchbase.com/acquisition/google-...   35069.0   \n2       https://www.crunchbase.com/acquisition/cbs-acq...   88063.0   \n3       https://www.crunchbase.com/acquisition/google-...   98104.0   \n4       https://www.crunchbase.com/acquisition/scripps...   80178.0   \n...                                                   ...       ...   \n135950  https://www.crunchbase.com/acquisition/smartfr...       NaN   \n135951  https://www.crunchbase.com/acquisition/ew-heal...       NaN   \n135952  https://www.crunchbase.com/acquisition/neon-on...       NaN   \n135953  https://www.crunchbase.com/acquisition/sensor-...       NaN   \n135954  https://www.crunchbase.com/acquisition/covetru...       NaN   \n\n                 created_at           updated_at  \\\n0       2007-05-31 22:19:54  2018-02-13 00:09:05   \n1       2007-07-03 08:14:50  2018-02-12 22:14:26   \n2       2007-07-12 04:19:24  2018-02-12 23:41:20   \n3       2007-07-13 09:52:59  2018-02-12 23:43:38   \n4       2007-07-20 05:29:07  2018-02-12 23:51:07   \n...                     ...                  ...   \n135950  2022-05-04 16:21:31  2022-05-04 16:21:31   \n135951  2022-05-04 18:53:26  2022-05-04 18:53:26   \n135952  2022-05-04 20:09:20  2022-05-04 20:09:20   \n135953  2022-05-04 22:10:51  2022-05-04 22:10:51   \n135954  2022-05-04 23:20:55  2022-05-04 23:20:55   \n\n                               acquiree_uuid              acquiree_name  ...  \\\n0       180ebf67-68d0-2316-e93d-8e1e546330ba                    Flektor  ...   \n1       5b05e013-a448-3a0b-d872-a6ae668e1192               GrandCentral  ...   \n2       8249dffa-1ca6-6f99-9f76-d56c83f85f2d                    Last.fm  ...   \n3       10dd03fa-69ff-3a82-6321-c6b16c9a9f41             Kosiso - store  ...   \n4       0af10345-613d-e144-f8bd-b62e288985a0                 Recipezaar  ...   \n...                                      ...                        ...  ...   \n135950  c44a32ed-1178-e940-858f-1966893a4c23                  Gate Labs  ...   \n135951  5290e282-960e-4ff2-a1ac-baeac9adcc79                   Grundium  ...   \n135952  8112420a-6c6c-4d09-af57-036772875ae6                Arts People  ...   \n135953  a7f3c7fd-a29c-4429-ac48-8147e6afb7c4                   StayFree  ...   \n135954  3e7ea27a-5f94-4ef2-b52a-e6ad19470fc7  VCP Veterinary Care Plans  ...   \n\n                                          acquirer_cb_url  \\\n0       https://www.crunchbase.com/organization/fox-in...   \n1          https://www.crunchbase.com/organization/google   \n2             https://www.crunchbase.com/organization/cbs   \n3          https://www.crunchbase.com/organization/google   \n4       https://www.crunchbase.com/organization/scripp...   \n...                                                   ...   \n135950  https://www.crunchbase.com/organization/smartf...   \n135951  https://www.crunchbase.com/organization/ew-hea...   \n135952   https://www.crunchbase.com/organization/neon-one   \n135953  https://www.crunchbase.com/organization/sensor...   \n135954   https://www.crunchbase.com/organization/covetrus   \n\n       acquirer_country_code acquirer_state_code acquirer_region  \\\n0                        USA                  CA      California   \n1                        USA                  CA      California   \n2                        USA                  NY        New York   \n3                        USA                  CA      California   \n4                        USA                  TN       Tennessee   \n...                      ...                 ...             ...   \n135950                   USA                  NY        New York   \n135951                   USA                  CA      California   \n135952                   USA                  IL        Illinois   \n135953                   USA                  CA      California   \n135954                   USA                  ME           Maine   \n\n        acquirer_city acquisition_type acquired_on    price_usd        price  \\\n0       Beverly Hills              NaN  2007-05-30          NaN          NaN   \n1       Mountain View              NaN  2007-07-01   60000000.0   60000000.0   \n2            New York              NaN  2007-05-01  280000000.0  280000000.0   \n3       Mountain View      acquisition  2007-05-23  100000000.0  100000000.0   \n4           Knoxville              NaN  2007-07-01          NaN          NaN   \n...               ...              ...         ...          ...          ...   \n135950       New York              NaN  2020-07-01          NaN          NaN   \n135951      Palo Alto              NaN  2022-05-03          NaN          NaN   \n135952        Chicago              NaN  2019-05-01          NaN          NaN   \n135953  San Francisco      acquisition  2020-06-21          NaN          NaN   \n135954       Portland      acquisition  2021-06-30          NaN          NaN   \n\n       price_currency_code  \n0                      NaN  \n1                      USD  \n2                      USD  \n3                      USD  \n4                      NaN  \n...                    ...  \n135950                 NaN  \n135951                 NaN  \n135952                 NaN  \n135953                 NaN  \n135954                 NaN  \n\n[135955 rows x 27 columns]",
      "text/html": "<div>\n<style scoped>\n    .dataframe tbody tr th:only-of-type {\n        vertical-align: middle;\n    }\n\n    .dataframe tbody tr th {\n        vertical-align: top;\n    }\n\n    .dataframe thead th {\n        text-align: right;\n    }\n</style>\n<table border=\"1\" class=\"dataframe\">\n  <thead>\n    <tr style=\"text-align: right;\">\n      <th></th>\n      <th>uuid</th>\n      <th>name</th>\n      <th>type</th>\n      <th>permalink</th>\n      <th>cb_url</th>\n      <th>rank</th>\n      <th>created_at</th>\n      <th>updated_at</th>\n      <th>acquiree_uuid</th>\n      <th>acquiree_name</th>\n      <th>...</th>\n      <th>acquirer_cb_url</th>\n      <th>acquirer_country_code</th>\n      <th>acquirer_state_code</th>\n      <th>acquirer_region</th>\n      <th>acquirer_city</th>\n      <th>acquisition_type</th>\n      <th>acquired_on</th>\n      <th>price_usd</th>\n      <th>price</th>\n      <th>price_currency_code</th>\n    </tr>\n  </thead>\n  <tbody>\n    <tr>\n      <th>0</th>\n      <td>c62807f2-3487-f63b-e7fc-559b752ed44c</td>\n      <td>Flektor acquired by Fox Interactive Media</td>\n      <td>acquisition</td>\n      <td>fox-interactive-media-acquires-flektor--c62807f2</td>\n      <td>https://www.crunchbase.com/acquisition/fox-int...</td>\n      <td>128469.0</td>\n      <td>2007-05-31 22:19:54</td>\n      <td>2018-02-13 00:09:05</td>\n      <td>180ebf67-68d0-2316-e93d-8e1e546330ba</td>\n      <td>Flektor</td>\n      <td>...</td>\n      <td>https://www.crunchbase.com/organization/fox-in...</td>\n      <td>USA</td>\n      <td>CA</td>\n      <td>California</td>\n      <td>Beverly Hills</td>\n      <td>NaN</td>\n      <td>2007-05-30</td>\n      <td>NaN</td>\n      <td>NaN</td>\n      <td>NaN</td>\n    </tr>\n    <tr>\n      <th>1</th>\n      <td>419cabe1-4d71-5f64-3e9b-c9d0fb445cca</td>\n      <td>GrandCentral acquired by Google</td>\n      <td>acquisition</td>\n      <td>google-acquires-grandcentral--419cabe1</td>\n      <td>https://www.crunchbase.com/acquisition/google-...</td>\n      <td>35069.0</td>\n      <td>2007-07-03 08:14:50</td>\n      <td>2018-02-12 22:14:26</td>\n      <td>5b05e013-a448-3a0b-d872-a6ae668e1192</td>\n      <td>GrandCentral</td>\n      <td>...</td>\n      <td>https://www.crunchbase.com/organization/google</td>\n      <td>USA</td>\n      <td>CA</td>\n      <td>California</td>\n      <td>Mountain View</td>\n      <td>NaN</td>\n      <td>2007-07-01</td>\n      <td>60000000.0</td>\n      <td>60000000.0</td>\n      <td>USD</td>\n    </tr>\n    <tr>\n      <th>2</th>\n      <td>01bd2058-ccf8-6102-f253-9224a67a592b</td>\n      <td>Last.fm acquired by CBS Entertainment</td>\n      <td>acquisition</td>\n      <td>cbs-acquires-last-fm--01bd2058</td>\n      <td>https://www.crunchbase.com/acquisition/cbs-acq...</td>\n      <td>88063.0</td>\n      <td>2007-07-12 04:19:24</td>\n      <td>2018-02-12 23:41:20</td>\n      <td>8249dffa-1ca6-6f99-9f76-d56c83f85f2d</td>\n      <td>Last.fm</td>\n      <td>...</td>\n      <td>https://www.crunchbase.com/organization/cbs</td>\n      <td>USA</td>\n      <td>NY</td>\n      <td>New York</td>\n      <td>New York</td>\n      <td>NaN</td>\n      <td>2007-05-01</td>\n      <td>280000000.0</td>\n      <td>280000000.0</td>\n      <td>USD</td>\n    </tr>\n    <tr>\n      <th>3</th>\n      <td>831becd6-e913-b9f5-ac09-2bff915f9453</td>\n      <td>Kosiso - store acquired by Google</td>\n      <td>acquisition</td>\n      <td>google-acquires-feedburner--831becd6</td>\n      <td>https://www.crunchbase.com/acquisition/google-...</td>\n      <td>98104.0</td>\n      <td>2007-07-13 09:52:59</td>\n      <td>2018-02-12 23:43:38</td>\n      <td>10dd03fa-69ff-3a82-6321-c6b16c9a9f41</td>\n      <td>Kosiso - store</td>\n      <td>...</td>\n      <td>https://www.crunchbase.com/organization/google</td>\n      <td>USA</td>\n      <td>CA</td>\n      <td>California</td>\n      <td>Mountain View</td>\n      <td>acquisition</td>\n      <td>2007-05-23</td>\n      <td>100000000.0</td>\n      <td>100000000.0</td>\n      <td>USD</td>\n    </tr>\n    <tr>\n      <th>4</th>\n      <td>9da90ee7-aad7-e0b4-8456-839363032e5e</td>\n      <td>Recipezaar acquired by Scripps Networks</td>\n      <td>acquisition</td>\n      <td>scripps-networks-interactive-acquires-recipeza...</td>\n      <td>https://www.crunchbase.com/acquisition/scripps...</td>\n      <td>80178.0</td>\n      <td>2007-07-20 05:29:07</td>\n      <td>2018-02-12 23:51:07</td>\n      <td>0af10345-613d-e144-f8bd-b62e288985a0</td>\n      <td>Recipezaar</td>\n      <td>...</td>\n      <td>https://www.crunchbase.com/organization/scripp...</td>\n      <td>USA</td>\n      <td>TN</td>\n      <td>Tennessee</td>\n      <td>Knoxville</td>\n      <td>NaN</td>\n      <td>2007-07-01</td>\n      <td>NaN</td>\n      <td>NaN</td>\n      <td>NaN</td>\n    </tr>\n    <tr>\n      <th>...</th>\n      <td>...</td>\n      <td>...</td>\n      <td>...</td>\n      <td>...</td>\n      <td>...</td>\n      <td>...</td>\n      <td>...</td>\n      <td>...</td>\n      <td>...</td>\n      <td>...</td>\n      <td>...</td>\n      <td>...</td>\n      <td>...</td>\n      <td>...</td>\n      <td>...</td>\n      <td>...</td>\n      <td>...</td>\n      <td>...</td>\n      <td>...</td>\n      <td>...</td>\n      <td>...</td>\n    </tr>\n    <tr>\n      <th>135950</th>\n      <td>2816cd3c-9fa9-4ac0-a06c-b26975a6a793</td>\n      <td>Gate Labs acquired by Smartfrog &amp; Canary</td>\n      <td>acquisition</td>\n      <td>smartfrog-com-acquires-gate-labs--2816cd3c</td>\n      <td>https://www.crunchbase.com/acquisition/smartfr...</td>\n      <td>NaN</td>\n      <td>2022-05-04 16:21:31</td>\n      <td>2022-05-04 16:21:31</td>\n      <td>c44a32ed-1178-e940-858f-1966893a4c23</td>\n      <td>Gate Labs</td>\n      <td>...</td>\n      <td>https://www.crunchbase.com/organization/smartf...</td>\n      <td>USA</td>\n      <td>NY</td>\n      <td>New York</td>\n      <td>New York</td>\n      <td>NaN</td>\n      <td>2020-07-01</td>\n      <td>NaN</td>\n      <td>NaN</td>\n      <td>NaN</td>\n    </tr>\n    <tr>\n      <th>135951</th>\n      <td>c9221942-3a53-46c4-9d9a-2069055fab96</td>\n      <td>Grundium acquired by EW Healthcare Partners</td>\n      <td>acquisition</td>\n      <td>ew-healthcare-partners-acquires-grundium--c922...</td>\n      <td>https://www.crunchbase.com/acquisition/ew-heal...</td>\n      <td>NaN</td>\n      <td>2022-05-04 18:53:26</td>\n      <td>2022-05-04 18:53:26</td>\n      <td>5290e282-960e-4ff2-a1ac-baeac9adcc79</td>\n      <td>Grundium</td>\n      <td>...</td>\n      <td>https://www.crunchbase.com/organization/ew-hea...</td>\n      <td>USA</td>\n      <td>CA</td>\n      <td>California</td>\n      <td>Palo Alto</td>\n      <td>NaN</td>\n      <td>2022-05-03</td>\n      <td>NaN</td>\n      <td>NaN</td>\n      <td>NaN</td>\n    </tr>\n    <tr>\n      <th>135952</th>\n      <td>f92cc769-7ae7-4709-bb0b-67b6fb26edd4</td>\n      <td>Arts People acquired by Neon One</td>\n      <td>acquisition</td>\n      <td>neon-one-acquires-arts-people--f92cc769</td>\n      <td>https://www.crunchbase.com/acquisition/neon-on...</td>\n      <td>NaN</td>\n      <td>2022-05-04 20:09:20</td>\n      <td>2022-05-04 20:09:20</td>\n      <td>8112420a-6c6c-4d09-af57-036772875ae6</td>\n      <td>Arts People</td>\n      <td>...</td>\n      <td>https://www.crunchbase.com/organization/neon-one</td>\n      <td>USA</td>\n      <td>IL</td>\n      <td>Illinois</td>\n      <td>Chicago</td>\n      <td>NaN</td>\n      <td>2019-05-01</td>\n      <td>NaN</td>\n      <td>NaN</td>\n      <td>NaN</td>\n    </tr>\n    <tr>\n      <th>135953</th>\n      <td>b0d751ad-deae-4e64-8772-eefef7b4f68b</td>\n      <td>StayFree acquired by Sensor Tower</td>\n      <td>acquisition</td>\n      <td>sensor-tower-acquires-stayfree--b0d751ad</td>\n      <td>https://www.crunchbase.com/acquisition/sensor-...</td>\n      <td>NaN</td>\n      <td>2022-05-04 22:10:51</td>\n      <td>2022-05-04 22:10:51</td>\n      <td>a7f3c7fd-a29c-4429-ac48-8147e6afb7c4</td>\n      <td>StayFree</td>\n      <td>...</td>\n      <td>https://www.crunchbase.com/organization/sensor...</td>\n      <td>USA</td>\n      <td>CA</td>\n      <td>California</td>\n      <td>San Francisco</td>\n      <td>acquisition</td>\n      <td>2020-06-21</td>\n      <td>NaN</td>\n      <td>NaN</td>\n      <td>NaN</td>\n    </tr>\n    <tr>\n      <th>135954</th>\n      <td>e5df9f75-e60b-4906-9a11-175194d207cb</td>\n      <td>VCP Veterinary Care Plans acquired by Covetrus</td>\n      <td>acquisition</td>\n      <td>covetrus-acquires-vcp-veterinary-care-plans--e...</td>\n      <td>https://www.crunchbase.com/acquisition/covetru...</td>\n      <td>NaN</td>\n      <td>2022-05-04 23:20:55</td>\n      <td>2022-05-04 23:20:55</td>\n      <td>3e7ea27a-5f94-4ef2-b52a-e6ad19470fc7</td>\n      <td>VCP Veterinary Care Plans</td>\n      <td>...</td>\n      <td>https://www.crunchbase.com/organization/covetrus</td>\n      <td>USA</td>\n      <td>ME</td>\n      <td>Maine</td>\n      <td>Portland</td>\n      <td>acquisition</td>\n      <td>2021-06-30</td>\n      <td>NaN</td>\n      <td>NaN</td>\n      <td>NaN</td>\n    </tr>\n  </tbody>\n</table>\n<p>135955 rows × 27 columns</p>\n</div>"
     },
     "execution_count": 9,
     "metadata": {},
     "output_type": "execute_result"
    }
   ],
   "source": [
    "acqs_data"
   ],
   "metadata": {
    "collapsed": false,
    "pycharm": {
     "name": "#%%\n"
    }
   }
  },
  {
   "cell_type": "code",
   "execution_count": 14,
   "outputs": [
    {
     "name": "stdout",
     "output_type": "stream",
     "text": [
      "Missing acquisitions: 82.89%\n",
      "Missing IPOs: 93.62%\n"
     ]
    }
   ],
   "source": [
    "print(f'Missing acquisitions: {100*acqs_data.price_usd.isna().sum() / acqs_data.price_usd.size:.2f}%')\n",
    "print(f'Missing IPOs: {100*ipos_data.valuation_price_usd.isna().sum() / ipos_data.valuation_price_usd.size:.2f}%')"
   ],
   "metadata": {
    "collapsed": false,
    "pycharm": {
     "name": "#%%\n"
    }
   }
  },
  {
   "cell_type": "code",
   "execution_count": 17,
   "outputs": [
    {
     "data": {
      "text/plain": "                                       uuid  name type  \\\n0      72d30ebd-53ef-2486-6c29-22785c5173ce   NaN  ipo   \n1      3ad2b068-2d97-f646-0b80-1e5f3d7adfc4   NaN  ipo   \n2      a265c6f6-4b96-4079-096a-967a37f3da2b   NaN  ipo   \n3      ee426509-826e-5dd0-9309-e79c8f384904   NaN  ipo   \n4      66b57372-77f0-ec5f-ca33-0175fff79b0e   NaN  ipo   \n...                                     ...   ...  ...   \n47717  905f340c-8e98-4034-8058-e1cc3fdd213b   NaN  ipo   \n47718  00899ce0-f1af-4e90-9d69-7e3adad0f3da   NaN  ipo   \n47719  cf13f424-7e04-4486-98cc-4f52e98c30a4   NaN  ipo   \n47720  28635812-2040-4748-9c3f-0aa792995e8a   NaN  ipo   \n47721  0f20676a-776f-4a5b-838b-b4df8e57fbb5   NaN  ipo   \n\n                                   permalink  \\\n0                    microsoft-ipo--72d30ebd   \n1      the-walt-disney-company-ipo--3ad2b068   \n2                         divx-ipo--a265c6f6   \n3                     xo-group-ipo--ee426509   \n4                 bmc-software-ipo--66b57372   \n...                                      ...   \n47717            blue-startups-ipo--905f340c   \n47718                 li-metal-ipo--00899ce0   \n47719     orbital-energy-group-ipo--cf13f424   \n47720       electric-royalties-ipo--28635812   \n47721         theta-gold-mines-ipo--0f20676a   \n\n                                                  cb_url     rank  \\\n0      https://www.crunchbase.com/ipo/microsoft-ipo--...  10594.0   \n1      https://www.crunchbase.com/ipo/the-walt-disney...  39587.0   \n2      https://www.crunchbase.com/ipo/divx-ipo--a265c6f6  47569.0   \n3      https://www.crunchbase.com/ipo/xo-group-ipo--e...  12466.0   \n4      https://www.crunchbase.com/ipo/bmc-software-ip...  24256.0   \n...                                                  ...      ...   \n47717  https://www.crunchbase.com/ipo/blue-startups-i...    657.0   \n47718  https://www.crunchbase.com/ipo/li-metal-ipo--0...      NaN   \n47719  https://www.crunchbase.com/ipo/orbital-energy-...      NaN   \n47720  https://www.crunchbase.com/ipo/electric-royalt...      NaN   \n47721  https://www.crunchbase.com/ipo/theta-gold-mine...      NaN   \n\n                created_at           updated_at  \\\n0      2008-02-09 05:25:18  2018-02-12 23:11:05   \n1      2008-02-09 05:40:32  2019-02-25 22:31:49   \n2      2008-02-25 23:52:11  2018-02-12 23:57:54   \n3      2008-02-29 00:31:34  2018-02-12 23:41:42   \n4      2008-03-18 14:07:10  2020-12-09 11:02:40   \n...                    ...                  ...   \n47717  2022-05-03 20:30:20  2022-05-03 20:30:20   \n47718  2022-05-04 08:22:19  2022-05-04 08:22:19   \n47719  2022-05-04 08:42:51  2022-05-04 08:42:51   \n47720  2022-05-04 12:52:50  2022-05-04 12:52:50   \n47721  2022-05-04 17:52:51  2022-05-04 17:52:51   \n\n                                   org_uuid                 org_name  ...  \\\n0      fd80725f-53fc-7009-9878-aeecf1e9ffbb                Microsoft  ...   \n1      756936c0-c335-f0ae-0a3d-fe26bdff5695  The Walt Disney Company  ...   \n2      73296f0d-85a5-78d5-90b3-86c5f8981ba9                     DivX  ...   \n3      ff8439cf-097c-a88a-9bb9-dd83d23aa14b                 XO Group  ...   \n4      ab8e5ba4-df5d-121b-93b6-eae7a0c89245             BMC Software  ...   \n...                                     ...                      ...  ...   \n47717  cea98336-0002-0786-cc71-07a98165eefc            Blue Startups  ...   \n47718  e2d93427-a73e-4aba-a3f2-9c1fb664d3d4                 Li-Metal  ...   \n47719  ac7c4b47-dee1-4887-bf6b-298cc3bf4445     Orbital Energy Group  ...   \n47720  da4c547d-b472-4512-b075-50132ddccc89       Electric Royalties  ...   \n47721  2bfa91ca-3149-40f6-81d8-4f919233b41a         Theta Gold Mines  ...   \n\n      went_public_on share_price_usd share_price share_price_currency_code  \\\n0         1986-03-13             NaN         NaN                       NaN   \n1         1978-01-13             NaN         NaN                       NaN   \n2         2006-10-22            16.0        16.0                       USD   \n3         1999-12-02             NaN         NaN                       NaN   \n4         1988-08-12             NaN         NaN                       NaN   \n...              ...             ...         ...                       ...   \n47717     2021-08-27            10.0        10.0                       USD   \n47718     2021-11-05             NaN         NaN                       NaN   \n47719     2001-05-04             NaN         NaN                       NaN   \n47720     2020-07-03             NaN         NaN                       NaN   \n47721     2011-04-08             NaN         NaN                       NaN   \n\n      valuation_price_usd valuation_price valuation_price_currency_code  \\\n0                     NaN             NaN                           NaN   \n1                     NaN             NaN                           NaN   \n2            1.600000e+08    1.600000e+08                           USD   \n3                     NaN             NaN                           NaN   \n4            6.000000e+09    6.000000e+09                           USD   \n...                   ...             ...                           ...   \n47717        1.400000e+09    1.400000e+09                           USD   \n47718                 NaN             NaN                           NaN   \n47719                 NaN             NaN                           NaN   \n47720                 NaN             NaN                           NaN   \n47721                 NaN             NaN                           NaN   \n\n      money_raised_usd  money_raised  money_raised_currency_code  \n0                  NaN           NaN                         NaN  \n1          300000000.0   300000000.0                         USD  \n2          145000000.0   145000000.0                         USD  \n3           35000000.0    35000000.0                         USD  \n4                  NaN           NaN                         NaN  \n...                ...           ...                         ...  \n47717              NaN           NaN                         NaN  \n47718              NaN           NaN                         NaN  \n47719              NaN           NaN                         NaN  \n47720              NaN           NaN                         NaN  \n47721              NaN           NaN                         NaN  \n\n[47722 rows x 27 columns]",
      "text/html": "<div>\n<style scoped>\n    .dataframe tbody tr th:only-of-type {\n        vertical-align: middle;\n    }\n\n    .dataframe tbody tr th {\n        vertical-align: top;\n    }\n\n    .dataframe thead th {\n        text-align: right;\n    }\n</style>\n<table border=\"1\" class=\"dataframe\">\n  <thead>\n    <tr style=\"text-align: right;\">\n      <th></th>\n      <th>uuid</th>\n      <th>name</th>\n      <th>type</th>\n      <th>permalink</th>\n      <th>cb_url</th>\n      <th>rank</th>\n      <th>created_at</th>\n      <th>updated_at</th>\n      <th>org_uuid</th>\n      <th>org_name</th>\n      <th>...</th>\n      <th>went_public_on</th>\n      <th>share_price_usd</th>\n      <th>share_price</th>\n      <th>share_price_currency_code</th>\n      <th>valuation_price_usd</th>\n      <th>valuation_price</th>\n      <th>valuation_price_currency_code</th>\n      <th>money_raised_usd</th>\n      <th>money_raised</th>\n      <th>money_raised_currency_code</th>\n    </tr>\n  </thead>\n  <tbody>\n    <tr>\n      <th>0</th>\n      <td>72d30ebd-53ef-2486-6c29-22785c5173ce</td>\n      <td>NaN</td>\n      <td>ipo</td>\n      <td>microsoft-ipo--72d30ebd</td>\n      <td>https://www.crunchbase.com/ipo/microsoft-ipo--...</td>\n      <td>10594.0</td>\n      <td>2008-02-09 05:25:18</td>\n      <td>2018-02-12 23:11:05</td>\n      <td>fd80725f-53fc-7009-9878-aeecf1e9ffbb</td>\n      <td>Microsoft</td>\n      <td>...</td>\n      <td>1986-03-13</td>\n      <td>NaN</td>\n      <td>NaN</td>\n      <td>NaN</td>\n      <td>NaN</td>\n      <td>NaN</td>\n      <td>NaN</td>\n      <td>NaN</td>\n      <td>NaN</td>\n      <td>NaN</td>\n    </tr>\n    <tr>\n      <th>1</th>\n      <td>3ad2b068-2d97-f646-0b80-1e5f3d7adfc4</td>\n      <td>NaN</td>\n      <td>ipo</td>\n      <td>the-walt-disney-company-ipo--3ad2b068</td>\n      <td>https://www.crunchbase.com/ipo/the-walt-disney...</td>\n      <td>39587.0</td>\n      <td>2008-02-09 05:40:32</td>\n      <td>2019-02-25 22:31:49</td>\n      <td>756936c0-c335-f0ae-0a3d-fe26bdff5695</td>\n      <td>The Walt Disney Company</td>\n      <td>...</td>\n      <td>1978-01-13</td>\n      <td>NaN</td>\n      <td>NaN</td>\n      <td>NaN</td>\n      <td>NaN</td>\n      <td>NaN</td>\n      <td>NaN</td>\n      <td>300000000.0</td>\n      <td>300000000.0</td>\n      <td>USD</td>\n    </tr>\n    <tr>\n      <th>2</th>\n      <td>a265c6f6-4b96-4079-096a-967a37f3da2b</td>\n      <td>NaN</td>\n      <td>ipo</td>\n      <td>divx-ipo--a265c6f6</td>\n      <td>https://www.crunchbase.com/ipo/divx-ipo--a265c6f6</td>\n      <td>47569.0</td>\n      <td>2008-02-25 23:52:11</td>\n      <td>2018-02-12 23:57:54</td>\n      <td>73296f0d-85a5-78d5-90b3-86c5f8981ba9</td>\n      <td>DivX</td>\n      <td>...</td>\n      <td>2006-10-22</td>\n      <td>16.0</td>\n      <td>16.0</td>\n      <td>USD</td>\n      <td>1.600000e+08</td>\n      <td>1.600000e+08</td>\n      <td>USD</td>\n      <td>145000000.0</td>\n      <td>145000000.0</td>\n      <td>USD</td>\n    </tr>\n    <tr>\n      <th>3</th>\n      <td>ee426509-826e-5dd0-9309-e79c8f384904</td>\n      <td>NaN</td>\n      <td>ipo</td>\n      <td>xo-group-ipo--ee426509</td>\n      <td>https://www.crunchbase.com/ipo/xo-group-ipo--e...</td>\n      <td>12466.0</td>\n      <td>2008-02-29 00:31:34</td>\n      <td>2018-02-12 23:41:42</td>\n      <td>ff8439cf-097c-a88a-9bb9-dd83d23aa14b</td>\n      <td>XO Group</td>\n      <td>...</td>\n      <td>1999-12-02</td>\n      <td>NaN</td>\n      <td>NaN</td>\n      <td>NaN</td>\n      <td>NaN</td>\n      <td>NaN</td>\n      <td>NaN</td>\n      <td>35000000.0</td>\n      <td>35000000.0</td>\n      <td>USD</td>\n    </tr>\n    <tr>\n      <th>4</th>\n      <td>66b57372-77f0-ec5f-ca33-0175fff79b0e</td>\n      <td>NaN</td>\n      <td>ipo</td>\n      <td>bmc-software-ipo--66b57372</td>\n      <td>https://www.crunchbase.com/ipo/bmc-software-ip...</td>\n      <td>24256.0</td>\n      <td>2008-03-18 14:07:10</td>\n      <td>2020-12-09 11:02:40</td>\n      <td>ab8e5ba4-df5d-121b-93b6-eae7a0c89245</td>\n      <td>BMC Software</td>\n      <td>...</td>\n      <td>1988-08-12</td>\n      <td>NaN</td>\n      <td>NaN</td>\n      <td>NaN</td>\n      <td>6.000000e+09</td>\n      <td>6.000000e+09</td>\n      <td>USD</td>\n      <td>NaN</td>\n      <td>NaN</td>\n      <td>NaN</td>\n    </tr>\n    <tr>\n      <th>...</th>\n      <td>...</td>\n      <td>...</td>\n      <td>...</td>\n      <td>...</td>\n      <td>...</td>\n      <td>...</td>\n      <td>...</td>\n      <td>...</td>\n      <td>...</td>\n      <td>...</td>\n      <td>...</td>\n      <td>...</td>\n      <td>...</td>\n      <td>...</td>\n      <td>...</td>\n      <td>...</td>\n      <td>...</td>\n      <td>...</td>\n      <td>...</td>\n      <td>...</td>\n      <td>...</td>\n    </tr>\n    <tr>\n      <th>47717</th>\n      <td>905f340c-8e98-4034-8058-e1cc3fdd213b</td>\n      <td>NaN</td>\n      <td>ipo</td>\n      <td>blue-startups-ipo--905f340c</td>\n      <td>https://www.crunchbase.com/ipo/blue-startups-i...</td>\n      <td>657.0</td>\n      <td>2022-05-03 20:30:20</td>\n      <td>2022-05-03 20:30:20</td>\n      <td>cea98336-0002-0786-cc71-07a98165eefc</td>\n      <td>Blue Startups</td>\n      <td>...</td>\n      <td>2021-08-27</td>\n      <td>10.0</td>\n      <td>10.0</td>\n      <td>USD</td>\n      <td>1.400000e+09</td>\n      <td>1.400000e+09</td>\n      <td>USD</td>\n      <td>NaN</td>\n      <td>NaN</td>\n      <td>NaN</td>\n    </tr>\n    <tr>\n      <th>47718</th>\n      <td>00899ce0-f1af-4e90-9d69-7e3adad0f3da</td>\n      <td>NaN</td>\n      <td>ipo</td>\n      <td>li-metal-ipo--00899ce0</td>\n      <td>https://www.crunchbase.com/ipo/li-metal-ipo--0...</td>\n      <td>NaN</td>\n      <td>2022-05-04 08:22:19</td>\n      <td>2022-05-04 08:22:19</td>\n      <td>e2d93427-a73e-4aba-a3f2-9c1fb664d3d4</td>\n      <td>Li-Metal</td>\n      <td>...</td>\n      <td>2021-11-05</td>\n      <td>NaN</td>\n      <td>NaN</td>\n      <td>NaN</td>\n      <td>NaN</td>\n      <td>NaN</td>\n      <td>NaN</td>\n      <td>NaN</td>\n      <td>NaN</td>\n      <td>NaN</td>\n    </tr>\n    <tr>\n      <th>47719</th>\n      <td>cf13f424-7e04-4486-98cc-4f52e98c30a4</td>\n      <td>NaN</td>\n      <td>ipo</td>\n      <td>orbital-energy-group-ipo--cf13f424</td>\n      <td>https://www.crunchbase.com/ipo/orbital-energy-...</td>\n      <td>NaN</td>\n      <td>2022-05-04 08:42:51</td>\n      <td>2022-05-04 08:42:51</td>\n      <td>ac7c4b47-dee1-4887-bf6b-298cc3bf4445</td>\n      <td>Orbital Energy Group</td>\n      <td>...</td>\n      <td>2001-05-04</td>\n      <td>NaN</td>\n      <td>NaN</td>\n      <td>NaN</td>\n      <td>NaN</td>\n      <td>NaN</td>\n      <td>NaN</td>\n      <td>NaN</td>\n      <td>NaN</td>\n      <td>NaN</td>\n    </tr>\n    <tr>\n      <th>47720</th>\n      <td>28635812-2040-4748-9c3f-0aa792995e8a</td>\n      <td>NaN</td>\n      <td>ipo</td>\n      <td>electric-royalties-ipo--28635812</td>\n      <td>https://www.crunchbase.com/ipo/electric-royalt...</td>\n      <td>NaN</td>\n      <td>2022-05-04 12:52:50</td>\n      <td>2022-05-04 12:52:50</td>\n      <td>da4c547d-b472-4512-b075-50132ddccc89</td>\n      <td>Electric Royalties</td>\n      <td>...</td>\n      <td>2020-07-03</td>\n      <td>NaN</td>\n      <td>NaN</td>\n      <td>NaN</td>\n      <td>NaN</td>\n      <td>NaN</td>\n      <td>NaN</td>\n      <td>NaN</td>\n      <td>NaN</td>\n      <td>NaN</td>\n    </tr>\n    <tr>\n      <th>47721</th>\n      <td>0f20676a-776f-4a5b-838b-b4df8e57fbb5</td>\n      <td>NaN</td>\n      <td>ipo</td>\n      <td>theta-gold-mines-ipo--0f20676a</td>\n      <td>https://www.crunchbase.com/ipo/theta-gold-mine...</td>\n      <td>NaN</td>\n      <td>2022-05-04 17:52:51</td>\n      <td>2022-05-04 17:52:51</td>\n      <td>2bfa91ca-3149-40f6-81d8-4f919233b41a</td>\n      <td>Theta Gold Mines</td>\n      <td>...</td>\n      <td>2011-04-08</td>\n      <td>NaN</td>\n      <td>NaN</td>\n      <td>NaN</td>\n      <td>NaN</td>\n      <td>NaN</td>\n      <td>NaN</td>\n      <td>NaN</td>\n      <td>NaN</td>\n      <td>NaN</td>\n    </tr>\n  </tbody>\n</table>\n<p>47722 rows × 27 columns</p>\n</div>"
     },
     "execution_count": 17,
     "metadata": {},
     "output_type": "execute_result"
    }
   ],
   "source": [
    "ipos_data"
   ],
   "metadata": {
    "collapsed": false,
    "pycharm": {
     "name": "#%%\n"
    }
   }
  },
  {
   "cell_type": "code",
   "execution_count": null,
   "outputs": [],
   "source": [],
   "metadata": {
    "collapsed": false,
    "pycharm": {
     "name": "#%%\n"
    }
   }
  }
 ],
 "metadata": {
  "kernelspec": {
   "display_name": "Python 3",
   "language": "python",
   "name": "python3"
  },
  "language_info": {
   "codemirror_mode": {
    "name": "ipython",
    "version": 2
   },
   "file_extension": ".py",
   "mimetype": "text/x-python",
   "name": "python",
   "nbconvert_exporter": "python",
   "pygments_lexer": "ipython2",
   "version": "2.7.6"
  }
 },
 "nbformat": 4,
 "nbformat_minor": 0
}