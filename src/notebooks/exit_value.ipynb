{
 "cells": [
  {
   "cell_type": "code",
   "execution_count": 1,
   "metadata": {
    "collapsed": true
   },
   "outputs": [],
   "source": [
    "import pandas as pd\n",
    "import numpy as np"
   ]
  },
  {
   "cell_type": "code",
   "execution_count": 2,
   "metadata": {
    "collapsed": false,
    "pycharm": {
     "name": "#%%\n"
    }
   },
   "outputs": [],
   "source": [
    "ipos_data = pd.read_csv(\"../../data/crunchbase/ipos.csv\")\n",
    "acqs_data = pd.read_csv(\"../../data/crunchbase/acquisitions.csv\")\n",
    "orgs_data = pd.read_csv(\"../../data/crunchbase/organizations.csv\")\n",
    "rnds_data = pd.read_csv('../../data/crunchbase/funding_rounds.csv')"
   ]
  },
  {
   "cell_type": "code",
   "execution_count": 3,
   "metadata": {
    "collapsed": false,
    "pycharm": {
     "name": "#%%\n"
    }
   },
   "outputs": [],
   "source": [
    "ipos = ipos_data[['org_uuid', 'org_name', 'went_public_on', 'valuation_price_usd']]\n",
    "ipos.columns = ['org_uuid', 'name', 'exit_date', 'exit_value']\n",
    "\n",
    "acqs = acqs_data[['acquiree_uuid', 'acquiree_name', 'acquired_on', 'price_usd']]\n",
    "acqs.columns = ['org_uuid', 'name',  'exit_date', 'exit_value']\n",
    "\n",
    "bkpt = pd.DataFrame(orgs_data[['uuid', 'name', 'closed_on']].dropna())\n",
    "bkpt.columns = ['org_uuid', 'name', 'exit_date']"
   ]
  },
  {
   "cell_type": "code",
   "execution_count": 4,
   "metadata": {
    "collapsed": false,
    "pycharm": {
     "name": "#%%\n"
    }
   },
   "outputs": [
    {
     "name": "stderr",
     "output_type": "stream",
     "text": [
      "/var/folders/9g/9p32rxp10c37hppq5lydn44c0000gn/T/ipykernel_40260/3536806959.py:1: SettingWithCopyWarning: \n",
      "A value is trying to be set on a copy of a slice from a DataFrame.\n",
      "Try using .loc[row_indexer,col_indexer] = value instead\n",
      "\n",
      "See the caveats in the documentation: https://pandas.pydata.org/pandas-docs/stable/user_guide/indexing.html#returning-a-view-versus-a-copy\n",
      "  ipos[\"exit_type\"] = 1\n",
      "/var/folders/9g/9p32rxp10c37hppq5lydn44c0000gn/T/ipykernel_40260/3536806959.py:2: SettingWithCopyWarning: \n",
      "A value is trying to be set on a copy of a slice from a DataFrame.\n",
      "Try using .loc[row_indexer,col_indexer] = value instead\n",
      "\n",
      "See the caveats in the documentation: https://pandas.pydata.org/pandas-docs/stable/user_guide/indexing.html#returning-a-view-versus-a-copy\n",
      "  acqs[\"exit_type\"] = 2\n"
     ]
    }
   ],
   "source": [
    "ipos[\"exit_type\"] = 1\n",
    "acqs[\"exit_type\"] = 2\n",
    "bkpt[\"exit_type\"] = 3\n",
    "bkpt[\"exit_value\"] = np.nan"
   ]
  },
  {
   "cell_type": "code",
   "execution_count": 5,
   "metadata": {
    "collapsed": false,
    "pycharm": {
     "name": "#%%\n"
    }
   },
   "outputs": [],
   "source": [
    "exits = pd.concat([acqs, ipos, bkpt]).set_index(\"org_uuid\")"
   ]
  },
  {
   "cell_type": "code",
   "execution_count": 6,
   "metadata": {
    "collapsed": false,
    "pycharm": {
     "name": "#%%\n"
    }
   },
   "outputs": [
    {
     "name": "stdout",
     "output_type": "stream",
     "text": [
      "Missing acquisitions: 82.93%\n",
      "Missing IPOs: 93.57%\n"
     ]
    }
   ],
   "source": [
    "print(f'Missing acquisitions: {100*acqs_data.price_usd.isna().sum() / acqs_data.price_usd.size:.2f}%')\n",
    "print(f'Missing IPOs: {100*ipos_data.valuation_price_usd.isna().sum() / ipos_data.valuation_price_usd.size:.2f}%')"
   ]
  },
  {
   "cell_type": "code",
   "execution_count": null,
   "metadata": {},
   "outputs": [],
   "source": []
  }
 ],
 "metadata": {
  "kernelspec": {
   "display_name": "Python 3.10.2 64-bit ('3.10.2')",
   "language": "python",
   "name": "python3"
  },
  "language_info": {
   "codemirror_mode": {
    "name": "ipython",
    "version": 3
   },
   "file_extension": ".py",
   "mimetype": "text/x-python",
   "name": "python",
   "nbconvert_exporter": "python",
   "pygments_lexer": "ipython3",
   "version": "3.10.2"
  },
  "vscode": {
   "interpreter": {
    "hash": "4cd4398770f52323a936c32f4c9c33f20493122a0515696d6ebafdd949421bc2"
   }
  }
 },
 "nbformat": 4,
 "nbformat_minor": 0
}
