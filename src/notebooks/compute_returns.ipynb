{
 "cells": [
  {
   "cell_type": "code",
   "execution_count": 1,
   "metadata": {
    "collapsed": true
   },
   "outputs": [],
   "source": [
    "import matplotlib.pyplot as plt\n",
    "import pandas as pd\n",
    "import numpy as np\n",
    "import seaborn as sns"
   ]
  },
  {
   "cell_type": "code",
   "execution_count": 2,
   "metadata": {
    "collapsed": false,
    "pycharm": {
     "name": "#%%\n"
    }
   },
   "outputs": [],
   "source": [
    "def process_company(company_data):\n",
    "    try:\n",
    "        m = company_data.money_raised_usd.values\n",
    "        p = company_data.post_money_valuation_usd.values\n",
    "        e = company_data.exit_value.values[0]\n",
    "\n",
    "        if company_data.exit_type.values[0] == 3:\n",
    "            ret = np.zeros_like(company_data.uuid) - 1\n",
    "        elif company_data.shape[0] == 1:\n",
    "            ret = [(m[0] / p[0] * e - m[0]) / m[0]]\n",
    "        else:\n",
    "            x0 = m / p # stake of investors at their first round\n",
    "            x = (p[1:] - m[1:]) / p[1:] # dilution factors\n",
    "            d = np.cumprod(x)[::-1]\n",
    "            d = np.insert(d, len(d), 1)\n",
    "            ret = (e * x0 * d - m) / m\n",
    "        return pd.DataFrame(data=ret, index=company_data.uuid)\n",
    "    except:\n",
    "        print(company_data)\n",
    "        return pd.DataFrame(data=[np.nan] * company_data.uuid.size, index=company_data.uuid)\n",
    "\n",
    "\n",
    "def filter_dates(funding_round):\n",
    "    return funding_round['announced_on'] < funding_round['exit_date']"
   ]
  },
  {
   "cell_type": "code",
   "execution_count": 16,
   "metadata": {},
   "outputs": [],
   "source": [
    "predicted = False"
   ]
  },
  {
   "cell_type": "code",
   "execution_count": 17,
   "metadata": {
    "collapsed": false,
    "pycharm": {
     "name": "#%%\n"
    }
   },
   "outputs": [],
   "source": [
    "if predicted:\n",
    "    rounds_data = pd.read_csv('../../data/obs_predicted_data.csv')\n",
    "else:\n",
    "    rounds_data = pd.read_csv('../../data/no_pred_data.csv')"
   ]
  },
  {
   "cell_type": "code",
   "execution_count": 18,
   "metadata": {},
   "outputs": [
    {
     "data": {
      "text/html": [
       "<div>\n",
       "<style scoped>\n",
       "    .dataframe tbody tr th:only-of-type {\n",
       "        vertical-align: middle;\n",
       "    }\n",
       "\n",
       "    .dataframe tbody tr th {\n",
       "        vertical-align: top;\n",
       "    }\n",
       "\n",
       "    .dataframe thead th {\n",
       "        text-align: right;\n",
       "    }\n",
       "</style>\n",
       "<table border=\"1\" class=\"dataframe\">\n",
       "  <thead>\n",
       "    <tr style=\"text-align: right;\">\n",
       "      <th></th>\n",
       "      <th>Unnamed: 0</th>\n",
       "      <th>uuid</th>\n",
       "      <th>org_uuid</th>\n",
       "      <th>announced_on</th>\n",
       "      <th>money_raised_usd</th>\n",
       "      <th>num_investors</th>\n",
       "      <th>investment_type</th>\n",
       "      <th>lead_investor_rank</th>\n",
       "      <th>post_money_valuation_usd</th>\n",
       "      <th>prev_rounds</th>\n",
       "      <th>country_code</th>\n",
       "      <th>amount_delta</th>\n",
       "      <th>holding_time</th>\n",
       "    </tr>\n",
       "  </thead>\n",
       "  <tbody>\n",
       "    <tr>\n",
       "      <th>0</th>\n",
       "      <td>176213</td>\n",
       "      <td>dddc0961-4ac7-42ae-3b70-3ebf960b7ba4</td>\n",
       "      <td>00000aa4-ba42-9b68-a9c3-040c9f3bf9b9</td>\n",
       "      <td>2888784000</td>\n",
       "      <td>8.260736e+07</td>\n",
       "      <td>1.0</td>\n",
       "      <td>other</td>\n",
       "      <td>92097.0</td>\n",
       "      <td>NaN</td>\n",
       "      <td>0.0</td>\n",
       "      <td>DEU</td>\n",
       "      <td>8.260736e+07</td>\n",
       "      <td>8963.0</td>\n",
       "    </tr>\n",
       "    <tr>\n",
       "      <th>1</th>\n",
       "      <td>143656</td>\n",
       "      <td>e2bc8d8c-7196-0017-3064-60d8b2c80b24</td>\n",
       "      <td>00002470-bff7-6226-5800-0ca1b3787b6f</td>\n",
       "      <td>2870208000</td>\n",
       "      <td>1.600000e+06</td>\n",
       "      <td>1.0</td>\n",
       "      <td>seed</td>\n",
       "      <td>110671.0</td>\n",
       "      <td>NaN</td>\n",
       "      <td>0.0</td>\n",
       "      <td>USA</td>\n",
       "      <td>1.600000e+06</td>\n",
       "      <td>1443.0</td>\n",
       "    </tr>\n",
       "    <tr>\n",
       "      <th>2</th>\n",
       "      <td>95828</td>\n",
       "      <td>f1e966a7-06d3-f771-fba4-a613a9fbbdb3</td>\n",
       "      <td>000095de-8e2b-82f1-32a7-c222ba3d5682</td>\n",
       "      <td>2380752000</td>\n",
       "      <td>9.500000e+06</td>\n",
       "      <td>1.0</td>\n",
       "      <td>other</td>\n",
       "      <td>183283.0</td>\n",
       "      <td>NaN</td>\n",
       "      <td>0.0</td>\n",
       "      <td>USA</td>\n",
       "      <td>9.500000e+06</td>\n",
       "      <td>161.0</td>\n",
       "    </tr>\n",
       "    <tr>\n",
       "      <th>3</th>\n",
       "      <td>472145</td>\n",
       "      <td>aa40a45e-a0bc-455b-85de-125bbc8adc5e</td>\n",
       "      <td>00011be5-d105-eaa0-69d6-6064e74916b2</td>\n",
       "      <td>3036614400</td>\n",
       "      <td>3.667312e+06</td>\n",
       "      <td>8.0</td>\n",
       "      <td>seed</td>\n",
       "      <td>140301.0</td>\n",
       "      <td>NaN</td>\n",
       "      <td>0.0</td>\n",
       "      <td>USA</td>\n",
       "      <td>3.667312e+06</td>\n",
       "      <td>3326.0</td>\n",
       "    </tr>\n",
       "    <tr>\n",
       "      <th>4</th>\n",
       "      <td>213030</td>\n",
       "      <td>cf936930-f849-4d9a-a007-67cc406ca59f</td>\n",
       "      <td>0001eae7-077d-4d0b-a717-f67bcf2a09fa</td>\n",
       "      <td>2917814400</td>\n",
       "      <td>1.275000e+09</td>\n",
       "      <td>1.0</td>\n",
       "      <td>debt_financing</td>\n",
       "      <td>723.0</td>\n",
       "      <td>NaN</td>\n",
       "      <td>0.0</td>\n",
       "      <td>USA</td>\n",
       "      <td>1.275000e+09</td>\n",
       "      <td>1264.0</td>\n",
       "    </tr>\n",
       "    <tr>\n",
       "      <th>...</th>\n",
       "      <td>...</td>\n",
       "      <td>...</td>\n",
       "      <td>...</td>\n",
       "      <td>...</td>\n",
       "      <td>...</td>\n",
       "      <td>...</td>\n",
       "      <td>...</td>\n",
       "      <td>...</td>\n",
       "      <td>...</td>\n",
       "      <td>...</td>\n",
       "      <td>...</td>\n",
       "      <td>...</td>\n",
       "      <td>...</td>\n",
       "    </tr>\n",
       "    <tr>\n",
       "      <th>122870</th>\n",
       "      <td>333597</td>\n",
       "      <td>4ed08f61-2001-4458-a29e-a651bb1e18be</td>\n",
       "      <td>fffe3b0b-8545-4414-9c0e-a3f961c4e420</td>\n",
       "      <td>2874960000</td>\n",
       "      <td>1.452327e+07</td>\n",
       "      <td>1.0</td>\n",
       "      <td>other</td>\n",
       "      <td>295238.0</td>\n",
       "      <td>NaN</td>\n",
       "      <td>0.0</td>\n",
       "      <td>CHN</td>\n",
       "      <td>1.452327e+07</td>\n",
       "      <td>1450.0</td>\n",
       "    </tr>\n",
       "    <tr>\n",
       "      <th>122871</th>\n",
       "      <td>359782</td>\n",
       "      <td>b6cd618e-c9f0-4410-9f5e-4243b2b65fcd</td>\n",
       "      <td>ffff2bea-7e44-4563-b311-65daadb683cd</td>\n",
       "      <td>2680214400</td>\n",
       "      <td>4.514070e+05</td>\n",
       "      <td>1.0</td>\n",
       "      <td>angel</td>\n",
       "      <td>2819467.0</td>\n",
       "      <td>NaN</td>\n",
       "      <td>0.0</td>\n",
       "      <td>CHN</td>\n",
       "      <td>4.514070e+05</td>\n",
       "      <td>207.0</td>\n",
       "    </tr>\n",
       "    <tr>\n",
       "      <th>122872</th>\n",
       "      <td>359783</td>\n",
       "      <td>f5cac82f-41b8-4992-abee-ac609fad4e3f</td>\n",
       "      <td>ffff2bea-7e44-4563-b311-65daadb683cd</td>\n",
       "      <td>2755382400</td>\n",
       "      <td>1.616916e+06</td>\n",
       "      <td>1.0</td>\n",
       "      <td>series_a</td>\n",
       "      <td>3439.0</td>\n",
       "      <td>NaN</td>\n",
       "      <td>1.0</td>\n",
       "      <td>CHN</td>\n",
       "      <td>1.165509e+06</td>\n",
       "      <td>870.0</td>\n",
       "    </tr>\n",
       "    <tr>\n",
       "      <th>122873</th>\n",
       "      <td>131959</td>\n",
       "      <td>d5d0d173-9a6f-4359-f4bb-a7e71f20b988</td>\n",
       "      <td>ffffabce-6d4a-b3d1-13c0-4e90cedf5270</td>\n",
       "      <td>2851804800</td>\n",
       "      <td>2.100000e+05</td>\n",
       "      <td>4.0</td>\n",
       "      <td>seed</td>\n",
       "      <td>43.0</td>\n",
       "      <td>NaN</td>\n",
       "      <td>0.0</td>\n",
       "      <td>USA</td>\n",
       "      <td>2.100000e+05</td>\n",
       "      <td>500.0</td>\n",
       "    </tr>\n",
       "    <tr>\n",
       "      <th>122874</th>\n",
       "      <td>148974</td>\n",
       "      <td>f6dd414e-9ed9-da8d-9260-0385580d81b3</td>\n",
       "      <td>ffffabce-6d4a-b3d1-13c0-4e90cedf5270</td>\n",
       "      <td>2875132800</td>\n",
       "      <td>7.000000e+05</td>\n",
       "      <td>2.0</td>\n",
       "      <td>seed</td>\n",
       "      <td>63828.0</td>\n",
       "      <td>NaN</td>\n",
       "      <td>1.0</td>\n",
       "      <td>USA</td>\n",
       "      <td>4.900000e+05</td>\n",
       "      <td>270.0</td>\n",
       "    </tr>\n",
       "  </tbody>\n",
       "</table>\n",
       "<p>122875 rows × 13 columns</p>\n",
       "</div>"
      ],
      "text/plain": [
       "        Unnamed: 0                                  uuid  \\\n",
       "0           176213  dddc0961-4ac7-42ae-3b70-3ebf960b7ba4   \n",
       "1           143656  e2bc8d8c-7196-0017-3064-60d8b2c80b24   \n",
       "2            95828  f1e966a7-06d3-f771-fba4-a613a9fbbdb3   \n",
       "3           472145  aa40a45e-a0bc-455b-85de-125bbc8adc5e   \n",
       "4           213030  cf936930-f849-4d9a-a007-67cc406ca59f   \n",
       "...            ...                                   ...   \n",
       "122870      333597  4ed08f61-2001-4458-a29e-a651bb1e18be   \n",
       "122871      359782  b6cd618e-c9f0-4410-9f5e-4243b2b65fcd   \n",
       "122872      359783  f5cac82f-41b8-4992-abee-ac609fad4e3f   \n",
       "122873      131959  d5d0d173-9a6f-4359-f4bb-a7e71f20b988   \n",
       "122874      148974  f6dd414e-9ed9-da8d-9260-0385580d81b3   \n",
       "\n",
       "                                    org_uuid  announced_on  money_raised_usd  \\\n",
       "0       00000aa4-ba42-9b68-a9c3-040c9f3bf9b9    2888784000      8.260736e+07   \n",
       "1       00002470-bff7-6226-5800-0ca1b3787b6f    2870208000      1.600000e+06   \n",
       "2       000095de-8e2b-82f1-32a7-c222ba3d5682    2380752000      9.500000e+06   \n",
       "3       00011be5-d105-eaa0-69d6-6064e74916b2    3036614400      3.667312e+06   \n",
       "4       0001eae7-077d-4d0b-a717-f67bcf2a09fa    2917814400      1.275000e+09   \n",
       "...                                      ...           ...               ...   \n",
       "122870  fffe3b0b-8545-4414-9c0e-a3f961c4e420    2874960000      1.452327e+07   \n",
       "122871  ffff2bea-7e44-4563-b311-65daadb683cd    2680214400      4.514070e+05   \n",
       "122872  ffff2bea-7e44-4563-b311-65daadb683cd    2755382400      1.616916e+06   \n",
       "122873  ffffabce-6d4a-b3d1-13c0-4e90cedf5270    2851804800      2.100000e+05   \n",
       "122874  ffffabce-6d4a-b3d1-13c0-4e90cedf5270    2875132800      7.000000e+05   \n",
       "\n",
       "        num_investors investment_type  lead_investor_rank  \\\n",
       "0                 1.0           other             92097.0   \n",
       "1                 1.0            seed            110671.0   \n",
       "2                 1.0           other            183283.0   \n",
       "3                 8.0            seed            140301.0   \n",
       "4                 1.0  debt_financing               723.0   \n",
       "...               ...             ...                 ...   \n",
       "122870            1.0           other            295238.0   \n",
       "122871            1.0           angel           2819467.0   \n",
       "122872            1.0        series_a              3439.0   \n",
       "122873            4.0            seed                43.0   \n",
       "122874            2.0            seed             63828.0   \n",
       "\n",
       "        post_money_valuation_usd  prev_rounds country_code  amount_delta  \\\n",
       "0                            NaN          0.0          DEU  8.260736e+07   \n",
       "1                            NaN          0.0          USA  1.600000e+06   \n",
       "2                            NaN          0.0          USA  9.500000e+06   \n",
       "3                            NaN          0.0          USA  3.667312e+06   \n",
       "4                            NaN          0.0          USA  1.275000e+09   \n",
       "...                          ...          ...          ...           ...   \n",
       "122870                       NaN          0.0          CHN  1.452327e+07   \n",
       "122871                       NaN          0.0          CHN  4.514070e+05   \n",
       "122872                       NaN          1.0          CHN  1.165509e+06   \n",
       "122873                       NaN          0.0          USA  2.100000e+05   \n",
       "122874                       NaN          1.0          USA  4.900000e+05   \n",
       "\n",
       "        holding_time  \n",
       "0             8963.0  \n",
       "1             1443.0  \n",
       "2              161.0  \n",
       "3             3326.0  \n",
       "4             1264.0  \n",
       "...              ...  \n",
       "122870        1450.0  \n",
       "122871         207.0  \n",
       "122872         870.0  \n",
       "122873         500.0  \n",
       "122874         270.0  \n",
       "\n",
       "[122875 rows x 13 columns]"
      ]
     },
     "execution_count": 18,
     "metadata": {},
     "output_type": "execute_result"
    }
   ],
   "source": [
    "rounds_data"
   ]
  },
  {
   "cell_type": "code",
   "execution_count": 19,
   "metadata": {
    "collapsed": false,
    "pycharm": {
     "name": "#%%\n"
    }
   },
   "outputs": [],
   "source": [
    "orgs = pd.read_csv(\"../../data/crunchbase/organizations.csv\")\n",
    "acqs = pd.read_csv(\"../../data/crunchbase/acquisitions.csv\")\n",
    "ipos = pd.read_csv(\"../../data/crunchbase/ipos.csv\")"
   ]
  },
  {
   "cell_type": "code",
   "execution_count": 20,
   "metadata": {
    "collapsed": false,
    "pycharm": {
     "name": "#%%\n"
    }
   },
   "outputs": [],
   "source": [
    "ipos = ipos[['org_uuid', 'went_public_on', 'valuation_price_usd']]\n",
    "acqs = acqs[['acquiree_uuid', 'acquired_on', 'price_usd']]"
   ]
  },
  {
   "cell_type": "code",
   "execution_count": 21,
   "metadata": {
    "collapsed": false,
    "pycharm": {
     "name": "#%%\n"
    }
   },
   "outputs": [],
   "source": [
    "rounds = rounds_data[['uuid', 'org_uuid', 'announced_on', 'money_raised_usd', 'post_money_valuation_usd']].copy()\n",
    "\n",
    "ipos.columns = ['org_uuid', 'exit_date', 'exit_value']\n",
    "acqs.columns = ['org_uuid', 'exit_date', 'exit_value']\n",
    "\n",
    "clos = pd.DataFrame(orgs[orgs.status == 'closed'][['uuid', 'closed_on']])\n",
    "clos.columns = ['org_uuid', 'exit_date']\n",
    "\n",
    "ipos[\"exit_type\"] = 1\n",
    "acqs[\"exit_type\"] = 2\n",
    "clos[\"exit_type\"] = 3\n",
    "clos[\"exit_value\"] = np.nan\n",
    "\n",
    "exits = pd.concat([acqs, ipos, clos]).set_index(\"org_uuid\")"
   ]
  },
  {
   "cell_type": "code",
   "execution_count": 22,
   "metadata": {
    "collapsed": false,
    "pycharm": {
     "name": "#%%\n"
    }
   },
   "outputs": [],
   "source": [
    "rounds[\"exit_date\"] = pd.to_datetime(rounds.org_uuid.map(exits[\"exit_date\"].to_dict()))\n",
    "rounds[\"exit_type\"] = rounds.org_uuid.map(exits[\"exit_type\"].to_dict()).fillna(value=4).astype(int)\n",
    "rounds[\"exit_value\"] = rounds.org_uuid.map(exits[\"exit_value\"].to_dict())"
   ]
  },
  {
   "cell_type": "code",
   "execution_count": 23,
   "metadata": {
    "collapsed": false,
    "pycharm": {
     "name": "#%%\n"
    }
   },
   "outputs": [],
   "source": [
    "ref_date = '1926-01-01'\n",
    "rounds.announced_on = pd.Timestamp(ref_date) + rounds.announced_on * pd.Timedelta('1s')\n",
    "rounds = rounds[(rounds.announced_on < rounds.exit_date)]\n",
    "rounds = rounds.sort_values(by=['org_uuid', 'announced_on'])"
   ]
  },
  {
   "cell_type": "code",
   "execution_count": 24,
   "metadata": {
    "collapsed": false,
    "pycharm": {
     "name": "#%%\n"
    }
   },
   "outputs": [],
   "source": [
    "rounds['return_usd'] = rounds.uuid.map(rounds.groupby('org_uuid').apply(process_company).droplevel(0)[0]) + 1"
   ]
  },
  {
   "cell_type": "code",
   "execution_count": 25,
   "metadata": {
    "collapsed": false,
    "pycharm": {
     "name": "#%%\n"
    }
   },
   "outputs": [],
   "source": [
    "rounds = rounds.drop(columns=['uuid'])\n",
    "rounds.insert(1, 'group_num', np.nan)\n",
    "rounds.insert(2, 'seg_num', np.nan)\n",
    "\n",
    "rounds.columns = ['company_num', 'group_num', 'seg_num', 'round_date', 'raised_usd',\n",
    "                  'postvalue_usd', 'exit_date', 'exit_type', 'exit_value', 'return_usd']\n",
    "rounds = rounds[rounds.round_date > '1990-01-01']"
   ]
  },
  {
   "cell_type": "code",
   "execution_count": 26,
   "metadata": {},
   "outputs": [],
   "source": [
    "operating = rounds_data[['org_uuid', 'announced_on', 'money_raised_usd', 'post_money_valuation_usd']].copy()\n",
    "operating = operating[~operating.org_uuid.isin(rounds.company_num)]\n",
    "\n",
    "operating.announced_on = pd.Timestamp(ref_date) + operating.announced_on * pd.Timedelta('1s')\n",
    "operating.insert(1, 'group_num', np.nan)\n",
    "operating.insert(2, 'seg_num', np.nan)\n",
    "operating.insert(operating.shape[1], 'exit_date', np.nan)\n",
    "operating.insert(operating.shape[1], 'exit_type', 4)\n",
    "operating.insert(operating.shape[1], 'exit_value', np.nan)\n",
    "operating.insert(operating.shape[1], 'return_usd', np.nan)\n",
    "\n",
    "operating.columns = ['company_num', 'group_num', 'seg_num', 'round_date', 'raised_usd',\n",
    "                  'postvalue_usd', 'exit_date', 'exit_type', 'exit_value', 'return_usd']\n",
    "operating = operating[operating.round_date.dt.year > 1990]"
   ]
  },
  {
   "cell_type": "code",
   "execution_count": 27,
   "metadata": {
    "collapsed": false,
    "pycharm": {
     "name": "#%%\n"
    }
   },
   "outputs": [],
   "source": [
    "complete = pd.concat([rounds, operating], ignore_index=True)\n",
    "complete.loc[complete.return_usd == 0, 'return_usd'] = np.nan\n",
    "complete = complete[(complete.return_usd < 3000) | (complete.return_usd.isna())]\n",
    "complete.exit_date = pd.to_datetime(complete.exit_date, errors=\"coerce\")"
   ]
  },
  {
   "cell_type": "code",
   "execution_count": 28,
   "metadata": {},
   "outputs": [],
   "source": [
    "if predicted:\n",
    "    complete.to_csv('../../data/data.csv', index=False)\n",
    "else:\n",
    "    complete.to_csv('../../data/data_nopred_full.csv', index=False)"
   ]
  },
  {
   "cell_type": "code",
   "execution_count": null,
   "metadata": {},
   "outputs": [],
   "source": []
  }
 ],
 "metadata": {
  "kernelspec": {
   "display_name": "Python 3.10.2 64-bit ('3.10.2')",
   "language": "python",
   "name": "python3"
  },
  "language_info": {
   "codemirror_mode": {
    "name": "ipython",
    "version": 3
   },
   "file_extension": ".py",
   "mimetype": "text/x-python",
   "name": "python",
   "nbconvert_exporter": "python",
   "pygments_lexer": "ipython3",
   "version": "3.10.2"
  },
  "vscode": {
   "interpreter": {
    "hash": "4cd4398770f52323a936c32f4c9c33f20493122a0515696d6ebafdd949421bc2"
   }
  }
 },
 "nbformat": 4,
 "nbformat_minor": 0
}
