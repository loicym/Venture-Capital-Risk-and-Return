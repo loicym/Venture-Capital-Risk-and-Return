{
 "cells": [
  {
   "cell_type": "code",
   "execution_count": 158,
   "metadata": {
    "collapsed": true
   },
   "outputs": [],
   "source": [
    "import pandas as pd\n",
    "import numpy as np"
   ]
  },
  {
   "cell_type": "code",
   "execution_count": 159,
   "outputs": [],
   "source": [
    "def process_company(company_data):\n",
    "    try:\n",
    "        if company_data.exit_type.values[0] == 3:\n",
    "            return -1\n",
    "        m = company_data.money_raised_usd.values\n",
    "        p = company_data.post_money_valuation_usd.values\n",
    "        e = company_data.exit_value.values[0]\n",
    "        if company_data.shape[0] == 1: # if only one round before exit\n",
    "            return (m[0] / p[0] * e - m[0]) / m[0]\n",
    "        x0 = m[0] / p[0] # stake of first investors\n",
    "        x = (p[1:] - m[1:]) / p[1:] # dilution factors\n",
    "        return (e * x0 * np.prod(x) - m[0]) / m[0]\n",
    "    except:\n",
    "        return np.nan\n",
    "\n",
    "\n",
    "def filter_dates(funding_round):\n",
    "    return funding_round['announced_on'] < funding_round['exit_date']"
   ],
   "metadata": {
    "collapsed": false,
    "pycharm": {
     "name": "#%%\n"
    }
   }
  },
  {
   "cell_type": "code",
   "execution_count": 160,
   "outputs": [],
   "source": [
    "rounds_data = pd.read_csv('obs_predicted_data.csv')"
   ],
   "metadata": {
    "collapsed": false,
    "pycharm": {
     "name": "#%%\n"
    }
   }
  },
  {
   "cell_type": "code",
   "execution_count": 161,
   "outputs": [],
   "source": [
    "orgs = pd.read_csv(\"../../data/crunchbase/organizations.csv\")\n",
    "acqs = pd.read_csv(\"../../data/crunchbase/acquisitions.csv\")\n",
    "ipos = pd.read_csv(\"../../data/crunchbase/ipos.csv\")\n",
    "ipos = ipos[['org_uuid', 'went_public_on', 'valuation_price_usd']]\n",
    "acqs = acqs[['acquiree_uuid', 'acquired_on', 'price_usd']]"
   ],
   "metadata": {
    "collapsed": false,
    "pycharm": {
     "name": "#%%\n"
    }
   }
  },
  {
   "cell_type": "code",
   "execution_count": 162,
   "outputs": [],
   "source": [
    "rounds = rounds_data[['uuid', 'org_uuid', 'announced_on', 'money_raised_usd', 'post_money_valuation_usd']].copy()\n",
    "\n",
    "ipos.columns = ['org_uuid', 'exit_date', 'exit_value']\n",
    "acqs.columns = ['org_uuid', 'exit_date', 'exit_value']\n",
    "\n",
    "clos = pd.DataFrame(orgs[['uuid', 'closed_on']].dropna())\n",
    "clos.columns = ['org_uuid', 'exit_date']\n",
    "\n",
    "ipos[\"exit_type\"] = 1\n",
    "acqs[\"exit_type\"] = 2\n",
    "clos[\"exit_type\"] = 3\n",
    "clos[\"exit_value\"] = np.nan\n",
    "\n",
    "exits = pd.concat([acqs, ipos, clos]).set_index(\"org_uuid\")"
   ],
   "metadata": {
    "collapsed": false,
    "pycharm": {
     "name": "#%%\n"
    }
   }
  },
  {
   "cell_type": "code",
   "execution_count": 163,
   "outputs": [],
   "source": [
    "rounds[\"exit_date\"] = pd.to_datetime(rounds.org_uuid.map(exits[\"exit_date\"].to_dict()))\n",
    "rounds[\"exit_type\"] = rounds.org_uuid.map(exits[\"exit_type\"].to_dict()).fillna(value=4).astype(int)\n",
    "rounds[\"exit_value\"] = rounds.org_uuid.map(exits[\"exit_value\"].to_dict())"
   ],
   "metadata": {
    "collapsed": false,
    "pycharm": {
     "name": "#%%\n"
    }
   }
  },
  {
   "cell_type": "code",
   "execution_count": 164,
   "outputs": [],
   "source": [
    "ref_date = '1926-01-01'\n",
    "rounds.announced_on = pd.Timestamp(ref_date) + rounds.announced_on * pd.Timedelta('1s')"
   ],
   "metadata": {
    "collapsed": false,
    "pycharm": {
     "name": "#%%\n"
    }
   }
  },
  {
   "cell_type": "code",
   "execution_count": 165,
   "outputs": [],
   "source": [
    "private = rounds[rounds.exit_type == 4]\n",
    "rounds = rounds[(rounds.announced_on < rounds.exit_date)]\n",
    "rounds = rounds.sort_values(by=['org_uuid', 'announced_on'])"
   ],
   "metadata": {
    "collapsed": false,
    "pycharm": {
     "name": "#%%\n"
    }
   }
  },
  {
   "cell_type": "code",
   "execution_count": 166,
   "outputs": [],
   "source": [
    "rounds['return_usd'] = rounds.org_uuid.map(rounds.groupby('org_uuid').apply(process_company).to_dict()) + 1"
   ],
   "metadata": {
    "collapsed": false,
    "pycharm": {
     "name": "#%%\n"
    }
   }
  },
  {
   "cell_type": "code",
   "execution_count": 167,
   "outputs": [],
   "source": [
    "rounds = rounds.drop(columns=['uuid'])\n",
    "rounds.insert(1, 'group_num', np.nan)\n",
    "rounds.insert(2, 'seg_num', np.nan)\n",
    "\n",
    "rounds.columns = ['company_num', 'group_num', 'seg_num', 'round_date', 'raised_usd',\n",
    "                  'postvalue_usd', 'exit_date', 'exit_type', 'exit_value', 'return_usd']\n",
    "rounds = rounds[rounds.round_date > '1990-01-01']"
   ],
   "metadata": {
    "collapsed": false,
    "pycharm": {
     "name": "#%%\n"
    }
   }
  },
  {
   "cell_type": "code",
   "execution_count": 168,
   "outputs": [],
   "source": [
    "private = private.drop(columns=['uuid'])\n",
    "private.insert(1, 'group_num', np.nan)\n",
    "private.insert(2, 'seg_num', np.nan)\n",
    "private.insert(9, 'return_usd', np.nan)\n",
    "\n",
    "private.columns = ['company_num', 'group_num', 'seg_num', 'round_date', 'raised_usd',\n",
    "                  'postvalue_usd', 'exit_date', 'exit_type', 'exit_value', 'return_usd']\n",
    "private = private[private.round_date > '1990-01-01']\n",
    "private.exit_date = np.nan"
   ],
   "metadata": {
    "collapsed": false,
    "pycharm": {
     "name": "#%%\n"
    }
   }
  },
  {
   "cell_type": "code",
   "execution_count": 169,
   "outputs": [],
   "source": [
    "complete = pd.concat([rounds, private])\n",
    "complete.exit_date = pd.to_datetime(complete.exit_date)\n",
    "complete.to_csv('../../data/data.csv', index=False)"
   ],
   "metadata": {
    "collapsed": false,
    "pycharm": {
     "name": "#%%\n"
    }
   }
  },
  {
   "cell_type": "code",
   "execution_count": 170,
   "outputs": [],
   "source": [
    "data = pd.read_csv('../../data/data.csv', parse_dates=['round_date', 'exit_date'])"
   ],
   "metadata": {
    "collapsed": false,
    "pycharm": {
     "name": "#%%\n"
    }
   }
  },
  {
   "cell_type": "code",
   "execution_count": 172,
   "outputs": [
    {
     "data": {
      "text/plain": "                                 company_num  group_num  seg_num round_date  \\\n0       000cff2d-58df-0a9a-97ea-6b73ed9ec601        NaN      NaN 2016-07-21   \n1       0012f446-a31b-9eb8-4fa0-448ed0414112        NaN      NaN 2000-03-07   \n2       00251aad-6e34-0898-8a72-fe8864a90f92        NaN      NaN 2012-10-04   \n3       002aac96-79d4-a8f3-8ef0-d44fb240951d        NaN      NaN 2000-05-12   \n4       002e0b73-ab4e-bfd5-0d9a-e6df8fede446        NaN      NaN 2016-01-11   \n...                                      ...        ...      ...        ...   \n119046  fffe3b0b-8545-4414-9c0e-a3f961c4e420        NaN      NaN 2017-02-07   \n119047  ffff2bea-7e44-4563-b311-65daadb683cd        NaN      NaN 2010-12-07   \n119048  ffff2bea-7e44-4563-b311-65daadb683cd        NaN      NaN 2013-04-25   \n119049  ffffabce-6d4a-b3d1-13c0-4e90cedf5270        NaN      NaN 2016-05-15   \n119050  ffffabce-6d4a-b3d1-13c0-4e90cedf5270        NaN      NaN 2017-02-09   \n\n        raised_usd  postvalue_usd  exit_date  exit_type   exit_value  \\\n0         100000.0   1.120240e+06 2020-03-06          2          NaN   \n1       14000000.0   7.059858e+07 2005-06-03          2          NaN   \n2         650532.0   3.238880e+06 2016-11-08          2          NaN   \n3        3000000.0   1.126037e+07 2006-11-09          2          NaN   \n4       45000000.0   2.104294e+08 2020-12-15          1  577580000.0   \n...            ...            ...        ...        ...          ...   \n119046  14523274.0   8.525829e+07        NaT          4          NaN   \n119047    451407.0   2.387976e+06        NaT          4          NaN   \n119048   1616916.0   8.092737e+06        NaT          4          NaN   \n119049    210000.0   2.649445e+06        NaT          4          NaN   \n119050    700000.0   3.528939e+06        NaT          4          NaN   \n\n        return_usd  \n0              NaN  \n1              NaN  \n2              NaN  \n3              NaN  \n4         2.442438  \n...            ...  \n119046         NaN  \n119047         NaN  \n119048         NaN  \n119049         NaN  \n119050         NaN  \n\n[119051 rows x 10 columns]",
      "text/html": "<div>\n<style scoped>\n    .dataframe tbody tr th:only-of-type {\n        vertical-align: middle;\n    }\n\n    .dataframe tbody tr th {\n        vertical-align: top;\n    }\n\n    .dataframe thead th {\n        text-align: right;\n    }\n</style>\n<table border=\"1\" class=\"dataframe\">\n  <thead>\n    <tr style=\"text-align: right;\">\n      <th></th>\n      <th>company_num</th>\n      <th>group_num</th>\n      <th>seg_num</th>\n      <th>round_date</th>\n      <th>raised_usd</th>\n      <th>postvalue_usd</th>\n      <th>exit_date</th>\n      <th>exit_type</th>\n      <th>exit_value</th>\n      <th>return_usd</th>\n    </tr>\n  </thead>\n  <tbody>\n    <tr>\n      <th>0</th>\n      <td>000cff2d-58df-0a9a-97ea-6b73ed9ec601</td>\n      <td>NaN</td>\n      <td>NaN</td>\n      <td>2016-07-21</td>\n      <td>100000.0</td>\n      <td>1.120240e+06</td>\n      <td>2020-03-06</td>\n      <td>2</td>\n      <td>NaN</td>\n      <td>NaN</td>\n    </tr>\n    <tr>\n      <th>1</th>\n      <td>0012f446-a31b-9eb8-4fa0-448ed0414112</td>\n      <td>NaN</td>\n      <td>NaN</td>\n      <td>2000-03-07</td>\n      <td>14000000.0</td>\n      <td>7.059858e+07</td>\n      <td>2005-06-03</td>\n      <td>2</td>\n      <td>NaN</td>\n      <td>NaN</td>\n    </tr>\n    <tr>\n      <th>2</th>\n      <td>00251aad-6e34-0898-8a72-fe8864a90f92</td>\n      <td>NaN</td>\n      <td>NaN</td>\n      <td>2012-10-04</td>\n      <td>650532.0</td>\n      <td>3.238880e+06</td>\n      <td>2016-11-08</td>\n      <td>2</td>\n      <td>NaN</td>\n      <td>NaN</td>\n    </tr>\n    <tr>\n      <th>3</th>\n      <td>002aac96-79d4-a8f3-8ef0-d44fb240951d</td>\n      <td>NaN</td>\n      <td>NaN</td>\n      <td>2000-05-12</td>\n      <td>3000000.0</td>\n      <td>1.126037e+07</td>\n      <td>2006-11-09</td>\n      <td>2</td>\n      <td>NaN</td>\n      <td>NaN</td>\n    </tr>\n    <tr>\n      <th>4</th>\n      <td>002e0b73-ab4e-bfd5-0d9a-e6df8fede446</td>\n      <td>NaN</td>\n      <td>NaN</td>\n      <td>2016-01-11</td>\n      <td>45000000.0</td>\n      <td>2.104294e+08</td>\n      <td>2020-12-15</td>\n      <td>1</td>\n      <td>577580000.0</td>\n      <td>2.442438</td>\n    </tr>\n    <tr>\n      <th>...</th>\n      <td>...</td>\n      <td>...</td>\n      <td>...</td>\n      <td>...</td>\n      <td>...</td>\n      <td>...</td>\n      <td>...</td>\n      <td>...</td>\n      <td>...</td>\n      <td>...</td>\n    </tr>\n    <tr>\n      <th>119046</th>\n      <td>fffe3b0b-8545-4414-9c0e-a3f961c4e420</td>\n      <td>NaN</td>\n      <td>NaN</td>\n      <td>2017-02-07</td>\n      <td>14523274.0</td>\n      <td>8.525829e+07</td>\n      <td>NaT</td>\n      <td>4</td>\n      <td>NaN</td>\n      <td>NaN</td>\n    </tr>\n    <tr>\n      <th>119047</th>\n      <td>ffff2bea-7e44-4563-b311-65daadb683cd</td>\n      <td>NaN</td>\n      <td>NaN</td>\n      <td>2010-12-07</td>\n      <td>451407.0</td>\n      <td>2.387976e+06</td>\n      <td>NaT</td>\n      <td>4</td>\n      <td>NaN</td>\n      <td>NaN</td>\n    </tr>\n    <tr>\n      <th>119048</th>\n      <td>ffff2bea-7e44-4563-b311-65daadb683cd</td>\n      <td>NaN</td>\n      <td>NaN</td>\n      <td>2013-04-25</td>\n      <td>1616916.0</td>\n      <td>8.092737e+06</td>\n      <td>NaT</td>\n      <td>4</td>\n      <td>NaN</td>\n      <td>NaN</td>\n    </tr>\n    <tr>\n      <th>119049</th>\n      <td>ffffabce-6d4a-b3d1-13c0-4e90cedf5270</td>\n      <td>NaN</td>\n      <td>NaN</td>\n      <td>2016-05-15</td>\n      <td>210000.0</td>\n      <td>2.649445e+06</td>\n      <td>NaT</td>\n      <td>4</td>\n      <td>NaN</td>\n      <td>NaN</td>\n    </tr>\n    <tr>\n      <th>119050</th>\n      <td>ffffabce-6d4a-b3d1-13c0-4e90cedf5270</td>\n      <td>NaN</td>\n      <td>NaN</td>\n      <td>2017-02-09</td>\n      <td>700000.0</td>\n      <td>3.528939e+06</td>\n      <td>NaT</td>\n      <td>4</td>\n      <td>NaN</td>\n      <td>NaN</td>\n    </tr>\n  </tbody>\n</table>\n<p>119051 rows × 10 columns</p>\n</div>"
     },
     "execution_count": 172,
     "metadata": {},
     "output_type": "execute_result"
    }
   ],
   "source": [
    "data"
   ],
   "metadata": {
    "collapsed": false,
    "pycharm": {
     "name": "#%%\n"
    }
   }
  },
  {
   "cell_type": "code",
   "execution_count": null,
   "outputs": [],
   "source": [],
   "metadata": {
    "collapsed": false,
    "pycharm": {
     "name": "#%%\n"
    }
   }
  }
 ],
 "metadata": {
  "kernelspec": {
   "display_name": "Python 3",
   "language": "python",
   "name": "python3"
  },
  "language_info": {
   "codemirror_mode": {
    "name": "ipython",
    "version": 2
   },
   "file_extension": ".py",
   "mimetype": "text/x-python",
   "name": "python",
   "nbconvert_exporter": "python",
   "pygments_lexer": "ipython2",
   "version": "2.7.6"
  }
 },
 "nbformat": 4,
 "nbformat_minor": 0
}