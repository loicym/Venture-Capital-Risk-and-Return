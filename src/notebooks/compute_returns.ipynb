{
 "cells": [
  {
   "cell_type": "code",
   "execution_count": 1,
   "metadata": {
    "collapsed": true
   },
   "outputs": [],
   "source": [
    "import matplotlib.pyplot as plt\n",
    "import pandas as pd\n",
    "import numpy as np\n",
    "import seaborn as sns"
   ]
  },
  {
   "cell_type": "code",
   "execution_count": 2,
   "metadata": {
    "collapsed": false,
    "pycharm": {
     "name": "#%%\n"
    }
   },
   "outputs": [],
   "source": [
    "def process_company(company_data):\n",
    "    try:\n",
    "        m = company_data.money_raised_usd.values\n",
    "        p = company_data.post_money_valuation_usd.values\n",
    "        e = company_data.exit_value.values[0]\n",
    "\n",
    "        if company_data.exit_type.values[0] == 3:\n",
    "            ret = np.zeros_like(company_data.uuid) - 1\n",
    "        elif company_data.shape[0] == 1:\n",
    "            ret = [(m[0] / p[0] * e - m[0]) / m[0]]\n",
    "        else:\n",
    "            x0 = m / p # stake of investors at their first round\n",
    "            x = (p[1:] - m[1:]) / p[1:] # dilution factors\n",
    "            d = np.cumprod(x)[::-1]\n",
    "            d = np.insert(d, len(d), 1)\n",
    "            ret = (e * x0 * d - m) / m\n",
    "        return pd.DataFrame(data=ret, index=company_data.uuid)\n",
    "    except:\n",
    "        print(company_data)\n",
    "        return pd.DataFrame(data=[np.nan] * company_data.uuid.size, index=company_data.uuid)\n",
    "\n",
    "\n",
    "def filter_dates(funding_round):\n",
    "    return funding_round['announced_on'] < funding_round['exit_date']"
   ]
  },
  {
   "cell_type": "code",
   "execution_count": 16,
   "metadata": {},
   "outputs": [],
   "source": [
    "predicted = True"
   ]
  },
  {
   "cell_type": "code",
   "execution_count": 3,
   "metadata": {
    "collapsed": false,
    "pycharm": {
     "name": "#%%\n"
    }
   },
   "outputs": [],
   "source": [
    "# rounds_data = pd.read_csv('../../data/obs_predicted_data.csv')\n",
    "# rounds_data = pd.read_csv('../../data/no_pred_data.csv')\n",
    "rounds_data = pd.read_csv('../../data/early_data.csv')"
   ]
  },
  {
   "cell_type": "code",
   "execution_count": 4,
   "metadata": {},
   "outputs": [
    {
     "data": {
      "text/html": [
       "<div>\n",
       "<style scoped>\n",
       "    .dataframe tbody tr th:only-of-type {\n",
       "        vertical-align: middle;\n",
       "    }\n",
       "\n",
       "    .dataframe tbody tr th {\n",
       "        vertical-align: top;\n",
       "    }\n",
       "\n",
       "    .dataframe thead th {\n",
       "        text-align: right;\n",
       "    }\n",
       "</style>\n",
       "<table border=\"1\" class=\"dataframe\">\n",
       "  <thead>\n",
       "    <tr style=\"text-align: right;\">\n",
       "      <th></th>\n",
       "      <th>uuid</th>\n",
       "      <th>org_uuid</th>\n",
       "      <th>announced_on</th>\n",
       "      <th>money_raised_usd</th>\n",
       "      <th>num_investors</th>\n",
       "      <th>investment_type</th>\n",
       "      <th>lead_investor_rank</th>\n",
       "      <th>post_money_valuation_usd</th>\n",
       "      <th>prev_rounds</th>\n",
       "      <th>country_code</th>\n",
       "      <th>amount_delta</th>\n",
       "      <th>holding_time</th>\n",
       "    </tr>\n",
       "  </thead>\n",
       "  <tbody>\n",
       "    <tr>\n",
       "      <th>0</th>\n",
       "      <td>773c9fb9-0e27-4115-8bc1-343e24ee28c8</td>\n",
       "      <td>0002aa63-f21b-4c54-9495-895a1d09e0d4</td>\n",
       "      <td>2946326400</td>\n",
       "      <td>1500000.0</td>\n",
       "      <td>7.0</td>\n",
       "      <td>seed</td>\n",
       "      <td>206226.0</td>\n",
       "      <td>4.500000e+06</td>\n",
       "      <td>0.0</td>\n",
       "      <td>USA</td>\n",
       "      <td>1500000.0</td>\n",
       "      <td>498.0</td>\n",
       "    </tr>\n",
       "    <tr>\n",
       "      <th>1</th>\n",
       "      <td>e5e06be5-4b9a-4040-9ee4-bb45920a1f99</td>\n",
       "      <td>00060741-9e4b-44cd-880a-8d0fdd8046c8</td>\n",
       "      <td>2969827200</td>\n",
       "      <td>215983.0</td>\n",
       "      <td>2.0</td>\n",
       "      <td>pre_seed</td>\n",
       "      <td>96497.0</td>\n",
       "      <td>2.215982e+06</td>\n",
       "      <td>0.0</td>\n",
       "      <td>SGP</td>\n",
       "      <td>215983.0</td>\n",
       "      <td>40.0</td>\n",
       "    </tr>\n",
       "    <tr>\n",
       "      <th>2</th>\n",
       "      <td>23263b3b-0c61-4980-aee2-47f00f12e357</td>\n",
       "      <td>000b7667-bf70-4298-bae9-94f44d27dc10</td>\n",
       "      <td>2966716800</td>\n",
       "      <td>8700000.0</td>\n",
       "      <td>1.0</td>\n",
       "      <td>seed</td>\n",
       "      <td>3151372.0</td>\n",
       "      <td>1.970000e+07</td>\n",
       "      <td>0.0</td>\n",
       "      <td>CHN</td>\n",
       "      <td>8700000.0</td>\n",
       "      <td>157.0</td>\n",
       "    </tr>\n",
       "    <tr>\n",
       "      <th>3</th>\n",
       "      <td>befaba3e-2bae-4fd5-b71e-6d03a71b980a</td>\n",
       "      <td>0010d353-dfe4-483b-86a7-5e11e9996e63</td>\n",
       "      <td>2887401600</td>\n",
       "      <td>500000.0</td>\n",
       "      <td>1.0</td>\n",
       "      <td>pre_seed</td>\n",
       "      <td>215643.0</td>\n",
       "      <td>4.500000e+06</td>\n",
       "      <td>1.0</td>\n",
       "      <td>USA</td>\n",
       "      <td>200000.0</td>\n",
       "      <td>122.0</td>\n",
       "    </tr>\n",
       "    <tr>\n",
       "      <th>4</th>\n",
       "      <td>10e2bc7d-f5a6-4cdd-acf3-6c87b167f83f</td>\n",
       "      <td>0011daf2-bf81-2365-e08a-d896bdc186d6</td>\n",
       "      <td>2902262400</td>\n",
       "      <td>1900000.0</td>\n",
       "      <td>1.0</td>\n",
       "      <td>series_a</td>\n",
       "      <td>245.0</td>\n",
       "      <td>6.400000e+06</td>\n",
       "      <td>1.0</td>\n",
       "      <td>IND</td>\n",
       "      <td>1795000.0</td>\n",
       "      <td>622.0</td>\n",
       "    </tr>\n",
       "    <tr>\n",
       "      <th>...</th>\n",
       "      <td>...</td>\n",
       "      <td>...</td>\n",
       "      <td>...</td>\n",
       "      <td>...</td>\n",
       "      <td>...</td>\n",
       "      <td>...</td>\n",
       "      <td>...</td>\n",
       "      <td>...</td>\n",
       "      <td>...</td>\n",
       "      <td>...</td>\n",
       "      <td>...</td>\n",
       "      <td>...</td>\n",
       "    </tr>\n",
       "    <tr>\n",
       "      <th>92206</th>\n",
       "      <td>4ed08f61-2001-4458-a29e-a651bb1e18be</td>\n",
       "      <td>fffe3b0b-8545-4414-9c0e-a3f961c4e420</td>\n",
       "      <td>2874960000</td>\n",
       "      <td>14523274.0</td>\n",
       "      <td>1.0</td>\n",
       "      <td>other</td>\n",
       "      <td>295238.0</td>\n",
       "      <td>7.536181e+07</td>\n",
       "      <td>0.0</td>\n",
       "      <td>CHN</td>\n",
       "      <td>14523274.0</td>\n",
       "      <td>1450.0</td>\n",
       "    </tr>\n",
       "    <tr>\n",
       "      <th>92207</th>\n",
       "      <td>b6cd618e-c9f0-4410-9f5e-4243b2b65fcd</td>\n",
       "      <td>ffff2bea-7e44-4563-b311-65daadb683cd</td>\n",
       "      <td>2680214400</td>\n",
       "      <td>451407.0</td>\n",
       "      <td>1.0</td>\n",
       "      <td>angel</td>\n",
       "      <td>2819467.0</td>\n",
       "      <td>1.701184e+06</td>\n",
       "      <td>0.0</td>\n",
       "      <td>CHN</td>\n",
       "      <td>451407.0</td>\n",
       "      <td>207.0</td>\n",
       "    </tr>\n",
       "    <tr>\n",
       "      <th>92208</th>\n",
       "      <td>f5cac82f-41b8-4992-abee-ac609fad4e3f</td>\n",
       "      <td>ffff2bea-7e44-4563-b311-65daadb683cd</td>\n",
       "      <td>2755382400</td>\n",
       "      <td>1616916.0</td>\n",
       "      <td>1.0</td>\n",
       "      <td>series_a</td>\n",
       "      <td>3439.0</td>\n",
       "      <td>7.957348e+06</td>\n",
       "      <td>1.0</td>\n",
       "      <td>CHN</td>\n",
       "      <td>1165509.0</td>\n",
       "      <td>870.0</td>\n",
       "    </tr>\n",
       "    <tr>\n",
       "      <th>92209</th>\n",
       "      <td>d5d0d173-9a6f-4359-f4bb-a7e71f20b988</td>\n",
       "      <td>ffffabce-6d4a-b3d1-13c0-4e90cedf5270</td>\n",
       "      <td>2851804800</td>\n",
       "      <td>210000.0</td>\n",
       "      <td>4.0</td>\n",
       "      <td>seed</td>\n",
       "      <td>43.0</td>\n",
       "      <td>2.487609e+06</td>\n",
       "      <td>0.0</td>\n",
       "      <td>USA</td>\n",
       "      <td>210000.0</td>\n",
       "      <td>500.0</td>\n",
       "    </tr>\n",
       "    <tr>\n",
       "      <th>92210</th>\n",
       "      <td>f6dd414e-9ed9-da8d-9260-0385580d81b3</td>\n",
       "      <td>ffffabce-6d4a-b3d1-13c0-4e90cedf5270</td>\n",
       "      <td>2875132800</td>\n",
       "      <td>700000.0</td>\n",
       "      <td>2.0</td>\n",
       "      <td>seed</td>\n",
       "      <td>63828.0</td>\n",
       "      <td>4.114323e+06</td>\n",
       "      <td>1.0</td>\n",
       "      <td>USA</td>\n",
       "      <td>490000.0</td>\n",
       "      <td>270.0</td>\n",
       "    </tr>\n",
       "  </tbody>\n",
       "</table>\n",
       "<p>92211 rows × 12 columns</p>\n",
       "</div>"
      ],
      "text/plain": [
       "                                       uuid  \\\n",
       "0      773c9fb9-0e27-4115-8bc1-343e24ee28c8   \n",
       "1      e5e06be5-4b9a-4040-9ee4-bb45920a1f99   \n",
       "2      23263b3b-0c61-4980-aee2-47f00f12e357   \n",
       "3      befaba3e-2bae-4fd5-b71e-6d03a71b980a   \n",
       "4      10e2bc7d-f5a6-4cdd-acf3-6c87b167f83f   \n",
       "...                                     ...   \n",
       "92206  4ed08f61-2001-4458-a29e-a651bb1e18be   \n",
       "92207  b6cd618e-c9f0-4410-9f5e-4243b2b65fcd   \n",
       "92208  f5cac82f-41b8-4992-abee-ac609fad4e3f   \n",
       "92209  d5d0d173-9a6f-4359-f4bb-a7e71f20b988   \n",
       "92210  f6dd414e-9ed9-da8d-9260-0385580d81b3   \n",
       "\n",
       "                                   org_uuid  announced_on  money_raised_usd  \\\n",
       "0      0002aa63-f21b-4c54-9495-895a1d09e0d4    2946326400         1500000.0   \n",
       "1      00060741-9e4b-44cd-880a-8d0fdd8046c8    2969827200          215983.0   \n",
       "2      000b7667-bf70-4298-bae9-94f44d27dc10    2966716800         8700000.0   \n",
       "3      0010d353-dfe4-483b-86a7-5e11e9996e63    2887401600          500000.0   \n",
       "4      0011daf2-bf81-2365-e08a-d896bdc186d6    2902262400         1900000.0   \n",
       "...                                     ...           ...               ...   \n",
       "92206  fffe3b0b-8545-4414-9c0e-a3f961c4e420    2874960000        14523274.0   \n",
       "92207  ffff2bea-7e44-4563-b311-65daadb683cd    2680214400          451407.0   \n",
       "92208  ffff2bea-7e44-4563-b311-65daadb683cd    2755382400         1616916.0   \n",
       "92209  ffffabce-6d4a-b3d1-13c0-4e90cedf5270    2851804800          210000.0   \n",
       "92210  ffffabce-6d4a-b3d1-13c0-4e90cedf5270    2875132800          700000.0   \n",
       "\n",
       "       num_investors investment_type  lead_investor_rank  \\\n",
       "0                7.0            seed            206226.0   \n",
       "1                2.0        pre_seed             96497.0   \n",
       "2                1.0            seed           3151372.0   \n",
       "3                1.0        pre_seed            215643.0   \n",
       "4                1.0        series_a               245.0   \n",
       "...              ...             ...                 ...   \n",
       "92206            1.0           other            295238.0   \n",
       "92207            1.0           angel           2819467.0   \n",
       "92208            1.0        series_a              3439.0   \n",
       "92209            4.0            seed                43.0   \n",
       "92210            2.0            seed             63828.0   \n",
       "\n",
       "       post_money_valuation_usd  prev_rounds country_code  amount_delta  \\\n",
       "0                  4.500000e+06          0.0          USA     1500000.0   \n",
       "1                  2.215982e+06          0.0          SGP      215983.0   \n",
       "2                  1.970000e+07          0.0          CHN     8700000.0   \n",
       "3                  4.500000e+06          1.0          USA      200000.0   \n",
       "4                  6.400000e+06          1.0          IND     1795000.0   \n",
       "...                         ...          ...          ...           ...   \n",
       "92206              7.536181e+07          0.0          CHN    14523274.0   \n",
       "92207              1.701184e+06          0.0          CHN      451407.0   \n",
       "92208              7.957348e+06          1.0          CHN     1165509.0   \n",
       "92209              2.487609e+06          0.0          USA      210000.0   \n",
       "92210              4.114323e+06          1.0          USA      490000.0   \n",
       "\n",
       "       holding_time  \n",
       "0             498.0  \n",
       "1              40.0  \n",
       "2             157.0  \n",
       "3             122.0  \n",
       "4             622.0  \n",
       "...             ...  \n",
       "92206        1450.0  \n",
       "92207         207.0  \n",
       "92208         870.0  \n",
       "92209         500.0  \n",
       "92210         270.0  \n",
       "\n",
       "[92211 rows x 12 columns]"
      ]
     },
     "execution_count": 4,
     "metadata": {},
     "output_type": "execute_result"
    }
   ],
   "source": [
    "rounds_data"
   ]
  },
  {
   "cell_type": "code",
   "execution_count": 5,
   "metadata": {
    "collapsed": false,
    "pycharm": {
     "name": "#%%\n"
    }
   },
   "outputs": [],
   "source": [
    "orgs = pd.read_csv(\"../../data/crunchbase/organizations.csv\")\n",
    "acqs = pd.read_csv(\"../../data/crunchbase/acquisitions.csv\")\n",
    "ipos = pd.read_csv(\"../../data/crunchbase/ipos.csv\")"
   ]
  },
  {
   "cell_type": "code",
   "execution_count": 6,
   "metadata": {
    "collapsed": false,
    "pycharm": {
     "name": "#%%\n"
    }
   },
   "outputs": [],
   "source": [
    "ipos = ipos[['org_uuid', 'went_public_on', 'valuation_price_usd']]\n",
    "acqs = acqs[['acquiree_uuid', 'acquired_on', 'price_usd']]"
   ]
  },
  {
   "cell_type": "code",
   "execution_count": 7,
   "metadata": {
    "collapsed": false,
    "pycharm": {
     "name": "#%%\n"
    }
   },
   "outputs": [],
   "source": [
    "rounds = rounds_data[['uuid', 'org_uuid', 'announced_on', 'money_raised_usd', 'post_money_valuation_usd']].copy()\n",
    "\n",
    "ipos.columns = ['org_uuid', 'exit_date', 'exit_value']\n",
    "acqs.columns = ['org_uuid', 'exit_date', 'exit_value']\n",
    "\n",
    "clos = pd.DataFrame(orgs[orgs.status == 'closed'][['uuid', 'closed_on']])\n",
    "clos.columns = ['org_uuid', 'exit_date']\n",
    "\n",
    "ipos[\"exit_type\"] = 1\n",
    "acqs[\"exit_type\"] = 2\n",
    "clos[\"exit_type\"] = 3\n",
    "clos[\"exit_value\"] = np.nan\n",
    "\n",
    "exits = pd.concat([acqs, ipos, clos]).set_index(\"org_uuid\")"
   ]
  },
  {
   "cell_type": "code",
   "execution_count": 8,
   "metadata": {
    "collapsed": false,
    "pycharm": {
     "name": "#%%\n"
    }
   },
   "outputs": [],
   "source": [
    "rounds[\"exit_date\"] = pd.to_datetime(rounds.org_uuid.map(exits[\"exit_date\"].to_dict()))\n",
    "rounds[\"exit_type\"] = rounds.org_uuid.map(exits[\"exit_type\"].to_dict()).fillna(value=4).astype(int)\n",
    "rounds[\"exit_value\"] = rounds.org_uuid.map(exits[\"exit_value\"].to_dict())"
   ]
  },
  {
   "cell_type": "code",
   "execution_count": 9,
   "metadata": {
    "collapsed": false,
    "pycharm": {
     "name": "#%%\n"
    }
   },
   "outputs": [],
   "source": [
    "ref_date = '1926-01-01'\n",
    "rounds.announced_on = pd.Timestamp(ref_date) + rounds.announced_on * pd.Timedelta('1s')\n",
    "rounds = rounds[(rounds.announced_on < rounds.exit_date)]\n",
    "rounds = rounds.sort_values(by=['org_uuid', 'announced_on'])"
   ]
  },
  {
   "cell_type": "code",
   "execution_count": 10,
   "metadata": {
    "collapsed": false,
    "pycharm": {
     "name": "#%%\n"
    }
   },
   "outputs": [],
   "source": [
    "rounds['return_usd'] = rounds.uuid.map(rounds.groupby('org_uuid').apply(process_company).droplevel(0)[0]) + 1"
   ]
  },
  {
   "cell_type": "code",
   "execution_count": 11,
   "metadata": {
    "collapsed": false,
    "pycharm": {
     "name": "#%%\n"
    }
   },
   "outputs": [],
   "source": [
    "rounds = rounds.drop(columns=['uuid'])\n",
    "rounds.insert(1, 'group_num', np.nan)\n",
    "rounds.insert(2, 'seg_num', np.nan)\n",
    "\n",
    "rounds.columns = ['company_num', 'group_num', 'seg_num', 'round_date', 'raised_usd',\n",
    "                  'postvalue_usd', 'exit_date', 'exit_type', 'exit_value', 'return_usd']\n",
    "rounds = rounds[rounds.round_date > '1990-01-01']"
   ]
  },
  {
   "cell_type": "code",
   "execution_count": 12,
   "metadata": {},
   "outputs": [],
   "source": [
    "operating = rounds_data[['org_uuid', 'announced_on', 'money_raised_usd', 'post_money_valuation_usd']].copy()\n",
    "operating = operating[~operating.org_uuid.isin(rounds.company_num)]\n",
    "\n",
    "operating.announced_on = pd.Timestamp(ref_date) + operating.announced_on * pd.Timedelta('1s')\n",
    "operating.insert(1, 'group_num', np.nan)\n",
    "operating.insert(2, 'seg_num', np.nan)\n",
    "operating.insert(operating.shape[1], 'exit_date', np.nan)\n",
    "operating.insert(operating.shape[1], 'exit_type', 4)\n",
    "operating.insert(operating.shape[1], 'exit_value', np.nan)\n",
    "operating.insert(operating.shape[1], 'return_usd', np.nan)\n",
    "\n",
    "operating.columns = ['company_num', 'group_num', 'seg_num', 'round_date', 'raised_usd',\n",
    "                  'postvalue_usd', 'exit_date', 'exit_type', 'exit_value', 'return_usd']\n",
    "operating = operating[operating.round_date.dt.year > 1990]"
   ]
  },
  {
   "cell_type": "code",
   "execution_count": 13,
   "metadata": {
    "collapsed": false,
    "pycharm": {
     "name": "#%%\n"
    }
   },
   "outputs": [],
   "source": [
    "complete = pd.concat([rounds, operating], ignore_index=True)\n",
    "complete.loc[complete.return_usd == 0, 'return_usd'] = np.nan\n",
    "complete = complete[(complete.return_usd < 3000) | (complete.return_usd.isna())]\n",
    "complete.exit_date = pd.to_datetime(complete.exit_date, errors=\"coerce\")"
   ]
  },
  {
   "cell_type": "code",
   "execution_count": 14,
   "metadata": {},
   "outputs": [],
   "source": [
    "# complete.to_csv('../../data/data.csv', index=False)\n",
    "# complete.to_csv('../../data/data_nopred_full.csv', index=False)\n",
    "complete.to_csv('../../data/data_early_full.csv', index=False)"
   ]
  },
  {
   "cell_type": "code",
   "execution_count": null,
   "metadata": {},
   "outputs": [],
   "source": []
  }
 ],
 "metadata": {
  "kernelspec": {
   "display_name": "Python 3.10.2 64-bit ('3.10.2')",
   "language": "python",
   "name": "python3"
  },
  "language_info": {
   "codemirror_mode": {
    "name": "ipython",
    "version": 3
   },
   "file_extension": ".py",
   "mimetype": "text/x-python",
   "name": "python",
   "nbconvert_exporter": "python",
   "pygments_lexer": "ipython3",
   "version": "3.10.2"
  },
  "vscode": {
   "interpreter": {
    "hash": "4cd4398770f52323a936c32f4c9c33f20493122a0515696d6ebafdd949421bc2"
   }
  }
 },
 "nbformat": 4,
 "nbformat_minor": 0
}
