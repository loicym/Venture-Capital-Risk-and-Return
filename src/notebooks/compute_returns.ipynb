{
 "cells": [
  {
   "cell_type": "code",
   "execution_count": 20,
   "metadata": {
    "collapsed": true
   },
   "outputs": [],
   "source": [
    "import matplotlib.pyplot as plt\n",
    "import pandas as pd\n",
    "import numpy as np\n",
    "import seaborn as sns"
   ]
  },
  {
   "cell_type": "code",
   "execution_count": 21,
   "metadata": {
    "collapsed": false,
    "pycharm": {
     "name": "#%%\n"
    }
   },
   "outputs": [],
   "source": [
    "def process_company(company_data):\n",
    "    try:\n",
    "        m = company_data.money_raised_usd.values\n",
    "        p = company_data.post_money_valuation_usd.values\n",
    "        e = company_data.exit_value.values[0]\n",
    "\n",
    "        if company_data.exit_type.values[0] == 3:\n",
    "            ret = np.zeros_like(company_data.uuid) - 1\n",
    "        elif company_data.shape[0] == 1:\n",
    "            ret = [(m[0] / p[0] * e - m[0]) / m[0]]\n",
    "        else:\n",
    "            x0 = m / p # stake of investors at their first round\n",
    "            x = (p[1:] - m[1:]) / p[1:] # dilution factors\n",
    "            d = np.cumprod(x)[::-1]\n",
    "            d = np.insert(d, len(d), 1)\n",
    "            ret = (e * x0 * d - m) / m\n",
    "        return pd.DataFrame(data=ret, index=company_data.uuid)\n",
    "    except:\n",
    "        print(company_data)\n",
    "        return pd.DataFrame(data=[np.nan] * company_data.uuid.size, index=company_data.uuid)\n",
    "\n",
    "\n",
    "def filter_dates(funding_round):\n",
    "    return funding_round['announced_on'] < funding_round['exit_date']"
   ]
  },
  {
   "cell_type": "code",
   "execution_count": 50,
   "metadata": {},
   "outputs": [],
   "source": [
    "predicted = False"
   ]
  },
  {
   "cell_type": "code",
   "execution_count": 51,
   "metadata": {
    "collapsed": false,
    "pycharm": {
     "name": "#%%\n"
    }
   },
   "outputs": [],
   "source": [
    "if predicted:\n",
    "    rounds_data = pd.read_csv('obs_predicted_data.csv')\n",
    "else:\n",
    "    rounds_data = pd.read_csv('observed.csv')"
   ]
  },
  {
   "cell_type": "code",
   "execution_count": 52,
   "metadata": {},
   "outputs": [
    {
     "data": {
      "text/html": [
       "<div>\n",
       "<style scoped>\n",
       "    .dataframe tbody tr th:only-of-type {\n",
       "        vertical-align: middle;\n",
       "    }\n",
       "\n",
       "    .dataframe tbody tr th {\n",
       "        vertical-align: top;\n",
       "    }\n",
       "\n",
       "    .dataframe thead th {\n",
       "        text-align: right;\n",
       "    }\n",
       "</style>\n",
       "<table border=\"1\" class=\"dataframe\">\n",
       "  <thead>\n",
       "    <tr style=\"text-align: right;\">\n",
       "      <th></th>\n",
       "      <th>Unnamed: 0</th>\n",
       "      <th>uuid</th>\n",
       "      <th>org_uuid</th>\n",
       "      <th>announced_on</th>\n",
       "      <th>money_raised_usd</th>\n",
       "      <th>num_investors</th>\n",
       "      <th>investment_type</th>\n",
       "      <th>lead_investor_rank</th>\n",
       "      <th>post_money_valuation_usd</th>\n",
       "      <th>prev_rounds</th>\n",
       "      <th>country_code</th>\n",
       "      <th>amount_delta</th>\n",
       "      <th>holding_time</th>\n",
       "    </tr>\n",
       "  </thead>\n",
       "  <tbody>\n",
       "    <tr>\n",
       "      <th>0</th>\n",
       "      <td>256063</td>\n",
       "      <td>773c9fb9-0e27-4115-8bc1-343e24ee28c8</td>\n",
       "      <td>0002aa63-f21b-4c54-9495-895a1d09e0d4</td>\n",
       "      <td>2946326400</td>\n",
       "      <td>1500000.0</td>\n",
       "      <td>7.0</td>\n",
       "      <td>seed</td>\n",
       "      <td>189123.0</td>\n",
       "      <td>4.500000e+06</td>\n",
       "      <td>0.0</td>\n",
       "      <td>USA</td>\n",
       "      <td>1500000.0</td>\n",
       "      <td>498.0</td>\n",
       "    </tr>\n",
       "    <tr>\n",
       "      <th>1</th>\n",
       "      <td>327293</td>\n",
       "      <td>e5e06be5-4b9a-4040-9ee4-bb45920a1f99</td>\n",
       "      <td>00060741-9e4b-44cd-880a-8d0fdd8046c8</td>\n",
       "      <td>2969827200</td>\n",
       "      <td>215983.0</td>\n",
       "      <td>2.0</td>\n",
       "      <td>pre_seed</td>\n",
       "      <td>59277.0</td>\n",
       "      <td>2.215982e+06</td>\n",
       "      <td>0.0</td>\n",
       "      <td>SGP</td>\n",
       "      <td>215983.0</td>\n",
       "      <td>40.0</td>\n",
       "    </tr>\n",
       "    <tr>\n",
       "      <th>2</th>\n",
       "      <td>289310</td>\n",
       "      <td>23263b3b-0c61-4980-aee2-47f00f12e357</td>\n",
       "      <td>000b7667-bf70-4298-bae9-94f44d27dc10</td>\n",
       "      <td>2966716800</td>\n",
       "      <td>8700000.0</td>\n",
       "      <td>1.0</td>\n",
       "      <td>seed</td>\n",
       "      <td>3023139.0</td>\n",
       "      <td>1.970000e+07</td>\n",
       "      <td>0.0</td>\n",
       "      <td>CHN</td>\n",
       "      <td>8700000.0</td>\n",
       "      <td>157.0</td>\n",
       "    </tr>\n",
       "    <tr>\n",
       "      <th>3</th>\n",
       "      <td>229099</td>\n",
       "      <td>befaba3e-2bae-4fd5-b71e-6d03a71b980a</td>\n",
       "      <td>0010d353-dfe4-483b-86a7-5e11e9996e63</td>\n",
       "      <td>2887401600</td>\n",
       "      <td>500000.0</td>\n",
       "      <td>1.0</td>\n",
       "      <td>pre_seed</td>\n",
       "      <td>215024.0</td>\n",
       "      <td>4.500000e+06</td>\n",
       "      <td>1.0</td>\n",
       "      <td>USA</td>\n",
       "      <td>200000.0</td>\n",
       "      <td>122.0</td>\n",
       "    </tr>\n",
       "    <tr>\n",
       "      <th>4</th>\n",
       "      <td>185548</td>\n",
       "      <td>10e2bc7d-f5a6-4cdd-acf3-6c87b167f83f</td>\n",
       "      <td>0011daf2-bf81-2365-e08a-d896bdc186d6</td>\n",
       "      <td>2902262400</td>\n",
       "      <td>1900000.0</td>\n",
       "      <td>1.0</td>\n",
       "      <td>series_a</td>\n",
       "      <td>481.0</td>\n",
       "      <td>6.400000e+06</td>\n",
       "      <td>1.0</td>\n",
       "      <td>IND</td>\n",
       "      <td>1795000.0</td>\n",
       "      <td>622.0</td>\n",
       "    </tr>\n",
       "    <tr>\n",
       "      <th>...</th>\n",
       "      <td>...</td>\n",
       "      <td>...</td>\n",
       "      <td>...</td>\n",
       "      <td>...</td>\n",
       "      <td>...</td>\n",
       "      <td>...</td>\n",
       "      <td>...</td>\n",
       "      <td>...</td>\n",
       "      <td>...</td>\n",
       "      <td>...</td>\n",
       "      <td>...</td>\n",
       "      <td>...</td>\n",
       "      <td>...</td>\n",
       "    </tr>\n",
       "    <tr>\n",
       "      <th>9072</th>\n",
       "      <td>275085</td>\n",
       "      <td>08c66219-c526-4c25-8f01-38207c91ad8c</td>\n",
       "      <td>ffe232c5-fcf4-e08e-b43d-c7dd1d5fc32c</td>\n",
       "      <td>2957126400</td>\n",
       "      <td>160000000.0</td>\n",
       "      <td>4.0</td>\n",
       "      <td>series_d</td>\n",
       "      <td>26457.0</td>\n",
       "      <td>2.200000e+09</td>\n",
       "      <td>3.0</td>\n",
       "      <td>USA</td>\n",
       "      <td>60000000.0</td>\n",
       "      <td>522.0</td>\n",
       "    </tr>\n",
       "    <tr>\n",
       "      <th>9073</th>\n",
       "      <td>423090</td>\n",
       "      <td>43f30694-cee9-407c-9ea5-2fefc744f6ce</td>\n",
       "      <td>ffe232c5-fcf4-e08e-b43d-c7dd1d5fc32c</td>\n",
       "      <td>3018988800</td>\n",
       "      <td>250000000.0</td>\n",
       "      <td>10.0</td>\n",
       "      <td>series_e</td>\n",
       "      <td>54004.0</td>\n",
       "      <td>4.600000e+09</td>\n",
       "      <td>4.0</td>\n",
       "      <td>USA</td>\n",
       "      <td>90000000.0</td>\n",
       "      <td>716.0</td>\n",
       "    </tr>\n",
       "    <tr>\n",
       "      <th>9074</th>\n",
       "      <td>388007</td>\n",
       "      <td>426c4234-8ee5-4014-88eb-80db82191fa3</td>\n",
       "      <td>ffe7218c-5328-b5a9-cd5a-c5947b9d9276</td>\n",
       "      <td>3005510400</td>\n",
       "      <td>90000000.0</td>\n",
       "      <td>3.0</td>\n",
       "      <td>series_e</td>\n",
       "      <td>7821.0</td>\n",
       "      <td>1.000000e+09</td>\n",
       "      <td>7.0</td>\n",
       "      <td>CHN</td>\n",
       "      <td>-10000000.0</td>\n",
       "      <td>62.0</td>\n",
       "    </tr>\n",
       "    <tr>\n",
       "      <th>9075</th>\n",
       "      <td>107449</td>\n",
       "      <td>6c1cc509-c026-9398-ddf8-bc25c3535bbe</td>\n",
       "      <td>ffe74ad7-43eb-bd06-32ad-19de354a67bd</td>\n",
       "      <td>2838067200</td>\n",
       "      <td>65000000.0</td>\n",
       "      <td>2.0</td>\n",
       "      <td>private_equity</td>\n",
       "      <td>55551.0</td>\n",
       "      <td>8.600000e+08</td>\n",
       "      <td>4.0</td>\n",
       "      <td>USA</td>\n",
       "      <td>25000000.0</td>\n",
       "      <td>600.0</td>\n",
       "    </tr>\n",
       "    <tr>\n",
       "      <th>9076</th>\n",
       "      <td>221136</td>\n",
       "      <td>a42e9afe-e06a-416c-8a99-480d45b58305</td>\n",
       "      <td>ffe74ad7-43eb-bd06-32ad-19de354a67bd</td>\n",
       "      <td>2923430400</td>\n",
       "      <td>220000000.0</td>\n",
       "      <td>1.0</td>\n",
       "      <td>private_equity</td>\n",
       "      <td>2440.0</td>\n",
       "      <td>1.500000e+09</td>\n",
       "      <td>5.0</td>\n",
       "      <td>USA</td>\n",
       "      <td>155000000.0</td>\n",
       "      <td>988.0</td>\n",
       "    </tr>\n",
       "  </tbody>\n",
       "</table>\n",
       "<p>9077 rows × 13 columns</p>\n",
       "</div>"
      ],
      "text/plain": [
       "      Unnamed: 0                                  uuid  \\\n",
       "0         256063  773c9fb9-0e27-4115-8bc1-343e24ee28c8   \n",
       "1         327293  e5e06be5-4b9a-4040-9ee4-bb45920a1f99   \n",
       "2         289310  23263b3b-0c61-4980-aee2-47f00f12e357   \n",
       "3         229099  befaba3e-2bae-4fd5-b71e-6d03a71b980a   \n",
       "4         185548  10e2bc7d-f5a6-4cdd-acf3-6c87b167f83f   \n",
       "...          ...                                   ...   \n",
       "9072      275085  08c66219-c526-4c25-8f01-38207c91ad8c   \n",
       "9073      423090  43f30694-cee9-407c-9ea5-2fefc744f6ce   \n",
       "9074      388007  426c4234-8ee5-4014-88eb-80db82191fa3   \n",
       "9075      107449  6c1cc509-c026-9398-ddf8-bc25c3535bbe   \n",
       "9076      221136  a42e9afe-e06a-416c-8a99-480d45b58305   \n",
       "\n",
       "                                  org_uuid  announced_on  money_raised_usd  \\\n",
       "0     0002aa63-f21b-4c54-9495-895a1d09e0d4    2946326400         1500000.0   \n",
       "1     00060741-9e4b-44cd-880a-8d0fdd8046c8    2969827200          215983.0   \n",
       "2     000b7667-bf70-4298-bae9-94f44d27dc10    2966716800         8700000.0   \n",
       "3     0010d353-dfe4-483b-86a7-5e11e9996e63    2887401600          500000.0   \n",
       "4     0011daf2-bf81-2365-e08a-d896bdc186d6    2902262400         1900000.0   \n",
       "...                                    ...           ...               ...   \n",
       "9072  ffe232c5-fcf4-e08e-b43d-c7dd1d5fc32c    2957126400       160000000.0   \n",
       "9073  ffe232c5-fcf4-e08e-b43d-c7dd1d5fc32c    3018988800       250000000.0   \n",
       "9074  ffe7218c-5328-b5a9-cd5a-c5947b9d9276    3005510400        90000000.0   \n",
       "9075  ffe74ad7-43eb-bd06-32ad-19de354a67bd    2838067200        65000000.0   \n",
       "9076  ffe74ad7-43eb-bd06-32ad-19de354a67bd    2923430400       220000000.0   \n",
       "\n",
       "      num_investors investment_type  lead_investor_rank  \\\n",
       "0               7.0            seed            189123.0   \n",
       "1               2.0        pre_seed             59277.0   \n",
       "2               1.0            seed           3023139.0   \n",
       "3               1.0        pre_seed            215024.0   \n",
       "4               1.0        series_a               481.0   \n",
       "...             ...             ...                 ...   \n",
       "9072            4.0        series_d             26457.0   \n",
       "9073           10.0        series_e             54004.0   \n",
       "9074            3.0        series_e              7821.0   \n",
       "9075            2.0  private_equity             55551.0   \n",
       "9076            1.0  private_equity              2440.0   \n",
       "\n",
       "      post_money_valuation_usd  prev_rounds country_code  amount_delta  \\\n",
       "0                 4.500000e+06          0.0          USA     1500000.0   \n",
       "1                 2.215982e+06          0.0          SGP      215983.0   \n",
       "2                 1.970000e+07          0.0          CHN     8700000.0   \n",
       "3                 4.500000e+06          1.0          USA      200000.0   \n",
       "4                 6.400000e+06          1.0          IND     1795000.0   \n",
       "...                        ...          ...          ...           ...   \n",
       "9072              2.200000e+09          3.0          USA    60000000.0   \n",
       "9073              4.600000e+09          4.0          USA    90000000.0   \n",
       "9074              1.000000e+09          7.0          CHN   -10000000.0   \n",
       "9075              8.600000e+08          4.0          USA    25000000.0   \n",
       "9076              1.500000e+09          5.0          USA   155000000.0   \n",
       "\n",
       "      holding_time  \n",
       "0            498.0  \n",
       "1             40.0  \n",
       "2            157.0  \n",
       "3            122.0  \n",
       "4            622.0  \n",
       "...            ...  \n",
       "9072         522.0  \n",
       "9073         716.0  \n",
       "9074          62.0  \n",
       "9075         600.0  \n",
       "9076         988.0  \n",
       "\n",
       "[9077 rows x 13 columns]"
      ]
     },
     "execution_count": 52,
     "metadata": {},
     "output_type": "execute_result"
    }
   ],
   "source": [
    "rounds_data"
   ]
  },
  {
   "cell_type": "code",
   "execution_count": 54,
   "metadata": {
    "collapsed": false,
    "pycharm": {
     "name": "#%%\n"
    }
   },
   "outputs": [],
   "source": [
    "orgs = pd.read_csv(\"../../data/crunchbase/organizations.csv\")\n",
    "acqs = pd.read_csv(\"../../data/crunchbase/acquisitions.csv\")\n",
    "ipos = pd.read_csv(\"../../data/crunchbase/ipos.csv\")"
   ]
  },
  {
   "cell_type": "code",
   "execution_count": 55,
   "metadata": {
    "collapsed": false,
    "pycharm": {
     "name": "#%%\n"
    }
   },
   "outputs": [],
   "source": [
    "ipos = ipos[['org_uuid', 'went_public_on', 'valuation_price_usd']]\n",
    "acqs = acqs[['acquiree_uuid', 'acquired_on', 'price_usd']]"
   ]
  },
  {
   "cell_type": "code",
   "execution_count": 56,
   "metadata": {
    "collapsed": false,
    "pycharm": {
     "name": "#%%\n"
    }
   },
   "outputs": [],
   "source": [
    "rounds = rounds_data[['uuid', 'org_uuid', 'announced_on', 'money_raised_usd', 'post_money_valuation_usd']].copy()\n",
    "\n",
    "ipos.columns = ['org_uuid', 'exit_date', 'exit_value']\n",
    "acqs.columns = ['org_uuid', 'exit_date', 'exit_value']\n",
    "\n",
    "clos = pd.DataFrame(orgs[orgs.status == 'closed'][['uuid', 'closed_on']])\n",
    "clos.columns = ['org_uuid', 'exit_date']\n",
    "\n",
    "ipos[\"exit_type\"] = 1\n",
    "acqs[\"exit_type\"] = 2\n",
    "clos[\"exit_type\"] = 3\n",
    "clos[\"exit_value\"] = np.nan\n",
    "\n",
    "exits = pd.concat([acqs, ipos, clos]).set_index(\"org_uuid\")"
   ]
  },
  {
   "cell_type": "code",
   "execution_count": 57,
   "metadata": {
    "collapsed": false,
    "pycharm": {
     "name": "#%%\n"
    }
   },
   "outputs": [],
   "source": [
    "rounds[\"exit_date\"] = pd.to_datetime(rounds.org_uuid.map(exits[\"exit_date\"].to_dict()))\n",
    "rounds[\"exit_type\"] = rounds.org_uuid.map(exits[\"exit_type\"].to_dict()).fillna(value=4).astype(int)\n",
    "rounds[\"exit_value\"] = rounds.org_uuid.map(exits[\"exit_value\"].to_dict())"
   ]
  },
  {
   "cell_type": "code",
   "execution_count": 58,
   "metadata": {
    "collapsed": false,
    "pycharm": {
     "name": "#%%\n"
    }
   },
   "outputs": [],
   "source": [
    "ref_date = '1926-01-01'\n",
    "rounds.announced_on = pd.Timestamp(ref_date) + rounds.announced_on * pd.Timedelta('1s')\n",
    "rounds = rounds[(rounds.announced_on < rounds.exit_date)]\n",
    "rounds = rounds.sort_values(by=['org_uuid', 'announced_on'])"
   ]
  },
  {
   "cell_type": "code",
   "execution_count": 59,
   "metadata": {
    "collapsed": false,
    "pycharm": {
     "name": "#%%\n"
    }
   },
   "outputs": [],
   "source": [
    "rounds['return_usd'] = rounds.uuid.map(rounds.groupby('org_uuid').apply(process_company).droplevel(0)[0]) + 1"
   ]
  },
  {
   "cell_type": "code",
   "execution_count": 60,
   "metadata": {
    "collapsed": false,
    "pycharm": {
     "name": "#%%\n"
    }
   },
   "outputs": [],
   "source": [
    "rounds = rounds.drop(columns=['uuid'])\n",
    "rounds.insert(1, 'group_num', np.nan)\n",
    "rounds.insert(2, 'seg_num', np.nan)\n",
    "\n",
    "rounds.columns = ['company_num', 'group_num', 'seg_num', 'round_date', 'raised_usd',\n",
    "                  'postvalue_usd', 'exit_date', 'exit_type', 'exit_value', 'return_usd']\n",
    "rounds = rounds[rounds.round_date > '1990-01-01']"
   ]
  },
  {
   "cell_type": "code",
   "execution_count": 61,
   "metadata": {},
   "outputs": [],
   "source": [
    "operating = rounds_data[['org_uuid', 'announced_on', 'money_raised_usd', 'post_money_valuation_usd']].copy()\n",
    "operating = operating[~operating.org_uuid.isin(rounds.company_num)]\n",
    "\n",
    "operating.announced_on = pd.Timestamp(ref_date) + operating.announced_on * pd.Timedelta('1s')\n",
    "operating.insert(1, 'group_num', np.nan)\n",
    "operating.insert(2, 'seg_num', np.nan)\n",
    "operating.insert(operating.shape[1], 'exit_date', np.nan)\n",
    "operating.insert(operating.shape[1], 'exit_type', 4)\n",
    "operating.insert(operating.shape[1], 'exit_value', np.nan)\n",
    "operating.insert(operating.shape[1], 'return_usd', np.nan)\n",
    "\n",
    "operating.columns = ['company_num', 'group_num', 'seg_num', 'round_date', 'raised_usd',\n",
    "                  'postvalue_usd', 'exit_date', 'exit_type', 'exit_value', 'return_usd']\n",
    "operating = operating[operating.round_date.dt.year > 1990]"
   ]
  },
  {
   "cell_type": "code",
   "execution_count": 62,
   "metadata": {
    "collapsed": false,
    "pycharm": {
     "name": "#%%\n"
    }
   },
   "outputs": [],
   "source": [
    "complete = pd.concat([rounds, operating], ignore_index=True)\n",
    "complete.loc[complete.return_usd == 0, 'return_usd'] = np.nan\n",
    "complete = complete[(complete.return_usd < 3000) | (complete.return_usd.isna())]\n",
    "complete.exit_date = pd.to_datetime(complete.exit_date, errors=\"coerce\")"
   ]
  },
  {
   "cell_type": "code",
   "execution_count": 63,
   "metadata": {},
   "outputs": [],
   "source": [
    "if predicted:\n",
    "    complete.to_csv('../../data/data.csv', index=False)\n",
    "else:\n",
    "    complete.to_csv('../../data/data_nopred.csv', index=False)"
   ]
  },
  {
   "cell_type": "code",
   "execution_count": null,
   "metadata": {},
   "outputs": [],
   "source": []
  }
 ],
 "metadata": {
  "kernelspec": {
   "display_name": "Python 3.10.2 64-bit ('3.10.2')",
   "language": "python",
   "name": "python3"
  },
  "language_info": {
   "codemirror_mode": {
    "name": "ipython",
    "version": 3
   },
   "file_extension": ".py",
   "mimetype": "text/x-python",
   "name": "python",
   "nbconvert_exporter": "python",
   "pygments_lexer": "ipython3",
   "version": "3.10.2"
  },
  "vscode": {
   "interpreter": {
    "hash": "4cd4398770f52323a936c32f4c9c33f20493122a0515696d6ebafdd949421bc2"
   }
  }
 },
 "nbformat": 4,
 "nbformat_minor": 0
}
