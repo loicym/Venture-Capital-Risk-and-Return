{
 "cells": [
  {
   "cell_type": "code",
   "execution_count": 7,
   "metadata": {
    "collapsed": true
   },
   "outputs": [],
   "source": [
    "import matplotlib.pyplot as plt\n",
    "import pandas as pd\n",
    "import numpy as np\n",
    "import seaborn as sns"
   ]
  },
  {
   "cell_type": "code",
   "execution_count": 8,
   "outputs": [],
   "source": [
    "def process_company(company_data):\n",
    "    try:\n",
    "        m = company_data.money_raised_usd.values\n",
    "        p = company_data.post_money_valuation_usd.values\n",
    "        e = company_data.exit_value.values[0]\n",
    "\n",
    "        if company_data.exit_type.values[0] == 3:\n",
    "            ret = np.zeros_like(company_data.uuid) - 1\n",
    "        elif company_data.shape[0] == 1:\n",
    "            ret = [(m[0] / p[0] * e - m[0]) / m[0]]\n",
    "        else:\n",
    "            x0 = m / p # stake of investors at their first round\n",
    "            x = (p[1:] - m[1:]) / p[1:] # dilution factors\n",
    "            d = np.cumprod(x)[::-1]\n",
    "            d = np.insert(d, len(d), 1)\n",
    "            ret = (e * x0 * d - m) / m\n",
    "        return pd.DataFrame(data=ret, index=company_data.uuid)\n",
    "    except:\n",
    "        return pd.DataFrame(data=[np.nan] * company_data.uuid.size, index=company_data.uuid)\n",
    "\n",
    "\n",
    "def filter_dates(funding_round):\n",
    "    return funding_round['announced_on'] < funding_round['exit_date']"
   ],
   "metadata": {
    "collapsed": false,
    "pycharm": {
     "name": "#%%\n"
    }
   }
  },
  {
   "cell_type": "code",
   "execution_count": 9,
   "outputs": [],
   "source": [
    "rounds_data = pd.read_csv('obs_predicted_data.csv')"
   ],
   "metadata": {
    "collapsed": false,
    "pycharm": {
     "name": "#%%\n"
    }
   }
  },
  {
   "cell_type": "code",
   "execution_count": 10,
   "outputs": [],
   "source": [
    "orgs = pd.read_csv(\"../../data/crunchbase/organizations.csv\")\n",
    "acqs = pd.read_csv(\"../../data/crunchbase/acquisitions.csv\")\n",
    "ipos = pd.read_csv(\"../../data/crunchbase/ipos.csv\")"
   ],
   "metadata": {
    "collapsed": false,
    "pycharm": {
     "name": "#%%\n"
    }
   }
  },
  {
   "cell_type": "code",
   "execution_count": 11,
   "outputs": [],
   "source": [
    "ipos = ipos[['org_uuid', 'went_public_on', 'valuation_price_usd']]\n",
    "acqs = acqs[['acquiree_uuid', 'acquired_on', 'price_usd']]"
   ],
   "metadata": {
    "collapsed": false,
    "pycharm": {
     "name": "#%%\n"
    }
   }
  },
  {
   "cell_type": "code",
   "execution_count": 12,
   "outputs": [],
   "source": [
    "rounds = rounds_data[['uuid', 'org_uuid', 'announced_on', 'money_raised_usd', 'post_money_valuation_usd']].copy()\n",
    "\n",
    "ipos.columns = ['org_uuid', 'exit_date', 'exit_value']\n",
    "acqs.columns = ['org_uuid', 'exit_date', 'exit_value']\n",
    "\n",
    "clos = pd.DataFrame(orgs[['uuid', 'closed_on']].dropna())\n",
    "clos.columns = ['org_uuid', 'exit_date']\n",
    "\n",
    "ipos[\"exit_type\"] = 1\n",
    "acqs[\"exit_type\"] = 2\n",
    "clos[\"exit_type\"] = 3\n",
    "clos[\"exit_value\"] = np.nan\n",
    "\n",
    "exits = pd.concat([acqs, ipos, clos]).set_index(\"org_uuid\")"
   ],
   "metadata": {
    "collapsed": false,
    "pycharm": {
     "name": "#%%\n"
    }
   }
  },
  {
   "cell_type": "code",
   "execution_count": 13,
   "outputs": [],
   "source": [
    "rounds[\"exit_date\"] = pd.to_datetime(rounds.org_uuid.map(exits[\"exit_date\"].to_dict()))\n",
    "rounds[\"exit_type\"] = rounds.org_uuid.map(exits[\"exit_type\"].to_dict()).fillna(value=4).astype(int)\n",
    "rounds[\"exit_value\"] = rounds.org_uuid.map(exits[\"exit_value\"].to_dict())"
   ],
   "metadata": {
    "collapsed": false,
    "pycharm": {
     "name": "#%%\n"
    }
   }
  },
  {
   "cell_type": "code",
   "execution_count": 14,
   "outputs": [],
   "source": [
    "ref_date = '1926-01-01'\n",
    "rounds.announced_on = pd.Timestamp(ref_date) + rounds.announced_on * pd.Timedelta('1s')"
   ],
   "metadata": {
    "collapsed": false,
    "pycharm": {
     "name": "#%%\n"
    }
   }
  },
  {
   "cell_type": "code",
   "execution_count": 15,
   "outputs": [],
   "source": [
    "private = rounds[rounds.exit_type == 4]\n",
    "rounds = rounds[(rounds.announced_on < rounds.exit_date)]\n",
    "rounds = rounds.sort_values(by=['org_uuid', 'announced_on'])"
   ],
   "metadata": {
    "collapsed": false,
    "pycharm": {
     "name": "#%%\n"
    }
   }
  },
  {
   "cell_type": "code",
   "execution_count": 16,
   "outputs": [],
   "source": [
    "rounds['return_usd'] = rounds.uuid.map(rounds.groupby('org_uuid').apply(process_company).droplevel(0)[0]) + 1"
   ],
   "metadata": {
    "collapsed": false,
    "pycharm": {
     "name": "#%%\n"
    }
   }
  },
  {
   "cell_type": "code",
   "execution_count": 17,
   "outputs": [],
   "source": [
    "rounds = rounds.drop(columns=['uuid'])\n",
    "rounds.insert(1, 'group_num', np.nan)\n",
    "rounds.insert(2, 'seg_num', np.nan)\n",
    "\n",
    "rounds.columns = ['company_num', 'group_num', 'seg_num', 'round_date', 'raised_usd',\n",
    "                  'postvalue_usd', 'exit_date', 'exit_type', 'exit_value', 'return_usd']\n",
    "rounds = rounds[rounds.round_date > '1990-01-01']"
   ],
   "metadata": {
    "collapsed": false,
    "pycharm": {
     "name": "#%%\n"
    }
   }
  },
  {
   "cell_type": "code",
   "execution_count": 18,
   "outputs": [],
   "source": [
    "private = private.drop(columns=['uuid'])\n",
    "private.insert(1, 'group_num', np.nan)\n",
    "private.insert(2, 'seg_num', np.nan)\n",
    "private.insert(9, 'return_usd', np.nan)\n",
    "\n",
    "private.columns = ['company_num', 'group_num', 'seg_num', 'round_date', 'raised_usd',\n",
    "                  'postvalue_usd', 'exit_date', 'exit_type', 'exit_value', 'return_usd']\n",
    "private = private[private.round_date > '1990-01-01']\n",
    "private.exit_date = np.nan"
   ],
   "metadata": {
    "collapsed": false,
    "pycharm": {
     "name": "#%%\n"
    }
   }
  },
  {
   "cell_type": "code",
   "execution_count": 19,
   "outputs": [],
   "source": [
    "complete = pd.concat([rounds, private])\n",
    "complete.exit_date = pd.to_datetime(complete.exit_date)\n",
    "complete[complete.return_usd == 0] = np.nan\n",
    "complete = complete[complete.return_usd < 3000]\n",
    "complete.to_csv('../../data/data.csv', index=False)"
   ],
   "metadata": {
    "collapsed": false,
    "pycharm": {
     "name": "#%%\n"
    }
   }
  },
  {
   "cell_type": "code",
   "execution_count": 20,
   "outputs": [
    {
     "data": {
      "text/plain": "                                 company_num  group_num  seg_num round_date  \\\n8886    002e0b73-ab4e-bfd5-0d9a-e6df8fede446        NaN      NaN 2016-01-11   \n8887    002e0b73-ab4e-bfd5-0d9a-e6df8fede446        NaN      NaN 2020-07-15   \n8895    00337756-938c-bd48-80c3-1505a90a809e        NaN      NaN 2017-01-20   \n8904    003b7da7-7e0a-1ebe-c32c-19210e9dcbdd        NaN      NaN 2020-11-09   \n8968    0059ddde-8c8e-2058-f0e4-cf9225ab8ae6        NaN      NaN 2008-07-15   \n...                                      ...        ...      ...        ...   \n120112  ffe74ad7-43eb-bd06-32ad-19de354a67bd        NaN      NaN 2014-04-17   \n8820    ffe74ad7-43eb-bd06-32ad-19de354a67bd        NaN      NaN 2015-12-08   \n8821    ffe74ad7-43eb-bd06-32ad-19de354a67bd        NaN      NaN 2018-08-22   \n120113  ffe74ad7-43eb-bd06-32ad-19de354a67bd        NaN      NaN 2018-08-22   \n120127  fff35748-4d64-477a-a851-be0f0330afbc        NaN      NaN 2020-08-01   \n\n         raised_usd  postvalue_usd  exit_date  exit_type    exit_value  \\\n8886     45000000.0   2.104294e+08 2020-12-15        1.0  5.775800e+08   \n8887     72500000.0   6.582064e+08 2020-12-15        1.0  5.775800e+08   \n8895      3956782.0   2.737539e+07 2021-12-31        2.0  1.353151e+08   \n8904    130000000.0   7.351335e+08 2021-03-11        1.0  7.078260e+08   \n8968     24979595.0   1.076227e+08 2015-03-05        2.0  2.206305e+08   \n...             ...            ...        ...        ...           ...   \n120112   40000000.0   3.123259e+08 2020-01-30        1.0  1.710000e+09   \n8820     65000000.0   8.600000e+08 2020-01-30        1.0  1.710000e+09   \n8821    220000000.0   1.500000e+09 2020-01-30        1.0  1.710000e+09   \n120113  130000000.0   2.497595e+09 2020-01-30        1.0  1.710000e+09   \n120127     150000.0   2.551181e+06 2022-01-20        2.0  3.742515e+06   \n\n       return_usd  \n8886     2.442438  \n8887     0.877506  \n8895     4.942946  \n8904     0.962854  \n8968     1.377495  \n...           ...  \n120112   3.684063  \n8820      1.53446  \n8821     0.986325  \n120113   0.684659  \n120127   1.466973  \n\n[8874 rows x 10 columns]",
      "text/html": "<div>\n<style scoped>\n    .dataframe tbody tr th:only-of-type {\n        vertical-align: middle;\n    }\n\n    .dataframe tbody tr th {\n        vertical-align: top;\n    }\n\n    .dataframe thead th {\n        text-align: right;\n    }\n</style>\n<table border=\"1\" class=\"dataframe\">\n  <thead>\n    <tr style=\"text-align: right;\">\n      <th></th>\n      <th>company_num</th>\n      <th>group_num</th>\n      <th>seg_num</th>\n      <th>round_date</th>\n      <th>raised_usd</th>\n      <th>postvalue_usd</th>\n      <th>exit_date</th>\n      <th>exit_type</th>\n      <th>exit_value</th>\n      <th>return_usd</th>\n    </tr>\n  </thead>\n  <tbody>\n    <tr>\n      <th>8886</th>\n      <td>002e0b73-ab4e-bfd5-0d9a-e6df8fede446</td>\n      <td>NaN</td>\n      <td>NaN</td>\n      <td>2016-01-11</td>\n      <td>45000000.0</td>\n      <td>2.104294e+08</td>\n      <td>2020-12-15</td>\n      <td>1.0</td>\n      <td>5.775800e+08</td>\n      <td>2.442438</td>\n    </tr>\n    <tr>\n      <th>8887</th>\n      <td>002e0b73-ab4e-bfd5-0d9a-e6df8fede446</td>\n      <td>NaN</td>\n      <td>NaN</td>\n      <td>2020-07-15</td>\n      <td>72500000.0</td>\n      <td>6.582064e+08</td>\n      <td>2020-12-15</td>\n      <td>1.0</td>\n      <td>5.775800e+08</td>\n      <td>0.877506</td>\n    </tr>\n    <tr>\n      <th>8895</th>\n      <td>00337756-938c-bd48-80c3-1505a90a809e</td>\n      <td>NaN</td>\n      <td>NaN</td>\n      <td>2017-01-20</td>\n      <td>3956782.0</td>\n      <td>2.737539e+07</td>\n      <td>2021-12-31</td>\n      <td>2.0</td>\n      <td>1.353151e+08</td>\n      <td>4.942946</td>\n    </tr>\n    <tr>\n      <th>8904</th>\n      <td>003b7da7-7e0a-1ebe-c32c-19210e9dcbdd</td>\n      <td>NaN</td>\n      <td>NaN</td>\n      <td>2020-11-09</td>\n      <td>130000000.0</td>\n      <td>7.351335e+08</td>\n      <td>2021-03-11</td>\n      <td>1.0</td>\n      <td>7.078260e+08</td>\n      <td>0.962854</td>\n    </tr>\n    <tr>\n      <th>8968</th>\n      <td>0059ddde-8c8e-2058-f0e4-cf9225ab8ae6</td>\n      <td>NaN</td>\n      <td>NaN</td>\n      <td>2008-07-15</td>\n      <td>24979595.0</td>\n      <td>1.076227e+08</td>\n      <td>2015-03-05</td>\n      <td>2.0</td>\n      <td>2.206305e+08</td>\n      <td>1.377495</td>\n    </tr>\n    <tr>\n      <th>...</th>\n      <td>...</td>\n      <td>...</td>\n      <td>...</td>\n      <td>...</td>\n      <td>...</td>\n      <td>...</td>\n      <td>...</td>\n      <td>...</td>\n      <td>...</td>\n      <td>...</td>\n    </tr>\n    <tr>\n      <th>120112</th>\n      <td>ffe74ad7-43eb-bd06-32ad-19de354a67bd</td>\n      <td>NaN</td>\n      <td>NaN</td>\n      <td>2014-04-17</td>\n      <td>40000000.0</td>\n      <td>3.123259e+08</td>\n      <td>2020-01-30</td>\n      <td>1.0</td>\n      <td>1.710000e+09</td>\n      <td>3.684063</td>\n    </tr>\n    <tr>\n      <th>8820</th>\n      <td>ffe74ad7-43eb-bd06-32ad-19de354a67bd</td>\n      <td>NaN</td>\n      <td>NaN</td>\n      <td>2015-12-08</td>\n      <td>65000000.0</td>\n      <td>8.600000e+08</td>\n      <td>2020-01-30</td>\n      <td>1.0</td>\n      <td>1.710000e+09</td>\n      <td>1.53446</td>\n    </tr>\n    <tr>\n      <th>8821</th>\n      <td>ffe74ad7-43eb-bd06-32ad-19de354a67bd</td>\n      <td>NaN</td>\n      <td>NaN</td>\n      <td>2018-08-22</td>\n      <td>220000000.0</td>\n      <td>1.500000e+09</td>\n      <td>2020-01-30</td>\n      <td>1.0</td>\n      <td>1.710000e+09</td>\n      <td>0.986325</td>\n    </tr>\n    <tr>\n      <th>120113</th>\n      <td>ffe74ad7-43eb-bd06-32ad-19de354a67bd</td>\n      <td>NaN</td>\n      <td>NaN</td>\n      <td>2018-08-22</td>\n      <td>130000000.0</td>\n      <td>2.497595e+09</td>\n      <td>2020-01-30</td>\n      <td>1.0</td>\n      <td>1.710000e+09</td>\n      <td>0.684659</td>\n    </tr>\n    <tr>\n      <th>120127</th>\n      <td>fff35748-4d64-477a-a851-be0f0330afbc</td>\n      <td>NaN</td>\n      <td>NaN</td>\n      <td>2020-08-01</td>\n      <td>150000.0</td>\n      <td>2.551181e+06</td>\n      <td>2022-01-20</td>\n      <td>2.0</td>\n      <td>3.742515e+06</td>\n      <td>1.466973</td>\n    </tr>\n  </tbody>\n</table>\n<p>8874 rows × 10 columns</p>\n</div>"
     },
     "execution_count": 20,
     "metadata": {},
     "output_type": "execute_result"
    }
   ],
   "source": [
    "complete"
   ],
   "metadata": {
    "collapsed": false,
    "pycharm": {
     "name": "#%%\n"
    }
   }
  },
  {
   "cell_type": "code",
   "execution_count": 11,
   "outputs": [],
   "source": [
    "import pandas as pd\n",
    "import numpy as np\n",
    "import seaborn as sns\n",
    "import matplotlib.pyplot as plt\n",
    "complete = pd.read_csv('../../data/data.csv')"
   ],
   "metadata": {
    "collapsed": false,
    "pycharm": {
     "name": "#%%\n"
    }
   }
  },
  {
   "cell_type": "code",
   "execution_count": 26,
   "outputs": [
    {
     "data": {
      "text/plain": "<Figure size 360x432 with 2 Axes>",
      "image/png": "[encoded data removed]"
     },
     "metadata": {
      "needs_background": "light"
     },
     "output_type": "display_data"
    }
   ],
   "source": [
    "fig, axs = plt.subplots(nrows=2, ncols=1, figsize=(5,6))\n",
    "sns.histplot(complete[complete.return_usd < 100].return_usd, ax=axs[0], bins=70)\n",
    "sns.histplot(np.log(complete.return_usd.dropna()), ax=axs[1])\n",
    "axs[0].set_xlabel('Return')\n",
    "axs[1].set_xlabel('log(Return)')\n",
    "plt.savefig('figures/returns.pdf')"
   ],
   "metadata": {
    "collapsed": false,
    "pycharm": {
     "name": "#%%\n"
    }
   }
  },
  {
   "cell_type": "code",
   "execution_count": null,
   "outputs": [],
   "source": [],
   "metadata": {
    "collapsed": false,
    "pycharm": {
     "name": "#%%\n"
    }
   }
  }
 ],
 "metadata": {
  "kernelspec": {
   "display_name": "Python 3",
   "language": "python",
   "name": "python3"
  },
  "language_info": {
   "codemirror_mode": {
    "name": "ipython",
    "version": 2
   },
   "file_extension": ".py",
   "mimetype": "text/x-python",
   "name": "python",
   "nbconvert_exporter": "python",
   "pygments_lexer": "ipython2",
   "version": "2.7.6"
  }
 },
 "nbformat": 4,
 "nbformat_minor": 0
}