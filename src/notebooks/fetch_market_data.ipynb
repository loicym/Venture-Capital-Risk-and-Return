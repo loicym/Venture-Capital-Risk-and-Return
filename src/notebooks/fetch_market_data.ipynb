{
 "cells": [
  {
   "cell_type": "markdown",
   "source": [
    "#### Imports"
   ],
   "metadata": {
    "collapsed": false
   }
  },
  {
   "cell_type": "code",
   "execution_count": 9,
   "metadata": {},
   "outputs": [],
   "source": [
    "import pandas as pd\n",
    "import numpy as np\n",
    "\n",
    "from src.scripts.utils import check_series\n",
    "from src.scripts.market_api import get_fred_time_series, get_yfinance_time_series"
   ]
  },
  {
   "cell_type": "markdown",
   "source": [
    "#### Check S&P500 Total return data"
   ],
   "metadata": {
    "collapsed": false
   }
  },
  {
   "cell_type": "code",
   "execution_count": 10,
   "metadata": {},
   "outputs": [],
   "source": [
    "sptr = get_yfinance_time_series('^SP500TR', '1985-01-01', '2000-08-01', '1mo')\n",
    "\n",
    "sp500_cochrane = pd.read_csv('../../data/cochrane_data/s&p500.csv')\n",
    "sp500_cochrane['date'] = sp500_cochrane.apply(lambda x: pd.to_datetime(f'{int(x.Year)}-{int(x.Month)}-01'), axis=1)\n",
    "sp500_cochrane = sp500_cochrane.drop(columns=['Year', 'Month']).set_index('date')\n",
    "sp500_cochrane = sp500_cochrane[sp500_cochrane.index > '1988-01-01']\n",
    "\n",
    "logret_cochrane = np.log(sp500_cochrane.pct_change().dropna() + 1)\n",
    "logret = np.log(sptr.pct_change().dropna() + 1)\n",
    "\n",
    "check_series(logret, logret_cochrane)"
   ]
  },
  {
   "cell_type": "markdown",
   "source": [
    "#### Check t-Bills 3 Months data"
   ],
   "metadata": {
    "collapsed": false
   }
  },
  {
   "cell_type": "code",
   "execution_count": 11,
   "metadata": {},
   "outputs": [],
   "source": [
    "tb3ms_cochrane = pd.read_csv('../../data/cochrane_data/tb3ms.csv')\n",
    "tb3ms_cochrane['date'] = tb3ms_cochrane['date'].apply(lambda x: pd.to_datetime(f'{str(x)[:4]}-{str(x)[4:]}-01'))\n",
    "tb3ms_cochrane = tb3ms_cochrane.set_index('date')\n",
    "\n",
    "tb3ms = get_fred_time_series(\"TB3MS\", '1987-01-01', '2000-08-01')\n",
    "tb3ms = tb3ms.set_index(tb3ms_cochrane.index)\n",
    "\n",
    "check_series(tb3ms, tb3ms_cochrane)"
   ]
  },
  {
   "cell_type": "markdown",
   "source": [
    "#### Retrieve new data"
   ],
   "metadata": {
    "collapsed": false
   }
  },
  {
   "cell_type": "code",
   "execution_count": 12,
   "metadata": {},
   "outputs": [],
   "source": [
    "start_date = '2000-01-01'\n",
    "end_date = '2022-04-30'\n",
    "frequency ='1mo'\n",
    "\n",
    "sptr_new = get_yfinance_time_series('^SP500TR', start_date, end_date, frequency)\n",
    "nasdaq_new = get_yfinance_time_series('^IXIC', start_date, end_date, frequency)\n",
    "tb3ms_new = get_fred_time_series('TB3MS', start_date, end_date)\n",
    "\n",
    "df = pd.concat([tb3ms_new, sptr_new, nasdaq_new], axis=1)"
   ]
  },
  {
   "cell_type": "code",
   "execution_count": 13,
   "metadata": {},
   "outputs": [
    {
     "data": {
      "text/plain": "            TB3MS     ^SP500TR         ^IXIC\ndate                                        \n2000-01-01   5.32  1919.839966   3940.350098\n2000-02-01   5.55  1883.500000   4696.689941\n2000-03-01   5.69  2067.760010   4572.830078\n2000-04-01   5.66  2005.550049   3860.659912\n2000-05-01   5.79  1964.400024   3400.909912\n...           ...          ...           ...\n2021-12-01   0.06  9986.700195  15644.969727\n2022-01-01   0.15  9469.919922  14239.879883\n2022-02-01   0.33  9186.370117  13751.400391\n2022-03-01   0.44  9527.459961  14220.519531\n2022-04-01   0.76  8696.650391  12334.639648\n\n[268 rows x 3 columns]",
      "text/html": "<div>\n<style scoped>\n    .dataframe tbody tr th:only-of-type {\n        vertical-align: middle;\n    }\n\n    .dataframe tbody tr th {\n        vertical-align: top;\n    }\n\n    .dataframe thead th {\n        text-align: right;\n    }\n</style>\n<table border=\"1\" class=\"dataframe\">\n  <thead>\n    <tr style=\"text-align: right;\">\n      <th></th>\n      <th>TB3MS</th>\n      <th>^SP500TR</th>\n      <th>^IXIC</th>\n    </tr>\n    <tr>\n      <th>date</th>\n      <th></th>\n      <th></th>\n      <th></th>\n    </tr>\n  </thead>\n  <tbody>\n    <tr>\n      <th>2000-01-01</th>\n      <td>5.32</td>\n      <td>1919.839966</td>\n      <td>3940.350098</td>\n    </tr>\n    <tr>\n      <th>2000-02-01</th>\n      <td>5.55</td>\n      <td>1883.500000</td>\n      <td>4696.689941</td>\n    </tr>\n    <tr>\n      <th>2000-03-01</th>\n      <td>5.69</td>\n      <td>2067.760010</td>\n      <td>4572.830078</td>\n    </tr>\n    <tr>\n      <th>2000-04-01</th>\n      <td>5.66</td>\n      <td>2005.550049</td>\n      <td>3860.659912</td>\n    </tr>\n    <tr>\n      <th>2000-05-01</th>\n      <td>5.79</td>\n      <td>1964.400024</td>\n      <td>3400.909912</td>\n    </tr>\n    <tr>\n      <th>...</th>\n      <td>...</td>\n      <td>...</td>\n      <td>...</td>\n    </tr>\n    <tr>\n      <th>2021-12-01</th>\n      <td>0.06</td>\n      <td>9986.700195</td>\n      <td>15644.969727</td>\n    </tr>\n    <tr>\n      <th>2022-01-01</th>\n      <td>0.15</td>\n      <td>9469.919922</td>\n      <td>14239.879883</td>\n    </tr>\n    <tr>\n      <th>2022-02-01</th>\n      <td>0.33</td>\n      <td>9186.370117</td>\n      <td>13751.400391</td>\n    </tr>\n    <tr>\n      <th>2022-03-01</th>\n      <td>0.44</td>\n      <td>9527.459961</td>\n      <td>14220.519531</td>\n    </tr>\n    <tr>\n      <th>2022-04-01</th>\n      <td>0.76</td>\n      <td>8696.650391</td>\n      <td>12334.639648</td>\n    </tr>\n  </tbody>\n</table>\n<p>268 rows × 3 columns</p>\n</div>"
     },
     "execution_count": 13,
     "metadata": {},
     "output_type": "execute_result"
    }
   ],
   "source": [
    "df"
   ]
  },
  {
   "cell_type": "code",
   "execution_count": 13,
   "outputs": [],
   "source": [],
   "metadata": {
    "collapsed": false,
    "pycharm": {
     "name": "#%%\n"
    }
   }
  }
 ],
 "metadata": {
  "interpreter": {
   "hash": "4cd4398770f52323a936c32f4c9c33f20493122a0515696d6ebafdd949421bc2"
  },
  "kernelspec": {
   "display_name": "Python 3.10.2 64-bit ('3.10.2')",
   "language": "python",
   "name": "python3"
  },
  "language_info": {
   "codemirror_mode": {
    "name": "ipython",
    "version": 3
   },
   "file_extension": ".py",
   "mimetype": "text/x-python",
   "name": "python",
   "nbconvert_exporter": "python",
   "pygments_lexer": "ipython3",
   "version": "3.10.2"
  },
  "orig_nbformat": 4
 },
 "nbformat": 4,
 "nbformat_minor": 2
}