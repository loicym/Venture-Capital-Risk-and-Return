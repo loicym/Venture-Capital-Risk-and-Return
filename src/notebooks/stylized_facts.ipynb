{
 "cells": [
  {
   "cell_type": "code",
   "execution_count": 1,
   "metadata": {
    "collapsed": false,
    "pycharm": {
     "name": "#%%\n"
    }
   },
   "outputs": [],
   "source": [
    "import pandas as pd\n",
    "import numpy as np\n",
    "import seaborn as sns\n",
    "import matplotlib.pyplot as plt\n",
    "from scripts.market_api import get_yfinance_time_series, get_fred_time_series\n",
    "from matplotlib.ticker import NullFormatter\n",
    "from fitter import Fitter"
   ]
  },
  {
   "cell_type": "code",
   "execution_count": 17,
   "metadata": {
    "collapsed": false,
    "pycharm": {
     "name": "#%%\n"
    }
   },
   "outputs": [],
   "source": [
    "def plot_fundings(data):\n",
    "    fig, ax = plt.subplots()\n",
    "    ax.yaxis.set_major_formatter(lambda x, pos: x / 1e9)\n",
    "    sns.barplot(x='announced_on', y='raised_amount_usd', data=data, palette='winter', ax=ax)\n",
    "    ax.set_xticklabels(ax.get_xticklabels(), rotation=30)\n",
    "    ax.set_xlabel('')\n",
    "    ax.set_ylabel('Capital raised ($B)')\n",
    "\n",
    "    y = data.raised_amount_usd\n",
    "    for i, v in enumerate(y):\n",
    "        ax.text(x=i-0.20, y=v/y.iloc[i] + min(y)/2.5,\n",
    "                s=int(y.iloc[i] / 1e9),\n",
    "                rotation=90, fontsize=12, weight='regular')\n",
    "    plt.show()"
   ]
  },
  {
   "cell_type": "code",
   "execution_count": 18,
   "metadata": {
    "collapsed": false,
    "pycharm": {
     "name": "#%%\n"
    }
   },
   "outputs": [],
   "source": [
    "rounds = pd.read_csv('../../data/crunchbase/funding_rounds.csv')\n",
    "rounds.announced_on = pd.to_datetime(rounds.announced_on, errors='coerce')\n",
    "rounds['year'] = rounds.announced_on.dt.year"
   ]
  },
  {
   "cell_type": "code",
   "execution_count": 19,
   "metadata": {
    "collapsed": false,
    "pycharm": {
     "name": "#%%\n"
    }
   },
   "outputs": [
    {
     "data": {
      "image/png": "[encoded data removed]",
      "text/plain": [
       "<Figure size 432x288 with 1 Axes>"
      ]
     },
     "metadata": {
      "needs_background": "light"
     },
     "output_type": "display_data"
    }
   ],
   "source": [
    "start = 2007\n",
    "end = 2021\n",
    "\n",
    "fundings_per_year_US = rounds[(rounds.announced_on.dt.year >= start)\n",
    "                              & (rounds.announced_on.dt.year <= end)\n",
    "                              & (rounds.country_code == \"USA\")]\n",
    "fundings_per_year_US = fundings_per_year_US[['announced_on', 'raised_amount_usd']]\n",
    "fundings_per_year_US = fundings_per_year_US.groupby(rounds.announced_on.dt.year).sum().reset_index()\n",
    "\n",
    "plot_fundings(fundings_per_year_US)"
   ]
  },
  {
   "cell_type": "code",
   "execution_count": 20,
   "metadata": {
    "collapsed": false,
    "pycharm": {
     "name": "#%%\n"
    }
   },
   "outputs": [],
   "source": [
    "orgs = pd.read_csv('../../data/crunchbase/organizations.csv')"
   ]
  },
  {
   "cell_type": "code",
   "execution_count": 21,
   "metadata": {
    "collapsed": false,
    "pycharm": {
     "name": "#%%\n"
    }
   },
   "outputs": [],
   "source": [
    "cats = orgs[orgs.uuid.isin(rounds.org_uuid)][['uuid', 'category_groups_list']].dropna()\n",
    "cats.category_groups_list = cats.category_groups_list.apply(lambda x: x.split(','))\n",
    "cats.columns = ['org_uuid', 'category']"
   ]
  },
  {
   "cell_type": "code",
   "execution_count": 22,
   "metadata": {
    "collapsed": false,
    "pycharm": {
     "name": "#%%\n"
    }
   },
   "outputs": [],
   "source": [
    "stages = {\n",
    "    'early stage': ['angel', 'seed', 'pre_seed', 'product_crowdfunding', 'equity_crowdfunding', 'initial_coin_offering', 'non_equity_assistance'],\n",
    "    'mid stage': ['series_a', 'series_b', 'corporate_round'],\n",
    "    'late stage': ['series_c', 'series_d', 'series_e', 'series_f', 'series_i', 'series_g', 'series_h', 'series_j'],\n",
    "    'other': ['post_ipo_equity', 'post_ipo_secondary', 'post_ipo_debt', 'series_unknown', 'undisclosed', 'debt_financing', 'grant', 'convertible_note', 'secondary_market']\n",
    "}\n",
    "\n",
    "stage_map = {}\n",
    "for k, v in stages.items():\n",
    "    for x in v:\n",
    "        stage_map[x] = k\n",
    "\n",
    "rounds['stage'] = rounds.investment_type.map(stage_map)"
   ]
  },
  {
   "cell_type": "code",
   "execution_count": 23,
   "metadata": {},
   "outputs": [
    {
     "name": "stdout",
     "output_type": "stream",
     "text": [
      "raised_amount_usd            31651216.0\n",
      "post_money_valuation_usd    200000000.0\n",
      "dtype: float64\n",
      "raised_amount_usd            80000000.0\n",
      "post_money_valuation_usd    650000000.0\n",
      "dtype: float64\n",
      "raised_amount_usd            32123560.0\n",
      "post_money_valuation_usd    268814795.0\n",
      "dtype: float64\n"
     ]
    }
   ],
   "source": [
    "print(rounds[rounds.investment_type == 'series_b'][['raised_amount_usd', 'post_money_valuation_usd']].dropna().median())\n",
    "print(rounds[rounds.investment_type == 'series_c'][['raised_amount_usd', 'post_money_valuation_usd']].dropna().median())\n",
    "print(rounds[rounds.investment_type == 'corporate_round'][['raised_amount_usd', 'post_money_valuation_usd']].dropna().median())"
   ]
  },
  {
   "cell_type": "code",
   "execution_count": 24,
   "metadata": {
    "collapsed": false,
    "pycharm": {
     "name": "#%%\n"
    }
   },
   "outputs": [],
   "source": [
    "start = 2007\n",
    "end = 2021\n",
    "\n",
    "fundings_per_year_stage = rounds[(rounds.announced_on.dt.year >= start)\n",
    "                                 & (rounds.announced_on.dt.year <= end)\n",
    "                                 & (rounds.country_code == \"USA\")]\n",
    "fundings_per_year_stage = fundings_per_year_stage[['year', 'raised_amount_usd', 'stage']].dropna()\n",
    "fundings_per_year_stage = fundings_per_year_stage.groupby(['year', 'stage']).sum().reset_index()\n",
    "fundings_per_year_stage = fundings_per_year_stage[fundings_per_year_stage.stage != 'other']\n",
    "fundings_per_year_stage.year = fundings_per_year_stage.year.astype(int)"
   ]
  },
  {
   "cell_type": "code",
   "execution_count": 25,
   "metadata": {
    "collapsed": false,
    "pycharm": {
     "name": "#%%\n"
    }
   },
   "outputs": [
    {
     "data": {
      "image/png": "[encoded data removed]",
      "text/plain": [
       "<Figure size 720x432 with 1 Axes>"
      ]
     },
     "metadata": {
      "needs_background": "light"
     },
     "output_type": "display_data"
    }
   ],
   "source": [
    "fig, ax = plt.subplots(figsize=(10,6))\n",
    "ax.yaxis.set_major_formatter(lambda x, pos: x / 1e9)\n",
    "sns.barplot(x=\"year\", y=\"raised_amount_usd\", hue=\"stage\", hue_order=['early stage', 'mid stage', 'late stage'], data=fundings_per_year_stage, ax=ax, palette='Greens')\n",
    "ax.set_xlabel('')\n",
    "ax.set_ylabel('Capital raised ($B)')\n",
    "# sns.set(font_scale = 1.2)\n",
    "plt.savefig('figures/capital_raised.pdf')\n",
    "plt.show()"
   ]
  },
  {
   "cell_type": "code",
   "execution_count": 26,
   "metadata": {
    "collapsed": false,
    "pycharm": {
     "name": "#%%\n"
    }
   },
   "outputs": [
    {
     "data": {
      "image/png": "[encoded data removed]",
      "text/plain": [
       "<Figure size 432x288 with 1 Axes>"
      ]
     },
     "metadata": {},
     "output_type": "display_data"
    }
   ],
   "source": [
    "plt.pie(rounds.groupby('stage').size().drop('other'),\n",
    "        radius=1, wedgeprops=dict(width=0.3, edgecolor='w'), textprops={'fontsize':13},\n",
    "        colors=['#8D8DAA', '#DFDFDF', '#F56D91'], autopct='%.0f%%', pctdistance=0.85)\n",
    "plt.legend(['early', 'late', 'mid'], bbox_to_anchor=(0.75, 0, 0.5, 1), fontsize=13)\n",
    "plt.savefig('figures/total_rounds_per_stage.pdf')"
   ]
  },
  {
   "cell_type": "code",
   "execution_count": 27,
   "metadata": {},
   "outputs": [
    {
     "data": {
      "text/plain": [
       "stage\n",
       "early stage    212155\n",
       "late stage      20489\n",
       "mid stage       84611\n",
       "other          159018\n",
       "dtype: int64"
      ]
     },
     "execution_count": 27,
     "metadata": {},
     "output_type": "execute_result"
    }
   ],
   "source": [
    "rounds.groupby('stage').size()"
   ]
  },
  {
   "cell_type": "code",
   "execution_count": 28,
   "metadata": {
    "collapsed": false,
    "pycharm": {
     "name": "#%%\n"
    }
   },
   "outputs": [
    {
     "data": {
      "image/png": "[encoded data removed]",
      "text/plain": [
       "<Figure size 432x288 with 1 Axes>"
      ]
     },
     "metadata": {},
     "output_type": "display_data"
    }
   ],
   "source": [
    "cb_investments = rounds.groupby('investment_type').size() / rounds.shape[0]\n",
    "cb_investments['others'] = cb_investments[cb_investments < 0.02].sum()\n",
    "cb_investments = cb_investments[cb_investments >= 0.02]\n",
    "cb_investments.index = pd.Series(cb_investments.index).apply(lambda s: s.replace('_', ' '))\n",
    "plt.pie(cb_investments, autopct='%.0f%%', pctdistance=0.8, colors=sns.color_palette(\"husl\", cb_investments.size), textprops={'fontsize':13},)\n",
    "plt.legend(cb_investments.index, loc=\"center left\", bbox_to_anchor=(1, 0, 0.5, 1), fontsize=13)\n",
    "plt.savefig('figures/crunchbase_rounds.pdf')\n",
    "plt.show()"
   ]
  },
  {
   "cell_type": "code",
   "execution_count": 29,
   "metadata": {
    "collapsed": false,
    "pycharm": {
     "name": "#%%\n"
    }
   },
   "outputs": [
    {
     "name": "stderr",
     "output_type": "stream",
     "text": [
      "100%|██████████| 240763/240763 [00:47<00:00, 5119.17it/s]\n"
     ]
    }
   ],
   "source": [
    "from tqdm import tqdm\n",
    "tqdm.pandas()\n",
    "\n",
    "def get_most_relevant_cat(categories):\n",
    "    mapped = cat_freqs[cat_freqs.index.isin(categories)]\n",
    "    return categories[np.argmax(mapped)]\n",
    "\n",
    "summarized_cats = ['Media',\n",
    "                   'Software',\n",
    "                   'IT Hardware',\n",
    "                   'Consumer P&S',\n",
    "                   'Consumer P&S',\n",
    "                   'Media',\n",
    "                   'Software',\n",
    "                   'Software',\n",
    "                   'Media',\n",
    "                   'Software',\n",
    "                   'Consumer P&S',\n",
    "                   'Other',\n",
    "                   'Commercial P&S',\n",
    "                   'Software',\n",
    "                   'Media',\n",
    "                   'IT Hardware',\n",
    "                   'Other',\n",
    "                   'Other',\n",
    "                   'Commercial P&S',\n",
    "                   'Commercial P&S',\n",
    "                   'Biotech',\n",
    "                   'Other',\n",
    "                   'Healthcare',\n",
    "                   'Other',\n",
    "                   'Consumer P&S',\n",
    "                   'Consumer P&S',\n",
    "                   'Software',\n",
    "                   'Software',\n",
    "                   'Consumer P&S',\n",
    "                   'IT Hardware',\n",
    "                   'Software',\n",
    "                   'Other',\n",
    "                   'Commercial P&S',\n",
    "                   'Commercial P&S',\n",
    "                   'Other',\n",
    "                   'Energy',\n",
    "                   'Other',\n",
    "                   'Commercial P&S',\n",
    "                   'Consumer P&S',\n",
    "                   'Other',\n",
    "                   'Energy',\n",
    "                   'Software',\n",
    "                   'Energy',\n",
    "                   'Other']\n",
    "cat_freqs = cats.category.explode().value_counts() / cats.category.size\n",
    "cats.category = cats.category.progress_apply(get_most_relevant_cat)\n",
    "\n",
    "rounds['category'] = rounds.org_uuid.map(cats.set_index('org_uuid').to_dict()['category'])\n",
    "rounds['meta_cat'] = rounds.category.map(dict(zip(rounds.category.unique(), summarized_cats)))"
   ]
  },
  {
   "cell_type": "code",
   "execution_count": 30,
   "metadata": {
    "collapsed": false,
    "pycharm": {
     "name": "#%%\n"
    }
   },
   "outputs": [],
   "source": [
    "start = 2007\n",
    "end = 2021\n",
    "fundings_per_year_cat = rounds[(rounds.year >= start)\n",
    "                               & (rounds.year <= end)\n",
    "                               & (rounds.country_code == 'USA')][['year', 'meta_cat', 'raised_amount_usd']]\n",
    "fundings_per_year_cat = fundings_per_year_cat.groupby(['year', 'meta_cat']).sum()"
   ]
  },
  {
   "cell_type": "code",
   "execution_count": 31,
   "metadata": {
    "collapsed": false,
    "pycharm": {
     "name": "#%%\n"
    }
   },
   "outputs": [
    {
     "data": {
      "text/html": [
       "<div>\n",
       "<style scoped>\n",
       "    .dataframe tbody tr th:only-of-type {\n",
       "        vertical-align: middle;\n",
       "    }\n",
       "\n",
       "    .dataframe tbody tr th {\n",
       "        vertical-align: top;\n",
       "    }\n",
       "\n",
       "    .dataframe thead th {\n",
       "        text-align: right;\n",
       "    }\n",
       "</style>\n",
       "<table border=\"1\" class=\"dataframe\">\n",
       "  <thead>\n",
       "    <tr style=\"text-align: right;\">\n",
       "      <th></th>\n",
       "      <th></th>\n",
       "      <th>raised_amount_usd</th>\n",
       "    </tr>\n",
       "    <tr>\n",
       "      <th>year</th>\n",
       "      <th>meta_cat</th>\n",
       "      <th></th>\n",
       "    </tr>\n",
       "  </thead>\n",
       "  <tbody>\n",
       "    <tr>\n",
       "      <th rowspan=\"9\" valign=\"top\">$2,021.00</th>\n",
       "      <th>Biotech</th>\n",
       "      <td>$9.63</td>\n",
       "    </tr>\n",
       "    <tr>\n",
       "      <th>Commercial P&amp;S</th>\n",
       "      <td>$200.40</td>\n",
       "    </tr>\n",
       "    <tr>\n",
       "      <th>Consumer P&amp;S</th>\n",
       "      <td>$112.73</td>\n",
       "    </tr>\n",
       "    <tr>\n",
       "      <th>Energy</th>\n",
       "      <td>$6.40</td>\n",
       "    </tr>\n",
       "    <tr>\n",
       "      <th>Healthcare</th>\n",
       "      <td>$23.92</td>\n",
       "    </tr>\n",
       "    <tr>\n",
       "      <th>IT Hardware</th>\n",
       "      <td>$15.89</td>\n",
       "    </tr>\n",
       "    <tr>\n",
       "      <th>Media</th>\n",
       "      <td>$47.83</td>\n",
       "    </tr>\n",
       "    <tr>\n",
       "      <th>Other</th>\n",
       "      <td>$127.13</td>\n",
       "    </tr>\n",
       "    <tr>\n",
       "      <th>Software</th>\n",
       "      <td>$72.54</td>\n",
       "    </tr>\n",
       "  </tbody>\n",
       "</table>\n",
       "</div>"
      ],
      "text/plain": [
       "                          raised_amount_usd\n",
       "year      meta_cat                         \n",
       "$2,021.00 Biotech                     $9.63\n",
       "          Commercial P&S            $200.40\n",
       "          Consumer P&S              $112.73\n",
       "          Energy                      $6.40\n",
       "          Healthcare                 $23.92\n",
       "          IT Hardware                $15.89\n",
       "          Media                      $47.83\n",
       "          Other                     $127.13\n",
       "          Software                   $72.54"
      ]
     },
     "execution_count": 31,
     "metadata": {},
     "output_type": "execute_result"
    }
   ],
   "source": [
    "pd.options.display.float_format = '${:,.2f}'.format\n",
    "fundings_per_year_cat[fundings_per_year_cat.index.get_level_values('year') == 2021] / 1e9"
   ]
  },
  {
   "cell_type": "code",
   "execution_count": 32,
   "metadata": {},
   "outputs": [],
   "source": [
    "from kaleido import *"
   ]
  },
  {
   "cell_type": "code",
   "execution_count": 33,
   "metadata": {},
   "outputs": [
    {
     "data": {
      "application/vnd.plotly.v1+json": {
       "config": {
        "plotlyServerURL": "https://plot.ly"
       },
       "data": [
        {
         "domain": {
          "x": [
           0,
           0.45
          ],
          "y": [
           0,
           1
          ]
         },
         "labels": [
          "CAN",
          "CHN",
          "DEU",
          "FRA",
          "GBR",
          "IND",
          "USA",
          "others"
         ],
         "name": "Country",
         "texttemplate": "%{label}<br>(%{percent})",
         "type": "pie",
         "values": [
          0.04392441293176348,
          0.07415192220126195,
          0.024094597671241787,
          0.02279768099915436,
          0.06867356729330644,
          0.037630911338060236,
          0.47596435308658036,
          0.2359209328042672
         ]
        },
        {
         "domain": {
          "x": [
           0.55,
           1
          ],
          "y": [
           0,
           1
          ]
         },
         "labels": [
          "Biotech",
          "Commercial P&S",
          "Consumer P&S",
          "Energy",
          "Healthcare",
          "IT Hardware",
          "Media",
          "Other",
          "Software"
         ],
         "name": "Sector",
         "rotation": 90,
         "texttemplate": "%{label}<br>(%{percent})",
         "type": "pie",
         "values": [
          5569,
          120618,
          101255,
          7137,
          21362,
          17101,
          60522,
          99268,
          59083
         ]
        }
       ],
       "layout": {
        "font": {
         "size": 18
        },
        "height": 500,
        "margin": {
         "b": 0,
         "l": 0,
         "r": 0,
         "t": 0
        },
        "showlegend": false,
        "template": {
         "data": {
          "bar": [
           {
            "error_x": {
             "color": "#2a3f5f"
            },
            "error_y": {
             "color": "#2a3f5f"
            },
            "marker": {
             "line": {
              "color": "#E5ECF6",
              "width": 0.5
             },
             "pattern": {
              "fillmode": "overlay",
              "size": 10,
              "solidity": 0.2
             }
            },
            "type": "bar"
           }
          ],
          "barpolar": [
           {
            "marker": {
             "line": {
              "color": "#E5ECF6",
              "width": 0.5
             },
             "pattern": {
              "fillmode": "overlay",
              "size": 10,
              "solidity": 0.2
             }
            },
            "type": "barpolar"
           }
          ],
          "carpet": [
           {
            "aaxis": {
             "endlinecolor": "#2a3f5f",
             "gridcolor": "white",
             "linecolor": "white",
             "minorgridcolor": "white",
             "startlinecolor": "#2a3f5f"
            },
            "baxis": {
             "endlinecolor": "#2a3f5f",
             "gridcolor": "white",
             "linecolor": "white",
             "minorgridcolor": "white",
             "startlinecolor": "#2a3f5f"
            },
            "type": "carpet"
           }
          ],
          "choropleth": [
           {
            "colorbar": {
             "outlinewidth": 0,
             "ticks": ""
            },
            "type": "choropleth"
           }
          ],
          "contour": [
           {
            "colorbar": {
             "outlinewidth": 0,
             "ticks": ""
            },
            "colorscale": [
             [
              0,
              "#0d0887"
             ],
             [
              0.1111111111111111,
              "#46039f"
             ],
             [
              0.2222222222222222,
              "#7201a8"
             ],
             [
              0.3333333333333333,
              "#9c179e"
             ],
             [
              0.4444444444444444,
              "#bd3786"
             ],
             [
              0.5555555555555556,
              "#d8576b"
             ],
             [
              0.6666666666666666,
              "#ed7953"
             ],
             [
              0.7777777777777778,
              "#fb9f3a"
             ],
             [
              0.8888888888888888,
              "#fdca26"
             ],
             [
              1,
              "#f0f921"
             ]
            ],
            "type": "contour"
           }
          ],
          "contourcarpet": [
           {
            "colorbar": {
             "outlinewidth": 0,
             "ticks": ""
            },
            "type": "contourcarpet"
           }
          ],
          "heatmap": [
           {
            "colorbar": {
             "outlinewidth": 0,
             "ticks": ""
            },
            "colorscale": [
             [
              0,
              "#0d0887"
             ],
             [
              0.1111111111111111,
              "#46039f"
             ],
             [
              0.2222222222222222,
              "#7201a8"
             ],
             [
              0.3333333333333333,
              "#9c179e"
             ],
             [
              0.4444444444444444,
              "#bd3786"
             ],
             [
              0.5555555555555556,
              "#d8576b"
             ],
             [
              0.6666666666666666,
              "#ed7953"
             ],
             [
              0.7777777777777778,
              "#fb9f3a"
             ],
             [
              0.8888888888888888,
              "#fdca26"
             ],
             [
              1,
              "#f0f921"
             ]
            ],
            "type": "heatmap"
           }
          ],
          "heatmapgl": [
           {
            "colorbar": {
             "outlinewidth": 0,
             "ticks": ""
            },
            "colorscale": [
             [
              0,
              "#0d0887"
             ],
             [
              0.1111111111111111,
              "#46039f"
             ],
             [
              0.2222222222222222,
              "#7201a8"
             ],
             [
              0.3333333333333333,
              "#9c179e"
             ],
             [
              0.4444444444444444,
              "#bd3786"
             ],
             [
              0.5555555555555556,
              "#d8576b"
             ],
             [
              0.6666666666666666,
              "#ed7953"
             ],
             [
              0.7777777777777778,
              "#fb9f3a"
             ],
             [
              0.8888888888888888,
              "#fdca26"
             ],
             [
              1,
              "#f0f921"
             ]
            ],
            "type": "heatmapgl"
           }
          ],
          "histogram": [
           {
            "marker": {
             "pattern": {
              "fillmode": "overlay",
              "size": 10,
              "solidity": 0.2
             }
            },
            "type": "histogram"
           }
          ],
          "histogram2d": [
           {
            "colorbar": {
             "outlinewidth": 0,
             "ticks": ""
            },
            "colorscale": [
             [
              0,
              "#0d0887"
             ],
             [
              0.1111111111111111,
              "#46039f"
             ],
             [
              0.2222222222222222,
              "#7201a8"
             ],
             [
              0.3333333333333333,
              "#9c179e"
             ],
             [
              0.4444444444444444,
              "#bd3786"
             ],
             [
              0.5555555555555556,
              "#d8576b"
             ],
             [
              0.6666666666666666,
              "#ed7953"
             ],
             [
              0.7777777777777778,
              "#fb9f3a"
             ],
             [
              0.8888888888888888,
              "#fdca26"
             ],
             [
              1,
              "#f0f921"
             ]
            ],
            "type": "histogram2d"
           }
          ],
          "histogram2dcontour": [
           {
            "colorbar": {
             "outlinewidth": 0,
             "ticks": ""
            },
            "colorscale": [
             [
              0,
              "#0d0887"
             ],
             [
              0.1111111111111111,
              "#46039f"
             ],
             [
              0.2222222222222222,
              "#7201a8"
             ],
             [
              0.3333333333333333,
              "#9c179e"
             ],
             [
              0.4444444444444444,
              "#bd3786"
             ],
             [
              0.5555555555555556,
              "#d8576b"
             ],
             [
              0.6666666666666666,
              "#ed7953"
             ],
             [
              0.7777777777777778,
              "#fb9f3a"
             ],
             [
              0.8888888888888888,
              "#fdca26"
             ],
             [
              1,
              "#f0f921"
             ]
            ],
            "type": "histogram2dcontour"
           }
          ],
          "mesh3d": [
           {
            "colorbar": {
             "outlinewidth": 0,
             "ticks": ""
            },
            "type": "mesh3d"
           }
          ],
          "parcoords": [
           {
            "line": {
             "colorbar": {
              "outlinewidth": 0,
              "ticks": ""
             }
            },
            "type": "parcoords"
           }
          ],
          "pie": [
           {
            "automargin": true,
            "type": "pie"
           }
          ],
          "scatter": [
           {
            "fillpattern": {
             "fillmode": "overlay",
             "size": 10,
             "solidity": 0.2
            },
            "type": "scatter"
           }
          ],
          "scatter3d": [
           {
            "line": {
             "colorbar": {
              "outlinewidth": 0,
              "ticks": ""
             }
            },
            "marker": {
             "colorbar": {
              "outlinewidth": 0,
              "ticks": ""
             }
            },
            "type": "scatter3d"
           }
          ],
          "scattercarpet": [
           {
            "marker": {
             "colorbar": {
              "outlinewidth": 0,
              "ticks": ""
             }
            },
            "type": "scattercarpet"
           }
          ],
          "scattergeo": [
           {
            "marker": {
             "colorbar": {
              "outlinewidth": 0,
              "ticks": ""
             }
            },
            "type": "scattergeo"
           }
          ],
          "scattergl": [
           {
            "marker": {
             "colorbar": {
              "outlinewidth": 0,
              "ticks": ""
             }
            },
            "type": "scattergl"
           }
          ],
          "scattermapbox": [
           {
            "marker": {
             "colorbar": {
              "outlinewidth": 0,
              "ticks": ""
             }
            },
            "type": "scattermapbox"
           }
          ],
          "scatterpolar": [
           {
            "marker": {
             "colorbar": {
              "outlinewidth": 0,
              "ticks": ""
             }
            },
            "type": "scatterpolar"
           }
          ],
          "scatterpolargl": [
           {
            "marker": {
             "colorbar": {
              "outlinewidth": 0,
              "ticks": ""
             }
            },
            "type": "scatterpolargl"
           }
          ],
          "scatterternary": [
           {
            "marker": {
             "colorbar": {
              "outlinewidth": 0,
              "ticks": ""
             }
            },
            "type": "scatterternary"
           }
          ],
          "surface": [
           {
            "colorbar": {
             "outlinewidth": 0,
             "ticks": ""
            },
            "colorscale": [
             [
              0,
              "#0d0887"
             ],
             [
              0.1111111111111111,
              "#46039f"
             ],
             [
              0.2222222222222222,
              "#7201a8"
             ],
             [
              0.3333333333333333,
              "#9c179e"
             ],
             [
              0.4444444444444444,
              "#bd3786"
             ],
             [
              0.5555555555555556,
              "#d8576b"
             ],
             [
              0.6666666666666666,
              "#ed7953"
             ],
             [
              0.7777777777777778,
              "#fb9f3a"
             ],
             [
              0.8888888888888888,
              "#fdca26"
             ],
             [
              1,
              "#f0f921"
             ]
            ],
            "type": "surface"
           }
          ],
          "table": [
           {
            "cells": {
             "fill": {
              "color": "#EBF0F8"
             },
             "line": {
              "color": "white"
             }
            },
            "header": {
             "fill": {
              "color": "#C8D4E3"
             },
             "line": {
              "color": "white"
             }
            },
            "type": "table"
           }
          ]
         },
         "layout": {
          "annotationdefaults": {
           "arrowcolor": "#2a3f5f",
           "arrowhead": 0,
           "arrowwidth": 1
          },
          "autotypenumbers": "strict",
          "coloraxis": {
           "colorbar": {
            "outlinewidth": 0,
            "ticks": ""
           }
          },
          "colorscale": {
           "diverging": [
            [
             0,
             "#8e0152"
            ],
            [
             0.1,
             "#c51b7d"
            ],
            [
             0.2,
             "#de77ae"
            ],
            [
             0.3,
             "#f1b6da"
            ],
            [
             0.4,
             "#fde0ef"
            ],
            [
             0.5,
             "#f7f7f7"
            ],
            [
             0.6,
             "#e6f5d0"
            ],
            [
             0.7,
             "#b8e186"
            ],
            [
             0.8,
             "#7fbc41"
            ],
            [
             0.9,
             "#4d9221"
            ],
            [
             1,
             "#276419"
            ]
           ],
           "sequential": [
            [
             0,
             "#0d0887"
            ],
            [
             0.1111111111111111,
             "#46039f"
            ],
            [
             0.2222222222222222,
             "#7201a8"
            ],
            [
             0.3333333333333333,
             "#9c179e"
            ],
            [
             0.4444444444444444,
             "#bd3786"
            ],
            [
             0.5555555555555556,
             "#d8576b"
            ],
            [
             0.6666666666666666,
             "#ed7953"
            ],
            [
             0.7777777777777778,
             "#fb9f3a"
            ],
            [
             0.8888888888888888,
             "#fdca26"
            ],
            [
             1,
             "#f0f921"
            ]
           ],
           "sequentialminus": [
            [
             0,
             "#0d0887"
            ],
            [
             0.1111111111111111,
             "#46039f"
            ],
            [
             0.2222222222222222,
             "#7201a8"
            ],
            [
             0.3333333333333333,
             "#9c179e"
            ],
            [
             0.4444444444444444,
             "#bd3786"
            ],
            [
             0.5555555555555556,
             "#d8576b"
            ],
            [
             0.6666666666666666,
             "#ed7953"
            ],
            [
             0.7777777777777778,
             "#fb9f3a"
            ],
            [
             0.8888888888888888,
             "#fdca26"
            ],
            [
             1,
             "#f0f921"
            ]
           ]
          },
          "colorway": [
           "#636efa",
           "#EF553B",
           "#00cc96",
           "#ab63fa",
           "#FFA15A",
           "#19d3f3",
           "#FF6692",
           "#B6E880",
           "#FF97FF",
           "#FECB52"
          ],
          "font": {
           "color": "#2a3f5f"
          },
          "geo": {
           "bgcolor": "white",
           "lakecolor": "white",
           "landcolor": "#E5ECF6",
           "showlakes": true,
           "showland": true,
           "subunitcolor": "white"
          },
          "hoverlabel": {
           "align": "left"
          },
          "hovermode": "closest",
          "mapbox": {
           "style": "light"
          },
          "paper_bgcolor": "white",
          "plot_bgcolor": "#E5ECF6",
          "polar": {
           "angularaxis": {
            "gridcolor": "white",
            "linecolor": "white",
            "ticks": ""
           },
           "bgcolor": "#E5ECF6",
           "radialaxis": {
            "gridcolor": "white",
            "linecolor": "white",
            "ticks": ""
           }
          },
          "scene": {
           "xaxis": {
            "backgroundcolor": "#E5ECF6",
            "gridcolor": "white",
            "gridwidth": 2,
            "linecolor": "white",
            "showbackground": true,
            "ticks": "",
            "zerolinecolor": "white"
           },
           "yaxis": {
            "backgroundcolor": "#E5ECF6",
            "gridcolor": "white",
            "gridwidth": 2,
            "linecolor": "white",
            "showbackground": true,
            "ticks": "",
            "zerolinecolor": "white"
           },
           "zaxis": {
            "backgroundcolor": "#E5ECF6",
            "gridcolor": "white",
            "gridwidth": 2,
            "linecolor": "white",
            "showbackground": true,
            "ticks": "",
            "zerolinecolor": "white"
           }
          },
          "shapedefaults": {
           "line": {
            "color": "#2a3f5f"
           }
          },
          "ternary": {
           "aaxis": {
            "gridcolor": "white",
            "linecolor": "white",
            "ticks": ""
           },
           "baxis": {
            "gridcolor": "white",
            "linecolor": "white",
            "ticks": ""
           },
           "bgcolor": "#E5ECF6",
           "caxis": {
            "gridcolor": "white",
            "linecolor": "white",
            "ticks": ""
           }
          },
          "title": {
           "x": 0.05
          },
          "xaxis": {
           "automargin": true,
           "gridcolor": "white",
           "linecolor": "white",
           "ticks": "",
           "title": {
            "standoff": 15
           },
           "zerolinecolor": "white",
           "zerolinewidth": 2
          },
          "yaxis": {
           "automargin": true,
           "gridcolor": "white",
           "linecolor": "white",
           "ticks": "",
           "title": {
            "standoff": 15
           },
           "zerolinecolor": "white",
           "zerolinewidth": 2
          }
         }
        },
        "width": 1100
       }
      }
     },
     "metadata": {},
     "output_type": "display_data"
    }
   ],
   "source": [
    "import plotly.graph_objects as go\n",
    "from plotly.subplots import make_subplots\n",
    "\n",
    "country_freq = rounds.groupby('country_code').size() / rounds.country_code.size\n",
    "country_freq['others'] = country_freq[country_freq < 0.02].sum()\n",
    "country_freq = country_freq[country_freq >= 0.02]\n",
    "cb_sectors = rounds.groupby('meta_cat').size()\n",
    "\n",
    "fig = make_subplots(rows=1, cols=2, specs=[[{'type':'domain'}, {'type':'domain'}]], horizontal_spacing=0.1)\n",
    "fig.add_trace(go.Pie(values=country_freq.values, name=\"Country\", labels=country_freq.index,\n",
    "                     texttemplate = \"%{label}<br>(%{percent})\"),\n",
    "              1, 1)\n",
    "fig.add_trace(go.Pie(values=cb_sectors.values, name=\"Sector\", labels=cb_sectors.index,\n",
    "                     texttemplate = \"%{label}<br>(%{percent})\", rotation = 90),\n",
    "              1, 2)\n",
    "\n",
    "fig.update_layout(height=500, width=1100,\n",
    "                  showlegend=False,\n",
    "                  font={'size':18},\n",
    "                  margin={'l':0, 'r':0, 't':0, 'b':0})\n",
    "fig.write_image('figures/crunchbase_country_sectors.pdf')\n",
    "fig.show()"
   ]
  },
  {
   "cell_type": "code",
   "execution_count": 34,
   "metadata": {
    "collapsed": false,
    "pycharm": {
     "name": "#%%\n"
    }
   },
   "outputs": [
    {
     "data": {
      "text/html": [
       "<div>\n",
       "<style scoped>\n",
       "    .dataframe tbody tr th:only-of-type {\n",
       "        vertical-align: middle;\n",
       "    }\n",
       "\n",
       "    .dataframe tbody tr th {\n",
       "        vertical-align: top;\n",
       "    }\n",
       "\n",
       "    .dataframe thead th {\n",
       "        text-align: right;\n",
       "    }\n",
       "</style>\n",
       "<table border=\"1\" class=\"dataframe\">\n",
       "  <thead>\n",
       "    <tr style=\"text-align: right;\">\n",
       "      <th></th>\n",
       "      <th>uuid</th>\n",
       "      <th>name</th>\n",
       "      <th>type</th>\n",
       "      <th>permalink</th>\n",
       "      <th>cb_url</th>\n",
       "      <th>rank</th>\n",
       "      <th>created_at</th>\n",
       "      <th>updated_at</th>\n",
       "      <th>country_code</th>\n",
       "      <th>state_code</th>\n",
       "      <th>...</th>\n",
       "      <th>post_money_valuation</th>\n",
       "      <th>post_money_valuation_currency_code</th>\n",
       "      <th>investor_count</th>\n",
       "      <th>org_uuid</th>\n",
       "      <th>org_name</th>\n",
       "      <th>lead_investor_uuids</th>\n",
       "      <th>year</th>\n",
       "      <th>stage</th>\n",
       "      <th>category</th>\n",
       "      <th>meta_cat</th>\n",
       "    </tr>\n",
       "  </thead>\n",
       "  <tbody>\n",
       "    <tr>\n",
       "      <th>488522</th>\n",
       "      <td>23c8c92c-a7b9-43ae-8a29-920a81808e03</td>\n",
       "      <td>Seed Round - #tide®</td>\n",
       "      <td>funding_round</td>\n",
       "      <td>tide-571a-seed--23c8c92c</td>\n",
       "      <td>https://www.crunchbase.com/funding_round/tide-...</td>\n",
       "      <td>$57,863.00</td>\n",
       "      <td>2022-06-10 05:50:18</td>\n",
       "      <td>2022-06-10 05:50:18</td>\n",
       "      <td>CHE</td>\n",
       "      <td>NaN</td>\n",
       "      <td>...</td>\n",
       "      <td>$12,500,000.00</td>\n",
       "      <td>USD</td>\n",
       "      <td>NaN</td>\n",
       "      <td>2b424784-2a87-43be-aaf8-8d160b5f571a</td>\n",
       "      <td>#tide®</td>\n",
       "      <td>NaN</td>\n",
       "      <td>$2,020.00</td>\n",
       "      <td>early stage</td>\n",
       "      <td>Manufacturing</td>\n",
       "      <td>Software</td>\n",
       "    </tr>\n",
       "    <tr>\n",
       "      <th>453294</th>\n",
       "      <td>0f340ff4-4489-4e98-858b-6a11db173ff6</td>\n",
       "      <td>Seed Round - #walk15</td>\n",
       "      <td>funding_round</td>\n",
       "      <td>walk15-229d-seed--0f340ff4</td>\n",
       "      <td>https://www.crunchbase.com/funding_round/walk1...</td>\n",
       "      <td>$16,539.00</td>\n",
       "      <td>2022-01-19 15:18:26</td>\n",
       "      <td>2022-01-19 15:18:26</td>\n",
       "      <td>LTU</td>\n",
       "      <td>NaN</td>\n",
       "      <td>...</td>\n",
       "      <td>$5,268,500.00</td>\n",
       "      <td>EUR</td>\n",
       "      <td>$4.00</td>\n",
       "      <td>46c4ee6e-fdda-4bb3-925d-eb8533bc229d</td>\n",
       "      <td>#walk15</td>\n",
       "      <td>NaN</td>\n",
       "      <td>$2,021.00</td>\n",
       "      <td>early stage</td>\n",
       "      <td>Apps</td>\n",
       "      <td>Commercial P&amp;S</td>\n",
       "    </tr>\n",
       "    <tr>\n",
       "      <th>299051</th>\n",
       "      <td>6bbaa3b1-813e-441c-832f-c095c0f7b8c7</td>\n",
       "      <td>Secondary Market - &amp;pizza</td>\n",
       "      <td>funding_round</td>\n",
       "      <td>pizza-4-secondary-market--6bbaa3b1</td>\n",
       "      <td>https://www.crunchbase.com/funding_round/pizza...</td>\n",
       "      <td>$91,875.00</td>\n",
       "      <td>2020-03-03 22:30:46</td>\n",
       "      <td>2020-03-03 22:30:46</td>\n",
       "      <td>USA</td>\n",
       "      <td>DC</td>\n",
       "      <td>...</td>\n",
       "      <td>$55,000,000.00</td>\n",
       "      <td>USD</td>\n",
       "      <td>$1.00</td>\n",
       "      <td>e098354a-5d4e-9365-0298-c8649e2b4861</td>\n",
       "      <td>&amp;pizza</td>\n",
       "      <td>8487d047-1992-47db-866f-6607accf43de</td>\n",
       "      <td>$2,019.00</td>\n",
       "      <td>other</td>\n",
       "      <td>Food and Beverage</td>\n",
       "      <td>Consumer P&amp;S</td>\n",
       "    </tr>\n",
       "    <tr>\n",
       "      <th>299050</th>\n",
       "      <td>14acdcf0-fff9-45e3-9cf7-72f3cabcb9a9</td>\n",
       "      <td>Secondary Market - &amp;pizza</td>\n",
       "      <td>funding_round</td>\n",
       "      <td>pizza-4-secondary-market--14acdcf0</td>\n",
       "      <td>https://www.crunchbase.com/funding_round/pizza...</td>\n",
       "      <td>$294,193.00</td>\n",
       "      <td>2020-03-03 22:28:27</td>\n",
       "      <td>2020-03-03 22:28:27</td>\n",
       "      <td>USA</td>\n",
       "      <td>DC</td>\n",
       "      <td>...</td>\n",
       "      <td>$129,800,000.00</td>\n",
       "      <td>USD</td>\n",
       "      <td>$1.00</td>\n",
       "      <td>e098354a-5d4e-9365-0298-c8649e2b4861</td>\n",
       "      <td>&amp;pizza</td>\n",
       "      <td>8487d047-1992-47db-866f-6607accf43de</td>\n",
       "      <td>$2,019.00</td>\n",
       "      <td>other</td>\n",
       "      <td>Food and Beverage</td>\n",
       "      <td>Consumer P&amp;S</td>\n",
       "    </tr>\n",
       "    <tr>\n",
       "      <th>252964</th>\n",
       "      <td>a52df74f-84d3-440c-ae0e-e2ad6c70ddfe</td>\n",
       "      <td>Seed Round - .nanobile</td>\n",
       "      <td>funding_round</td>\n",
       "      <td>nanobile-seed--a52df74f</td>\n",
       "      <td>https://www.crunchbase.com/funding_round/nanob...</td>\n",
       "      <td>$383,807.00</td>\n",
       "      <td>2019-04-23 19:14:34</td>\n",
       "      <td>2019-04-23 19:14:34</td>\n",
       "      <td>SRB</td>\n",
       "      <td>NaN</td>\n",
       "      <td>...</td>\n",
       "      <td>$8,000,000.00</td>\n",
       "      <td>EUR</td>\n",
       "      <td>NaN</td>\n",
       "      <td>0ecd89e0-5ffb-42c5-8d5f-42bd0db3602f</td>\n",
       "      <td>.nanobile</td>\n",
       "      <td>NaN</td>\n",
       "      <td>$2,019.00</td>\n",
       "      <td>early stage</td>\n",
       "      <td>Artificial Intelligence</td>\n",
       "      <td>Consumer P&amp;S</td>\n",
       "    </tr>\n",
       "    <tr>\n",
       "      <th>...</th>\n",
       "      <td>...</td>\n",
       "      <td>...</td>\n",
       "      <td>...</td>\n",
       "      <td>...</td>\n",
       "      <td>...</td>\n",
       "      <td>...</td>\n",
       "      <td>...</td>\n",
       "      <td>...</td>\n",
       "      <td>...</td>\n",
       "      <td>...</td>\n",
       "      <td>...</td>\n",
       "      <td>...</td>\n",
       "      <td>...</td>\n",
       "      <td>...</td>\n",
       "      <td>...</td>\n",
       "      <td>...</td>\n",
       "      <td>...</td>\n",
       "      <td>...</td>\n",
       "      <td>...</td>\n",
       "      <td>...</td>\n",
       "      <td>...</td>\n",
       "    </tr>\n",
       "    <tr>\n",
       "      <th>321607</th>\n",
       "      <td>a8dddeb4-34bd-4332-8372-e36e8d8cf85f</td>\n",
       "      <td>Pre Seed Round - ЭМИИА ИИ (EMIIA.AI)</td>\n",
       "      <td>funding_round</td>\n",
       "      <td>emiia-ai-pre-seed--a8dddeb4</td>\n",
       "      <td>https://www.crunchbase.com/funding_round/emiia...</td>\n",
       "      <td>$417,091.00</td>\n",
       "      <td>2020-07-02 09:47:20</td>\n",
       "      <td>2020-07-02 09:47:20</td>\n",
       "      <td>RUS</td>\n",
       "      <td>NaN</td>\n",
       "      <td>...</td>\n",
       "      <td>$350,000.00</td>\n",
       "      <td>USD</td>\n",
       "      <td>$1.00</td>\n",
       "      <td>720e888f-8a3d-48f5-bed6-26cb42ba0d7c</td>\n",
       "      <td>ЭМИИА ИИ (EMIIA.AI)</td>\n",
       "      <td>b35e276a-8a49-488d-b084-671c5b1c64d8</td>\n",
       "      <td>$2,017.00</td>\n",
       "      <td>early stage</td>\n",
       "      <td>Artificial Intelligence</td>\n",
       "      <td>Consumer P&amp;S</td>\n",
       "    </tr>\n",
       "    <tr>\n",
       "      <th>407518</th>\n",
       "      <td>508d7832-d44e-4b32-93dd-af9ef7a2b2ae</td>\n",
       "      <td>Seed Round - ЭМИИА ИИ (EMIIA.AI)</td>\n",
       "      <td>funding_round</td>\n",
       "      <td>emiia-ai-seed--508d7832</td>\n",
       "      <td>https://www.crunchbase.com/funding_round/emiia...</td>\n",
       "      <td>$329,213.00</td>\n",
       "      <td>2021-06-14 13:21:28</td>\n",
       "      <td>2021-06-14 13:21:28</td>\n",
       "      <td>RUS</td>\n",
       "      <td>NaN</td>\n",
       "      <td>...</td>\n",
       "      <td>$100,000.00</td>\n",
       "      <td>USD</td>\n",
       "      <td>$1.00</td>\n",
       "      <td>720e888f-8a3d-48f5-bed6-26cb42ba0d7c</td>\n",
       "      <td>ЭМИИА ИИ (EMIIA.AI)</td>\n",
       "      <td>1dbc1bd5-7f71-6862-ad39-2c1fd1e16f56</td>\n",
       "      <td>$2,021.00</td>\n",
       "      <td>early stage</td>\n",
       "      <td>Artificial Intelligence</td>\n",
       "      <td>Consumer P&amp;S</td>\n",
       "    </tr>\n",
       "    <tr>\n",
       "      <th>186552</th>\n",
       "      <td>b9642be8-95a3-4d5b-a32d-342f92b4f0f5</td>\n",
       "      <td>Equity Crowdfunding - ​​Zenz Organic</td>\n",
       "      <td>funding_round</td>\n",
       "      <td>zenz-organic-equity-crowdfunding--b9642be8</td>\n",
       "      <td>https://www.crunchbase.com/funding_round/zenz-...</td>\n",
       "      <td>$214,227.00</td>\n",
       "      <td>2018-01-04 04:55:42</td>\n",
       "      <td>2018-02-12 23:37:22</td>\n",
       "      <td>DNK</td>\n",
       "      <td>NaN</td>\n",
       "      <td>...</td>\n",
       "      <td>$41,916,720.00</td>\n",
       "      <td>DKK</td>\n",
       "      <td>NaN</td>\n",
       "      <td>85700750-9e29-473b-a5ac-30dbec63e071</td>\n",
       "      <td>​​Zenz Organic</td>\n",
       "      <td>NaN</td>\n",
       "      <td>$2,018.00</td>\n",
       "      <td>early stage</td>\n",
       "      <td>Consumer Goods</td>\n",
       "      <td>Energy</td>\n",
       "    </tr>\n",
       "    <tr>\n",
       "      <th>224909</th>\n",
       "      <td>76591133-f78b-4d61-b035-e91396e64441</td>\n",
       "      <td>Angel Round - 停車大聲公 PKLOT Inc</td>\n",
       "      <td>funding_round</td>\n",
       "      <td>停車大聲公-pklot-inc-angel--76591133</td>\n",
       "      <td>https://www.crunchbase.com/funding_round/停車大聲公...</td>\n",
       "      <td>$168,541.00</td>\n",
       "      <td>2018-09-16 04:07:34</td>\n",
       "      <td>2018-09-16 04:07:34</td>\n",
       "      <td>TWN</td>\n",
       "      <td>NaN</td>\n",
       "      <td>...</td>\n",
       "      <td>$115,000.00</td>\n",
       "      <td>USD</td>\n",
       "      <td>$2.00</td>\n",
       "      <td>168e52e0-b9f5-45be-8792-f5c1d96c68d2</td>\n",
       "      <td>停車大聲公 PKLOT Inc</td>\n",
       "      <td>9f85686a-94c1-4440-9847-85cadf9e42b4</td>\n",
       "      <td>$2,016.00</td>\n",
       "      <td>early stage</td>\n",
       "      <td>Apps</td>\n",
       "      <td>Commercial P&amp;S</td>\n",
       "    </tr>\n",
       "    <tr>\n",
       "      <th>396766</th>\n",
       "      <td>bed39afc-3031-4b63-b31c-6f1785330bf2</td>\n",
       "      <td>Secondary Market - 帆船</td>\n",
       "      <td>funding_round</td>\n",
       "      <td>帆船-secondary-market--bed39afc</td>\n",
       "      <td>https://www.crunchbase.com/funding_round/帆船-se...</td>\n",
       "      <td>$231,992.00</td>\n",
       "      <td>2021-04-28 05:06:23</td>\n",
       "      <td>2021-04-28 05:06:23</td>\n",
       "      <td>NaN</td>\n",
       "      <td>NaN</td>\n",
       "      <td>...</td>\n",
       "      <td>$6,500,000.00</td>\n",
       "      <td>USD</td>\n",
       "      <td>NaN</td>\n",
       "      <td>05342ba4-f338-4e68-b23a-92538934df8b</td>\n",
       "      <td>帆船</td>\n",
       "      <td>NaN</td>\n",
       "      <td>$2,019.00</td>\n",
       "      <td>other</td>\n",
       "      <td>NaN</td>\n",
       "      <td>Other</td>\n",
       "    </tr>\n",
       "  </tbody>\n",
       "</table>\n",
       "<p>26912 rows × 28 columns</p>\n",
       "</div>"
      ],
      "text/plain": [
       "                                        uuid  \\\n",
       "488522  23c8c92c-a7b9-43ae-8a29-920a81808e03   \n",
       "453294  0f340ff4-4489-4e98-858b-6a11db173ff6   \n",
       "299051  6bbaa3b1-813e-441c-832f-c095c0f7b8c7   \n",
       "299050  14acdcf0-fff9-45e3-9cf7-72f3cabcb9a9   \n",
       "252964  a52df74f-84d3-440c-ae0e-e2ad6c70ddfe   \n",
       "...                                      ...   \n",
       "321607  a8dddeb4-34bd-4332-8372-e36e8d8cf85f   \n",
       "407518  508d7832-d44e-4b32-93dd-af9ef7a2b2ae   \n",
       "186552  b9642be8-95a3-4d5b-a32d-342f92b4f0f5   \n",
       "224909  76591133-f78b-4d61-b035-e91396e64441   \n",
       "396766  bed39afc-3031-4b63-b31c-6f1785330bf2   \n",
       "\n",
       "                                        name           type  \\\n",
       "488522                   Seed Round - #tide®  funding_round   \n",
       "453294                  Seed Round - #walk15  funding_round   \n",
       "299051             Secondary Market - &pizza  funding_round   \n",
       "299050             Secondary Market - &pizza  funding_round   \n",
       "252964                Seed Round - .nanobile  funding_round   \n",
       "...                                      ...            ...   \n",
       "321607  Pre Seed Round - ЭМИИА ИИ (EMIIA.AI)  funding_round   \n",
       "407518      Seed Round - ЭМИИА ИИ (EMIIA.AI)  funding_round   \n",
       "186552  Equity Crowdfunding - ​​Zenz Organic  funding_round   \n",
       "224909         Angel Round - 停車大聲公 PKLOT Inc  funding_round   \n",
       "396766                 Secondary Market - 帆船  funding_round   \n",
       "\n",
       "                                         permalink  \\\n",
       "488522                    tide-571a-seed--23c8c92c   \n",
       "453294                  walk15-229d-seed--0f340ff4   \n",
       "299051          pizza-4-secondary-market--6bbaa3b1   \n",
       "299050          pizza-4-secondary-market--14acdcf0   \n",
       "252964                     nanobile-seed--a52df74f   \n",
       "...                                            ...   \n",
       "321607                 emiia-ai-pre-seed--a8dddeb4   \n",
       "407518                     emiia-ai-seed--508d7832   \n",
       "186552  zenz-organic-equity-crowdfunding--b9642be8   \n",
       "224909             停車大聲公-pklot-inc-angel--76591133   \n",
       "396766               帆船-secondary-market--bed39afc   \n",
       "\n",
       "                                                   cb_url        rank  \\\n",
       "488522  https://www.crunchbase.com/funding_round/tide-...  $57,863.00   \n",
       "453294  https://www.crunchbase.com/funding_round/walk1...  $16,539.00   \n",
       "299051  https://www.crunchbase.com/funding_round/pizza...  $91,875.00   \n",
       "299050  https://www.crunchbase.com/funding_round/pizza... $294,193.00   \n",
       "252964  https://www.crunchbase.com/funding_round/nanob... $383,807.00   \n",
       "...                                                   ...         ...   \n",
       "321607  https://www.crunchbase.com/funding_round/emiia... $417,091.00   \n",
       "407518  https://www.crunchbase.com/funding_round/emiia... $329,213.00   \n",
       "186552  https://www.crunchbase.com/funding_round/zenz-... $214,227.00   \n",
       "224909  https://www.crunchbase.com/funding_round/停車大聲公... $168,541.00   \n",
       "396766  https://www.crunchbase.com/funding_round/帆船-se... $231,992.00   \n",
       "\n",
       "                 created_at           updated_at country_code state_code  ...  \\\n",
       "488522  2022-06-10 05:50:18  2022-06-10 05:50:18          CHE        NaN  ...   \n",
       "453294  2022-01-19 15:18:26  2022-01-19 15:18:26          LTU        NaN  ...   \n",
       "299051  2020-03-03 22:30:46  2020-03-03 22:30:46          USA         DC  ...   \n",
       "299050  2020-03-03 22:28:27  2020-03-03 22:28:27          USA         DC  ...   \n",
       "252964  2019-04-23 19:14:34  2019-04-23 19:14:34          SRB        NaN  ...   \n",
       "...                     ...                  ...          ...        ...  ...   \n",
       "321607  2020-07-02 09:47:20  2020-07-02 09:47:20          RUS        NaN  ...   \n",
       "407518  2021-06-14 13:21:28  2021-06-14 13:21:28          RUS        NaN  ...   \n",
       "186552  2018-01-04 04:55:42  2018-02-12 23:37:22          DNK        NaN  ...   \n",
       "224909  2018-09-16 04:07:34  2018-09-16 04:07:34          TWN        NaN  ...   \n",
       "396766  2021-04-28 05:06:23  2021-04-28 05:06:23          NaN        NaN  ...   \n",
       "\n",
       "       post_money_valuation post_money_valuation_currency_code investor_count  \\\n",
       "488522       $12,500,000.00                                USD            NaN   \n",
       "453294        $5,268,500.00                                EUR          $4.00   \n",
       "299051       $55,000,000.00                                USD          $1.00   \n",
       "299050      $129,800,000.00                                USD          $1.00   \n",
       "252964        $8,000,000.00                                EUR            NaN   \n",
       "...                     ...                                ...            ...   \n",
       "321607          $350,000.00                                USD          $1.00   \n",
       "407518          $100,000.00                                USD          $1.00   \n",
       "186552       $41,916,720.00                                DKK            NaN   \n",
       "224909          $115,000.00                                USD          $2.00   \n",
       "396766        $6,500,000.00                                USD            NaN   \n",
       "\n",
       "                                    org_uuid             org_name  \\\n",
       "488522  2b424784-2a87-43be-aaf8-8d160b5f571a               #tide®   \n",
       "453294  46c4ee6e-fdda-4bb3-925d-eb8533bc229d              #walk15   \n",
       "299051  e098354a-5d4e-9365-0298-c8649e2b4861               &pizza   \n",
       "299050  e098354a-5d4e-9365-0298-c8649e2b4861               &pizza   \n",
       "252964  0ecd89e0-5ffb-42c5-8d5f-42bd0db3602f            .nanobile   \n",
       "...                                      ...                  ...   \n",
       "321607  720e888f-8a3d-48f5-bed6-26cb42ba0d7c  ЭМИИА ИИ (EMIIA.AI)   \n",
       "407518  720e888f-8a3d-48f5-bed6-26cb42ba0d7c  ЭМИИА ИИ (EMIIA.AI)   \n",
       "186552  85700750-9e29-473b-a5ac-30dbec63e071       ​​Zenz Organic   \n",
       "224909  168e52e0-b9f5-45be-8792-f5c1d96c68d2      停車大聲公 PKLOT Inc   \n",
       "396766  05342ba4-f338-4e68-b23a-92538934df8b                   帆船   \n",
       "\n",
       "                         lead_investor_uuids      year        stage  \\\n",
       "488522                                   NaN $2,020.00  early stage   \n",
       "453294                                   NaN $2,021.00  early stage   \n",
       "299051  8487d047-1992-47db-866f-6607accf43de $2,019.00        other   \n",
       "299050  8487d047-1992-47db-866f-6607accf43de $2,019.00        other   \n",
       "252964                                   NaN $2,019.00  early stage   \n",
       "...                                      ...       ...          ...   \n",
       "321607  b35e276a-8a49-488d-b084-671c5b1c64d8 $2,017.00  early stage   \n",
       "407518  1dbc1bd5-7f71-6862-ad39-2c1fd1e16f56 $2,021.00  early stage   \n",
       "186552                                   NaN $2,018.00  early stage   \n",
       "224909  9f85686a-94c1-4440-9847-85cadf9e42b4 $2,016.00  early stage   \n",
       "396766                                   NaN $2,019.00        other   \n",
       "\n",
       "                       category        meta_cat  \n",
       "488522            Manufacturing        Software  \n",
       "453294                     Apps  Commercial P&S  \n",
       "299051        Food and Beverage    Consumer P&S  \n",
       "299050        Food and Beverage    Consumer P&S  \n",
       "252964  Artificial Intelligence    Consumer P&S  \n",
       "...                         ...             ...  \n",
       "321607  Artificial Intelligence    Consumer P&S  \n",
       "407518  Artificial Intelligence    Consumer P&S  \n",
       "186552           Consumer Goods          Energy  \n",
       "224909                     Apps  Commercial P&S  \n",
       "396766                      NaN           Other  \n",
       "\n",
       "[26912 rows x 28 columns]"
      ]
     },
     "execution_count": 34,
     "metadata": {},
     "output_type": "execute_result"
    }
   ],
   "source": [
    "rounds[(rounds.post_money_valuation_usd > 0)].sort_values(by='org_name')"
   ]
  },
  {
   "cell_type": "code",
   "execution_count": 35,
   "metadata": {
    "collapsed": false,
    "pycharm": {
     "name": "#%%\n"
    }
   },
   "outputs": [
    {
     "data": {
      "text/html": [
       "<div>\n",
       "<style scoped>\n",
       "    .dataframe tbody tr th:only-of-type {\n",
       "        vertical-align: middle;\n",
       "    }\n",
       "\n",
       "    .dataframe tbody tr th {\n",
       "        vertical-align: top;\n",
       "    }\n",
       "\n",
       "    .dataframe thead th {\n",
       "        text-align: right;\n",
       "    }\n",
       "</style>\n",
       "<table border=\"1\" class=\"dataframe\">\n",
       "  <thead>\n",
       "    <tr style=\"text-align: right;\">\n",
       "      <th></th>\n",
       "      <th>announced_on</th>\n",
       "      <th>name</th>\n",
       "      <th>investors</th>\n",
       "      <th>status</th>\n",
       "      <th>amount_raised_usd</th>\n",
       "      <th>pre_money_valuation</th>\n",
       "      <th>post_money_valuation</th>\n",
       "      <th>country</th>\n",
       "      <th>round_type</th>\n",
       "      <th>industry_classification</th>\n",
       "    </tr>\n",
       "  </thead>\n",
       "  <tbody>\n",
       "    <tr>\n",
       "      <th>0</th>\n",
       "      <td>2021-09-06</td>\n",
       "      <td>Alif Bank OJSC</td>\n",
       "      <td>Jefferson Capital Holdings Llc</td>\n",
       "      <td>Closed</td>\n",
       "      <td>$8.00</td>\n",
       "      <td>$92.00</td>\n",
       "      <td>$100.00</td>\n",
       "      <td>NaN</td>\n",
       "      <td>Growth</td>\n",
       "      <td>Banks (Primary); Banks (Primary); Financials (...</td>\n",
       "    </tr>\n",
       "    <tr>\n",
       "      <th>1</th>\n",
       "      <td>2021-10-13</td>\n",
       "      <td>Dexterity, Inc.</td>\n",
       "      <td>Kleiner Perkins Caufield &amp; Byers; Presidio STX...</td>\n",
       "      <td>Closed</td>\n",
       "      <td>$140.00</td>\n",
       "      <td>$1,260.00</td>\n",
       "      <td>$1,400.00</td>\n",
       "      <td>United States</td>\n",
       "      <td>Series B</td>\n",
       "      <td>Capital Goods (Primary); Industrial Machinery ...</td>\n",
       "    </tr>\n",
       "    <tr>\n",
       "      <th>2</th>\n",
       "      <td>2015-11-25</td>\n",
       "      <td>Seaport Diagnostics, Inc.</td>\n",
       "      <td>180 Degree Capital Corp. (NasdaqGM:TURN); DEFT...</td>\n",
       "      <td>Closed</td>\n",
       "      <td>$12.50</td>\n",
       "      <td>$10.99</td>\n",
       "      <td>$23.49</td>\n",
       "      <td>United States</td>\n",
       "      <td>Series A</td>\n",
       "      <td>Biotechnology (Primary); Biotechnology (Primar...</td>\n",
       "    </tr>\n",
       "    <tr>\n",
       "      <th>3</th>\n",
       "      <td>2018-06-12</td>\n",
       "      <td>Seaport Diagnostics, Inc.</td>\n",
       "      <td>Laboratory Corporation of America Holdings (NY...</td>\n",
       "      <td>Closed</td>\n",
       "      <td>$26.17</td>\n",
       "      <td>$67.26</td>\n",
       "      <td>$93.43</td>\n",
       "      <td>United States</td>\n",
       "      <td>Series B</td>\n",
       "      <td>Biotechnology (Primary); Biotechnology (Primar...</td>\n",
       "    </tr>\n",
       "    <tr>\n",
       "      <th>4</th>\n",
       "      <td>2001-01-31</td>\n",
       "      <td>(X,Y,Z) Imaging Inc.</td>\n",
       "      <td>NaN</td>\n",
       "      <td>Effective</td>\n",
       "      <td>$1.88</td>\n",
       "      <td>$2.64</td>\n",
       "      <td>$4.52</td>\n",
       "      <td>NaN</td>\n",
       "      <td>Series A</td>\n",
       "      <td>Commercial and Professional Services (Primary)...</td>\n",
       "    </tr>\n",
       "    <tr>\n",
       "      <th>...</th>\n",
       "      <td>...</td>\n",
       "      <td>...</td>\n",
       "      <td>...</td>\n",
       "      <td>...</td>\n",
       "      <td>...</td>\n",
       "      <td>...</td>\n",
       "      <td>...</td>\n",
       "      <td>...</td>\n",
       "      <td>...</td>\n",
       "      <td>...</td>\n",
       "    </tr>\n",
       "    <tr>\n",
       "      <th>9995</th>\n",
       "      <td>2017-06-08</td>\n",
       "      <td>Hangzhou DT Dream Technology Co., Ltd.</td>\n",
       "      <td>Alibaba Group Holding Limited (NYSE:BABA); Zhe...</td>\n",
       "      <td>Closed</td>\n",
       "      <td>$110.29</td>\n",
       "      <td>$892.35</td>\n",
       "      <td>$1,002.65</td>\n",
       "      <td>China</td>\n",
       "      <td>Series A</td>\n",
       "      <td>Information Technology (Primary); Infrastructu...</td>\n",
       "    </tr>\n",
       "    <tr>\n",
       "      <th>9996</th>\n",
       "      <td>2019-09-26</td>\n",
       "      <td>Hangzhou DT Dream Technology Co., Ltd.</td>\n",
       "      <td>Zheshang Venture Capital Co., Ltd; Zhejiang St...</td>\n",
       "      <td>Closed</td>\n",
       "      <td>$84.12</td>\n",
       "      <td>$1,415.88</td>\n",
       "      <td>$1,500.00</td>\n",
       "      <td>China</td>\n",
       "      <td>Series B</td>\n",
       "      <td>Information Technology (Primary); Infrastructu...</td>\n",
       "    </tr>\n",
       "    <tr>\n",
       "      <th>9997</th>\n",
       "      <td>2015-10-29</td>\n",
       "      <td>Hangzhou Duiba Network Technology Co., Ltd.</td>\n",
       "      <td>NaN</td>\n",
       "      <td>Closed</td>\n",
       "      <td>$4.25</td>\n",
       "      <td>$27.22</td>\n",
       "      <td>$31.47</td>\n",
       "      <td>NaN</td>\n",
       "      <td>Series B</td>\n",
       "      <td>Information Technology (Primary); Information ...</td>\n",
       "    </tr>\n",
       "    <tr>\n",
       "      <th>9998</th>\n",
       "      <td>2014-08-31</td>\n",
       "      <td>Hangzhou Enniu Network Technology Co., Ltd.</td>\n",
       "      <td>GGV Capital, LLC; JD.com, Inc. (NasdaqGS:JD); ...</td>\n",
       "      <td>Closed</td>\n",
       "      <td>$50.00</td>\n",
       "      <td>$250.00</td>\n",
       "      <td>$300.00</td>\n",
       "      <td>NaN</td>\n",
       "      <td>Series B</td>\n",
       "      <td>Application Software (Primary); Information Te...</td>\n",
       "    </tr>\n",
       "    <tr>\n",
       "      <th>9999</th>\n",
       "      <td>2016-09-20</td>\n",
       "      <td>Hangzhou Enniu Network Technology Co., Ltd.</td>\n",
       "      <td>Xinhu Zhongbao Co.,Ltd. (SHSE:600208); Shenzhe...</td>\n",
       "      <td>Closed</td>\n",
       "      <td>$310.00</td>\n",
       "      <td>$690.00</td>\n",
       "      <td>$1,000.00</td>\n",
       "      <td>NaN</td>\n",
       "      <td>Series C</td>\n",
       "      <td>Application Software (Primary); Information Te...</td>\n",
       "    </tr>\n",
       "  </tbody>\n",
       "</table>\n",
       "<p>10000 rows × 10 columns</p>\n",
       "</div>"
      ],
      "text/plain": [
       "     announced_on                                         name  \\\n",
       "0      2021-09-06                               Alif Bank OJSC   \n",
       "1      2021-10-13                              Dexterity, Inc.   \n",
       "2      2015-11-25                    Seaport Diagnostics, Inc.   \n",
       "3      2018-06-12                    Seaport Diagnostics, Inc.   \n",
       "4      2001-01-31                         (X,Y,Z) Imaging Inc.   \n",
       "...           ...                                          ...   \n",
       "9995   2017-06-08       Hangzhou DT Dream Technology Co., Ltd.   \n",
       "9996   2019-09-26       Hangzhou DT Dream Technology Co., Ltd.   \n",
       "9997   2015-10-29  Hangzhou Duiba Network Technology Co., Ltd.   \n",
       "9998   2014-08-31  Hangzhou Enniu Network Technology Co., Ltd.   \n",
       "9999   2016-09-20  Hangzhou Enniu Network Technology Co., Ltd.   \n",
       "\n",
       "                                              investors     status  \\\n",
       "0                        Jefferson Capital Holdings Llc     Closed   \n",
       "1     Kleiner Perkins Caufield & Byers; Presidio STX...     Closed   \n",
       "2     180 Degree Capital Corp. (NasdaqGM:TURN); DEFT...     Closed   \n",
       "3     Laboratory Corporation of America Holdings (NY...     Closed   \n",
       "4                                                   NaN  Effective   \n",
       "...                                                 ...        ...   \n",
       "9995  Alibaba Group Holding Limited (NYSE:BABA); Zhe...     Closed   \n",
       "9996  Zheshang Venture Capital Co., Ltd; Zhejiang St...     Closed   \n",
       "9997                                                NaN     Closed   \n",
       "9998  GGV Capital, LLC; JD.com, Inc. (NasdaqGS:JD); ...     Closed   \n",
       "9999  Xinhu Zhongbao Co.,Ltd. (SHSE:600208); Shenzhe...     Closed   \n",
       "\n",
       "      amount_raised_usd  pre_money_valuation  post_money_valuation  \\\n",
       "0                 $8.00               $92.00               $100.00   \n",
       "1               $140.00            $1,260.00             $1,400.00   \n",
       "2                $12.50               $10.99                $23.49   \n",
       "3                $26.17               $67.26                $93.43   \n",
       "4                 $1.88                $2.64                 $4.52   \n",
       "...                 ...                  ...                   ...   \n",
       "9995            $110.29              $892.35             $1,002.65   \n",
       "9996             $84.12            $1,415.88             $1,500.00   \n",
       "9997              $4.25               $27.22                $31.47   \n",
       "9998             $50.00              $250.00               $300.00   \n",
       "9999            $310.00              $690.00             $1,000.00   \n",
       "\n",
       "            country round_type  \\\n",
       "0               NaN     Growth   \n",
       "1     United States   Series B   \n",
       "2     United States   Series A   \n",
       "3     United States   Series B   \n",
       "4               NaN   Series A   \n",
       "...             ...        ...   \n",
       "9995          China   Series A   \n",
       "9996          China   Series B   \n",
       "9997            NaN   Series B   \n",
       "9998            NaN   Series B   \n",
       "9999            NaN   Series C   \n",
       "\n",
       "                                industry_classification  \n",
       "0     Banks (Primary); Banks (Primary); Financials (...  \n",
       "1     Capital Goods (Primary); Industrial Machinery ...  \n",
       "2     Biotechnology (Primary); Biotechnology (Primar...  \n",
       "3     Biotechnology (Primary); Biotechnology (Primar...  \n",
       "4     Commercial and Professional Services (Primary)...  \n",
       "...                                                 ...  \n",
       "9995  Information Technology (Primary); Infrastructu...  \n",
       "9996  Information Technology (Primary); Infrastructu...  \n",
       "9997  Information Technology (Primary); Information ...  \n",
       "9998  Application Software (Primary); Information Te...  \n",
       "9999  Application Software (Primary); Information Te...  \n",
       "\n",
       "[10000 rows x 10 columns]"
      ]
     },
     "execution_count": 35,
     "metadata": {},
     "output_type": "execute_result"
    }
   ],
   "source": [
    "capitaliq = pd.read_excel('../../data/pmv_not_na.xls', skiprows=6, header=1, na_values='-')\n",
    "capitaliq.columns = ['announced_on', 'name', 'exchange',\n",
    "                     'investors', 'status',\n",
    "                     'amount_raised_usd',\n",
    "                     'pre_money_valuation',\n",
    "                     'post_money_valuation',\n",
    "                     'country', 'round_type',\n",
    "                     'industry_classification',\n",
    "                     'Excel Company ID [Target/Issuer]', 'CIK [Target/Issuer]',\n",
    "                     'SIC Codes (Primary Code Only) [Target/Issuer]']\n",
    "capitaliq = capitaliq.drop(columns=['exchange', 'Excel Company ID [Target/Issuer]', 'CIK [Target/Issuer]', 'SIC Codes (Primary Code Only) [Target/Issuer]'])\n",
    "capitaliq"
   ]
  },
  {
   "cell_type": "code",
   "execution_count": 36,
   "metadata": {
    "collapsed": false,
    "pycharm": {
     "name": "#%%\n"
    }
   },
   "outputs": [],
   "source": [
    "rnd_types = ['angel', 'series_a', 'series_b', 'seed', 'growth']\n",
    "growth = ['series_c', 'series_d', 'series_e', 'series_f', 'series_i', 'series_g', 'series_h', 'series_j']\n",
    "rounds.investment_type = rounds.investment_type.apply(lambda x: 'growth' if x in growth else x)\n",
    "rounds_activity = rounds[(rounds.announced_on.dt.year > 2000) & (rounds.investment_type.isin(rnd_types))].copy()\n",
    "rounds_activity['count'] = np.ones_like(rounds_activity.index)\n",
    "rounds_activity = rounds_activity.groupby([rounds_activity.announced_on.dt.year, rounds_activity.announced_on.dt.month, rounds_activity.investment_type]).sum()\n",
    "rounds_activity = rounds_activity[['raised_amount_usd', 'count']]\n",
    "rounds_activity.index.names = ['year', 'month', 'round_type']\n",
    "rounds_activity.reset_index(inplace=True)"
   ]
  },
  {
   "cell_type": "code",
   "execution_count": 37,
   "metadata": {
    "collapsed": false,
    "pycharm": {
     "name": "#%%\n"
    }
   },
   "outputs": [],
   "source": [
    "rounds_activity['period'] = rounds_activity.apply(lambda i: str(i.year) + '-' + str(i.month), axis=1)\n",
    "rounds_activity.period = pd.to_datetime(rounds_activity.period, format='%Y-%m')\n",
    "rounds_activity = rounds_activity[rounds_activity.period < '2022-06-01']\n",
    "rounds_activity.columns = ['year', 'month', 'round_type', 'raised_amount_usd', 'count', 'period']"
   ]
  },
  {
   "cell_type": "code",
   "execution_count": 38,
   "metadata": {
    "collapsed": false,
    "pycharm": {
     "name": "#%%\n"
    }
   },
   "outputs": [
    {
     "data": {
      "text/html": [
       "<div>\n",
       "<style scoped>\n",
       "    .dataframe tbody tr th:only-of-type {\n",
       "        vertical-align: middle;\n",
       "    }\n",
       "\n",
       "    .dataframe tbody tr th {\n",
       "        vertical-align: top;\n",
       "    }\n",
       "\n",
       "    .dataframe thead th {\n",
       "        text-align: right;\n",
       "    }\n",
       "</style>\n",
       "<table border=\"1\" class=\"dataframe\">\n",
       "  <thead>\n",
       "    <tr style=\"text-align: right;\">\n",
       "      <th></th>\n",
       "      <th>year</th>\n",
       "      <th>month</th>\n",
       "      <th>round_type</th>\n",
       "      <th>raised_amount_usd</th>\n",
       "      <th>count</th>\n",
       "      <th>period</th>\n",
       "    </tr>\n",
       "  </thead>\n",
       "  <tbody>\n",
       "    <tr>\n",
       "      <th>0</th>\n",
       "      <td>2001</td>\n",
       "      <td>1</td>\n",
       "      <td>angel</td>\n",
       "      <td>$0.00</td>\n",
       "      <td>3</td>\n",
       "      <td>2001-01-01</td>\n",
       "    </tr>\n",
       "    <tr>\n",
       "      <th>1</th>\n",
       "      <td>2001</td>\n",
       "      <td>1</td>\n",
       "      <td>growth</td>\n",
       "      <td>$892,600,000.00</td>\n",
       "      <td>25</td>\n",
       "      <td>2001-01-01</td>\n",
       "    </tr>\n",
       "    <tr>\n",
       "      <th>2</th>\n",
       "      <td>2001</td>\n",
       "      <td>1</td>\n",
       "      <td>seed</td>\n",
       "      <td>$9,375,997.00</td>\n",
       "      <td>36</td>\n",
       "      <td>2001-01-01</td>\n",
       "    </tr>\n",
       "    <tr>\n",
       "      <th>3</th>\n",
       "      <td>2001</td>\n",
       "      <td>1</td>\n",
       "      <td>series_a</td>\n",
       "      <td>$715,545,888.00</td>\n",
       "      <td>80</td>\n",
       "      <td>2001-01-01</td>\n",
       "    </tr>\n",
       "    <tr>\n",
       "      <th>4</th>\n",
       "      <td>2001</td>\n",
       "      <td>1</td>\n",
       "      <td>series_b</td>\n",
       "      <td>$1,255,739,751.00</td>\n",
       "      <td>64</td>\n",
       "      <td>2001-01-01</td>\n",
       "    </tr>\n",
       "    <tr>\n",
       "      <th>...</th>\n",
       "      <td>...</td>\n",
       "      <td>...</td>\n",
       "      <td>...</td>\n",
       "      <td>...</td>\n",
       "      <td>...</td>\n",
       "      <td>...</td>\n",
       "    </tr>\n",
       "    <tr>\n",
       "      <th>1275</th>\n",
       "      <td>2022</td>\n",
       "      <td>5</td>\n",
       "      <td>angel</td>\n",
       "      <td>$64,819,442.00</td>\n",
       "      <td>82</td>\n",
       "      <td>2022-05-01</td>\n",
       "    </tr>\n",
       "    <tr>\n",
       "      <th>1276</th>\n",
       "      <td>2022</td>\n",
       "      <td>5</td>\n",
       "      <td>growth</td>\n",
       "      <td>$10,894,435,352.00</td>\n",
       "      <td>116</td>\n",
       "      <td>2022-05-01</td>\n",
       "    </tr>\n",
       "    <tr>\n",
       "      <th>1277</th>\n",
       "      <td>2022</td>\n",
       "      <td>5</td>\n",
       "      <td>seed</td>\n",
       "      <td>$2,660,346,373.00</td>\n",
       "      <td>824</td>\n",
       "      <td>2022-05-01</td>\n",
       "    </tr>\n",
       "    <tr>\n",
       "      <th>1278</th>\n",
       "      <td>2022</td>\n",
       "      <td>5</td>\n",
       "      <td>series_a</td>\n",
       "      <td>$5,286,068,655.00</td>\n",
       "      <td>345</td>\n",
       "      <td>2022-05-01</td>\n",
       "    </tr>\n",
       "    <tr>\n",
       "      <th>1279</th>\n",
       "      <td>2022</td>\n",
       "      <td>5</td>\n",
       "      <td>series_b</td>\n",
       "      <td>$6,951,339,602.00</td>\n",
       "      <td>186</td>\n",
       "      <td>2022-05-01</td>\n",
       "    </tr>\n",
       "  </tbody>\n",
       "</table>\n",
       "<p>1280 rows × 6 columns</p>\n",
       "</div>"
      ],
      "text/plain": [
       "      year  month round_type  raised_amount_usd  count     period\n",
       "0     2001      1      angel              $0.00      3 2001-01-01\n",
       "1     2001      1     growth    $892,600,000.00     25 2001-01-01\n",
       "2     2001      1       seed      $9,375,997.00     36 2001-01-01\n",
       "3     2001      1   series_a    $715,545,888.00     80 2001-01-01\n",
       "4     2001      1   series_b  $1,255,739,751.00     64 2001-01-01\n",
       "...    ...    ...        ...                ...    ...        ...\n",
       "1275  2022      5      angel     $64,819,442.00     82 2022-05-01\n",
       "1276  2022      5     growth $10,894,435,352.00    116 2022-05-01\n",
       "1277  2022      5       seed  $2,660,346,373.00    824 2022-05-01\n",
       "1278  2022      5   series_a  $5,286,068,655.00    345 2022-05-01\n",
       "1279  2022      5   series_b  $6,951,339,602.00    186 2022-05-01\n",
       "\n",
       "[1280 rows x 6 columns]"
      ]
     },
     "execution_count": 38,
     "metadata": {},
     "output_type": "execute_result"
    }
   ],
   "source": [
    "rounds_activity"
   ]
  },
  {
   "cell_type": "code",
   "execution_count": 39,
   "metadata": {
    "collapsed": false,
    "pycharm": {
     "name": "#%%\n"
    }
   },
   "outputs": [
    {
     "data": {
      "image/png": "[encoded data removed]",
      "text/plain": [
       "<Figure size 1080x360 with 2 Axes>"
      ]
     },
     "metadata": {
      "needs_background": "light"
     },
     "output_type": "display_data"
    }
   ],
   "source": [
    "fig, axs = plt.subplots(nrows=1, ncols=2, figsize=(15, 5))\n",
    "\n",
    "for tp in rounds_activity.round_type.unique():\n",
    "    axs[0].plot(rounds_activity[rounds_activity.round_type == tp][['period', 'count']].set_index('period'), label=tp)\n",
    "axs[0].legend()\n",
    "for tp in rounds_activity.round_type.unique():\n",
    "    axs[1].plot(rounds_activity[(rounds_activity.period.dt.year > 2019) & (rounds_activity.round_type == tp)][['period', 'count']].set_index('period'), label=tp)\n",
    "plt.xticks(rotation=30)\n",
    "plt.show()"
   ]
  },
  {
   "cell_type": "code",
   "execution_count": 40,
   "metadata": {
    "collapsed": false,
    "pycharm": {
     "name": "#%%\n"
    }
   },
   "outputs": [
    {
     "data": {
      "image/png": "[encoded data removed]",
      "text/plain": [
       "<Figure size 1080x360 with 2 Axes>"
      ]
     },
     "metadata": {
      "needs_background": "light"
     },
     "output_type": "display_data"
    }
   ],
   "source": [
    "fig, axs = plt.subplots(nrows=1, ncols=2, figsize=(15, 5))\n",
    "\n",
    "for tp in rounds_activity.round_type.unique():\n",
    "    axs[0].plot(rounds_activity[rounds_activity.round_type == tp][['period', 'raised_amount_usd']].set_index('period'), label=tp)\n",
    "axs[0].legend()\n",
    "for tp in rounds_activity.round_type.unique():\n",
    "    axs[1].plot(rounds_activity[(rounds_activity.period.dt.year > 2019) & (rounds_activity.round_type == tp)][['period', 'raised_amount_usd']].set_index('period'), label=tp)\n",
    "plt.xticks(rotation=30)\n",
    "plt.show()"
   ]
  },
  {
   "cell_type": "code",
   "execution_count": 41,
   "metadata": {
    "collapsed": false,
    "pycharm": {
     "name": "#%%\n"
    }
   },
   "outputs": [
    {
     "data": {
      "text/plain": [
       "<AxesSubplot:ylabel='Count'>"
      ]
     },
     "execution_count": 41,
     "metadata": {},
     "output_type": "execute_result"
    },
    {
     "data": {
      "image/png": "[encoded data removed]",
      "text/plain": [
       "<Figure size 432x288 with 1 Axes>"
      ]
     },
     "metadata": {
      "needs_background": "light"
     },
     "output_type": "display_data"
    }
   ],
   "source": [
    "sp500 = get_yfinance_time_series('^GSPC', start=2020, end=None)\n",
    "daily_ret = sp500.pct_change()\n",
    "daily_ret = daily_ret.reset_index()\n",
    "daily_ret.columns=['date', 'S&P500']\n",
    "sns.histplot(data=daily_ret)"
   ]
  },
  {
   "cell_type": "code",
   "execution_count": 42,
   "metadata": {},
   "outputs": [],
   "source": [
    "ipos = pd.read_csv('../../data/crunchbase/ipos.csv')\n",
    "acqs = pd.read_csv('../../data/crunchbase/acquisitions.csv')"
   ]
  },
  {
   "cell_type": "code",
   "execution_count": 43,
   "metadata": {},
   "outputs": [
    {
     "data": {
      "text/plain": [
       "status\n",
       "acquired      5.37%\n",
       "closed        6.75%\n",
       "ipo           1.96%\n",
       "operating    85.92%\n",
       "dtype: object"
      ]
     },
     "execution_count": 43,
     "metadata": {},
     "output_type": "execute_result"
    }
   ],
   "source": [
    "prop = orgs.groupby(orgs.status).size() / orgs.shape[0]\n",
    "prop = prop.map('{:.2%}'.format)\n",
    "prop"
   ]
  },
  {
   "cell_type": "code",
   "execution_count": 44,
   "metadata": {},
   "outputs": [
    {
     "data": {
      "text/plain": [
       "country_code\n",
       "ISR     $382,713,194.75\n",
       "FRA     $464,908,435.71\n",
       "DEU     $708,306,670.33\n",
       "USA     $752,489,466.00\n",
       "SWE     $769,319,173.00\n",
       "JPN     $801,605,945.59\n",
       "NLD     $980,683,558.29\n",
       "KOR   $1,071,824,310.40\n",
       "IND   $1,492,001,421.91\n",
       "CHN   $3,740,649,603.87\n",
       "Name: post_money_valuation_usd, dtype: float64"
      ]
     },
     "execution_count": 44,
     "metadata": {},
     "output_type": "execute_result"
    }
   ],
   "source": [
    "big_countries = rounds.groupby('country_code').size()\n",
    "big_countries = big_countries[big_countries > 2000]\n",
    "\n",
    "df = rounds[rounds.country_code.isin(big_countries.index)]\n",
    "df.groupby('country_code').mean().post_money_valuation_usd.sort_values().dropna()[-10:]"
   ]
  },
  {
   "cell_type": "code",
   "execution_count": 45,
   "metadata": {},
   "outputs": [
    {
     "data": {
      "text/plain": [
       "meta_cat\n",
       "Energy             240032741\n",
       "IT Hardware        321047387\n",
       "Healthcare         514380516\n",
       "Consumer P&S       699197887\n",
       "Media              755851857\n",
       "Other              785034317\n",
       "Software           795735627\n",
       "Commercial P&S     886942277\n",
       "Biotech           1116849097\n",
       "Name: post_money_valuation_usd, dtype: int64"
      ]
     },
     "execution_count": 45,
     "metadata": {},
     "output_type": "execute_result"
    }
   ],
   "source": [
    "df.groupby('meta_cat').mean().post_money_valuation_usd.sort_values().dropna()[-10:].astype(int)"
   ]
  },
  {
   "cell_type": "code",
   "execution_count": 46,
   "metadata": {},
   "outputs": [
    {
     "name": "stderr",
     "output_type": "stream",
     "text": [
      "/var/folders/9g/9p32rxp10c37hppq5lydn44c0000gn/T/ipykernel_48085/2238396604.py:1: DtypeWarning:\n",
      "\n",
      "Columns (6) have mixed types. Specify dtype option on import or set low_memory=False.\n",
      "\n",
      "No artists with labels found to put in legend.  Note that artists whose label start with an underscore are ignored when legend() is called with no argument.\n"
     ]
    },
    {
     "data": {
      "image/png": "[encoded data removed]",
      "text/plain": [
       "<Figure size 360x432 with 2 Axes>"
      ]
     },
     "metadata": {
      "needs_background": "light"
     },
     "output_type": "display_data"
    }
   ],
   "source": [
    "complete = pd.read_csv('../../data/data.csv')\n",
    "\n",
    "fig, axs = plt.subplots(nrows=2, ncols=1, figsize=(5,6))\n",
    "sns.histplot(complete[complete.return_usd < 100].return_usd, ax=axs[0], bins=70, stat=\"density\")\n",
    "sns.histplot(np.log(complete.return_usd.dropna()), bins=50, stat=\"density\", ax=axs[1])\n",
    "sns.kdeplot(np.log(complete.return_usd.dropna()), color=\"r\", ax=axs[1])\n",
    "axs[0].set_xlabel('Return')\n",
    "axs[1].set_xlabel('log(Return)')\n",
    "axs[1].legend(title=f'$\\mu$ = {np.log(complete.return_usd.dropna()).mean():.2f}\\n$\\sigma$ = {np.log(complete.return_usd.dropna()).std():.2f}')\n",
    "plt.savefig('figures/returns.pdf')"
   ]
  },
  {
   "cell_type": "code",
   "execution_count": 47,
   "metadata": {},
   "outputs": [
    {
     "name": "stdout",
     "output_type": "stream",
     "text": [
      "Missing PMVs: 94.53% (465022)\n",
      "Available PMVs: 5.47% (26914)\n"
     ]
    }
   ],
   "source": [
    "original = pd.read_csv('../../data/crunchbase/funding_rounds.csv')\n",
    "print(f'Missing PMVs: {original.post_money_valuation_usd.isna().sum() / original.shape[0] * 100:.2f}% ({original.post_money_valuation_usd.isna().sum()})')\n",
    "print(f'Available PMVs: {original.post_money_valuation_usd.notna().sum() / original.shape[0] * 100:.2f}% ({original.post_money_valuation_usd.notna().sum()})')"
   ]
  },
  {
   "cell_type": "code",
   "execution_count": 48,
   "metadata": {},
   "outputs": [
    {
     "data": {
      "text/html": [
       "<div>\n",
       "<style scoped>\n",
       "    .dataframe tbody tr th:only-of-type {\n",
       "        vertical-align: middle;\n",
       "    }\n",
       "\n",
       "    .dataframe tbody tr th {\n",
       "        vertical-align: top;\n",
       "    }\n",
       "\n",
       "    .dataframe thead th {\n",
       "        text-align: right;\n",
       "    }\n",
       "</style>\n",
       "<table border=\"1\" class=\"dataframe\">\n",
       "  <thead>\n",
       "    <tr style=\"text-align: right;\">\n",
       "      <th></th>\n",
       "      <th>company_num</th>\n",
       "      <th>group_num</th>\n",
       "      <th>seg_num</th>\n",
       "      <th>round_date</th>\n",
       "      <th>raised_usd</th>\n",
       "      <th>postvalue_usd</th>\n",
       "      <th>exit_date</th>\n",
       "      <th>exit_type</th>\n",
       "      <th>exit_value</th>\n",
       "      <th>return_usd</th>\n",
       "    </tr>\n",
       "  </thead>\n",
       "  <tbody>\n",
       "    <tr>\n",
       "      <th>0</th>\n",
       "      <td>000cff2d-58df-0a9a-97ea-6b73ed9ec601</td>\n",
       "      <td>NaN</td>\n",
       "      <td>NaN</td>\n",
       "      <td>2016-07-21</td>\n",
       "      <td>$100,000.00</td>\n",
       "      <td>$1,120,240.14</td>\n",
       "      <td>2020-03-06</td>\n",
       "      <td>2</td>\n",
       "      <td>NaN</td>\n",
       "      <td>NaN</td>\n",
       "    </tr>\n",
       "    <tr>\n",
       "      <th>1</th>\n",
       "      <td>0012f446-a31b-9eb8-4fa0-448ed0414112</td>\n",
       "      <td>NaN</td>\n",
       "      <td>NaN</td>\n",
       "      <td>2000-03-07</td>\n",
       "      <td>$14,000,000.00</td>\n",
       "      <td>$70,598,575.43</td>\n",
       "      <td>2005-06-01</td>\n",
       "      <td>3</td>\n",
       "      <td>NaN</td>\n",
       "      <td>NaN</td>\n",
       "    </tr>\n",
       "    <tr>\n",
       "      <th>2</th>\n",
       "      <td>00251aad-6e34-0898-8a72-fe8864a90f92</td>\n",
       "      <td>NaN</td>\n",
       "      <td>NaN</td>\n",
       "      <td>2012-10-04</td>\n",
       "      <td>$650,532.00</td>\n",
       "      <td>$3,238,880.30</td>\n",
       "      <td>2016-11-08</td>\n",
       "      <td>2</td>\n",
       "      <td>NaN</td>\n",
       "      <td>NaN</td>\n",
       "    </tr>\n",
       "    <tr>\n",
       "      <th>3</th>\n",
       "      <td>002aac96-79d4-a8f3-8ef0-d44fb240951d</td>\n",
       "      <td>NaN</td>\n",
       "      <td>NaN</td>\n",
       "      <td>2000-05-12</td>\n",
       "      <td>$3,000,000.00</td>\n",
       "      <td>$11,260,369.05</td>\n",
       "      <td>2006-11-09</td>\n",
       "      <td>2</td>\n",
       "      <td>NaN</td>\n",
       "      <td>NaN</td>\n",
       "    </tr>\n",
       "    <tr>\n",
       "      <th>4</th>\n",
       "      <td>002e0b73-ab4e-bfd5-0d9a-e6df8fede446</td>\n",
       "      <td>NaN</td>\n",
       "      <td>NaN</td>\n",
       "      <td>2016-01-11</td>\n",
       "      <td>$45,000,000.00</td>\n",
       "      <td>$210,429,441.57</td>\n",
       "      <td>2020-12-15</td>\n",
       "      <td>1</td>\n",
       "      <td>$577,580,000.00</td>\n",
       "      <td>$2.44</td>\n",
       "    </tr>\n",
       "    <tr>\n",
       "      <th>...</th>\n",
       "      <td>...</td>\n",
       "      <td>...</td>\n",
       "      <td>...</td>\n",
       "      <td>...</td>\n",
       "      <td>...</td>\n",
       "      <td>...</td>\n",
       "      <td>...</td>\n",
       "      <td>...</td>\n",
       "      <td>...</td>\n",
       "      <td>...</td>\n",
       "    </tr>\n",
       "    <tr>\n",
       "      <th>119856</th>\n",
       "      <td>fffe3b0b-8545-4414-9c0e-a3f961c4e420</td>\n",
       "      <td>NaN</td>\n",
       "      <td>NaN</td>\n",
       "      <td>2017-02-07</td>\n",
       "      <td>$14,523,274.00</td>\n",
       "      <td>$85,258,286.20</td>\n",
       "      <td>NaN</td>\n",
       "      <td>4</td>\n",
       "      <td>NaN</td>\n",
       "      <td>NaN</td>\n",
       "    </tr>\n",
       "    <tr>\n",
       "      <th>119857</th>\n",
       "      <td>ffff2bea-7e44-4563-b311-65daadb683cd</td>\n",
       "      <td>NaN</td>\n",
       "      <td>NaN</td>\n",
       "      <td>2010-12-07</td>\n",
       "      <td>$451,407.00</td>\n",
       "      <td>$2,387,976.17</td>\n",
       "      <td>NaN</td>\n",
       "      <td>4</td>\n",
       "      <td>NaN</td>\n",
       "      <td>NaN</td>\n",
       "    </tr>\n",
       "    <tr>\n",
       "      <th>119858</th>\n",
       "      <td>ffff2bea-7e44-4563-b311-65daadb683cd</td>\n",
       "      <td>NaN</td>\n",
       "      <td>NaN</td>\n",
       "      <td>2013-04-25</td>\n",
       "      <td>$1,616,916.00</td>\n",
       "      <td>$8,092,736.68</td>\n",
       "      <td>NaN</td>\n",
       "      <td>4</td>\n",
       "      <td>NaN</td>\n",
       "      <td>NaN</td>\n",
       "    </tr>\n",
       "    <tr>\n",
       "      <th>119859</th>\n",
       "      <td>ffffabce-6d4a-b3d1-13c0-4e90cedf5270</td>\n",
       "      <td>NaN</td>\n",
       "      <td>NaN</td>\n",
       "      <td>2016-05-15</td>\n",
       "      <td>$210,000.00</td>\n",
       "      <td>$2,649,444.56</td>\n",
       "      <td>NaN</td>\n",
       "      <td>4</td>\n",
       "      <td>NaN</td>\n",
       "      <td>NaN</td>\n",
       "    </tr>\n",
       "    <tr>\n",
       "      <th>119860</th>\n",
       "      <td>ffffabce-6d4a-b3d1-13c0-4e90cedf5270</td>\n",
       "      <td>NaN</td>\n",
       "      <td>NaN</td>\n",
       "      <td>2017-02-09</td>\n",
       "      <td>$700,000.00</td>\n",
       "      <td>$3,528,938.96</td>\n",
       "      <td>NaN</td>\n",
       "      <td>4</td>\n",
       "      <td>NaN</td>\n",
       "      <td>NaN</td>\n",
       "    </tr>\n",
       "  </tbody>\n",
       "</table>\n",
       "<p>119861 rows × 10 columns</p>\n",
       "</div>"
      ],
      "text/plain": [
       "                                 company_num  group_num  seg_num  round_date  \\\n",
       "0       000cff2d-58df-0a9a-97ea-6b73ed9ec601        NaN      NaN  2016-07-21   \n",
       "1       0012f446-a31b-9eb8-4fa0-448ed0414112        NaN      NaN  2000-03-07   \n",
       "2       00251aad-6e34-0898-8a72-fe8864a90f92        NaN      NaN  2012-10-04   \n",
       "3       002aac96-79d4-a8f3-8ef0-d44fb240951d        NaN      NaN  2000-05-12   \n",
       "4       002e0b73-ab4e-bfd5-0d9a-e6df8fede446        NaN      NaN  2016-01-11   \n",
       "...                                      ...        ...      ...         ...   \n",
       "119856  fffe3b0b-8545-4414-9c0e-a3f961c4e420        NaN      NaN  2017-02-07   \n",
       "119857  ffff2bea-7e44-4563-b311-65daadb683cd        NaN      NaN  2010-12-07   \n",
       "119858  ffff2bea-7e44-4563-b311-65daadb683cd        NaN      NaN  2013-04-25   \n",
       "119859  ffffabce-6d4a-b3d1-13c0-4e90cedf5270        NaN      NaN  2016-05-15   \n",
       "119860  ffffabce-6d4a-b3d1-13c0-4e90cedf5270        NaN      NaN  2017-02-09   \n",
       "\n",
       "           raised_usd   postvalue_usd   exit_date  exit_type      exit_value  \\\n",
       "0         $100,000.00   $1,120,240.14  2020-03-06          2             NaN   \n",
       "1      $14,000,000.00  $70,598,575.43  2005-06-01          3             NaN   \n",
       "2         $650,532.00   $3,238,880.30  2016-11-08          2             NaN   \n",
       "3       $3,000,000.00  $11,260,369.05  2006-11-09          2             NaN   \n",
       "4      $45,000,000.00 $210,429,441.57  2020-12-15          1 $577,580,000.00   \n",
       "...               ...             ...         ...        ...             ...   \n",
       "119856 $14,523,274.00  $85,258,286.20         NaN          4             NaN   \n",
       "119857    $451,407.00   $2,387,976.17         NaN          4             NaN   \n",
       "119858  $1,616,916.00   $8,092,736.68         NaN          4             NaN   \n",
       "119859    $210,000.00   $2,649,444.56         NaN          4             NaN   \n",
       "119860    $700,000.00   $3,528,938.96         NaN          4             NaN   \n",
       "\n",
       "        return_usd  \n",
       "0              NaN  \n",
       "1              NaN  \n",
       "2              NaN  \n",
       "3              NaN  \n",
       "4            $2.44  \n",
       "...            ...  \n",
       "119856         NaN  \n",
       "119857         NaN  \n",
       "119858         NaN  \n",
       "119859         NaN  \n",
       "119860         NaN  \n",
       "\n",
       "[119861 rows x 10 columns]"
      ]
     },
     "execution_count": 48,
     "metadata": {},
     "output_type": "execute_result"
    }
   ],
   "source": [
    "complete"
   ]
  },
  {
   "cell_type": "code",
   "execution_count": 49,
   "metadata": {},
   "outputs": [],
   "source": [
    "rounds['year_added'] = pd.to_datetime(rounds.created_at).dt.year"
   ]
  },
  {
   "cell_type": "code",
   "execution_count": 50,
   "metadata": {},
   "outputs": [],
   "source": [
    "s = pd.to_datetime(rounds.created_at)\n",
    "added_num = s.groupby(s.dt.floor('d')).size()"
   ]
  },
  {
   "cell_type": "code",
   "execution_count": 51,
   "metadata": {},
   "outputs": [
    {
     "data": {
      "image/png": "[encoded data removed]",
      "text/plain": [
       "<Figure size 432x288 with 1 Axes>"
      ]
     },
     "metadata": {
      "needs_background": "light"
     },
     "output_type": "display_data"
    }
   ],
   "source": [
    "sns.lineplot(x=added_num.index, y=added_num.values)\n",
    "plt.xlabel('date added')\n",
    "plt.ylabel('# of observations added')\n",
    "plt.savefig('figures/date_added.pdf')"
   ]
  },
  {
   "cell_type": "code",
   "execution_count": 52,
   "metadata": {},
   "outputs": [
    {
     "data": {
      "text/plain": [
       "143.0577792123951"
      ]
     },
     "execution_count": 52,
     "metadata": {},
     "output_type": "execute_result"
    }
   ],
   "source": [
    "added_num[added_num.index.year > 2013].mean()"
   ]
  },
  {
   "cell_type": "code",
   "execution_count": 53,
   "metadata": {},
   "outputs": [
    {
     "data": {
      "text/plain": [
       "created_at\n",
       "2007-05-27      3\n",
       "2007-05-29      1\n",
       "2007-05-31      2\n",
       "2007-06-01      2\n",
       "2007-06-02      2\n",
       "             ... \n",
       "2022-06-24    242\n",
       "2022-06-25     35\n",
       "2022-06-26     34\n",
       "2022-06-27    272\n",
       "2022-06-28      1\n",
       "Name: created_at, Length: 5397, dtype: int64"
      ]
     },
     "execution_count": 53,
     "metadata": {},
     "output_type": "execute_result"
    }
   ],
   "source": [
    "added_num"
   ]
  },
  {
   "cell_type": "code",
   "execution_count": 129,
   "metadata": {},
   "outputs": [],
   "source": [
    "returns = pd.read_csv('../../data/data_nopred.csv', low_memory=False)"
   ]
  },
  {
   "cell_type": "code",
   "execution_count": 126,
   "metadata": {},
   "outputs": [
    {
     "ename": "NameError",
     "evalue": "name 'rounds' is not defined",
     "output_type": "error",
     "traceback": [
      "\u001b[0;31m---------------------------------------------------------------------------\u001b[0m",
      "\u001b[0;31mNameError\u001b[0m                                 Traceback (most recent call last)",
      "\u001b[1;32m/Users/fburguet/Projects/cyd_campus/17-Portfolios-of-Emerging-Tech/src/notebooks/stylized_facts.ipynb Cell 40'\u001b[0m in \u001b[0;36m<cell line: 1>\u001b[0;34m()\u001b[0m\n\u001b[0;32m----> <a href='vscode-notebook-cell:/Users/fburguet/Projects/cyd_campus/17-Portfolios-of-Emerging-Tech/src/notebooks/stylized_facts.ipynb#ch0000039?line=0'>1</a>\u001b[0m cat_org_map \u001b[39m=\u001b[39m rounds[rounds\u001b[39m.\u001b[39morg_uuid\u001b[39m.\u001b[39misin(rounds\u001b[39m.\u001b[39morg_uuid\u001b[39m.\u001b[39munique())][[\u001b[39m'\u001b[39m\u001b[39morg_uuid\u001b[39m\u001b[39m'\u001b[39m, \u001b[39m'\u001b[39m\u001b[39mcategory\u001b[39m\u001b[39m'\u001b[39m, \u001b[39m'\u001b[39m\u001b[39mmeta_cat\u001b[39m\u001b[39m'\u001b[39m]]\n\u001b[1;32m      <a href='vscode-notebook-cell:/Users/fburguet/Projects/cyd_campus/17-Portfolios-of-Emerging-Tech/src/notebooks/stylized_facts.ipynb#ch0000039?line=1'>2</a>\u001b[0m cat_org_map \u001b[39m=\u001b[39m cat_org_map\u001b[39m.\u001b[39mset_index(\u001b[39m'\u001b[39m\u001b[39morg_uuid\u001b[39m\u001b[39m'\u001b[39m)\n\u001b[1;32m      <a href='vscode-notebook-cell:/Users/fburguet/Projects/cyd_campus/17-Portfolios-of-Emerging-Tech/src/notebooks/stylized_facts.ipynb#ch0000039?line=3'>4</a>\u001b[0m returns\u001b[39m.\u001b[39mseg_num \u001b[39m=\u001b[39m returns\u001b[39m.\u001b[39mcompany_num\u001b[39m.\u001b[39mmap(cat_org_map\u001b[39m.\u001b[39mcategory\u001b[39m.\u001b[39mto_dict())\n",
      "\u001b[0;31mNameError\u001b[0m: name 'rounds' is not defined"
     ]
    }
   ],
   "source": [
    "cat_org_map = rounds[rounds.org_uuid.isin(rounds.org_uuid.unique())][['org_uuid', 'category', 'meta_cat']]\n",
    "cat_org_map = cat_org_map.set_index('org_uuid')\n",
    "\n",
    "returns.seg_num = returns.company_num.map(cat_org_map.category.to_dict())\n",
    "returns.group_num = returns.company_num.map(cat_org_map.meta_cat.to_dict())"
   ]
  },
  {
   "cell_type": "code",
   "execution_count": 134,
   "metadata": {},
   "outputs": [],
   "source": [
    "returns.to_csv('../../data/data_nopred.csv', index=False)"
   ]
  },
  {
   "cell_type": "code",
   "execution_count": 137,
   "metadata": {},
   "outputs": [],
   "source": [
    "returns = pd.read_csv('../../data/data_nopred.csv')\n",
    "ret_sort = np.log(returns.return_usd.dropna())"
   ]
  },
  {
   "cell_type": "code",
   "execution_count": 211,
   "metadata": {},
   "outputs": [
    {
     "data": {
      "text/html": [
       "<div>\n",
       "<style scoped>\n",
       "    .dataframe tbody tr th:only-of-type {\n",
       "        vertical-align: middle;\n",
       "    }\n",
       "\n",
       "    .dataframe tbody tr th {\n",
       "        vertical-align: top;\n",
       "    }\n",
       "\n",
       "    .dataframe thead th {\n",
       "        text-align: right;\n",
       "    }\n",
       "</style>\n",
       "<table border=\"1\" class=\"dataframe\">\n",
       "  <thead>\n",
       "    <tr style=\"text-align: right;\">\n",
       "      <th></th>\n",
       "      <th>sumsquare_error</th>\n",
       "      <th>aic</th>\n",
       "      <th>bic</th>\n",
       "      <th>kl_div</th>\n",
       "    </tr>\n",
       "  </thead>\n",
       "  <tbody>\n",
       "    <tr>\n",
       "      <th>johnsonsu</th>\n",
       "      <td>0.092966</td>\n",
       "      <td>755.085279</td>\n",
       "      <td>-8355.077308</td>\n",
       "      <td>inf</td>\n",
       "    </tr>\n",
       "    <tr>\n",
       "      <th>laplace_asymmetric</th>\n",
       "      <td>0.106367</td>\n",
       "      <td>749.789744</td>\n",
       "      <td>-8239.077544</td>\n",
       "      <td>inf</td>\n",
       "    </tr>\n",
       "    <tr>\n",
       "      <th>skewcauchy</th>\n",
       "      <td>0.127741</td>\n",
       "      <td>700.301190</td>\n",
       "      <td>-8072.087263</td>\n",
       "      <td>inf</td>\n",
       "    </tr>\n",
       "    <tr>\n",
       "      <th>johnsonsb</th>\n",
       "      <td>0.306243</td>\n",
       "      <td>866.653012</td>\n",
       "      <td>-7267.840038</td>\n",
       "      <td>inf</td>\n",
       "    </tr>\n",
       "  </tbody>\n",
       "</table>\n",
       "</div>"
      ],
      "text/plain": [
       "                    sumsquare_error         aic          bic  kl_div\n",
       "johnsonsu                  0.092966  755.085279 -8355.077308     inf\n",
       "laplace_asymmetric         0.106367  749.789744 -8239.077544     inf\n",
       "skewcauchy                 0.127741  700.301190 -8072.087263     inf\n",
       "johnsonsb                  0.306243  866.653012 -7267.840038     inf"
      ]
     },
     "execution_count": 211,
     "metadata": {},
     "output_type": "execute_result"
    },
    {
     "data": {
      "image/png": "[encoded data removed]",
      "text/plain": [
       "<Figure size 432x288 with 1 Axes>"
      ]
     },
     "metadata": {
      "needs_background": "light"
     },
     "output_type": "display_data"
    }
   ],
   "source": [
    "f = Fitter(ret_sort, distributions=['johnsonsu', 'johnsonsb', 'laplace_asymmetric', 'skewcauchy'])\n",
    "f.fit()\n",
    "f.summary()"
   ]
  },
  {
   "cell_type": "code",
   "execution_count": 202,
   "metadata": {},
   "outputs": [],
   "source": [
    "from scipy.stats import norm, johnsonsu\n",
    "\n",
    "# data\n",
    "count, bins_count = np.histogram(ret_sort, bins=500)\n",
    "cdf_ret = np.cumsum(count / sum(count))\n",
    "# normal\n",
    "loc_norm, scale_norm = norm.fit(ret_sort)\n",
    "cdf_th = norm.cdf(bins_count[1:], loc_norm, scale_norm)\n",
    "# SSSSUUUUU\n",
    "a, b, loc_su, scale_su = f.get_best()['johnsonsu'].values()\n",
    "cdf_th_su = johnsonsu.cdf(bins_count[1:], a, b, loc_su, scale_su)\n"
   ]
  },
  {
   "cell_type": "code",
   "execution_count": 230,
   "metadata": {},
   "outputs": [
    {
     "data": {
      "image/png": "[encoded data removed]",
      "text/plain": [
       "<Figure size 1440x504 with 2 Axes>"
      ]
     },
     "metadata": {
      "needs_background": "light"
     },
     "output_type": "display_data"
    }
   ],
   "source": [
    "fig, axs = plt.subplots(nrows=1, ncols=2, figsize=(20, 7))\n",
    "\n",
    "axs[0].plot(bins_count[1:] * 100, cdf_ret * 100, label=\"data\")\n",
    "axs[0].plot(bins_count[1:] * 100, cdf_th * 100, '--', label=f\"norm\")\n",
    "axs[0].plot(bins_count[1:] * 100, cdf_th_su * 100, '--', label=f\"Johnson $S_u$\")\n",
    "axs[0].legend(loc='lower right')\n",
    "\n",
    "axs[1].plot(bins_count[301:] * 100, cdf_ret[300:] * 100, label=\"data\")\n",
    "axs[1].plot(bins_count[301:] * 100, cdf_th[300:] * 100, '--', label=f\"norm\")\n",
    "axs[1].plot(bins_count[301:] * 100, cdf_th_su[300:] * 100, '--', label=f\"Johnson $S_u$\")\n",
    "axs[1].legend(loc='lower right')\n",
    "plt.show()"
   ]
  },
  {
   "cell_type": "code",
   "execution_count": 222,
   "metadata": {},
   "outputs": [],
   "source": [
    "rets = pd.read_csv('../../data/data.csv', low_memory=False).return_usd.dropna()\n",
    "log_rets = np.log(rets)"
   ]
  },
  {
   "cell_type": "code",
   "execution_count": 223,
   "metadata": {},
   "outputs": [
    {
     "data": {
      "text/html": [
       "<div>\n",
       "<style scoped>\n",
       "    .dataframe tbody tr th:only-of-type {\n",
       "        vertical-align: middle;\n",
       "    }\n",
       "\n",
       "    .dataframe tbody tr th {\n",
       "        vertical-align: top;\n",
       "    }\n",
       "\n",
       "    .dataframe thead th {\n",
       "        text-align: right;\n",
       "    }\n",
       "</style>\n",
       "<table border=\"1\" class=\"dataframe\">\n",
       "  <thead>\n",
       "    <tr style=\"text-align: right;\">\n",
       "      <th></th>\n",
       "      <th>sumsquare_error</th>\n",
       "      <th>aic</th>\n",
       "      <th>bic</th>\n",
       "      <th>kl_div</th>\n",
       "    </tr>\n",
       "  </thead>\n",
       "  <tbody>\n",
       "    <tr>\n",
       "      <th>johnsonsu</th>\n",
       "      <td>0.010185</td>\n",
       "      <td>853.425260</td>\n",
       "      <td>-121339.939538</td>\n",
       "      <td>inf</td>\n",
       "    </tr>\n",
       "    <tr>\n",
       "      <th>laplace_asymmetric</th>\n",
       "      <td>0.024661</td>\n",
       "      <td>832.948320</td>\n",
       "      <td>-113501.437815</td>\n",
       "      <td>inf</td>\n",
       "    </tr>\n",
       "    <tr>\n",
       "      <th>skewcauchy</th>\n",
       "      <td>0.053600</td>\n",
       "      <td>754.828222</td>\n",
       "      <td>-106612.365014</td>\n",
       "      <td>inf</td>\n",
       "    </tr>\n",
       "    <tr>\n",
       "      <th>johnsonsb</th>\n",
       "      <td>0.066369</td>\n",
       "      <td>1028.363266</td>\n",
       "      <td>-104707.036759</td>\n",
       "      <td>inf</td>\n",
       "    </tr>\n",
       "  </tbody>\n",
       "</table>\n",
       "</div>"
      ],
      "text/plain": [
       "                    sumsquare_error          aic            bic  kl_div\n",
       "johnsonsu                  0.010185   853.425260 -121339.939538     inf\n",
       "laplace_asymmetric         0.024661   832.948320 -113501.437815     inf\n",
       "skewcauchy                 0.053600   754.828222 -106612.365014     inf\n",
       "johnsonsb                  0.066369  1028.363266 -104707.036759     inf"
      ]
     },
     "execution_count": 223,
     "metadata": {},
     "output_type": "execute_result"
    },
    {
     "data": {
      "image/png": "[encoded data removed]",
      "text/plain": [
       "<Figure size 432x288 with 1 Axes>"
      ]
     },
     "metadata": {
      "needs_background": "light"
     },
     "output_type": "display_data"
    }
   ],
   "source": [
    "f = Fitter(log_rets, distributions=['johnsonsu', 'johnsonsb', 'laplace_asymmetric', 'skewcauchy'])\n",
    "f.fit()\n",
    "f.summary()"
   ]
  },
  {
   "cell_type": "code",
   "execution_count": 224,
   "metadata": {},
   "outputs": [],
   "source": [
    "from scipy.stats import norm, johnsonsu\n",
    "\n",
    "# data\n",
    "count, bins_count = np.histogram(log_rets, bins=500)\n",
    "cdf_ret = np.cumsum(count / sum(count))\n",
    "# normal\n",
    "loc_norm, scale_norm = norm.fit(log_rets)\n",
    "cdf_th = norm.cdf(bins_count[1:], loc_norm, scale_norm)\n",
    "# SSSSUUUUU\n",
    "a, b, loc_su, scale_su = f.get_best()['johnsonsu'].values()\n",
    "cdf_th_su = johnsonsu.cdf(bins_count[1:], a, b, loc_su, scale_su)\n"
   ]
  },
  {
   "cell_type": "code",
   "execution_count": 225,
   "metadata": {},
   "outputs": [
    {
     "data": {
      "image/png": "[encoded data removed]",
      "text/plain": [
       "<Figure size 432x288 with 1 Axes>"
      ]
     },
     "metadata": {
      "needs_background": "light"
     },
     "output_type": "display_data"
    }
   ],
   "source": [
    "plt.plot(bins_count[1:] * 100, cdf_ret * 100, label=\"data\")\n",
    "plt.plot(bins_count[1:] * 100, cdf_th * 100, '--', label=f\"norm\")\n",
    "plt.plot(bins_count[1:] * 100, cdf_th_su * 100, '--', label=f\"Johnson $S_u$\")\n",
    "plt.legend(loc='upper left')\n",
    "plt.show()"
   ]
  },
  {
   "cell_type": "code",
   "execution_count": null,
   "metadata": {},
   "outputs": [],
   "source": []
  },
  {
   "cell_type": "code",
   "execution_count": null,
   "metadata": {},
   "outputs": [],
   "source": []
  }
 ],
 "metadata": {
  "kernelspec": {
   "display_name": "Python 3.10.2 64-bit ('3.10.2')",
   "language": "python",
   "name": "python3"
  },
  "language_info": {
   "codemirror_mode": {
    "name": "ipython",
    "version": 3
   },
   "file_extension": ".py",
   "mimetype": "text/x-python",
   "name": "python",
   "nbconvert_exporter": "python",
   "pygments_lexer": "ipython3",
   "version": "3.10.2"
  },
  "vscode": {
   "interpreter": {
    "hash": "4cd4398770f52323a936c32f4c9c33f20493122a0515696d6ebafdd949421bc2"
   }
  }
 },
 "nbformat": 4,
 "nbformat_minor": 0
}
