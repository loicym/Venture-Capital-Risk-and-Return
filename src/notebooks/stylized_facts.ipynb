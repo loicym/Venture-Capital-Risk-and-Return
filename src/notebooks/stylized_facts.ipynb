{
 "cells": [
  {
   "cell_type": "code",
   "execution_count": 1,
   "metadata": {
    "collapsed": false,
    "pycharm": {
     "name": "#%%\n"
    }
   },
   "outputs": [],
   "source": [
    "import pandas as pd\n",
    "import numpy as np\n",
    "import seaborn as sns\n",
    "import matplotlib.pyplot as plt\n",
    "from scripts.market_api import get_yfinance_time_series, get_fred_time_series\n",
    "from matplotlib.ticker import NullFormatter"
   ]
  },
  {
   "cell_type": "code",
   "execution_count": 2,
   "metadata": {
    "collapsed": false,
    "pycharm": {
     "name": "#%%\n"
    }
   },
   "outputs": [],
   "source": [
    "def plot_fundings(data):\n",
    "    fig, ax = plt.subplots()\n",
    "    ax.yaxis.set_major_formatter(lambda x, pos: x / 1e9)\n",
    "    sns.barplot(x='announced_on', y='raised_amount_usd', data=data, palette='winter', ax=ax)\n",
    "    ax.set_xticklabels(ax.get_xticklabels(), rotation=30)\n",
    "    ax.set_xlabel('')\n",
    "    ax.set_ylabel('Capital raised ($B)')\n",
    "\n",
    "    y = data.raised_amount_usd\n",
    "    for i, v in enumerate(y):\n",
    "        ax.text(x=i-0.20, y=v/y.iloc[i] + min(y)/2.5,\n",
    "                s=int(y.iloc[i] / 1e9),\n",
    "                rotation=90, fontsize=12, weight='regular')\n",
    "    plt.show()"
   ]
  },
  {
   "cell_type": "code",
   "execution_count": 3,
   "metadata": {
    "collapsed": false,
    "pycharm": {
     "name": "#%%\n"
    }
   },
   "outputs": [
    {
     "ename": "FileNotFoundError",
     "evalue": "[Errno 2] No such file or directory: '../../data/crunchbase/funding_rounds.csv'",
     "output_type": "error",
     "traceback": [
      "\u001b[0;31m---------------------------------------------------------------------------\u001b[0m",
      "\u001b[0;31mFileNotFoundError\u001b[0m                         Traceback (most recent call last)",
      "\u001b[1;32m/Users/fburguet/Projects/cyd_campus/17-Portfolios-of-Emerging-Tech/src/notebooks/stylized_facts.ipynb Cell 3'\u001b[0m in \u001b[0;36m<cell line: 1>\u001b[0;34m()\u001b[0m\n\u001b[0;32m----> <a href='vscode-notebook-cell:/Users/fburguet/Projects/cyd_campus/17-Portfolios-of-Emerging-Tech/src/notebooks/stylized_facts.ipynb#ch0000002?line=0'>1</a>\u001b[0m rounds \u001b[39m=\u001b[39m pd\u001b[39m.\u001b[39;49mread_csv(\u001b[39m'\u001b[39;49m\u001b[39m../../data/crunchbase/funding_rounds.csv\u001b[39;49m\u001b[39m'\u001b[39;49m)\n\u001b[1;32m      <a href='vscode-notebook-cell:/Users/fburguet/Projects/cyd_campus/17-Portfolios-of-Emerging-Tech/src/notebooks/stylized_facts.ipynb#ch0000002?line=1'>2</a>\u001b[0m rounds\u001b[39m.\u001b[39mannounced_on \u001b[39m=\u001b[39m pd\u001b[39m.\u001b[39mto_datetime(rounds\u001b[39m.\u001b[39mannounced_on, errors\u001b[39m=\u001b[39m\u001b[39m'\u001b[39m\u001b[39mcoerce\u001b[39m\u001b[39m'\u001b[39m)\n\u001b[1;32m      <a href='vscode-notebook-cell:/Users/fburguet/Projects/cyd_campus/17-Portfolios-of-Emerging-Tech/src/notebooks/stylized_facts.ipynb#ch0000002?line=2'>3</a>\u001b[0m rounds[\u001b[39m'\u001b[39m\u001b[39myear\u001b[39m\u001b[39m'\u001b[39m] \u001b[39m=\u001b[39m rounds\u001b[39m.\u001b[39mannounced_on\u001b[39m.\u001b[39mdt\u001b[39m.\u001b[39myear\n",
      "File \u001b[0;32m~/.pyenv/versions/3.10.2/lib/python3.10/site-packages/pandas/util/_decorators.py:311\u001b[0m, in \u001b[0;36mdeprecate_nonkeyword_arguments.<locals>.decorate.<locals>.wrapper\u001b[0;34m(*args, **kwargs)\u001b[0m\n\u001b[1;32m    305\u001b[0m \u001b[39mif\u001b[39;00m \u001b[39mlen\u001b[39m(args) \u001b[39m>\u001b[39m num_allow_args:\n\u001b[1;32m    306\u001b[0m     warnings\u001b[39m.\u001b[39mwarn(\n\u001b[1;32m    307\u001b[0m         msg\u001b[39m.\u001b[39mformat(arguments\u001b[39m=\u001b[39marguments),\n\u001b[1;32m    308\u001b[0m         \u001b[39mFutureWarning\u001b[39;00m,\n\u001b[1;32m    309\u001b[0m         stacklevel\u001b[39m=\u001b[39mstacklevel,\n\u001b[1;32m    310\u001b[0m     )\n\u001b[0;32m--> 311\u001b[0m \u001b[39mreturn\u001b[39;00m func(\u001b[39m*\u001b[39;49margs, \u001b[39m*\u001b[39;49m\u001b[39m*\u001b[39;49mkwargs)\n",
      "File \u001b[0;32m~/.pyenv/versions/3.10.2/lib/python3.10/site-packages/pandas/io/parsers/readers.py:680\u001b[0m, in \u001b[0;36mread_csv\u001b[0;34m(filepath_or_buffer, sep, delimiter, header, names, index_col, usecols, squeeze, prefix, mangle_dupe_cols, dtype, engine, converters, true_values, false_values, skipinitialspace, skiprows, skipfooter, nrows, na_values, keep_default_na, na_filter, verbose, skip_blank_lines, parse_dates, infer_datetime_format, keep_date_col, date_parser, dayfirst, cache_dates, iterator, chunksize, compression, thousands, decimal, lineterminator, quotechar, quoting, doublequote, escapechar, comment, encoding, encoding_errors, dialect, error_bad_lines, warn_bad_lines, on_bad_lines, delim_whitespace, low_memory, memory_map, float_precision, storage_options)\u001b[0m\n\u001b[1;32m    665\u001b[0m kwds_defaults \u001b[39m=\u001b[39m _refine_defaults_read(\n\u001b[1;32m    666\u001b[0m     dialect,\n\u001b[1;32m    667\u001b[0m     delimiter,\n\u001b[0;32m   (...)\u001b[0m\n\u001b[1;32m    676\u001b[0m     defaults\u001b[39m=\u001b[39m{\u001b[39m\"\u001b[39m\u001b[39mdelimiter\u001b[39m\u001b[39m\"\u001b[39m: \u001b[39m\"\u001b[39m\u001b[39m,\u001b[39m\u001b[39m\"\u001b[39m},\n\u001b[1;32m    677\u001b[0m )\n\u001b[1;32m    678\u001b[0m kwds\u001b[39m.\u001b[39mupdate(kwds_defaults)\n\u001b[0;32m--> 680\u001b[0m \u001b[39mreturn\u001b[39;00m _read(filepath_or_buffer, kwds)\n",
      "File \u001b[0;32m~/.pyenv/versions/3.10.2/lib/python3.10/site-packages/pandas/io/parsers/readers.py:575\u001b[0m, in \u001b[0;36m_read\u001b[0;34m(filepath_or_buffer, kwds)\u001b[0m\n\u001b[1;32m    572\u001b[0m _validate_names(kwds\u001b[39m.\u001b[39mget(\u001b[39m\"\u001b[39m\u001b[39mnames\u001b[39m\u001b[39m\"\u001b[39m, \u001b[39mNone\u001b[39;00m))\n\u001b[1;32m    574\u001b[0m \u001b[39m# Create the parser.\u001b[39;00m\n\u001b[0;32m--> 575\u001b[0m parser \u001b[39m=\u001b[39m TextFileReader(filepath_or_buffer, \u001b[39m*\u001b[39;49m\u001b[39m*\u001b[39;49mkwds)\n\u001b[1;32m    577\u001b[0m \u001b[39mif\u001b[39;00m chunksize \u001b[39mor\u001b[39;00m iterator:\n\u001b[1;32m    578\u001b[0m     \u001b[39mreturn\u001b[39;00m parser\n",
      "File \u001b[0;32m~/.pyenv/versions/3.10.2/lib/python3.10/site-packages/pandas/io/parsers/readers.py:933\u001b[0m, in \u001b[0;36mTextFileReader.__init__\u001b[0;34m(self, f, engine, **kwds)\u001b[0m\n\u001b[1;32m    930\u001b[0m     \u001b[39mself\u001b[39m\u001b[39m.\u001b[39moptions[\u001b[39m\"\u001b[39m\u001b[39mhas_index_names\u001b[39m\u001b[39m\"\u001b[39m] \u001b[39m=\u001b[39m kwds[\u001b[39m\"\u001b[39m\u001b[39mhas_index_names\u001b[39m\u001b[39m\"\u001b[39m]\n\u001b[1;32m    932\u001b[0m \u001b[39mself\u001b[39m\u001b[39m.\u001b[39mhandles: IOHandles \u001b[39m|\u001b[39m \u001b[39mNone\u001b[39;00m \u001b[39m=\u001b[39m \u001b[39mNone\u001b[39;00m\n\u001b[0;32m--> 933\u001b[0m \u001b[39mself\u001b[39m\u001b[39m.\u001b[39m_engine \u001b[39m=\u001b[39m \u001b[39mself\u001b[39;49m\u001b[39m.\u001b[39;49m_make_engine(f, \u001b[39mself\u001b[39;49m\u001b[39m.\u001b[39;49mengine)\n",
      "File \u001b[0;32m~/.pyenv/versions/3.10.2/lib/python3.10/site-packages/pandas/io/parsers/readers.py:1217\u001b[0m, in \u001b[0;36mTextFileReader._make_engine\u001b[0;34m(self, f, engine)\u001b[0m\n\u001b[1;32m   1213\u001b[0m     mode \u001b[39m=\u001b[39m \u001b[39m\"\u001b[39m\u001b[39mrb\u001b[39m\u001b[39m\"\u001b[39m\n\u001b[1;32m   1214\u001b[0m \u001b[39m# error: No overload variant of \"get_handle\" matches argument types\u001b[39;00m\n\u001b[1;32m   1215\u001b[0m \u001b[39m# \"Union[str, PathLike[str], ReadCsvBuffer[bytes], ReadCsvBuffer[str]]\"\u001b[39;00m\n\u001b[1;32m   1216\u001b[0m \u001b[39m# , \"str\", \"bool\", \"Any\", \"Any\", \"Any\", \"Any\", \"Any\"\u001b[39;00m\n\u001b[0;32m-> 1217\u001b[0m \u001b[39mself\u001b[39m\u001b[39m.\u001b[39mhandles \u001b[39m=\u001b[39m get_handle(  \u001b[39m# type: ignore[call-overload]\u001b[39;49;00m\n\u001b[1;32m   1218\u001b[0m     f,\n\u001b[1;32m   1219\u001b[0m     mode,\n\u001b[1;32m   1220\u001b[0m     encoding\u001b[39m=\u001b[39;49m\u001b[39mself\u001b[39;49m\u001b[39m.\u001b[39;49moptions\u001b[39m.\u001b[39;49mget(\u001b[39m\"\u001b[39;49m\u001b[39mencoding\u001b[39;49m\u001b[39m\"\u001b[39;49m, \u001b[39mNone\u001b[39;49;00m),\n\u001b[1;32m   1221\u001b[0m     compression\u001b[39m=\u001b[39;49m\u001b[39mself\u001b[39;49m\u001b[39m.\u001b[39;49moptions\u001b[39m.\u001b[39;49mget(\u001b[39m\"\u001b[39;49m\u001b[39mcompression\u001b[39;49m\u001b[39m\"\u001b[39;49m, \u001b[39mNone\u001b[39;49;00m),\n\u001b[1;32m   1222\u001b[0m     memory_map\u001b[39m=\u001b[39;49m\u001b[39mself\u001b[39;49m\u001b[39m.\u001b[39;49moptions\u001b[39m.\u001b[39;49mget(\u001b[39m\"\u001b[39;49m\u001b[39mmemory_map\u001b[39;49m\u001b[39m\"\u001b[39;49m, \u001b[39mFalse\u001b[39;49;00m),\n\u001b[1;32m   1223\u001b[0m     is_text\u001b[39m=\u001b[39;49mis_text,\n\u001b[1;32m   1224\u001b[0m     errors\u001b[39m=\u001b[39;49m\u001b[39mself\u001b[39;49m\u001b[39m.\u001b[39;49moptions\u001b[39m.\u001b[39;49mget(\u001b[39m\"\u001b[39;49m\u001b[39mencoding_errors\u001b[39;49m\u001b[39m\"\u001b[39;49m, \u001b[39m\"\u001b[39;49m\u001b[39mstrict\u001b[39;49m\u001b[39m\"\u001b[39;49m),\n\u001b[1;32m   1225\u001b[0m     storage_options\u001b[39m=\u001b[39;49m\u001b[39mself\u001b[39;49m\u001b[39m.\u001b[39;49moptions\u001b[39m.\u001b[39;49mget(\u001b[39m\"\u001b[39;49m\u001b[39mstorage_options\u001b[39;49m\u001b[39m\"\u001b[39;49m, \u001b[39mNone\u001b[39;49;00m),\n\u001b[1;32m   1226\u001b[0m )\n\u001b[1;32m   1227\u001b[0m \u001b[39massert\u001b[39;00m \u001b[39mself\u001b[39m\u001b[39m.\u001b[39mhandles \u001b[39mis\u001b[39;00m \u001b[39mnot\u001b[39;00m \u001b[39mNone\u001b[39;00m\n\u001b[1;32m   1228\u001b[0m f \u001b[39m=\u001b[39m \u001b[39mself\u001b[39m\u001b[39m.\u001b[39mhandles\u001b[39m.\u001b[39mhandle\n",
      "File \u001b[0;32m~/.pyenv/versions/3.10.2/lib/python3.10/site-packages/pandas/io/common.py:789\u001b[0m, in \u001b[0;36mget_handle\u001b[0;34m(path_or_buf, mode, encoding, compression, memory_map, is_text, errors, storage_options)\u001b[0m\n\u001b[1;32m    784\u001b[0m \u001b[39melif\u001b[39;00m \u001b[39misinstance\u001b[39m(handle, \u001b[39mstr\u001b[39m):\n\u001b[1;32m    785\u001b[0m     \u001b[39m# Check whether the filename is to be opened in binary mode.\u001b[39;00m\n\u001b[1;32m    786\u001b[0m     \u001b[39m# Binary mode does not support 'encoding' and 'newline'.\u001b[39;00m\n\u001b[1;32m    787\u001b[0m     \u001b[39mif\u001b[39;00m ioargs\u001b[39m.\u001b[39mencoding \u001b[39mand\u001b[39;00m \u001b[39m\"\u001b[39m\u001b[39mb\u001b[39m\u001b[39m\"\u001b[39m \u001b[39mnot\u001b[39;00m \u001b[39min\u001b[39;00m ioargs\u001b[39m.\u001b[39mmode:\n\u001b[1;32m    788\u001b[0m         \u001b[39m# Encoding\u001b[39;00m\n\u001b[0;32m--> 789\u001b[0m         handle \u001b[39m=\u001b[39m \u001b[39mopen\u001b[39;49m(\n\u001b[1;32m    790\u001b[0m             handle,\n\u001b[1;32m    791\u001b[0m             ioargs\u001b[39m.\u001b[39;49mmode,\n\u001b[1;32m    792\u001b[0m             encoding\u001b[39m=\u001b[39;49mioargs\u001b[39m.\u001b[39;49mencoding,\n\u001b[1;32m    793\u001b[0m             errors\u001b[39m=\u001b[39;49merrors,\n\u001b[1;32m    794\u001b[0m             newline\u001b[39m=\u001b[39;49m\u001b[39m\"\u001b[39;49m\u001b[39m\"\u001b[39;49m,\n\u001b[1;32m    795\u001b[0m         )\n\u001b[1;32m    796\u001b[0m     \u001b[39melse\u001b[39;00m:\n\u001b[1;32m    797\u001b[0m         \u001b[39m# Binary mode\u001b[39;00m\n\u001b[1;32m    798\u001b[0m         handle \u001b[39m=\u001b[39m \u001b[39mopen\u001b[39m(handle, ioargs\u001b[39m.\u001b[39mmode)\n",
      "\u001b[0;31mFileNotFoundError\u001b[0m: [Errno 2] No such file or directory: '../../data/crunchbase/funding_rounds.csv'"
     ]
    }
   ],
   "source": [
    "rounds = pd.read_csv('../../data/crunchbase/funding_rounds.csv')\n",
    "rounds.announced_on = pd.to_datetime(rounds.announced_on, errors='coerce')\n",
    "rounds['year'] = rounds.announced_on.dt.year"
   ]
  },
  {
   "cell_type": "code",
   "execution_count": null,
   "metadata": {
    "collapsed": false,
    "pycharm": {
     "name": "#%%\n"
    }
   },
   "outputs": [
    {
     "data": {
      "image/png": "[encoded data removed]",
      "text/plain": [
       "<Figure size 432x288 with 1 Axes>"
      ]
     },
     "metadata": {
      "needs_background": "light"
     },
     "output_type": "display_data"
    }
   ],
   "source": [
    "start = 2007\n",
    "end = 2021\n",
    "\n",
    "fundings_per_year_US = rounds[(rounds.announced_on.dt.year >= start)\n",
    "                              & (rounds.announced_on.dt.year <= end)\n",
    "                              & (rounds.country_code == \"USA\")]\n",
    "fundings_per_year_US = fundings_per_year_US[['announced_on', 'raised_amount_usd']]\n",
    "fundings_per_year_US = fundings_per_year_US.groupby(rounds.announced_on.dt.year).sum().reset_index()\n",
    "\n",
    "plot_fundings(fundings_per_year_US)"
   ]
  },
  {
   "cell_type": "code",
   "execution_count": null,
   "metadata": {
    "collapsed": false,
    "pycharm": {
     "name": "#%%\n"
    }
   },
   "outputs": [],
   "source": [
    "orgs = pd.read_csv('../../data/crunchbase/organizations.csv')"
   ]
  },
  {
   "cell_type": "code",
   "execution_count": null,
   "metadata": {
    "collapsed": false,
    "pycharm": {
     "name": "#%%\n"
    }
   },
   "outputs": [],
   "source": [
    "cats = orgs[orgs.uuid.isin(rounds.org_uuid)][['uuid', 'category_groups_list']].dropna()\n",
    "cats.category_groups_list = cats.category_groups_list.apply(lambda x: x.split(','))\n",
    "cats.columns = ['org_uuid', 'category']"
   ]
  },
  {
   "cell_type": "code",
   "execution_count": null,
   "metadata": {
    "collapsed": false,
    "pycharm": {
     "name": "#%%\n"
    }
   },
   "outputs": [],
   "source": [
    "stages = {\n",
    "    'early stage': ['angel', 'seed', 'pre_seed', 'product_crowdfunding', 'equity_crowdfunding', 'initial_coin_offering', 'non_equity_assistance'],\n",
    "    'mid stage': ['series_a', 'series_b', 'corporate_round'],\n",
    "    'late stage': ['series_c', 'series_d', 'series_e', 'series_f', 'series_i', 'series_g', 'series_h', 'series_j'],\n",
    "    'other': ['post_ipo_equity', 'post_ipo_secondary', 'post_ipo_debt', 'series_unknown', 'undisclosed', 'debt_financing', 'grant', 'convertible_note', 'secondary_market']\n",
    "}\n",
    "\n",
    "stage_map = {}\n",
    "for k, v in stages.items():\n",
    "    for x in v:\n",
    "        stage_map[x] = k\n",
    "\n",
    "rounds['stage'] = rounds.investment_type.map(stage_map)"
   ]
  },
  {
   "cell_type": "code",
   "execution_count": null,
   "metadata": {},
   "outputs": [
    {
     "name": "stdout",
     "output_type": "stream",
     "text": [
      "raised_amount_usd           $31,106,019.50\n",
      "post_money_valuation_usd   $200,000,000.00\n",
      "dtype: float64\n",
      "raised_amount_usd           $80,000,000.00\n",
      "post_money_valuation_usd   $650,000,000.00\n",
      "dtype: float64\n",
      "raised_amount_usd           $35,801,590.50\n",
      "post_money_valuation_usd   $291,768,304.50\n",
      "dtype: float64\n"
     ]
    }
   ],
   "source": [
    "print(rounds[rounds.investment_type == 'series_b'][['raised_amount_usd', 'post_money_valuation_usd']].dropna().median())\n",
    "print(rounds[rounds.investment_type == 'series_c'][['raised_amount_usd', 'post_money_valuation_usd']].dropna().median())\n",
    "print(rounds[rounds.investment_type == 'corporate_round'][['raised_amount_usd', 'post_money_valuation_usd']].dropna().median())"
   ]
  },
  {
   "cell_type": "code",
   "execution_count": null,
   "metadata": {
    "collapsed": false,
    "pycharm": {
     "name": "#%%\n"
    }
   },
   "outputs": [],
   "source": [
    "start = 2007\n",
    "end = 2021\n",
    "\n",
    "fundings_per_year_stage = rounds[(rounds.announced_on.dt.year >= start)\n",
    "                                 & (rounds.announced_on.dt.year <= end)\n",
    "                                 & (rounds.country_code == \"USA\")]\n",
    "fundings_per_year_stage = fundings_per_year_stage[['year', 'raised_amount_usd', 'stage']].dropna()\n",
    "fundings_per_year_stage = fundings_per_year_stage.groupby(['year', 'stage']).sum().reset_index()\n",
    "fundings_per_year_stage = fundings_per_year_stage[fundings_per_year_stage.stage != 'other']\n",
    "fundings_per_year_stage.year = fundings_per_year_stage.year.astype(int)"
   ]
  },
  {
   "cell_type": "code",
   "execution_count": null,
   "metadata": {
    "collapsed": false,
    "pycharm": {
     "name": "#%%\n"
    }
   },
   "outputs": [
    {
     "data": {
      "image/png": "[encoded data removed]",
      "text/plain": [
       "<Figure size 720x432 with 1 Axes>"
      ]
     },
     "metadata": {
      "needs_background": "light"
     },
     "output_type": "display_data"
    }
   ],
   "source": [
    "fig, ax = plt.subplots(figsize=(10,6))\n",
    "ax.yaxis.set_major_formatter(lambda x, pos: x / 1e9)\n",
    "sns.barplot(x=\"year\", y=\"raised_amount_usd\", hue=\"stage\", hue_order=['early stage', 'mid stage', 'late stage'], data=fundings_per_year_stage, ax=ax, palette='Greens')\n",
    "ax.set_xlabel('')\n",
    "ax.set_ylabel('Capital raised ($B)')\n",
    "# sns.set(font_scale = 1.2)\n",
    "plt.savefig('figures/capital_raised.pdf')\n",
    "plt.show()"
   ]
  },
  {
   "cell_type": "code",
   "execution_count": null,
   "metadata": {
    "collapsed": false,
    "pycharm": {
     "name": "#%%\n"
    }
   },
   "outputs": [
    {
     "data": {
      "image/png": "[encoded data removed]",
      "text/plain": [
       "<Figure size 432x288 with 1 Axes>"
      ]
     },
     "metadata": {},
     "output_type": "display_data"
    }
   ],
   "source": [
    "plt.pie(rounds.groupby('stage').size().drop('other'),\n",
    "        radius=1, wedgeprops=dict(width=0.3, edgecolor='w'), textprops={'fontsize':13},\n",
    "        colors=['#8D8DAA', '#DFDFDF', '#F56D91'], autopct='%.0f%%', pctdistance=0.85)\n",
    "plt.legend(['early', 'late', 'mid'], bbox_to_anchor=(0.75, 0, 0.5, 1), fontsize=13)\n",
    "plt.savefig('figures/total_rounds_per_stage.pdf')"
   ]
  },
  {
   "cell_type": "code",
   "execution_count": null,
   "metadata": {},
   "outputs": [
    {
     "data": {
      "text/plain": [
       "stage\n",
       "early stage    210962\n",
       "late stage      20423\n",
       "mid stage       84197\n",
       "other          157774\n",
       "dtype: int64"
      ]
     },
     "execution_count": 170,
     "metadata": {},
     "output_type": "execute_result"
    }
   ],
   "source": [
    "rounds.groupby('stage').size()"
   ]
  },
  {
   "cell_type": "code",
   "execution_count": null,
   "metadata": {
    "collapsed": false,
    "pycharm": {
     "name": "#%%\n"
    }
   },
   "outputs": [
    {
     "data": {
      "image/png": "[encoded data removed]",
      "text/plain": [
       "<Figure size 432x288 with 1 Axes>"
      ]
     },
     "metadata": {},
     "output_type": "display_data"
    }
   ],
   "source": [
    "cb_investments = rounds.groupby('investment_type').size() / rounds.shape[0]\n",
    "cb_investments['others'] = cb_investments[cb_investments < 0.02].sum()\n",
    "cb_investments = cb_investments[cb_investments >= 0.02]\n",
    "cb_investments.index = pd.Series(cb_investments.index).apply(lambda s: s.replace('_', ' '))\n",
    "plt.pie(cb_investments, autopct='%.0f%%', pctdistance=0.8, colors=sns.color_palette(\"husl\", cb_investments.size), textprops={'fontsize':13},)\n",
    "plt.legend(cb_investments.index, loc=\"center left\", bbox_to_anchor=(1, 0, 0.5, 1), fontsize=13)\n",
    "plt.savefig('figures/crunchbase_rounds.pdf')\n",
    "plt.show()"
   ]
  },
  {
   "cell_type": "code",
   "execution_count": null,
   "metadata": {
    "collapsed": false,
    "pycharm": {
     "name": "#%%\n"
    }
   },
   "outputs": [
    {
     "name": "stderr",
     "output_type": "stream",
     "text": [
      "100%|██████████| 239414/239414 [00:43<00:00, 5466.55it/s]\n"
     ]
    }
   ],
   "source": [
    "from tqdm import tqdm\n",
    "tqdm.pandas()\n",
    "\n",
    "def get_most_relevant_cat(categories):\n",
    "    mapped = cat_freqs[cat_freqs.index.isin(categories)]\n",
    "    return categories[np.argmax(mapped)]\n",
    "\n",
    "summarized_cats = ['Media',\n",
    "                   'Software',\n",
    "                   'IT Hardware',\n",
    "                   'Consumer P&S',\n",
    "                   'Consumer P&S',\n",
    "                   'Media',\n",
    "                   'Software',\n",
    "                   'Software',\n",
    "                   'Media',\n",
    "                   'Software',\n",
    "                   'Consumer P&S',\n",
    "                   'Other',\n",
    "                   'Commercial P&S',\n",
    "                   'Software',\n",
    "                   'Media',\n",
    "                   'IT Hardware',\n",
    "                   'Other',\n",
    "                   'Other',\n",
    "                   'Commercial P&S',\n",
    "                   'Commercial P&S',\n",
    "                   'Biotech',\n",
    "                   'Other',\n",
    "                   'Healthcare',\n",
    "                   'Other',\n",
    "                   'Consumer P&S',\n",
    "                   'Consumer P&S',\n",
    "                   'Software',\n",
    "                   'Software',\n",
    "                   'Consumer P&S',\n",
    "                   'IT Hardware',\n",
    "                   'Software',\n",
    "                   'Other',\n",
    "                   'Commercial P&S',\n",
    "                   'Commercial P&S',\n",
    "                   'Other',\n",
    "                   'Energy',\n",
    "                   'Other',\n",
    "                   'Commercial P&S',\n",
    "                   'Consumer P&S',\n",
    "                   'Other',\n",
    "                   'Energy',\n",
    "                   'Software',\n",
    "                   'Energy',\n",
    "                   'Other']\n",
    "cat_freqs = cats.category.explode().value_counts() / cats.category.size\n",
    "cats.category = cats.category.progress_apply(get_most_relevant_cat)\n",
    "\n",
    "rounds['category'] = rounds.org_uuid.map(cats.set_index('org_uuid').to_dict()['category'])\n",
    "rounds['meta_cat'] = rounds.category.map(dict(zip(rounds.category.unique(), summarized_cats)))"
   ]
  },
  {
   "cell_type": "code",
   "execution_count": null,
   "metadata": {
    "collapsed": false,
    "pycharm": {
     "name": "#%%\n"
    }
   },
   "outputs": [],
   "source": [
    "start = 2007\n",
    "end = 2021\n",
    "fundings_per_year_cat = rounds[(rounds.year >= start)\n",
    "                               & (rounds.year <= end)\n",
    "                               & (rounds.country_code == 'USA')][['year', 'meta_cat', 'raised_amount_usd']]\n",
    "fundings_per_year_cat = fundings_per_year_cat.groupby(['year', 'meta_cat']).sum()"
   ]
  },
  {
   "cell_type": "code",
   "execution_count": null,
   "metadata": {
    "collapsed": false,
    "pycharm": {
     "name": "#%%\n"
    }
   },
   "outputs": [
    {
     "data": {
      "text/html": [
       "<div>\n",
       "<style scoped>\n",
       "    .dataframe tbody tr th:only-of-type {\n",
       "        vertical-align: middle;\n",
       "    }\n",
       "\n",
       "    .dataframe tbody tr th {\n",
       "        vertical-align: top;\n",
       "    }\n",
       "\n",
       "    .dataframe thead th {\n",
       "        text-align: right;\n",
       "    }\n",
       "</style>\n",
       "<table border=\"1\" class=\"dataframe\">\n",
       "  <thead>\n",
       "    <tr style=\"text-align: right;\">\n",
       "      <th></th>\n",
       "      <th></th>\n",
       "      <th>raised_amount_usd</th>\n",
       "    </tr>\n",
       "    <tr>\n",
       "      <th>year</th>\n",
       "      <th>meta_cat</th>\n",
       "      <th></th>\n",
       "    </tr>\n",
       "  </thead>\n",
       "  <tbody>\n",
       "    <tr>\n",
       "      <th rowspan=\"9\" valign=\"top\">$2,021.00</th>\n",
       "      <th>Biotech</th>\n",
       "      <td>$9.58</td>\n",
       "    </tr>\n",
       "    <tr>\n",
       "      <th>Commercial P&amp;S</th>\n",
       "      <td>$200.39</td>\n",
       "    </tr>\n",
       "    <tr>\n",
       "      <th>Consumer P&amp;S</th>\n",
       "      <td>$115.88</td>\n",
       "    </tr>\n",
       "    <tr>\n",
       "      <th>Energy</th>\n",
       "      <td>$6.36</td>\n",
       "    </tr>\n",
       "    <tr>\n",
       "      <th>Healthcare</th>\n",
       "      <td>$23.90</td>\n",
       "    </tr>\n",
       "    <tr>\n",
       "      <th>IT Hardware</th>\n",
       "      <td>$15.93</td>\n",
       "    </tr>\n",
       "    <tr>\n",
       "      <th>Media</th>\n",
       "      <td>$47.65</td>\n",
       "    </tr>\n",
       "    <tr>\n",
       "      <th>Other</th>\n",
       "      <td>$123.74</td>\n",
       "    </tr>\n",
       "    <tr>\n",
       "      <th>Software</th>\n",
       "      <td>$72.55</td>\n",
       "    </tr>\n",
       "  </tbody>\n",
       "</table>\n",
       "</div>"
      ],
      "text/plain": [
       "                          raised_amount_usd\n",
       "year      meta_cat                         \n",
       "$2,021.00 Biotech                     $9.58\n",
       "          Commercial P&S            $200.39\n",
       "          Consumer P&S              $115.88\n",
       "          Energy                      $6.36\n",
       "          Healthcare                 $23.90\n",
       "          IT Hardware                $15.93\n",
       "          Media                      $47.65\n",
       "          Other                     $123.74\n",
       "          Software                   $72.55"
      ]
     },
     "execution_count": 174,
     "metadata": {},
     "output_type": "execute_result"
    }
   ],
   "source": [
    "pd.options.display.float_format = '${:,.2f}'.format\n",
    "fundings_per_year_cat[fundings_per_year_cat.index.get_level_values('year') == 2021] / 1e9"
   ]
  },
  {
   "cell_type": "code",
   "execution_count": null,
   "metadata": {},
   "outputs": [],
   "source": [
    "from kaleido import *"
   ]
  },
  {
   "cell_type": "code",
   "execution_count": null,
   "metadata": {},
   "outputs": [
    {
     "data": {
      "application/vnd.plotly.v1+json": {
       "config": {
        "plotlyServerURL": "https://plot.ly"
       },
       "data": [
        {
         "domain": {
          "x": [
           0,
           0.45
          ],
          "y": [
           0,
           1
          ]
         },
         "labels": [
          "CAN",
          "CHN",
          "DEU",
          "FRA",
          "GBR",
          "IND",
          "USA",
          "others"
         ],
         "name": "Country",
         "texttemplate": "%{label}<br>(%{percent})",
         "type": "pie",
         "values": [
          0.04398387271637541,
          0.07397603817854155,
          0.02411523930115104,
          0.022861304133485798,
          0.06881506195012488,
          0.03765078416973332,
          0.47612102417660646,
          0.23613869791208544
         ]
        },
        {
         "domain": {
          "x": [
           0.55,
           1
          ],
          "y": [
           0,
           1
          ]
         },
         "labels": [
          "Biotech",
          "Commercial P&S",
          "Consumer P&S",
          "Energy",
          "Healthcare",
          "IT Hardware",
          "Media",
          "Other",
          "Software"
         ],
         "name": "Sector",
         "rotation": 90,
         "texttemplate": "%{label}<br>(%{percent})",
         "type": "pie",
         "values": [
          5522,
          119878,
          100907,
          7085,
          21238,
          16967,
          60196,
          98481,
          58566
         ]
        }
       ],
       "layout": {
        "font": {
         "size": 18
        },
        "height": 500,
        "margin": {
         "b": 0,
         "l": 0,
         "r": 0,
         "t": 0
        },
        "showlegend": false,
        "template": {
         "data": {
          "bar": [
           {
            "error_x": {
             "color": "#2a3f5f"
            },
            "error_y": {
             "color": "#2a3f5f"
            },
            "marker": {
             "line": {
              "color": "#E5ECF6",
              "width": 0.5
             },
             "pattern": {
              "fillmode": "overlay",
              "size": 10,
              "solidity": 0.2
             }
            },
            "type": "bar"
           }
          ],
          "barpolar": [
           {
            "marker": {
             "line": {
              "color": "#E5ECF6",
              "width": 0.5
             },
             "pattern": {
              "fillmode": "overlay",
              "size": 10,
              "solidity": 0.2
             }
            },
            "type": "barpolar"
           }
          ],
          "carpet": [
           {
            "aaxis": {
             "endlinecolor": "#2a3f5f",
             "gridcolor": "white",
             "linecolor": "white",
             "minorgridcolor": "white",
             "startlinecolor": "#2a3f5f"
            },
            "baxis": {
             "endlinecolor": "#2a3f5f",
             "gridcolor": "white",
             "linecolor": "white",
             "minorgridcolor": "white",
             "startlinecolor": "#2a3f5f"
            },
            "type": "carpet"
           }
          ],
          "choropleth": [
           {
            "colorbar": {
             "outlinewidth": 0,
             "ticks": ""
            },
            "type": "choropleth"
           }
          ],
          "contour": [
           {
            "colorbar": {
             "outlinewidth": 0,
             "ticks": ""
            },
            "colorscale": [
             [
              0,
              "#0d0887"
             ],
             [
              0.1111111111111111,
              "#46039f"
             ],
             [
              0.2222222222222222,
              "#7201a8"
             ],
             [
              0.3333333333333333,
              "#9c179e"
             ],
             [
              0.4444444444444444,
              "#bd3786"
             ],
             [
              0.5555555555555556,
              "#d8576b"
             ],
             [
              0.6666666666666666,
              "#ed7953"
             ],
             [
              0.7777777777777778,
              "#fb9f3a"
             ],
             [
              0.8888888888888888,
              "#fdca26"
             ],
             [
              1,
              "#f0f921"
             ]
            ],
            "type": "contour"
           }
          ],
          "contourcarpet": [
           {
            "colorbar": {
             "outlinewidth": 0,
             "ticks": ""
            },
            "type": "contourcarpet"
           }
          ],
          "heatmap": [
           {
            "colorbar": {
             "outlinewidth": 0,
             "ticks": ""
            },
            "colorscale": [
             [
              0,
              "#0d0887"
             ],
             [
              0.1111111111111111,
              "#46039f"
             ],
             [
              0.2222222222222222,
              "#7201a8"
             ],
             [
              0.3333333333333333,
              "#9c179e"
             ],
             [
              0.4444444444444444,
              "#bd3786"
             ],
             [
              0.5555555555555556,
              "#d8576b"
             ],
             [
              0.6666666666666666,
              "#ed7953"
             ],
             [
              0.7777777777777778,
              "#fb9f3a"
             ],
             [
              0.8888888888888888,
              "#fdca26"
             ],
             [
              1,
              "#f0f921"
             ]
            ],
            "type": "heatmap"
           }
          ],
          "heatmapgl": [
           {
            "colorbar": {
             "outlinewidth": 0,
             "ticks": ""
            },
            "colorscale": [
             [
              0,
              "#0d0887"
             ],
             [
              0.1111111111111111,
              "#46039f"
             ],
             [
              0.2222222222222222,
              "#7201a8"
             ],
             [
              0.3333333333333333,
              "#9c179e"
             ],
             [
              0.4444444444444444,
              "#bd3786"
             ],
             [
              0.5555555555555556,
              "#d8576b"
             ],
             [
              0.6666666666666666,
              "#ed7953"
             ],
             [
              0.7777777777777778,
              "#fb9f3a"
             ],
             [
              0.8888888888888888,
              "#fdca26"
             ],
             [
              1,
              "#f0f921"
             ]
            ],
            "type": "heatmapgl"
           }
          ],
          "histogram": [
           {
            "marker": {
             "pattern": {
              "fillmode": "overlay",
              "size": 10,
              "solidity": 0.2
             }
            },
            "type": "histogram"
           }
          ],
          "histogram2d": [
           {
            "colorbar": {
             "outlinewidth": 0,
             "ticks": ""
            },
            "colorscale": [
             [
              0,
              "#0d0887"
             ],
             [
              0.1111111111111111,
              "#46039f"
             ],
             [
              0.2222222222222222,
              "#7201a8"
             ],
             [
              0.3333333333333333,
              "#9c179e"
             ],
             [
              0.4444444444444444,
              "#bd3786"
             ],
             [
              0.5555555555555556,
              "#d8576b"
             ],
             [
              0.6666666666666666,
              "#ed7953"
             ],
             [
              0.7777777777777778,
              "#fb9f3a"
             ],
             [
              0.8888888888888888,
              "#fdca26"
             ],
             [
              1,
              "#f0f921"
             ]
            ],
            "type": "histogram2d"
           }
          ],
          "histogram2dcontour": [
           {
            "colorbar": {
             "outlinewidth": 0,
             "ticks": ""
            },
            "colorscale": [
             [
              0,
              "#0d0887"
             ],
             [
              0.1111111111111111,
              "#46039f"
             ],
             [
              0.2222222222222222,
              "#7201a8"
             ],
             [
              0.3333333333333333,
              "#9c179e"
             ],
             [
              0.4444444444444444,
              "#bd3786"
             ],
             [
              0.5555555555555556,
              "#d8576b"
             ],
             [
              0.6666666666666666,
              "#ed7953"
             ],
             [
              0.7777777777777778,
              "#fb9f3a"
             ],
             [
              0.8888888888888888,
              "#fdca26"
             ],
             [
              1,
              "#f0f921"
             ]
            ],
            "type": "histogram2dcontour"
           }
          ],
          "mesh3d": [
           {
            "colorbar": {
             "outlinewidth": 0,
             "ticks": ""
            },
            "type": "mesh3d"
           }
          ],
          "parcoords": [
           {
            "line": {
             "colorbar": {
              "outlinewidth": 0,
              "ticks": ""
             }
            },
            "type": "parcoords"
           }
          ],
          "pie": [
           {
            "automargin": true,
            "type": "pie"
           }
          ],
          "scatter": [
           {
            "fillpattern": {
             "fillmode": "overlay",
             "size": 10,
             "solidity": 0.2
            },
            "type": "scatter"
           }
          ],
          "scatter3d": [
           {
            "line": {
             "colorbar": {
              "outlinewidth": 0,
              "ticks": ""
             }
            },
            "marker": {
             "colorbar": {
              "outlinewidth": 0,
              "ticks": ""
             }
            },
            "type": "scatter3d"
           }
          ],
          "scattercarpet": [
           {
            "marker": {
             "colorbar": {
              "outlinewidth": 0,
              "ticks": ""
             }
            },
            "type": "scattercarpet"
           }
          ],
          "scattergeo": [
           {
            "marker": {
             "colorbar": {
              "outlinewidth": 0,
              "ticks": ""
             }
            },
            "type": "scattergeo"
           }
          ],
          "scattergl": [
           {
            "marker": {
             "colorbar": {
              "outlinewidth": 0,
              "ticks": ""
             }
            },
            "type": "scattergl"
           }
          ],
          "scattermapbox": [
           {
            "marker": {
             "colorbar": {
              "outlinewidth": 0,
              "ticks": ""
             }
            },
            "type": "scattermapbox"
           }
          ],
          "scatterpolar": [
           {
            "marker": {
             "colorbar": {
              "outlinewidth": 0,
              "ticks": ""
             }
            },
            "type": "scatterpolar"
           }
          ],
          "scatterpolargl": [
           {
            "marker": {
             "colorbar": {
              "outlinewidth": 0,
              "ticks": ""
             }
            },
            "type": "scatterpolargl"
           }
          ],
          "scatterternary": [
           {
            "marker": {
             "colorbar": {
              "outlinewidth": 0,
              "ticks": ""
             }
            },
            "type": "scatterternary"
           }
          ],
          "surface": [
           {
            "colorbar": {
             "outlinewidth": 0,
             "ticks": ""
            },
            "colorscale": [
             [
              0,
              "#0d0887"
             ],
             [
              0.1111111111111111,
              "#46039f"
             ],
             [
              0.2222222222222222,
              "#7201a8"
             ],
             [
              0.3333333333333333,
              "#9c179e"
             ],
             [
              0.4444444444444444,
              "#bd3786"
             ],
             [
              0.5555555555555556,
              "#d8576b"
             ],
             [
              0.6666666666666666,
              "#ed7953"
             ],
             [
              0.7777777777777778,
              "#fb9f3a"
             ],
             [
              0.8888888888888888,
              "#fdca26"
             ],
             [
              1,
              "#f0f921"
             ]
            ],
            "type": "surface"
           }
          ],
          "table": [
           {
            "cells": {
             "fill": {
              "color": "#EBF0F8"
             },
             "line": {
              "color": "white"
             }
            },
            "header": {
             "fill": {
              "color": "#C8D4E3"
             },
             "line": {
              "color": "white"
             }
            },
            "type": "table"
           }
          ]
         },
         "layout": {
          "annotationdefaults": {
           "arrowcolor": "#2a3f5f",
           "arrowhead": 0,
           "arrowwidth": 1
          },
          "autotypenumbers": "strict",
          "coloraxis": {
           "colorbar": {
            "outlinewidth": 0,
            "ticks": ""
           }
          },
          "colorscale": {
           "diverging": [
            [
             0,
             "#8e0152"
            ],
            [
             0.1,
             "#c51b7d"
            ],
            [
             0.2,
             "#de77ae"
            ],
            [
             0.3,
             "#f1b6da"
            ],
            [
             0.4,
             "#fde0ef"
            ],
            [
             0.5,
             "#f7f7f7"
            ],
            [
             0.6,
             "#e6f5d0"
            ],
            [
             0.7,
             "#b8e186"
            ],
            [
             0.8,
             "#7fbc41"
            ],
            [
             0.9,
             "#4d9221"
            ],
            [
             1,
             "#276419"
            ]
           ],
           "sequential": [
            [
             0,
             "#0d0887"
            ],
            [
             0.1111111111111111,
             "#46039f"
            ],
            [
             0.2222222222222222,
             "#7201a8"
            ],
            [
             0.3333333333333333,
             "#9c179e"
            ],
            [
             0.4444444444444444,
             "#bd3786"
            ],
            [
             0.5555555555555556,
             "#d8576b"
            ],
            [
             0.6666666666666666,
             "#ed7953"
            ],
            [
             0.7777777777777778,
             "#fb9f3a"
            ],
            [
             0.8888888888888888,
             "#fdca26"
            ],
            [
             1,
             "#f0f921"
            ]
           ],
           "sequentialminus": [
            [
             0,
             "#0d0887"
            ],
            [
             0.1111111111111111,
             "#46039f"
            ],
            [
             0.2222222222222222,
             "#7201a8"
            ],
            [
             0.3333333333333333,
             "#9c179e"
            ],
            [
             0.4444444444444444,
             "#bd3786"
            ],
            [
             0.5555555555555556,
             "#d8576b"
            ],
            [
             0.6666666666666666,
             "#ed7953"
            ],
            [
             0.7777777777777778,
             "#fb9f3a"
            ],
            [
             0.8888888888888888,
             "#fdca26"
            ],
            [
             1,
             "#f0f921"
            ]
           ]
          },
          "colorway": [
           "#636efa",
           "#EF553B",
           "#00cc96",
           "#ab63fa",
           "#FFA15A",
           "#19d3f3",
           "#FF6692",
           "#B6E880",
           "#FF97FF",
           "#FECB52"
          ],
          "font": {
           "color": "#2a3f5f"
          },
          "geo": {
           "bgcolor": "white",
           "lakecolor": "white",
           "landcolor": "#E5ECF6",
           "showlakes": true,
           "showland": true,
           "subunitcolor": "white"
          },
          "hoverlabel": {
           "align": "left"
          },
          "hovermode": "closest",
          "mapbox": {
           "style": "light"
          },
          "paper_bgcolor": "white",
          "plot_bgcolor": "#E5ECF6",
          "polar": {
           "angularaxis": {
            "gridcolor": "white",
            "linecolor": "white",
            "ticks": ""
           },
           "bgcolor": "#E5ECF6",
           "radialaxis": {
            "gridcolor": "white",
            "linecolor": "white",
            "ticks": ""
           }
          },
          "scene": {
           "xaxis": {
            "backgroundcolor": "#E5ECF6",
            "gridcolor": "white",
            "gridwidth": 2,
            "linecolor": "white",
            "showbackground": true,
            "ticks": "",
            "zerolinecolor": "white"
           },
           "yaxis": {
            "backgroundcolor": "#E5ECF6",
            "gridcolor": "white",
            "gridwidth": 2,
            "linecolor": "white",
            "showbackground": true,
            "ticks": "",
            "zerolinecolor": "white"
           },
           "zaxis": {
            "backgroundcolor": "#E5ECF6",
            "gridcolor": "white",
            "gridwidth": 2,
            "linecolor": "white",
            "showbackground": true,
            "ticks": "",
            "zerolinecolor": "white"
           }
          },
          "shapedefaults": {
           "line": {
            "color": "#2a3f5f"
           }
          },
          "ternary": {
           "aaxis": {
            "gridcolor": "white",
            "linecolor": "white",
            "ticks": ""
           },
           "baxis": {
            "gridcolor": "white",
            "linecolor": "white",
            "ticks": ""
           },
           "bgcolor": "#E5ECF6",
           "caxis": {
            "gridcolor": "white",
            "linecolor": "white",
            "ticks": ""
           }
          },
          "title": {
           "x": 0.05
          },
          "xaxis": {
           "automargin": true,
           "gridcolor": "white",
           "linecolor": "white",
           "ticks": "",
           "title": {
            "standoff": 15
           },
           "zerolinecolor": "white",
           "zerolinewidth": 2
          },
          "yaxis": {
           "automargin": true,
           "gridcolor": "white",
           "linecolor": "white",
           "ticks": "",
           "title": {
            "standoff": 15
           },
           "zerolinecolor": "white",
           "zerolinewidth": 2
          }
         }
        },
        "width": 1100
       }
      }
     },
     "metadata": {},
     "output_type": "display_data"
    }
   ],
   "source": [
    "import plotly.graph_objects as go\n",
    "from plotly.subplots import make_subplots\n",
    "\n",
    "country_freq = rounds.groupby('country_code').size() / rounds.country_code.size\n",
    "country_freq['others'] = country_freq[country_freq < 0.02].sum()\n",
    "country_freq = country_freq[country_freq >= 0.02]\n",
    "cb_sectors = rounds.groupby('meta_cat').size()\n",
    "\n",
    "fig = make_subplots(rows=1, cols=2, specs=[[{'type':'domain'}, {'type':'domain'}]], horizontal_spacing=0.1)\n",
    "fig.add_trace(go.Pie(values=country_freq.values, name=\"Country\", labels=country_freq.index,\n",
    "                     texttemplate = \"%{label}<br>(%{percent})\"),\n",
    "              1, 1)\n",
    "fig.add_trace(go.Pie(values=cb_sectors.values, name=\"Sector\", labels=cb_sectors.index,\n",
    "                     texttemplate = \"%{label}<br>(%{percent})\", rotation = 90),\n",
    "              1, 2)\n",
    "\n",
    "fig.update_layout(height=500, width=1100,\n",
    "                  showlegend=False,\n",
    "                  font={'size':18},\n",
    "                  margin={'l':0, 'r':0, 't':0, 'b':0})\n",
    "fig.write_image('figures/crunchbase_country_sectors.pdf')\n",
    "fig.show()"
   ]
  },
  {
   "cell_type": "code",
   "execution_count": null,
   "metadata": {
    "collapsed": false,
    "pycharm": {
     "name": "#%%\n"
    }
   },
   "outputs": [
    {
     "data": {
      "text/html": [
       "<div>\n",
       "<style scoped>\n",
       "    .dataframe tbody tr th:only-of-type {\n",
       "        vertical-align: middle;\n",
       "    }\n",
       "\n",
       "    .dataframe tbody tr th {\n",
       "        vertical-align: top;\n",
       "    }\n",
       "\n",
       "    .dataframe thead th {\n",
       "        text-align: right;\n",
       "    }\n",
       "</style>\n",
       "<table border=\"1\" class=\"dataframe\">\n",
       "  <thead>\n",
       "    <tr style=\"text-align: right;\">\n",
       "      <th></th>\n",
       "      <th>uuid</th>\n",
       "      <th>name</th>\n",
       "      <th>type</th>\n",
       "      <th>permalink</th>\n",
       "      <th>cb_url</th>\n",
       "      <th>rank</th>\n",
       "      <th>created_at</th>\n",
       "      <th>updated_at</th>\n",
       "      <th>country_code</th>\n",
       "      <th>state_code</th>\n",
       "      <th>...</th>\n",
       "      <th>post_money_valuation</th>\n",
       "      <th>post_money_valuation_currency_code</th>\n",
       "      <th>investor_count</th>\n",
       "      <th>org_uuid</th>\n",
       "      <th>org_name</th>\n",
       "      <th>lead_investor_uuids</th>\n",
       "      <th>year</th>\n",
       "      <th>stage</th>\n",
       "      <th>category</th>\n",
       "      <th>meta_cat</th>\n",
       "    </tr>\n",
       "  </thead>\n",
       "  <tbody>\n",
       "    <tr>\n",
       "      <th>453506</th>\n",
       "      <td>0f340ff4-4489-4e98-858b-6a11db173ff6</td>\n",
       "      <td>Seed Round - #walk15</td>\n",
       "      <td>funding_round</td>\n",
       "      <td>walk15-229d-seed--0f340ff4</td>\n",
       "      <td>https://www.crunchbase.com/funding_round/walk1...</td>\n",
       "      <td>$15,305.00</td>\n",
       "      <td>2022-01-19 15:18:26</td>\n",
       "      <td>2022-01-19 15:18:26</td>\n",
       "      <td>LTU</td>\n",
       "      <td>NaN</td>\n",
       "      <td>...</td>\n",
       "      <td>$5,268,500.00</td>\n",
       "      <td>EUR</td>\n",
       "      <td>$4.00</td>\n",
       "      <td>46c4ee6e-fdda-4bb3-925d-eb8533bc229d</td>\n",
       "      <td>#walk15</td>\n",
       "      <td>NaN</td>\n",
       "      <td>$2,021.00</td>\n",
       "      <td>early stage</td>\n",
       "      <td>Apps</td>\n",
       "      <td>Commercial P&amp;S</td>\n",
       "    </tr>\n",
       "    <tr>\n",
       "      <th>299104</th>\n",
       "      <td>14acdcf0-fff9-45e3-9cf7-72f3cabcb9a9</td>\n",
       "      <td>Secondary Market - &amp;pizza</td>\n",
       "      <td>funding_round</td>\n",
       "      <td>pizza-4-secondary-market--14acdcf0</td>\n",
       "      <td>https://www.crunchbase.com/funding_round/pizza...</td>\n",
       "      <td>$398,741.00</td>\n",
       "      <td>2020-03-03 22:28:27</td>\n",
       "      <td>2020-03-03 22:28:27</td>\n",
       "      <td>USA</td>\n",
       "      <td>DC</td>\n",
       "      <td>...</td>\n",
       "      <td>$129,800,000.00</td>\n",
       "      <td>USD</td>\n",
       "      <td>$1.00</td>\n",
       "      <td>e098354a-5d4e-9365-0298-c8649e2b4861</td>\n",
       "      <td>&amp;pizza</td>\n",
       "      <td>8487d047-1992-47db-866f-6607accf43de</td>\n",
       "      <td>$2,019.00</td>\n",
       "      <td>other</td>\n",
       "      <td>Food and Beverage</td>\n",
       "      <td>Consumer P&amp;S</td>\n",
       "    </tr>\n",
       "    <tr>\n",
       "      <th>299105</th>\n",
       "      <td>6bbaa3b1-813e-441c-832f-c095c0f7b8c7</td>\n",
       "      <td>Secondary Market - &amp;pizza</td>\n",
       "      <td>funding_round</td>\n",
       "      <td>pizza-4-secondary-market--6bbaa3b1</td>\n",
       "      <td>https://www.crunchbase.com/funding_round/pizza...</td>\n",
       "      <td>$90,148.00</td>\n",
       "      <td>2020-03-03 22:30:46</td>\n",
       "      <td>2020-03-03 22:30:46</td>\n",
       "      <td>USA</td>\n",
       "      <td>DC</td>\n",
       "      <td>...</td>\n",
       "      <td>$55,000,000.00</td>\n",
       "      <td>USD</td>\n",
       "      <td>$1.00</td>\n",
       "      <td>e098354a-5d4e-9365-0298-c8649e2b4861</td>\n",
       "      <td>&amp;pizza</td>\n",
       "      <td>8487d047-1992-47db-866f-6607accf43de</td>\n",
       "      <td>$2,019.00</td>\n",
       "      <td>other</td>\n",
       "      <td>Food and Beverage</td>\n",
       "      <td>Consumer P&amp;S</td>\n",
       "    </tr>\n",
       "    <tr>\n",
       "      <th>253008</th>\n",
       "      <td>a52df74f-84d3-440c-ae0e-e2ad6c70ddfe</td>\n",
       "      <td>Seed Round - .nanobile</td>\n",
       "      <td>funding_round</td>\n",
       "      <td>nanobile-seed--a52df74f</td>\n",
       "      <td>https://www.crunchbase.com/funding_round/nanob...</td>\n",
       "      <td>$247,981.00</td>\n",
       "      <td>2019-04-23 19:14:34</td>\n",
       "      <td>2019-04-23 19:14:34</td>\n",
       "      <td>SRB</td>\n",
       "      <td>NaN</td>\n",
       "      <td>...</td>\n",
       "      <td>$8,000,000.00</td>\n",
       "      <td>EUR</td>\n",
       "      <td>NaN</td>\n",
       "      <td>0ecd89e0-5ffb-42c5-8d5f-42bd0db3602f</td>\n",
       "      <td>.nanobile</td>\n",
       "      <td>NaN</td>\n",
       "      <td>$2,019.00</td>\n",
       "      <td>early stage</td>\n",
       "      <td>Artificial Intelligence</td>\n",
       "      <td>Consumer P&amp;S</td>\n",
       "    </tr>\n",
       "    <tr>\n",
       "      <th>424728</th>\n",
       "      <td>6bc23968-88ca-4e9f-a3df-4c6c350130be</td>\n",
       "      <td>Corporate Round - 1 India Family Mart</td>\n",
       "      <td>funding_round</td>\n",
       "      <td>1indiafamilymart-corporate-round--6bc23968</td>\n",
       "      <td>https://www.crunchbase.com/funding_round/1indi...</td>\n",
       "      <td>$42,614.00</td>\n",
       "      <td>2021-09-10 14:30:16</td>\n",
       "      <td>2021-09-10 14:31:48</td>\n",
       "      <td>IND</td>\n",
       "      <td>NaN</td>\n",
       "      <td>...</td>\n",
       "      <td>$5,050,000,000.00</td>\n",
       "      <td>INR</td>\n",
       "      <td>$1.00</td>\n",
       "      <td>5dadfece-dce1-4fbf-bc8b-628d32989d4f</td>\n",
       "      <td>1 India Family Mart</td>\n",
       "      <td>6e501388-f847-4e92-ba89-0abc8a75ecd6</td>\n",
       "      <td>$2,021.00</td>\n",
       "      <td>mid stage</td>\n",
       "      <td>Commerce and Shopping</td>\n",
       "      <td>Consumer P&amp;S</td>\n",
       "    </tr>\n",
       "    <tr>\n",
       "      <th>...</th>\n",
       "      <td>...</td>\n",
       "      <td>...</td>\n",
       "      <td>...</td>\n",
       "      <td>...</td>\n",
       "      <td>...</td>\n",
       "      <td>...</td>\n",
       "      <td>...</td>\n",
       "      <td>...</td>\n",
       "      <td>...</td>\n",
       "      <td>...</td>\n",
       "      <td>...</td>\n",
       "      <td>...</td>\n",
       "      <td>...</td>\n",
       "      <td>...</td>\n",
       "      <td>...</td>\n",
       "      <td>...</td>\n",
       "      <td>...</td>\n",
       "      <td>...</td>\n",
       "      <td>...</td>\n",
       "      <td>...</td>\n",
       "      <td>...</td>\n",
       "    </tr>\n",
       "    <tr>\n",
       "      <th>321671</th>\n",
       "      <td>a8dddeb4-34bd-4332-8372-e36e8d8cf85f</td>\n",
       "      <td>Pre Seed Round - ЭМИИА ИИ (EMIIA.AI)</td>\n",
       "      <td>funding_round</td>\n",
       "      <td>emiia-ai-pre-seed--a8dddeb4</td>\n",
       "      <td>https://www.crunchbase.com/funding_round/emiia...</td>\n",
       "      <td>$231,385.00</td>\n",
       "      <td>2020-07-02 09:47:20</td>\n",
       "      <td>2020-07-02 09:47:20</td>\n",
       "      <td>RUS</td>\n",
       "      <td>NaN</td>\n",
       "      <td>...</td>\n",
       "      <td>$350,000.00</td>\n",
       "      <td>USD</td>\n",
       "      <td>$1.00</td>\n",
       "      <td>720e888f-8a3d-48f5-bed6-26cb42ba0d7c</td>\n",
       "      <td>ЭМИИА ИИ (EMIIA.AI)</td>\n",
       "      <td>b35e276a-8a49-488d-b084-671c5b1c64d8</td>\n",
       "      <td>$2,017.00</td>\n",
       "      <td>early stage</td>\n",
       "      <td>Artificial Intelligence</td>\n",
       "      <td>Consumer P&amp;S</td>\n",
       "    </tr>\n",
       "    <tr>\n",
       "      <th>407676</th>\n",
       "      <td>508d7832-d44e-4b32-93dd-af9ef7a2b2ae</td>\n",
       "      <td>Seed Round - ЭМИИА ИИ (EMIIA.AI)</td>\n",
       "      <td>funding_round</td>\n",
       "      <td>emiia-ai-seed--508d7832</td>\n",
       "      <td>https://www.crunchbase.com/funding_round/emiia...</td>\n",
       "      <td>$95,941.00</td>\n",
       "      <td>2021-06-14 13:21:28</td>\n",
       "      <td>2021-06-14 13:21:28</td>\n",
       "      <td>RUS</td>\n",
       "      <td>NaN</td>\n",
       "      <td>...</td>\n",
       "      <td>$100,000.00</td>\n",
       "      <td>USD</td>\n",
       "      <td>$1.00</td>\n",
       "      <td>720e888f-8a3d-48f5-bed6-26cb42ba0d7c</td>\n",
       "      <td>ЭМИИА ИИ (EMIIA.AI)</td>\n",
       "      <td>1dbc1bd5-7f71-6862-ad39-2c1fd1e16f56</td>\n",
       "      <td>$2,021.00</td>\n",
       "      <td>early stage</td>\n",
       "      <td>Artificial Intelligence</td>\n",
       "      <td>Consumer P&amp;S</td>\n",
       "    </tr>\n",
       "    <tr>\n",
       "      <th>186582</th>\n",
       "      <td>b9642be8-95a3-4d5b-a32d-342f92b4f0f5</td>\n",
       "      <td>Equity Crowdfunding - ​​Zenz Organic</td>\n",
       "      <td>funding_round</td>\n",
       "      <td>zenz-organic-equity-crowdfunding--b9642be8</td>\n",
       "      <td>https://www.crunchbase.com/funding_round/zenz-...</td>\n",
       "      <td>$375,638.00</td>\n",
       "      <td>2018-01-04 04:55:42</td>\n",
       "      <td>2018-02-12 23:37:22</td>\n",
       "      <td>DNK</td>\n",
       "      <td>NaN</td>\n",
       "      <td>...</td>\n",
       "      <td>$41,916,720.00</td>\n",
       "      <td>DKK</td>\n",
       "      <td>NaN</td>\n",
       "      <td>85700750-9e29-473b-a5ac-30dbec63e071</td>\n",
       "      <td>​​Zenz Organic</td>\n",
       "      <td>NaN</td>\n",
       "      <td>$2,018.00</td>\n",
       "      <td>early stage</td>\n",
       "      <td>Consumer Goods</td>\n",
       "      <td>Energy</td>\n",
       "    </tr>\n",
       "    <tr>\n",
       "      <th>224945</th>\n",
       "      <td>76591133-f78b-4d61-b035-e91396e64441</td>\n",
       "      <td>Angel Round - 停車大聲公 PKLOT Inc</td>\n",
       "      <td>funding_round</td>\n",
       "      <td>停車大聲公-pklot-inc-angel--76591133</td>\n",
       "      <td>https://www.crunchbase.com/funding_round/停車大聲公...</td>\n",
       "      <td>$356,598.00</td>\n",
       "      <td>2018-09-16 04:07:34</td>\n",
       "      <td>2018-09-16 04:07:34</td>\n",
       "      <td>TWN</td>\n",
       "      <td>NaN</td>\n",
       "      <td>...</td>\n",
       "      <td>$115,000.00</td>\n",
       "      <td>USD</td>\n",
       "      <td>$2.00</td>\n",
       "      <td>168e52e0-b9f5-45be-8792-f5c1d96c68d2</td>\n",
       "      <td>停車大聲公 PKLOT Inc</td>\n",
       "      <td>9f85686a-94c1-4440-9847-85cadf9e42b4</td>\n",
       "      <td>$2,016.00</td>\n",
       "      <td>early stage</td>\n",
       "      <td>Apps</td>\n",
       "      <td>Commercial P&amp;S</td>\n",
       "    </tr>\n",
       "    <tr>\n",
       "      <th>396910</th>\n",
       "      <td>bed39afc-3031-4b63-b31c-6f1785330bf2</td>\n",
       "      <td>Secondary Market - 帆船</td>\n",
       "      <td>funding_round</td>\n",
       "      <td>帆船-secondary-market--bed39afc</td>\n",
       "      <td>https://www.crunchbase.com/funding_round/帆船-se...</td>\n",
       "      <td>$487,064.00</td>\n",
       "      <td>2021-04-28 05:06:23</td>\n",
       "      <td>2021-04-28 05:06:23</td>\n",
       "      <td>NaN</td>\n",
       "      <td>NaN</td>\n",
       "      <td>...</td>\n",
       "      <td>$6,500,000.00</td>\n",
       "      <td>USD</td>\n",
       "      <td>NaN</td>\n",
       "      <td>05342ba4-f338-4e68-b23a-92538934df8b</td>\n",
       "      <td>帆船</td>\n",
       "      <td>NaN</td>\n",
       "      <td>$2,019.00</td>\n",
       "      <td>other</td>\n",
       "      <td>NaN</td>\n",
       "      <td>Other</td>\n",
       "    </tr>\n",
       "  </tbody>\n",
       "</table>\n",
       "<p>26599 rows × 28 columns</p>\n",
       "</div>"
      ],
      "text/plain": [
       "                                        uuid  \\\n",
       "453506  0f340ff4-4489-4e98-858b-6a11db173ff6   \n",
       "299104  14acdcf0-fff9-45e3-9cf7-72f3cabcb9a9   \n",
       "299105  6bbaa3b1-813e-441c-832f-c095c0f7b8c7   \n",
       "253008  a52df74f-84d3-440c-ae0e-e2ad6c70ddfe   \n",
       "424728  6bc23968-88ca-4e9f-a3df-4c6c350130be   \n",
       "...                                      ...   \n",
       "321671  a8dddeb4-34bd-4332-8372-e36e8d8cf85f   \n",
       "407676  508d7832-d44e-4b32-93dd-af9ef7a2b2ae   \n",
       "186582  b9642be8-95a3-4d5b-a32d-342f92b4f0f5   \n",
       "224945  76591133-f78b-4d61-b035-e91396e64441   \n",
       "396910  bed39afc-3031-4b63-b31c-6f1785330bf2   \n",
       "\n",
       "                                         name           type  \\\n",
       "453506                   Seed Round - #walk15  funding_round   \n",
       "299104              Secondary Market - &pizza  funding_round   \n",
       "299105              Secondary Market - &pizza  funding_round   \n",
       "253008                 Seed Round - .nanobile  funding_round   \n",
       "424728  Corporate Round - 1 India Family Mart  funding_round   \n",
       "...                                       ...            ...   \n",
       "321671   Pre Seed Round - ЭМИИА ИИ (EMIIA.AI)  funding_round   \n",
       "407676       Seed Round - ЭМИИА ИИ (EMIIA.AI)  funding_round   \n",
       "186582   Equity Crowdfunding - ​​Zenz Organic  funding_round   \n",
       "224945          Angel Round - 停車大聲公 PKLOT Inc  funding_round   \n",
       "396910                  Secondary Market - 帆船  funding_round   \n",
       "\n",
       "                                         permalink  \\\n",
       "453506                  walk15-229d-seed--0f340ff4   \n",
       "299104          pizza-4-secondary-market--14acdcf0   \n",
       "299105          pizza-4-secondary-market--6bbaa3b1   \n",
       "253008                     nanobile-seed--a52df74f   \n",
       "424728  1indiafamilymart-corporate-round--6bc23968   \n",
       "...                                            ...   \n",
       "321671                 emiia-ai-pre-seed--a8dddeb4   \n",
       "407676                     emiia-ai-seed--508d7832   \n",
       "186582  zenz-organic-equity-crowdfunding--b9642be8   \n",
       "224945             停車大聲公-pklot-inc-angel--76591133   \n",
       "396910               帆船-secondary-market--bed39afc   \n",
       "\n",
       "                                                   cb_url        rank  \\\n",
       "453506  https://www.crunchbase.com/funding_round/walk1...  $15,305.00   \n",
       "299104  https://www.crunchbase.com/funding_round/pizza... $398,741.00   \n",
       "299105  https://www.crunchbase.com/funding_round/pizza...  $90,148.00   \n",
       "253008  https://www.crunchbase.com/funding_round/nanob... $247,981.00   \n",
       "424728  https://www.crunchbase.com/funding_round/1indi...  $42,614.00   \n",
       "...                                                   ...         ...   \n",
       "321671  https://www.crunchbase.com/funding_round/emiia... $231,385.00   \n",
       "407676  https://www.crunchbase.com/funding_round/emiia...  $95,941.00   \n",
       "186582  https://www.crunchbase.com/funding_round/zenz-... $375,638.00   \n",
       "224945  https://www.crunchbase.com/funding_round/停車大聲公... $356,598.00   \n",
       "396910  https://www.crunchbase.com/funding_round/帆船-se... $487,064.00   \n",
       "\n",
       "                 created_at           updated_at country_code state_code  ...  \\\n",
       "453506  2022-01-19 15:18:26  2022-01-19 15:18:26          LTU        NaN  ...   \n",
       "299104  2020-03-03 22:28:27  2020-03-03 22:28:27          USA         DC  ...   \n",
       "299105  2020-03-03 22:30:46  2020-03-03 22:30:46          USA         DC  ...   \n",
       "253008  2019-04-23 19:14:34  2019-04-23 19:14:34          SRB        NaN  ...   \n",
       "424728  2021-09-10 14:30:16  2021-09-10 14:31:48          IND        NaN  ...   \n",
       "...                     ...                  ...          ...        ...  ...   \n",
       "321671  2020-07-02 09:47:20  2020-07-02 09:47:20          RUS        NaN  ...   \n",
       "407676  2021-06-14 13:21:28  2021-06-14 13:21:28          RUS        NaN  ...   \n",
       "186582  2018-01-04 04:55:42  2018-02-12 23:37:22          DNK        NaN  ...   \n",
       "224945  2018-09-16 04:07:34  2018-09-16 04:07:34          TWN        NaN  ...   \n",
       "396910  2021-04-28 05:06:23  2021-04-28 05:06:23          NaN        NaN  ...   \n",
       "\n",
       "       post_money_valuation post_money_valuation_currency_code investor_count  \\\n",
       "453506        $5,268,500.00                                EUR          $4.00   \n",
       "299104      $129,800,000.00                                USD          $1.00   \n",
       "299105       $55,000,000.00                                USD          $1.00   \n",
       "253008        $8,000,000.00                                EUR            NaN   \n",
       "424728    $5,050,000,000.00                                INR          $1.00   \n",
       "...                     ...                                ...            ...   \n",
       "321671          $350,000.00                                USD          $1.00   \n",
       "407676          $100,000.00                                USD          $1.00   \n",
       "186582       $41,916,720.00                                DKK            NaN   \n",
       "224945          $115,000.00                                USD          $2.00   \n",
       "396910        $6,500,000.00                                USD            NaN   \n",
       "\n",
       "                                    org_uuid             org_name  \\\n",
       "453506  46c4ee6e-fdda-4bb3-925d-eb8533bc229d              #walk15   \n",
       "299104  e098354a-5d4e-9365-0298-c8649e2b4861               &pizza   \n",
       "299105  e098354a-5d4e-9365-0298-c8649e2b4861               &pizza   \n",
       "253008  0ecd89e0-5ffb-42c5-8d5f-42bd0db3602f            .nanobile   \n",
       "424728  5dadfece-dce1-4fbf-bc8b-628d32989d4f  1 India Family Mart   \n",
       "...                                      ...                  ...   \n",
       "321671  720e888f-8a3d-48f5-bed6-26cb42ba0d7c  ЭМИИА ИИ (EMIIA.AI)   \n",
       "407676  720e888f-8a3d-48f5-bed6-26cb42ba0d7c  ЭМИИА ИИ (EMIIA.AI)   \n",
       "186582  85700750-9e29-473b-a5ac-30dbec63e071       ​​Zenz Organic   \n",
       "224945  168e52e0-b9f5-45be-8792-f5c1d96c68d2      停車大聲公 PKLOT Inc   \n",
       "396910  05342ba4-f338-4e68-b23a-92538934df8b                   帆船   \n",
       "\n",
       "                         lead_investor_uuids      year        stage  \\\n",
       "453506                                   NaN $2,021.00  early stage   \n",
       "299104  8487d047-1992-47db-866f-6607accf43de $2,019.00        other   \n",
       "299105  8487d047-1992-47db-866f-6607accf43de $2,019.00        other   \n",
       "253008                                   NaN $2,019.00  early stage   \n",
       "424728  6e501388-f847-4e92-ba89-0abc8a75ecd6 $2,021.00    mid stage   \n",
       "...                                      ...       ...          ...   \n",
       "321671  b35e276a-8a49-488d-b084-671c5b1c64d8 $2,017.00  early stage   \n",
       "407676  1dbc1bd5-7f71-6862-ad39-2c1fd1e16f56 $2,021.00  early stage   \n",
       "186582                                   NaN $2,018.00  early stage   \n",
       "224945  9f85686a-94c1-4440-9847-85cadf9e42b4 $2,016.00  early stage   \n",
       "396910                                   NaN $2,019.00        other   \n",
       "\n",
       "                       category        meta_cat  \n",
       "453506                     Apps  Commercial P&S  \n",
       "299104        Food and Beverage    Consumer P&S  \n",
       "299105        Food and Beverage    Consumer P&S  \n",
       "253008  Artificial Intelligence    Consumer P&S  \n",
       "424728    Commerce and Shopping    Consumer P&S  \n",
       "...                         ...             ...  \n",
       "321671  Artificial Intelligence    Consumer P&S  \n",
       "407676  Artificial Intelligence    Consumer P&S  \n",
       "186582           Consumer Goods          Energy  \n",
       "224945                     Apps  Commercial P&S  \n",
       "396910                      NaN           Other  \n",
       "\n",
       "[26599 rows x 28 columns]"
      ]
     },
     "execution_count": 177,
     "metadata": {},
     "output_type": "execute_result"
    }
   ],
   "source": [
    "rounds[(rounds.post_money_valuation_usd > 0)].sort_values(by='org_name')"
   ]
  },
  {
   "cell_type": "code",
   "execution_count": null,
   "metadata": {
    "collapsed": false,
    "pycharm": {
     "name": "#%%\n"
    }
   },
   "outputs": [
    {
     "data": {
      "text/html": [
       "<div>\n",
       "<style scoped>\n",
       "    .dataframe tbody tr th:only-of-type {\n",
       "        vertical-align: middle;\n",
       "    }\n",
       "\n",
       "    .dataframe tbody tr th {\n",
       "        vertical-align: top;\n",
       "    }\n",
       "\n",
       "    .dataframe thead th {\n",
       "        text-align: right;\n",
       "    }\n",
       "</style>\n",
       "<table border=\"1\" class=\"dataframe\">\n",
       "  <thead>\n",
       "    <tr style=\"text-align: right;\">\n",
       "      <th></th>\n",
       "      <th>announced_on</th>\n",
       "      <th>name</th>\n",
       "      <th>investors</th>\n",
       "      <th>status</th>\n",
       "      <th>amount_raised_usd</th>\n",
       "      <th>pre_money_valuation</th>\n",
       "      <th>post_money_valuation</th>\n",
       "      <th>country</th>\n",
       "      <th>round_type</th>\n",
       "      <th>industry_classification</th>\n",
       "    </tr>\n",
       "  </thead>\n",
       "  <tbody>\n",
       "    <tr>\n",
       "      <th>0</th>\n",
       "      <td>2021-09-06</td>\n",
       "      <td>Alif Bank OJSC</td>\n",
       "      <td>Jefferson Capital Holdings Llc</td>\n",
       "      <td>Closed</td>\n",
       "      <td>$8.00</td>\n",
       "      <td>$92.00</td>\n",
       "      <td>$100.00</td>\n",
       "      <td>NaN</td>\n",
       "      <td>Growth</td>\n",
       "      <td>Banks (Primary); Banks (Primary); Financials (...</td>\n",
       "    </tr>\n",
       "    <tr>\n",
       "      <th>1</th>\n",
       "      <td>2021-10-13</td>\n",
       "      <td>Dexterity, Inc.</td>\n",
       "      <td>Kleiner Perkins Caufield &amp; Byers; Presidio STX...</td>\n",
       "      <td>Closed</td>\n",
       "      <td>$140.00</td>\n",
       "      <td>$1,260.00</td>\n",
       "      <td>$1,400.00</td>\n",
       "      <td>United States</td>\n",
       "      <td>Series B</td>\n",
       "      <td>Capital Goods (Primary); Industrial Machinery ...</td>\n",
       "    </tr>\n",
       "    <tr>\n",
       "      <th>2</th>\n",
       "      <td>2015-11-25</td>\n",
       "      <td>Seaport Diagnostics, Inc.</td>\n",
       "      <td>180 Degree Capital Corp. (NasdaqGM:TURN); DEFT...</td>\n",
       "      <td>Closed</td>\n",
       "      <td>$12.50</td>\n",
       "      <td>$10.99</td>\n",
       "      <td>$23.49</td>\n",
       "      <td>United States</td>\n",
       "      <td>Series A</td>\n",
       "      <td>Biotechnology (Primary); Biotechnology (Primar...</td>\n",
       "    </tr>\n",
       "    <tr>\n",
       "      <th>3</th>\n",
       "      <td>2018-06-12</td>\n",
       "      <td>Seaport Diagnostics, Inc.</td>\n",
       "      <td>Laboratory Corporation of America Holdings (NY...</td>\n",
       "      <td>Closed</td>\n",
       "      <td>$26.17</td>\n",
       "      <td>$67.26</td>\n",
       "      <td>$93.43</td>\n",
       "      <td>United States</td>\n",
       "      <td>Series B</td>\n",
       "      <td>Biotechnology (Primary); Biotechnology (Primar...</td>\n",
       "    </tr>\n",
       "    <tr>\n",
       "      <th>4</th>\n",
       "      <td>2001-01-31</td>\n",
       "      <td>(X,Y,Z) Imaging Inc.</td>\n",
       "      <td>NaN</td>\n",
       "      <td>Effective</td>\n",
       "      <td>$1.88</td>\n",
       "      <td>$2.64</td>\n",
       "      <td>$4.52</td>\n",
       "      <td>NaN</td>\n",
       "      <td>Series A</td>\n",
       "      <td>Commercial and Professional Services (Primary)...</td>\n",
       "    </tr>\n",
       "    <tr>\n",
       "      <th>...</th>\n",
       "      <td>...</td>\n",
       "      <td>...</td>\n",
       "      <td>...</td>\n",
       "      <td>...</td>\n",
       "      <td>...</td>\n",
       "      <td>...</td>\n",
       "      <td>...</td>\n",
       "      <td>...</td>\n",
       "      <td>...</td>\n",
       "      <td>...</td>\n",
       "    </tr>\n",
       "    <tr>\n",
       "      <th>9995</th>\n",
       "      <td>2017-06-08</td>\n",
       "      <td>Hangzhou DT Dream Technology Co., Ltd.</td>\n",
       "      <td>Alibaba Group Holding Limited (NYSE:BABA); Zhe...</td>\n",
       "      <td>Closed</td>\n",
       "      <td>$110.29</td>\n",
       "      <td>$892.35</td>\n",
       "      <td>$1,002.65</td>\n",
       "      <td>China</td>\n",
       "      <td>Series A</td>\n",
       "      <td>Information Technology (Primary); Infrastructu...</td>\n",
       "    </tr>\n",
       "    <tr>\n",
       "      <th>9996</th>\n",
       "      <td>2019-09-26</td>\n",
       "      <td>Hangzhou DT Dream Technology Co., Ltd.</td>\n",
       "      <td>Zheshang Venture Capital Co., Ltd; Zhejiang St...</td>\n",
       "      <td>Closed</td>\n",
       "      <td>$84.12</td>\n",
       "      <td>$1,415.88</td>\n",
       "      <td>$1,500.00</td>\n",
       "      <td>China</td>\n",
       "      <td>Series B</td>\n",
       "      <td>Information Technology (Primary); Infrastructu...</td>\n",
       "    </tr>\n",
       "    <tr>\n",
       "      <th>9997</th>\n",
       "      <td>2015-10-29</td>\n",
       "      <td>Hangzhou Duiba Network Technology Co., Ltd.</td>\n",
       "      <td>NaN</td>\n",
       "      <td>Closed</td>\n",
       "      <td>$4.25</td>\n",
       "      <td>$27.22</td>\n",
       "      <td>$31.47</td>\n",
       "      <td>NaN</td>\n",
       "      <td>Series B</td>\n",
       "      <td>Information Technology (Primary); Information ...</td>\n",
       "    </tr>\n",
       "    <tr>\n",
       "      <th>9998</th>\n",
       "      <td>2014-08-31</td>\n",
       "      <td>Hangzhou Enniu Network Technology Co., Ltd.</td>\n",
       "      <td>GGV Capital, LLC; JD.com, Inc. (NasdaqGS:JD); ...</td>\n",
       "      <td>Closed</td>\n",
       "      <td>$50.00</td>\n",
       "      <td>$250.00</td>\n",
       "      <td>$300.00</td>\n",
       "      <td>NaN</td>\n",
       "      <td>Series B</td>\n",
       "      <td>Application Software (Primary); Information Te...</td>\n",
       "    </tr>\n",
       "    <tr>\n",
       "      <th>9999</th>\n",
       "      <td>2016-09-20</td>\n",
       "      <td>Hangzhou Enniu Network Technology Co., Ltd.</td>\n",
       "      <td>Xinhu Zhongbao Co.,Ltd. (SHSE:600208); Shenzhe...</td>\n",
       "      <td>Closed</td>\n",
       "      <td>$310.00</td>\n",
       "      <td>$690.00</td>\n",
       "      <td>$1,000.00</td>\n",
       "      <td>NaN</td>\n",
       "      <td>Series C</td>\n",
       "      <td>Application Software (Primary); Information Te...</td>\n",
       "    </tr>\n",
       "  </tbody>\n",
       "</table>\n",
       "<p>10000 rows × 10 columns</p>\n",
       "</div>"
      ],
      "text/plain": [
       "     announced_on                                         name  \\\n",
       "0      2021-09-06                               Alif Bank OJSC   \n",
       "1      2021-10-13                              Dexterity, Inc.   \n",
       "2      2015-11-25                    Seaport Diagnostics, Inc.   \n",
       "3      2018-06-12                    Seaport Diagnostics, Inc.   \n",
       "4      2001-01-31                         (X,Y,Z) Imaging Inc.   \n",
       "...           ...                                          ...   \n",
       "9995   2017-06-08       Hangzhou DT Dream Technology Co., Ltd.   \n",
       "9996   2019-09-26       Hangzhou DT Dream Technology Co., Ltd.   \n",
       "9997   2015-10-29  Hangzhou Duiba Network Technology Co., Ltd.   \n",
       "9998   2014-08-31  Hangzhou Enniu Network Technology Co., Ltd.   \n",
       "9999   2016-09-20  Hangzhou Enniu Network Technology Co., Ltd.   \n",
       "\n",
       "                                              investors     status  \\\n",
       "0                        Jefferson Capital Holdings Llc     Closed   \n",
       "1     Kleiner Perkins Caufield & Byers; Presidio STX...     Closed   \n",
       "2     180 Degree Capital Corp. (NasdaqGM:TURN); DEFT...     Closed   \n",
       "3     Laboratory Corporation of America Holdings (NY...     Closed   \n",
       "4                                                   NaN  Effective   \n",
       "...                                                 ...        ...   \n",
       "9995  Alibaba Group Holding Limited (NYSE:BABA); Zhe...     Closed   \n",
       "9996  Zheshang Venture Capital Co., Ltd; Zhejiang St...     Closed   \n",
       "9997                                                NaN     Closed   \n",
       "9998  GGV Capital, LLC; JD.com, Inc. (NasdaqGS:JD); ...     Closed   \n",
       "9999  Xinhu Zhongbao Co.,Ltd. (SHSE:600208); Shenzhe...     Closed   \n",
       "\n",
       "      amount_raised_usd  pre_money_valuation  post_money_valuation  \\\n",
       "0                 $8.00               $92.00               $100.00   \n",
       "1               $140.00            $1,260.00             $1,400.00   \n",
       "2                $12.50               $10.99                $23.49   \n",
       "3                $26.17               $67.26                $93.43   \n",
       "4                 $1.88                $2.64                 $4.52   \n",
       "...                 ...                  ...                   ...   \n",
       "9995            $110.29              $892.35             $1,002.65   \n",
       "9996             $84.12            $1,415.88             $1,500.00   \n",
       "9997              $4.25               $27.22                $31.47   \n",
       "9998             $50.00              $250.00               $300.00   \n",
       "9999            $310.00              $690.00             $1,000.00   \n",
       "\n",
       "            country round_type  \\\n",
       "0               NaN     Growth   \n",
       "1     United States   Series B   \n",
       "2     United States   Series A   \n",
       "3     United States   Series B   \n",
       "4               NaN   Series A   \n",
       "...             ...        ...   \n",
       "9995          China   Series A   \n",
       "9996          China   Series B   \n",
       "9997            NaN   Series B   \n",
       "9998            NaN   Series B   \n",
       "9999            NaN   Series C   \n",
       "\n",
       "                                industry_classification  \n",
       "0     Banks (Primary); Banks (Primary); Financials (...  \n",
       "1     Capital Goods (Primary); Industrial Machinery ...  \n",
       "2     Biotechnology (Primary); Biotechnology (Primar...  \n",
       "3     Biotechnology (Primary); Biotechnology (Primar...  \n",
       "4     Commercial and Professional Services (Primary)...  \n",
       "...                                                 ...  \n",
       "9995  Information Technology (Primary); Infrastructu...  \n",
       "9996  Information Technology (Primary); Infrastructu...  \n",
       "9997  Information Technology (Primary); Information ...  \n",
       "9998  Application Software (Primary); Information Te...  \n",
       "9999  Application Software (Primary); Information Te...  \n",
       "\n",
       "[10000 rows x 10 columns]"
      ]
     },
     "execution_count": 178,
     "metadata": {},
     "output_type": "execute_result"
    }
   ],
   "source": [
    "capitaliq = pd.read_excel('../../data/pmv_not_na.xls', skiprows=6, header=1, na_values='-')\n",
    "capitaliq.columns = ['announced_on', 'name', 'exchange',\n",
    "                     'investors', 'status',\n",
    "                     'amount_raised_usd',\n",
    "                     'pre_money_valuation',\n",
    "                     'post_money_valuation',\n",
    "                     'country', 'round_type',\n",
    "                     'industry_classification',\n",
    "                     'Excel Company ID [Target/Issuer]', 'CIK [Target/Issuer]',\n",
    "                     'SIC Codes (Primary Code Only) [Target/Issuer]']\n",
    "capitaliq = capitaliq.drop(columns=['exchange', 'Excel Company ID [Target/Issuer]', 'CIK [Target/Issuer]', 'SIC Codes (Primary Code Only) [Target/Issuer]'])\n",
    "capitaliq"
   ]
  },
  {
   "cell_type": "code",
   "execution_count": null,
   "metadata": {
    "collapsed": false,
    "pycharm": {
     "name": "#%%\n"
    }
   },
   "outputs": [],
   "source": [
    "rnd_types = ['angel', 'series_a', 'series_b', 'seed', 'growth']\n",
    "growth = ['series_c', 'series_d', 'series_e', 'series_f', 'series_i', 'series_g', 'series_h', 'series_j']\n",
    "rounds.investment_type = rounds.investment_type.apply(lambda x: 'growth' if x in growth else x)\n",
    "rounds_activity = rounds[(rounds.announced_on.dt.year > 2000) & (rounds.investment_type.isin(rnd_types))].copy()\n",
    "rounds_activity['count'] = np.ones_like(rounds_activity.index)\n",
    "rounds_activity = rounds_activity.groupby([rounds_activity.announced_on.dt.year, rounds_activity.announced_on.dt.month, rounds_activity.investment_type]).sum()\n",
    "rounds_activity = rounds_activity[['raised_amount_usd', 'count']]\n",
    "rounds_activity.index.names = ['year', 'month', 'round_type']\n",
    "rounds_activity.reset_index(inplace=True)"
   ]
  },
  {
   "cell_type": "code",
   "execution_count": null,
   "metadata": {
    "collapsed": false,
    "pycharm": {
     "name": "#%%\n"
    }
   },
   "outputs": [],
   "source": [
    "rounds_activity['period'] = rounds_activity.apply(lambda i: str(i.year) + '-' + str(i.month), axis=1)\n",
    "rounds_activity.period = pd.to_datetime(rounds_activity.period, format='%Y-%m')\n",
    "rounds_activity = rounds_activity[rounds_activity.period < '2022-06-01']\n",
    "rounds_activity.columns = ['year', 'month', 'round_type', 'raised_amount_usd', 'count', 'period']"
   ]
  },
  {
   "cell_type": "code",
   "execution_count": null,
   "metadata": {
    "collapsed": false,
    "pycharm": {
     "name": "#%%\n"
    }
   },
   "outputs": [
    {
     "data": {
      "text/html": [
       "<div>\n",
       "<style scoped>\n",
       "    .dataframe tbody tr th:only-of-type {\n",
       "        vertical-align: middle;\n",
       "    }\n",
       "\n",
       "    .dataframe tbody tr th {\n",
       "        vertical-align: top;\n",
       "    }\n",
       "\n",
       "    .dataframe thead th {\n",
       "        text-align: right;\n",
       "    }\n",
       "</style>\n",
       "<table border=\"1\" class=\"dataframe\">\n",
       "  <thead>\n",
       "    <tr style=\"text-align: right;\">\n",
       "      <th></th>\n",
       "      <th>year</th>\n",
       "      <th>month</th>\n",
       "      <th>round_type</th>\n",
       "      <th>raised_amount_usd</th>\n",
       "      <th>count</th>\n",
       "      <th>period</th>\n",
       "    </tr>\n",
       "  </thead>\n",
       "  <tbody>\n",
       "    <tr>\n",
       "      <th>0</th>\n",
       "      <td>2001</td>\n",
       "      <td>1</td>\n",
       "      <td>angel</td>\n",
       "      <td>$0.00</td>\n",
       "      <td>3</td>\n",
       "      <td>2001-01-01</td>\n",
       "    </tr>\n",
       "    <tr>\n",
       "      <th>1</th>\n",
       "      <td>2001</td>\n",
       "      <td>1</td>\n",
       "      <td>growth</td>\n",
       "      <td>$892,600,000.00</td>\n",
       "      <td>25</td>\n",
       "      <td>2001-01-01</td>\n",
       "    </tr>\n",
       "    <tr>\n",
       "      <th>2</th>\n",
       "      <td>2001</td>\n",
       "      <td>1</td>\n",
       "      <td>seed</td>\n",
       "      <td>$9,375,997.00</td>\n",
       "      <td>36</td>\n",
       "      <td>2001-01-01</td>\n",
       "    </tr>\n",
       "    <tr>\n",
       "      <th>3</th>\n",
       "      <td>2001</td>\n",
       "      <td>1</td>\n",
       "      <td>series_a</td>\n",
       "      <td>$715,545,888.00</td>\n",
       "      <td>80</td>\n",
       "      <td>2001-01-01</td>\n",
       "    </tr>\n",
       "    <tr>\n",
       "      <th>4</th>\n",
       "      <td>2001</td>\n",
       "      <td>1</td>\n",
       "      <td>series_b</td>\n",
       "      <td>$1,255,739,751.00</td>\n",
       "      <td>64</td>\n",
       "      <td>2001-01-01</td>\n",
       "    </tr>\n",
       "    <tr>\n",
       "      <th>...</th>\n",
       "      <td>...</td>\n",
       "      <td>...</td>\n",
       "      <td>...</td>\n",
       "      <td>...</td>\n",
       "      <td>...</td>\n",
       "      <td>...</td>\n",
       "    </tr>\n",
       "    <tr>\n",
       "      <th>1275</th>\n",
       "      <td>2022</td>\n",
       "      <td>5</td>\n",
       "      <td>angel</td>\n",
       "      <td>$64,466,699.00</td>\n",
       "      <td>79</td>\n",
       "      <td>2022-05-01</td>\n",
       "    </tr>\n",
       "    <tr>\n",
       "      <th>1276</th>\n",
       "      <td>2022</td>\n",
       "      <td>5</td>\n",
       "      <td>growth</td>\n",
       "      <td>$11,254,669,949.00</td>\n",
       "      <td>118</td>\n",
       "      <td>2022-05-01</td>\n",
       "    </tr>\n",
       "    <tr>\n",
       "      <th>1277</th>\n",
       "      <td>2022</td>\n",
       "      <td>5</td>\n",
       "      <td>seed</td>\n",
       "      <td>$2,784,044,550.00</td>\n",
       "      <td>785</td>\n",
       "      <td>2022-05-01</td>\n",
       "    </tr>\n",
       "    <tr>\n",
       "      <th>1278</th>\n",
       "      <td>2022</td>\n",
       "      <td>5</td>\n",
       "      <td>series_a</td>\n",
       "      <td>$5,241,765,084.00</td>\n",
       "      <td>342</td>\n",
       "      <td>2022-05-01</td>\n",
       "    </tr>\n",
       "    <tr>\n",
       "      <th>1279</th>\n",
       "      <td>2022</td>\n",
       "      <td>5</td>\n",
       "      <td>series_b</td>\n",
       "      <td>$6,909,504,986.00</td>\n",
       "      <td>183</td>\n",
       "      <td>2022-05-01</td>\n",
       "    </tr>\n",
       "  </tbody>\n",
       "</table>\n",
       "<p>1280 rows × 6 columns</p>\n",
       "</div>"
      ],
      "text/plain": [
       "      year  month round_type  raised_amount_usd  count     period\n",
       "0     2001      1      angel              $0.00      3 2001-01-01\n",
       "1     2001      1     growth    $892,600,000.00     25 2001-01-01\n",
       "2     2001      1       seed      $9,375,997.00     36 2001-01-01\n",
       "3     2001      1   series_a    $715,545,888.00     80 2001-01-01\n",
       "4     2001      1   series_b  $1,255,739,751.00     64 2001-01-01\n",
       "...    ...    ...        ...                ...    ...        ...\n",
       "1275  2022      5      angel     $64,466,699.00     79 2022-05-01\n",
       "1276  2022      5     growth $11,254,669,949.00    118 2022-05-01\n",
       "1277  2022      5       seed  $2,784,044,550.00    785 2022-05-01\n",
       "1278  2022      5   series_a  $5,241,765,084.00    342 2022-05-01\n",
       "1279  2022      5   series_b  $6,909,504,986.00    183 2022-05-01\n",
       "\n",
       "[1280 rows x 6 columns]"
      ]
     },
     "execution_count": 181,
     "metadata": {},
     "output_type": "execute_result"
    }
   ],
   "source": [
    "rounds_activity"
   ]
  },
  {
   "cell_type": "code",
   "execution_count": null,
   "metadata": {
    "collapsed": false,
    "pycharm": {
     "name": "#%%\n"
    }
   },
   "outputs": [
    {
     "data": {
      "image/png": "[encoded data removed]",
      "text/plain": [
       "<Figure size 1080x360 with 2 Axes>"
      ]
     },
     "metadata": {
      "needs_background": "light"
     },
     "output_type": "display_data"
    }
   ],
   "source": [
    "fig, axs = plt.subplots(nrows=1, ncols=2, figsize=(15, 5))\n",
    "\n",
    "for tp in rounds_activity.round_type.unique():\n",
    "    axs[0].plot(rounds_activity[rounds_activity.round_type == tp][['period', 'count']].set_index('period'), label=tp)\n",
    "axs[0].legend()\n",
    "for tp in rounds_activity.round_type.unique():\n",
    "    axs[1].plot(rounds_activity[(rounds_activity.period.dt.year > 2019) & (rounds_activity.round_type == tp)][['period', 'count']].set_index('period'), label=tp)\n",
    "plt.xticks(rotation=30)\n",
    "plt.show()"
   ]
  },
  {
   "cell_type": "code",
   "execution_count": null,
   "metadata": {
    "collapsed": false,
    "pycharm": {
     "name": "#%%\n"
    }
   },
   "outputs": [
    {
     "data": {
      "image/png": "[encoded data removed]",
      "text/plain": [
       "<Figure size 1080x360 with 2 Axes>"
      ]
     },
     "metadata": {
      "needs_background": "light"
     },
     "output_type": "display_data"
    }
   ],
   "source": [
    "fig, axs = plt.subplots(nrows=1, ncols=2, figsize=(15, 5))\n",
    "\n",
    "for tp in rounds_activity.round_type.unique():\n",
    "    axs[0].plot(rounds_activity[rounds_activity.round_type == tp][['period', 'raised_amount_usd']].set_index('period'), label=tp)\n",
    "axs[0].legend()\n",
    "for tp in rounds_activity.round_type.unique():\n",
    "    axs[1].plot(rounds_activity[(rounds_activity.period.dt.year > 2019) & (rounds_activity.round_type == tp)][['period', 'raised_amount_usd']].set_index('period'), label=tp)\n",
    "plt.xticks(rotation=30)\n",
    "plt.show()"
   ]
  },
  {
   "cell_type": "code",
   "execution_count": null,
   "metadata": {
    "collapsed": false,
    "pycharm": {
     "name": "#%%\n"
    }
   },
   "outputs": [
    {
     "data": {
      "text/plain": [
       "<AxesSubplot:ylabel='Count'>"
      ]
     },
     "execution_count": 184,
     "metadata": {},
     "output_type": "execute_result"
    },
    {
     "data": {
      "image/png": "[encoded data removed]",
      "text/plain": [
       "<Figure size 432x288 with 1 Axes>"
      ]
     },
     "metadata": {
      "needs_background": "light"
     },
     "output_type": "display_data"
    }
   ],
   "source": [
    "sp500 = get_yfinance_time_series('^GSPC', start=2020, end=None)\n",
    "daily_ret = sp500.pct_change()\n",
    "daily_ret = daily_ret.reset_index()\n",
    "daily_ret.columns=['date', 'S&P500']\n",
    "sns.histplot(data=daily_ret)"
   ]
  },
  {
   "cell_type": "code",
   "execution_count": null,
   "metadata": {},
   "outputs": [],
   "source": [
    "ipos = pd.read_csv('../../data/crunchbase/ipos.csv')\n",
    "acqs = pd.read_csv('../../data/crunchbase/acquisitions.csv')"
   ]
  },
  {
   "cell_type": "code",
   "execution_count": null,
   "metadata": {},
   "outputs": [
    {
     "data": {
      "text/plain": [
       "status\n",
       "acquired      5.49%\n",
       "closed        6.68%\n",
       "ipo           2.00%\n",
       "operating    85.83%\n",
       "dtype: object"
      ]
     },
     "execution_count": 186,
     "metadata": {},
     "output_type": "execute_result"
    }
   ],
   "source": [
    "prop = orgs.groupby(orgs.status).size() / orgs.shape[0]\n",
    "prop = prop.map('{:.2%}'.format)\n",
    "prop"
   ]
  },
  {
   "cell_type": "code",
   "execution_count": null,
   "metadata": {},
   "outputs": [
    {
     "data": {
      "text/plain": [
       "country_code\n",
       "GBR     $348,280,808.81\n",
       "FRA     $470,041,366.54\n",
       "DEU     $670,430,134.17\n",
       "USA     $753,133,295.26\n",
       "SWE     $769,545,585.46\n",
       "JPN     $801,605,945.59\n",
       "NLD     $974,746,363.75\n",
       "IND   $1,470,622,433.54\n",
       "KOR   $2,637,464,789.95\n",
       "CHN   $3,752,944,377.85\n",
       "Name: post_money_valuation_usd, dtype: float64"
      ]
     },
     "execution_count": 187,
     "metadata": {},
     "output_type": "execute_result"
    }
   ],
   "source": [
    "big_countries = rounds.groupby('country_code').size()\n",
    "big_countries = big_countries[big_countries > 2000]\n",
    "\n",
    "df = rounds[rounds.country_code.isin(big_countries.index)]\n",
    "df.groupby('country_code').mean().post_money_valuation_usd.sort_values().dropna()[-10:]"
   ]
  },
  {
   "cell_type": "code",
   "execution_count": null,
   "metadata": {},
   "outputs": [
    {
     "data": {
      "text/plain": [
       "meta_cat\n",
       "Energy             238690763\n",
       "IT Hardware        321492178\n",
       "Healthcare         498840421\n",
       "Other              657836796\n",
       "Media              758248357\n",
       "Consumer P&S       799821843\n",
       "Software           810884147\n",
       "Commercial P&S     942134030\n",
       "Biotech           1119291342\n",
       "Name: post_money_valuation_usd, dtype: int64"
      ]
     },
     "execution_count": 188,
     "metadata": {},
     "output_type": "execute_result"
    }
   ],
   "source": [
    "df.groupby('meta_cat').mean().post_money_valuation_usd.sort_values().dropna()[-10:].astype(int)"
   ]
  },
  {
   "cell_type": "code",
   "execution_count": null,
   "metadata": {},
   "outputs": [
    {
     "name": "stderr",
     "output_type": "stream",
     "text": [
      "/var/folders/9g/9p32rxp10c37hppq5lydn44c0000gn/T/ipykernel_20790/2238396604.py:1: DtypeWarning:\n",
      "\n",
      "Columns (6) have mixed types. Specify dtype option on import or set low_memory=False.\n",
      "\n",
      "No artists with labels found to put in legend.  Note that artists whose label start with an underscore are ignored when legend() is called with no argument.\n"
     ]
    },
    {
     "data": {
      "image/png": "[encoded data removed]",
      "text/plain": [
       "<Figure size 360x432 with 2 Axes>"
      ]
     },
     "metadata": {
      "needs_background": "light"
     },
     "output_type": "display_data"
    }
   ],
   "source": [
    "complete = pd.read_csv('../../data/data.csv')\n",
    "\n",
    "fig, axs = plt.subplots(nrows=2, ncols=1, figsize=(5,6))\n",
    "sns.histplot(complete[complete.return_usd < 100].return_usd, ax=axs[0], bins=70, stat=\"density\")\n",
    "sns.histplot(np.log(complete.return_usd.dropna()), bins=50, stat=\"density\", ax=axs[1])\n",
    "sns.kdeplot(np.log(complete.return_usd.dropna()), color=\"r\", ax=axs[1])\n",
    "axs[0].set_xlabel('Return')\n",
    "axs[1].set_xlabel('log(Return)')\n",
    "axs[1].legend(title=f'$\\mu$ = {np.log(complete.return_usd.dropna()).mean():.2f}\\n$\\sigma$ = {np.log(complete.return_usd.dropna()).std():.2f}')\n",
    "plt.savefig('figures/returns.pdf')"
   ]
  },
  {
   "cell_type": "code",
   "execution_count": null,
   "metadata": {},
   "outputs": [
    {
     "name": "stdout",
     "output_type": "stream",
     "text": [
      "Missing PMVs: 94.56% (462260)\n",
      "Available PMVs: 5.44% (26601)\n"
     ]
    }
   ],
   "source": [
    "original = pd.read_csv('../../data/crunchbase/funding_rounds.csv')\n",
    "print(f'Missing PMVs: {original.post_money_valuation_usd.isna().sum() / original.shape[0] * 100:.2f}% ({original.post_money_valuation_usd.isna().sum()})')\n",
    "print(f'Available PMVs: {original.post_money_valuation_usd.notna().sum() / original.shape[0] * 100:.2f}% ({original.post_money_valuation_usd.notna().sum()})')"
   ]
  },
  {
   "cell_type": "code",
   "execution_count": null,
   "metadata": {},
   "outputs": [
    {
     "data": {
      "text/html": [
       "<div>\n",
       "<style scoped>\n",
       "    .dataframe tbody tr th:only-of-type {\n",
       "        vertical-align: middle;\n",
       "    }\n",
       "\n",
       "    .dataframe tbody tr th {\n",
       "        vertical-align: top;\n",
       "    }\n",
       "\n",
       "    .dataframe thead th {\n",
       "        text-align: right;\n",
       "    }\n",
       "</style>\n",
       "<table border=\"1\" class=\"dataframe\">\n",
       "  <thead>\n",
       "    <tr style=\"text-align: right;\">\n",
       "      <th></th>\n",
       "      <th>company_num</th>\n",
       "      <th>group_num</th>\n",
       "      <th>seg_num</th>\n",
       "      <th>round_date</th>\n",
       "      <th>raised_usd</th>\n",
       "      <th>postvalue_usd</th>\n",
       "      <th>exit_date</th>\n",
       "      <th>exit_type</th>\n",
       "      <th>exit_value</th>\n",
       "      <th>return_usd</th>\n",
       "    </tr>\n",
       "  </thead>\n",
       "  <tbody>\n",
       "    <tr>\n",
       "      <th>0</th>\n",
       "      <td>000cff2d-58df-0a9a-97ea-6b73ed9ec601</td>\n",
       "      <td>NaN</td>\n",
       "      <td>NaN</td>\n",
       "      <td>2016-07-21</td>\n",
       "      <td>$100,000.00</td>\n",
       "      <td>$1,120,240.14</td>\n",
       "      <td>2020-03-06</td>\n",
       "      <td>2</td>\n",
       "      <td>NaN</td>\n",
       "      <td>NaN</td>\n",
       "    </tr>\n",
       "    <tr>\n",
       "      <th>1</th>\n",
       "      <td>0012f446-a31b-9eb8-4fa0-448ed0414112</td>\n",
       "      <td>NaN</td>\n",
       "      <td>NaN</td>\n",
       "      <td>2000-03-07</td>\n",
       "      <td>$14,000,000.00</td>\n",
       "      <td>$70,598,575.43</td>\n",
       "      <td>2005-06-01</td>\n",
       "      <td>3</td>\n",
       "      <td>NaN</td>\n",
       "      <td>NaN</td>\n",
       "    </tr>\n",
       "    <tr>\n",
       "      <th>2</th>\n",
       "      <td>00251aad-6e34-0898-8a72-fe8864a90f92</td>\n",
       "      <td>NaN</td>\n",
       "      <td>NaN</td>\n",
       "      <td>2012-10-04</td>\n",
       "      <td>$650,532.00</td>\n",
       "      <td>$3,238,880.30</td>\n",
       "      <td>2016-11-08</td>\n",
       "      <td>2</td>\n",
       "      <td>NaN</td>\n",
       "      <td>NaN</td>\n",
       "    </tr>\n",
       "    <tr>\n",
       "      <th>3</th>\n",
       "      <td>002aac96-79d4-a8f3-8ef0-d44fb240951d</td>\n",
       "      <td>NaN</td>\n",
       "      <td>NaN</td>\n",
       "      <td>2000-05-12</td>\n",
       "      <td>$3,000,000.00</td>\n",
       "      <td>$11,260,369.05</td>\n",
       "      <td>2006-11-09</td>\n",
       "      <td>2</td>\n",
       "      <td>NaN</td>\n",
       "      <td>NaN</td>\n",
       "    </tr>\n",
       "    <tr>\n",
       "      <th>4</th>\n",
       "      <td>002e0b73-ab4e-bfd5-0d9a-e6df8fede446</td>\n",
       "      <td>NaN</td>\n",
       "      <td>NaN</td>\n",
       "      <td>2016-01-11</td>\n",
       "      <td>$45,000,000.00</td>\n",
       "      <td>$210,429,441.57</td>\n",
       "      <td>2020-12-15</td>\n",
       "      <td>1</td>\n",
       "      <td>$577,580,000.00</td>\n",
       "      <td>$2.44</td>\n",
       "    </tr>\n",
       "    <tr>\n",
       "      <th>...</th>\n",
       "      <td>...</td>\n",
       "      <td>...</td>\n",
       "      <td>...</td>\n",
       "      <td>...</td>\n",
       "      <td>...</td>\n",
       "      <td>...</td>\n",
       "      <td>...</td>\n",
       "      <td>...</td>\n",
       "      <td>...</td>\n",
       "      <td>...</td>\n",
       "    </tr>\n",
       "    <tr>\n",
       "      <th>119878</th>\n",
       "      <td>fffe3b0b-8545-4414-9c0e-a3f961c4e420</td>\n",
       "      <td>NaN</td>\n",
       "      <td>NaN</td>\n",
       "      <td>2017-02-07</td>\n",
       "      <td>$14,523,274.00</td>\n",
       "      <td>$85,258,286.20</td>\n",
       "      <td>NaN</td>\n",
       "      <td>4</td>\n",
       "      <td>NaN</td>\n",
       "      <td>NaN</td>\n",
       "    </tr>\n",
       "    <tr>\n",
       "      <th>119879</th>\n",
       "      <td>ffff2bea-7e44-4563-b311-65daadb683cd</td>\n",
       "      <td>NaN</td>\n",
       "      <td>NaN</td>\n",
       "      <td>2010-12-07</td>\n",
       "      <td>$451,407.00</td>\n",
       "      <td>$2,387,976.17</td>\n",
       "      <td>NaN</td>\n",
       "      <td>4</td>\n",
       "      <td>NaN</td>\n",
       "      <td>NaN</td>\n",
       "    </tr>\n",
       "    <tr>\n",
       "      <th>119880</th>\n",
       "      <td>ffff2bea-7e44-4563-b311-65daadb683cd</td>\n",
       "      <td>NaN</td>\n",
       "      <td>NaN</td>\n",
       "      <td>2013-04-25</td>\n",
       "      <td>$1,616,916.00</td>\n",
       "      <td>$8,092,736.68</td>\n",
       "      <td>NaN</td>\n",
       "      <td>4</td>\n",
       "      <td>NaN</td>\n",
       "      <td>NaN</td>\n",
       "    </tr>\n",
       "    <tr>\n",
       "      <th>119881</th>\n",
       "      <td>ffffabce-6d4a-b3d1-13c0-4e90cedf5270</td>\n",
       "      <td>NaN</td>\n",
       "      <td>NaN</td>\n",
       "      <td>2016-05-15</td>\n",
       "      <td>$210,000.00</td>\n",
       "      <td>$2,649,444.56</td>\n",
       "      <td>NaN</td>\n",
       "      <td>4</td>\n",
       "      <td>NaN</td>\n",
       "      <td>NaN</td>\n",
       "    </tr>\n",
       "    <tr>\n",
       "      <th>119882</th>\n",
       "      <td>ffffabce-6d4a-b3d1-13c0-4e90cedf5270</td>\n",
       "      <td>NaN</td>\n",
       "      <td>NaN</td>\n",
       "      <td>2017-02-09</td>\n",
       "      <td>$700,000.00</td>\n",
       "      <td>$3,528,938.96</td>\n",
       "      <td>NaN</td>\n",
       "      <td>4</td>\n",
       "      <td>NaN</td>\n",
       "      <td>NaN</td>\n",
       "    </tr>\n",
       "  </tbody>\n",
       "</table>\n",
       "<p>119883 rows × 10 columns</p>\n",
       "</div>"
      ],
      "text/plain": [
       "                                 company_num  group_num  seg_num  round_date  \\\n",
       "0       000cff2d-58df-0a9a-97ea-6b73ed9ec601        NaN      NaN  2016-07-21   \n",
       "1       0012f446-a31b-9eb8-4fa0-448ed0414112        NaN      NaN  2000-03-07   \n",
       "2       00251aad-6e34-0898-8a72-fe8864a90f92        NaN      NaN  2012-10-04   \n",
       "3       002aac96-79d4-a8f3-8ef0-d44fb240951d        NaN      NaN  2000-05-12   \n",
       "4       002e0b73-ab4e-bfd5-0d9a-e6df8fede446        NaN      NaN  2016-01-11   \n",
       "...                                      ...        ...      ...         ...   \n",
       "119878  fffe3b0b-8545-4414-9c0e-a3f961c4e420        NaN      NaN  2017-02-07   \n",
       "119879  ffff2bea-7e44-4563-b311-65daadb683cd        NaN      NaN  2010-12-07   \n",
       "119880  ffff2bea-7e44-4563-b311-65daadb683cd        NaN      NaN  2013-04-25   \n",
       "119881  ffffabce-6d4a-b3d1-13c0-4e90cedf5270        NaN      NaN  2016-05-15   \n",
       "119882  ffffabce-6d4a-b3d1-13c0-4e90cedf5270        NaN      NaN  2017-02-09   \n",
       "\n",
       "           raised_usd   postvalue_usd   exit_date  exit_type      exit_value  \\\n",
       "0         $100,000.00   $1,120,240.14  2020-03-06          2             NaN   \n",
       "1      $14,000,000.00  $70,598,575.43  2005-06-01          3             NaN   \n",
       "2         $650,532.00   $3,238,880.30  2016-11-08          2             NaN   \n",
       "3       $3,000,000.00  $11,260,369.05  2006-11-09          2             NaN   \n",
       "4      $45,000,000.00 $210,429,441.57  2020-12-15          1 $577,580,000.00   \n",
       "...               ...             ...         ...        ...             ...   \n",
       "119878 $14,523,274.00  $85,258,286.20         NaN          4             NaN   \n",
       "119879    $451,407.00   $2,387,976.17         NaN          4             NaN   \n",
       "119880  $1,616,916.00   $8,092,736.68         NaN          4             NaN   \n",
       "119881    $210,000.00   $2,649,444.56         NaN          4             NaN   \n",
       "119882    $700,000.00   $3,528,938.96         NaN          4             NaN   \n",
       "\n",
       "        return_usd  \n",
       "0              NaN  \n",
       "1              NaN  \n",
       "2              NaN  \n",
       "3              NaN  \n",
       "4            $2.44  \n",
       "...            ...  \n",
       "119878         NaN  \n",
       "119879         NaN  \n",
       "119880         NaN  \n",
       "119881         NaN  \n",
       "119882         NaN  \n",
       "\n",
       "[119883 rows x 10 columns]"
      ]
     },
     "execution_count": 191,
     "metadata": {},
     "output_type": "execute_result"
    }
   ],
   "source": [
    "complete"
   ]
  },
  {
   "cell_type": "code",
   "execution_count": null,
   "metadata": {},
   "outputs": [],
   "source": [
    "rounds['year_added'] = pd.to_datetime(rounds.created_at).dt.year"
   ]
  },
  {
   "cell_type": "code",
   "execution_count": null,
   "metadata": {},
   "outputs": [],
   "source": [
    "s = pd.to_datetime(rounds.created_at)\n",
    "added_num = s.groupby(s.dt.floor('d')).size()"
   ]
  },
  {
   "cell_type": "code",
   "execution_count": null,
   "metadata": {},
   "outputs": [
    {
     "data": {
      "image/png": "[encoded data removed]",
      "text/plain": [
       "<Figure size 432x288 with 1 Axes>"
      ]
     },
     "metadata": {
      "needs_background": "light"
     },
     "output_type": "display_data"
    }
   ],
   "source": [
    "sns.lineplot(x=added_num.index, y=added_num.values)\n",
    "plt.xlabel('date added')\n",
    "plt.ylabel('# of observations added')\n",
    "plt.savefig('figures/date_added.pdf')"
   ]
  },
  {
   "cell_type": "code",
   "execution_count": null,
   "metadata": {},
   "outputs": [
    {
     "data": {
      "text/plain": [
       "142.94088989931797"
      ]
     },
     "execution_count": 195,
     "metadata": {},
     "output_type": "execute_result"
    }
   ],
   "source": [
    "added_num[added_num.index.year > 2013].mean()"
   ]
  },
  {
   "cell_type": "code",
   "execution_count": null,
   "metadata": {},
   "outputs": [
    {
     "data": {
      "text/plain": [
       "created_at\n",
       "2007-05-27      3\n",
       "2007-05-29      1\n",
       "2007-05-31      2\n",
       "2007-06-01      2\n",
       "2007-06-02      2\n",
       "             ... \n",
       "2022-06-05     26\n",
       "2022-06-06    283\n",
       "2022-06-07    361\n",
       "2022-06-08    344\n",
       "2022-06-09    323\n",
       "Name: created_at, Length: 5378, dtype: int64"
      ]
     },
     "execution_count": 196,
     "metadata": {},
     "output_type": "execute_result"
    }
   ],
   "source": [
    "added_num"
   ]
  },
  {
   "cell_type": "code",
   "execution_count": null,
   "metadata": {},
   "outputs": [],
   "source": []
  }
 ],
 "metadata": {
  "kernelspec": {
   "display_name": "Python 3.10.2 64-bit ('3.10.2')",
   "language": "python",
   "name": "python3"
  },
  "language_info": {
   "codemirror_mode": {
    "name": "ipython",
    "version": 3
   },
   "file_extension": ".py",
   "mimetype": "text/x-python",
   "name": "python",
   "nbconvert_exporter": "python",
   "pygments_lexer": "ipython3",
   "version": "3.10.2"
  },
  "vscode": {
   "interpreter": {
    "hash": "4cd4398770f52323a936c32f4c9c33f20493122a0515696d6ebafdd949421bc2"
   }
  }
 },
 "nbformat": 4,
 "nbformat_minor": 0
}
