{
 "cells": [
  {
   "cell_type": "code",
   "execution_count": 1,
   "metadata": {},
   "outputs": [],
   "source": [
    "import pandas as pd\n",
    "\n",
    "from scripts.preprocess import *\n",
    "from scripts.minimize_lkh import Model\n",
    "from scripts.utils import display_return_stats, find_case, transform_params"
   ]
  },
  {
   "cell_type": "code",
   "execution_count": 2,
   "outputs": [],
   "source": [
    "def get_dates(x, test=False):\n",
    "    start_date, end_date = min(x.round_date), max(x.round_date)\n",
    "    if test:\n",
    "        s, e = str(start_date), str(end_date)\n",
    "        start_date = pd.to_datetime(f\"{s[:4]}-{s[4:6]}-{s[-2:]}\")\n",
    "        end_date = pd.to_datetime(f\"{e[:4]}-{e[4:6]}-{e[-2:]}\")\n",
    "    return start_date, end_date"
   ],
   "metadata": {
    "collapsed": false,
    "pycharm": {
     "name": "#%%\n"
    }
   }
  },
  {
   "cell_type": "code",
   "execution_count": 3,
   "metadata": {},
   "outputs": [],
   "source": [
    "def main(gamma, delta, sigma, k, a, b, pi, impose_alpha=False, stockidx=1, nopi=0, dok=1, bankhand=2, test=False):\n",
    "    x = load_venture_data(test=test)\n",
    "    start_date, end_date = get_dates(x, test)\n",
    "    size = (end_date.to_period(freq='Q') - start_date.to_period(freq='Q')).n + 2\n",
    "    start, end = start_date.year, end_date.year\n",
    "\n",
    "    logmk = load_index_data('^SP500TR', start, end, '1mo')\n",
    "    logrf = load_tbills_data('TB3MS', start, end)\n",
    "\n",
    "    print(f\"number of observations: {x.shape[0]}\")\n",
    "    x[\"ddate\"] = to_decimal_date(x[\"round_date\"])\n",
    "    x = x.sort_values(by=[\"ddate\", \"company_num\"]).drop(columns=[\"ddate\"])\n",
    "\n",
    "    display_return_stats(x)\n",
    "    \n",
    "    c = sum((x[\"exit_type\"]==3) & (x[\"exit_date\"] != -99)) / sum((x[\"exit_type\"] == 3))\n",
    "    print(f'\\tPercent of bankrupt have good data. Using this parameter in simulation: {c*100:.2f}%')\n",
    "    \n",
    "    good_exit = x[\"exit_type\"].isin([1,2,5,6])\n",
    "    good_date = x[\"exit_date\"] != -99\n",
    "    good_return = x[\"return_usd\"] > 0\n",
    "    d = (good_exit & good_date & good_return).sum() / good_exit.sum()\n",
    "    print(f'\\tPercent of valuations (ipo, acquired, new round) that have good data: {d*100:.2f}%\\n\\n')\n",
    "    \n",
    "    minage = 0.25\n",
    "    logv = np.arange(-7, 7.1, 0.1)\n",
    "    pi = 0 if nopi == 1 else pi\n",
    "    xc = find_case(x, dok, bankhand)\n",
    "    mask = [impose_alpha!=1, stockidx>0, True, dok!=0, True, True, nopi!=1]\n",
    "    tpar0 = transform_params(gamma, delta, sigma, k, a, b, pi, mask)\n",
    "    \n",
    "    model = Model(x, xc, logrf, logmk, minage, c, d, logv, mask, stockidx, dok, start_year=start, sample_size=size)\n",
    "    model.model_likelyhood(tpar0)\n",
    "    return model.optimize_likelyhood(tpar0, mask, maxiter=30)"
   ]
  },
  {
   "cell_type": "code",
   "execution_count": 4,
   "metadata": {},
   "outputs": [
    {
     "name": "stdout",
     "output_type": "stream",
     "text": [
      "number of observations: 117502\n",
      "Note: following refers to round, not company.\n",
      "Round may end in another round, though company eventually goes public\n",
      "\tPercent bankrupt: 2.80%\n",
      "\tPercent ipo: 5.02%\n",
      "\tPercent acquired: 15.07%\n",
      "\tPercent with subsequent round: 0.00%\n",
      "\tPercent Private: 77.10%\n",
      "\tPercent Ipo registered: 0.00%\n",
      "\tPercent fate unknown: 0.00%\n",
      "\tPercent of bankrupt have good data. Using this parameter in simulation: 100.00%\n",
      "\tPercent of valuations (ipo, acquired, new round) that have good data: 36.06%\n",
      "\n",
      "\n",
      "2000.143607305936 2022-02-09 00:00:00 2022.1052511415523 1990 41 86\n"
     ]
    },
    {
     "ename": "IndexError",
     "evalue": "index 81 is out of bounds for axis 0 with size 81",
     "output_type": "error",
     "traceback": [
      "\u001B[0;31m---------------------------------------------------------------------------\u001B[0m",
      "\u001B[0;31mIndexError\u001B[0m                                Traceback (most recent call last)",
      "Input \u001B[0;32mIn [4]\u001B[0m, in \u001B[0;36m<cell line: 9>\u001B[0;34m()\u001B[0m\n\u001B[1;32m      6\u001B[0m b0 \u001B[38;5;241m=\u001B[39m \u001B[38;5;241m3\u001B[39m\n\u001B[1;32m      7\u001B[0m pi0 \u001B[38;5;241m=\u001B[39m \u001B[38;5;241m0.01\u001B[39m\n\u001B[0;32m----> 9\u001B[0m res \u001B[38;5;241m=\u001B[39m \u001B[43mmain\u001B[49m\u001B[43m(\u001B[49m\u001B[43mgamma0\u001B[49m\u001B[43m,\u001B[49m\u001B[43m \u001B[49m\u001B[43mdelta0\u001B[49m\u001B[43m,\u001B[49m\u001B[43m \u001B[49m\u001B[43msigma0\u001B[49m\u001B[43m,\u001B[49m\u001B[43m \u001B[49m\u001B[43mk0\u001B[49m\u001B[43m,\u001B[49m\u001B[43m \u001B[49m\u001B[43ma0\u001B[49m\u001B[43m,\u001B[49m\u001B[43m \u001B[49m\u001B[43mb0\u001B[49m\u001B[43m,\u001B[49m\u001B[43m \u001B[49m\u001B[43mpi0\u001B[49m\u001B[43m,\u001B[49m\u001B[43m \u001B[49m\u001B[43mtest\u001B[49m\u001B[38;5;241;43m=\u001B[39;49m\u001B[38;5;28;43;01mFalse\u001B[39;49;00m\u001B[43m)\u001B[49m\n",
      "Input \u001B[0;32mIn [3]\u001B[0m, in \u001B[0;36mmain\u001B[0;34m(gamma, delta, sigma, k, a, b, pi, impose_alpha, stockidx, nopi, dok, bankhand, test)\u001B[0m\n\u001B[1;32m     30\u001B[0m tpar0 \u001B[38;5;241m=\u001B[39m transform_params(gamma, delta, sigma, k, a, b, pi, mask)\n\u001B[1;32m     32\u001B[0m model \u001B[38;5;241m=\u001B[39m Model(x, xc, logrf, logmk, minage, c, d, logv, mask, stockidx, dok, start_year\u001B[38;5;241m=\u001B[39mstart, sample_size\u001B[38;5;241m=\u001B[39msize)\n\u001B[0;32m---> 33\u001B[0m \u001B[43mmodel\u001B[49m\u001B[38;5;241;43m.\u001B[39;49m\u001B[43mmodel_likelyhood\u001B[49m\u001B[43m(\u001B[49m\u001B[43mtpar0\u001B[49m\u001B[43m)\u001B[49m\n\u001B[1;32m     34\u001B[0m \u001B[38;5;28;01mreturn\u001B[39;00m model\u001B[38;5;241m.\u001B[39moptimize_likelyhood(tpar0, mask, maxiter\u001B[38;5;241m=\u001B[39m\u001B[38;5;241m30\u001B[39m)\n",
      "File \u001B[0;32m~/Projects/cyd_campus/17-Portfolios-of-Emerging-Tech/src/scripts/minimize_lkh.py:27\u001B[0m, in \u001B[0;36mModel.model_likelyhood\u001B[0;34m(self, tpars)\u001B[0m\n\u001B[1;32m     26\u001B[0m \u001B[38;5;28;01mdef\u001B[39;00m \u001B[38;5;21mmodel_likelyhood\u001B[39m(\u001B[38;5;28mself\u001B[39m, tpars):\n\u001B[0;32m---> 27\u001B[0m     \u001B[38;5;28;01mreturn\u001B[39;00m \u001B[43mfind_likelyhood\u001B[49m\u001B[43m(\u001B[49m\u001B[43mtpars\u001B[49m\u001B[43m,\u001B[49m\u001B[43m \u001B[49m\u001B[38;5;28;43mself\u001B[39;49m\u001B[38;5;241;43m.\u001B[39;49m\u001B[43mx\u001B[49m\u001B[43m,\u001B[49m\u001B[43m \u001B[49m\u001B[38;5;28;43mself\u001B[39;49m\u001B[38;5;241;43m.\u001B[39;49m\u001B[43mxc\u001B[49m\u001B[43m,\u001B[49m\u001B[43m \u001B[49m\u001B[38;5;28;43mself\u001B[39;49m\u001B[38;5;241;43m.\u001B[39;49m\u001B[43mlogrf\u001B[49m\u001B[43m,\u001B[49m\u001B[43m \u001B[49m\u001B[38;5;28;43mself\u001B[39;49m\u001B[38;5;241;43m.\u001B[39;49m\u001B[43mlogmk\u001B[49m\u001B[43m,\u001B[49m\u001B[43m \u001B[49m\u001B[38;5;28;43mself\u001B[39;49m\u001B[38;5;241;43m.\u001B[39;49m\u001B[43mminage\u001B[49m\u001B[43m,\u001B[49m\n\u001B[1;32m     28\u001B[0m \u001B[43m                           \u001B[49m\u001B[38;5;28;43mself\u001B[39;49m\u001B[38;5;241;43m.\u001B[39;49m\u001B[43mc\u001B[49m\u001B[43m,\u001B[49m\u001B[43m \u001B[49m\u001B[38;5;28;43mself\u001B[39;49m\u001B[38;5;241;43m.\u001B[39;49m\u001B[43md\u001B[49m\u001B[43m,\u001B[49m\u001B[43m \u001B[49m\u001B[38;5;28;43mself\u001B[39;49m\u001B[38;5;241;43m.\u001B[39;49m\u001B[43mlogv\u001B[49m\u001B[43m,\u001B[49m\u001B[43m \u001B[49m\u001B[38;5;28;43mself\u001B[39;49m\u001B[38;5;241;43m.\u001B[39;49m\u001B[43mmask\u001B[49m\u001B[43m,\u001B[49m\u001B[43m \u001B[49m\u001B[38;5;28;43mself\u001B[39;49m\u001B[38;5;241;43m.\u001B[39;49m\u001B[43mstockidx\u001B[49m\u001B[43m,\u001B[49m\n\u001B[1;32m     29\u001B[0m \u001B[43m                           \u001B[49m\u001B[38;5;28;43mself\u001B[39;49m\u001B[38;5;241;43m.\u001B[39;49m\u001B[43mdok\u001B[49m\u001B[43m,\u001B[49m\u001B[43m \u001B[49m\u001B[38;5;28;43mself\u001B[39;49m\u001B[38;5;241;43m.\u001B[39;49m\u001B[43mstart_year\u001B[49m\u001B[43m,\u001B[49m\u001B[43m \u001B[49m\u001B[38;5;28;43mself\u001B[39;49m\u001B[38;5;241;43m.\u001B[39;49m\u001B[43msample_size\u001B[49m\u001B[43m)\u001B[49m\n",
      "File \u001B[0;32m~/Projects/cyd_campus/17-Portfolios-of-Emerging-Tech/src/scripts/findlkh.py:88\u001B[0m, in \u001B[0;36mfind_likelyhood\u001B[0;34m(tpars, x, xc, logrf, logmk, minage, c, d, logv, mask, stockidx, dok, start_year, sample_size)\u001B[0m\n\u001B[1;32m     86\u001B[0m     newprob \u001B[38;5;241m=\u001B[39m \u001B[38;5;28msum\u001B[39m(prob_ipo_hid[:\u001B[38;5;28mint\u001B[39m(\u001B[38;5;28mmin\u001B[39m(minage \u001B[38;5;241m*\u001B[39m \u001B[38;5;241m4\u001B[39m, prob_ipo_hid\u001B[38;5;241m.\u001B[39mshape[\u001B[38;5;241m0\u001B[39m]))])\n\u001B[1;32m     87\u001B[0m \u001B[38;5;28;01melse\u001B[39;00m:\n\u001B[0;32m---> 88\u001B[0m     newprob \u001B[38;5;241m=\u001B[39m \u001B[43mprob_ipo_hid\u001B[49m\u001B[43m[\u001B[49m\u001B[43mageindx\u001B[49m\u001B[43m]\u001B[49m\n\u001B[1;32m     89\u001B[0m \u001B[38;5;28;01mif\u001B[39;00m newprob \u001B[38;5;241m>\u001B[39m \u001B[38;5;241m0\u001B[39m:\n\u001B[1;32m     90\u001B[0m     lk \u001B[38;5;241m=\u001B[39m lk \u001B[38;5;241m+\u001B[39m log(newprob)\n",
      "\u001B[0;31mIndexError\u001B[0m: index 81 is out of bounds for axis 0 with size 81"
     ]
    }
   ],
   "source": [
    "gamma0 = 0.01\n",
    "delta0 = 1.5\n",
    "sigma0 = 0.9\n",
    "k0 = 0.1\n",
    "a0 = 1\n",
    "b0 = 3\n",
    "pi0 = 0.01\n",
    "\n",
    "res = main(gamma0, delta0, sigma0, k0, a0, b0, pi0, test=False)"
   ]
  },
  {
   "cell_type": "code",
   "execution_count": null,
   "outputs": [],
   "source": [
    "res"
   ],
   "metadata": {
    "collapsed": false,
    "pycharm": {
     "name": "#%%\n"
    }
   }
  },
  {
   "cell_type": "code",
   "execution_count": null,
   "outputs": [],
   "source": [],
   "metadata": {
    "collapsed": false,
    "pycharm": {
     "name": "#%%\n"
    }
   }
  }
 ],
 "metadata": {
  "interpreter": {
   "hash": "4cd4398770f52323a936c32f4c9c33f20493122a0515696d6ebafdd949421bc2"
  },
  "kernelspec": {
   "display_name": "Python 3.10.2 64-bit ('3.10.2')",
   "language": "python",
   "name": "python3"
  },
  "language_info": {
   "codemirror_mode": {
    "name": "ipython",
    "version": 3
   },
   "file_extension": ".py",
   "mimetype": "text/x-python",
   "name": "python",
   "nbconvert_exporter": "python",
   "pygments_lexer": "ipython3",
   "version": "3.10.2"
  },
  "orig_nbformat": 4
 },
 "nbformat": 4,
 "nbformat_minor": 2
}