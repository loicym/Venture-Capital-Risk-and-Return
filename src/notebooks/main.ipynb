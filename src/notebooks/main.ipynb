{
 "cells": [
  {
   "cell_type": "code",
   "execution_count": 1,
   "metadata": {},
   "outputs": [],
   "source": [
    "from src.scripts.preprocess import *\n",
    "from src.scripts.minimize_lkh import Model\n",
    "from src.scripts.utils import display_return_stats, find_case, transform_params"
   ]
  },
  {
   "cell_type": "code",
   "execution_count": 2,
   "metadata": {},
   "outputs": [],
   "source": [
    "def main(gamma, delta, sigma, k, a, b, pi, impose_alpha=False, stockidx=1, nopi=0, dok=1, bankhand=2):\n",
    "    logmk = load_index_data()\n",
    "    logrf = load_tbills_data()\n",
    "    x = load_venture_data(0, 0, 0)\n",
    "\n",
    "    print(f\"number of observations: {x.shape[0]}\")\n",
    "    x[\"ddate\"] = to_decimal_date(x[\"round_date\"])\n",
    "    x = x.sort_values(by=[\"ddate\", \"company_num\"]).drop(columns=[\"ddate\"])\n",
    "\n",
    "    display_return_stats(x)\n",
    "    \n",
    "    c = sum((x[\"exit_type\"]==3) & (x[\"exit_date\"] != -99)) / sum((x[\"exit_type\"] == 3))\n",
    "    print(f'\\tPercent of bankrupt have good data. Using this parameter in simulation: {c*100:.2f}%')\n",
    "    \n",
    "    good_exit = x[\"exit_type\"].isin([1,2,5,6])\n",
    "    good_date = x[\"exit_date\"] != -99\n",
    "    good_return = x[\"return_usd\"] > 0\n",
    "    d = (good_exit & good_date & good_return).sum() / good_exit.sum()\n",
    "    print(f'\\tPercent of valuations (ipo, acquired, new round) that have good data: {d*100:.2f}%\\n\\n\\n\\n')\n",
    "    \n",
    "    minage = 0.25\n",
    "    logv = np.arange(-7, 7.1, 0.1)\n",
    "    pi = 0 if nopi == 1 else pi\n",
    "    xc = find_case(x, dok, bankhand)\n",
    "    mask = [impose_alpha!=1, stockidx>0, True, dok!=0, True, True, nopi!=1]\n",
    "    tpar0 = transform_params(gamma, delta, sigma, k, a, b, pi, mask)\n",
    "    \n",
    "    model = Model(x, xc, logrf, logmk, minage, c, d, logv, mask, stockidx, dok, start_year=1987, sample_size=54)\n",
    "    model.model_likelyhood(tpar0)\n",
    "    return model.optimize_likelyhood(tpar0, mask, maxiter=30)"
   ]
  },
  {
   "cell_type": "code",
   "execution_count": 3,
   "metadata": {},
   "outputs": [
    {
     "name": "stdout",
     "output_type": "stream",
     "text": [
      "number of observations: 16642\n",
      "Note: following refers to round, not company.\n",
      "Round may end in another round, though company eventually goes public\n",
      "\tPercent bankrupt: 9.19%\n",
      "\tPercent ipo: 21.20%\n",
      "\tPercent acquired: 20.41%\n",
      "\tPercent with subsequent round: 0.00%\n",
      "\tPercent Private: 45.49%\n",
      "\tPercent Ipo registered: 3.71%\n",
      "\tPercent fate unknown: 0.00%\n",
      "\tPercent of bankrupt have good data. Using this parameter in simulation: 95.09%\n",
      "\tPercent of valuations (ipo, acquired, new round) that have good data: 47.66%\n",
      "\n",
      "\n",
      "\n",
      "\n",
      "iter gamma     delta     sigma     k         a         b         pim       lkh       \n",
      "0    0.0829    1.4955    -0.4433   -2.3743   0.1808    3.0904    -4.5950   55439.1755\n",
      "1    0.0327    1.4949    -0.4992   -2.3855   0.2121    3.1076    -4.5949   54708.5503\n",
      "2    0.0233    1.4851    -0.5451   -2.3929   0.1499    3.0995    -4.5935   54614.4485\n",
      "3    0.0226    1.1854    -0.5221   -2.4324   0.0354    3.4097    -4.5507   54470.7840\n",
      "4    0.0198    0.3068    -0.6098   -1.9296   -0.0113   3.5970    -4.4427   54279.8382\n",
      "5    -0.0110   -1.4417   -0.6187   -2.0544   0.1234    3.2205    -4.1135   54079.3566\n",
      "6    -0.0103   -1.4914   -0.6351   -1.9858   0.1274    3.2254    -2.9706   54027.1643\n",
      "7    -0.0087   -1.5688   -0.6540   -1.9758   0.1020    3.3334    -2.8848   53934.5321\n",
      "8    0.0002    -1.8407   -0.7340   -1.7454   0.0347    3.6176    -3.0314   53805.2138\n",
      "9    0.0026    -1.8846   -0.7621   -1.6952   0.0136    3.7059    -2.3844   53773.4353\n",
      "10   0.0066    -1.8787   -0.8081   -1.5687   -0.0655   3.9848    -2.5803   53750.0839\n",
      "11   0.0072    -1.8976   -0.8102   -1.5535   -0.1060   4.1287    -2.4785   53742.6979\n",
      "12   0.0072    -1.9744   -0.7942   -1.5725   -0.1901   4.4303    -2.4957   53732.1052\n",
      "13   0.0065    -2.0982   -0.7737   -1.5863   -0.2600   4.7248    -2.5795   53725.3653\n",
      "14   0.0075    -2.1198   -0.7644   -1.5935   -0.2984   4.8935    -2.6640   53723.5225\n",
      "15   0.0081    -2.1622   -0.7619   -1.5805   -0.3356   5.0708    -2.7143   53722.5764\n",
      "16   0.0081    -2.1675   -0.7603   -1.5871   -0.3556   5.1579    -2.7220   53722.3120\n",
      "17   0.0085    -2.1713   -0.7624   -1.5794   -0.3639   5.2001    -2.7037   53722.2081\n",
      "18   0.0087    -2.1784   -0.7629   -1.5753   -0.3716   5.2349    -2.6992   53722.1989\n",
      "19   0.0086    -2.1750   -0.7626   -1.5764   -0.3698   5.2284    -2.6968   53722.1956\n",
      "20   0.0086    -2.1757   -0.7627   -1.5759   -0.3698   5.2276    -2.6965   53722.1950\n",
      "21   0.0086    -2.1757   -0.7627   -1.5759   -0.3698   5.2276    -2.6965   53722.1950\n",
      "22   0.0086    -2.1757   -0.7627   -1.5759   -0.3698   5.2276    -2.6965   53722.1950\n"
     ]
    }
   ],
   "source": [
    "gamma0 = 0.01\n",
    "delta0 = 1.5\n",
    "sigma0 = 0.9\n",
    "k0 = 0.1\n",
    "a0 = 1\n",
    "b0 = 3\n",
    "pi0 = 0.01\n",
    "\n",
    "res = main(gamma0, delta0, sigma0, k0, a0, b0, pi0)"
   ]
  },
  {
   "cell_type": "code",
   "execution_count": 4,
   "metadata": {
    "pycharm": {
     "name": "#%%\n"
    }
   },
   "outputs": [
    {
     "data": {
      "text/plain": "          gamma     delta     sigma         k         a         b       pim\nvalue  0.008594 -2.175729  0.466514  0.206822  0.690855  5.227605  0.063181\nstd    0.001806  0.038723  0.011514  0.026274  0.016718  0.084857  0.145633",
      "text/html": "<div>\n<style scoped>\n    .dataframe tbody tr th:only-of-type {\n        vertical-align: middle;\n    }\n\n    .dataframe tbody tr th {\n        vertical-align: top;\n    }\n\n    .dataframe thead th {\n        text-align: right;\n    }\n</style>\n<table border=\"1\" class=\"dataframe\">\n  <thead>\n    <tr style=\"text-align: right;\">\n      <th></th>\n      <th>gamma</th>\n      <th>delta</th>\n      <th>sigma</th>\n      <th>k</th>\n      <th>a</th>\n      <th>b</th>\n      <th>pim</th>\n    </tr>\n  </thead>\n  <tbody>\n    <tr>\n      <th>value</th>\n      <td>0.008594</td>\n      <td>-2.175729</td>\n      <td>0.466514</td>\n      <td>0.206822</td>\n      <td>0.690855</td>\n      <td>5.227605</td>\n      <td>0.063181</td>\n    </tr>\n    <tr>\n      <th>std</th>\n      <td>0.001806</td>\n      <td>0.038723</td>\n      <td>0.011514</td>\n      <td>0.026274</td>\n      <td>0.016718</td>\n      <td>0.084857</td>\n      <td>0.145633</td>\n    </tr>\n  </tbody>\n</table>\n</div>"
     },
     "execution_count": 4,
     "metadata": {},
     "output_type": "execute_result"
    }
   ],
   "source": [
    "res"
   ]
  }
 ],
 "metadata": {
  "interpreter": {
   "hash": "4cd4398770f52323a936c32f4c9c33f20493122a0515696d6ebafdd949421bc2"
  },
  "kernelspec": {
   "display_name": "Python 3.10.2 64-bit ('3.10.2')",
   "language": "python",
   "name": "python3"
  },
  "language_info": {
   "codemirror_mode": {
    "name": "ipython",
    "version": 3
   },
   "file_extension": ".py",
   "mimetype": "text/x-python",
   "name": "python",
   "nbconvert_exporter": "python",
   "pygments_lexer": "ipython3",
   "version": "3.10.2"
  },
  "orig_nbformat": 4
 },
 "nbformat": 4,
 "nbformat_minor": 2
}