{
 "cells": [
  {
   "cell_type": "code",
   "execution_count": 237,
   "metadata": {
    "collapsed": true
   },
   "outputs": [],
   "source": [
    "import pandas as pd\n",
    "import numpy as np"
   ]
  },
  {
   "cell_type": "code",
   "execution_count": 238,
   "outputs": [],
   "source": [
    "data = pd.read_csv('../../data/rounds_data.csv', parse_dates=True)\n",
    "data = data.dropna(subset=['announced_on', 'money_raised_usd', 'num_investors',\n",
    "                           'funded_organization_categories', 'funded_organization_location',\n",
    "                           'investment_type', 'lead_investor_identifiers'])"
   ],
   "metadata": {
    "collapsed": false,
    "pycharm": {
     "name": "#%%\n"
    }
   }
  },
  {
   "cell_type": "code",
   "execution_count": 239,
   "outputs": [],
   "source": [
    "data.funded_organization_categories = data.funded_organization_categories.apply(lambda x: list(map(str, x.strip(\"']['\").split(\"', '\"))))\n",
    "all_categories = data.funded_organization_categories.explode().value_counts()\n",
    "data.announced_on = (pd.to_datetime(data.announced_on) - pd.Timestamp(\"1926-01-01\")) // pd.Timedelta('1s')\n",
    "\n",
    "def get_most_relevant_cat(categories):\n",
    "    mapped = cat_freqs[cat_freqs.index.isin(categories)]\n",
    "    return categories[np.argmax(mapped)]"
   ],
   "metadata": {
    "collapsed": false,
    "pycharm": {
     "name": "#%%\n"
    }
   }
  },
  {
   "cell_type": "code",
   "execution_count": 240,
   "outputs": [
    {
     "data": {
      "text/plain": "investors      24535\nround types       28\nlocaitons        150\ncategories       823\ndtype: int64"
     },
     "execution_count": 240,
     "metadata": {},
     "output_type": "execute_result"
    }
   ],
   "source": [
    "pd.Series([\n",
    "    data.lead_investor_identifiers.unique().size,\n",
    "    data.investment_type.unique().size,\n",
    "    data.funded_organization_location.unique().size,\n",
    "    len(all_categories)\n",
    "], index=['investors', 'round types', 'locaitons', 'categories']) # Curse of dimensionnality!"
   ],
   "metadata": {
    "collapsed": false,
    "pycharm": {
     "name": "#%%\n"
    }
   }
  },
  {
   "cell_type": "code",
   "execution_count": 241,
   "outputs": [],
   "source": [
    "round_freqs = data.investment_type.value_counts() / data.investment_type.size\n",
    "others = list(round_freqs[round_freqs < 0.01].index.values) + ['series_unknown', 'undisclosed']\n",
    "data.investment_type = data.investment_type.apply(lambda x: 'other' if x in others else x)"
   ],
   "metadata": {
    "collapsed": false,
    "pycharm": {
     "name": "#%%\n"
    }
   }
  },
  {
   "cell_type": "code",
   "execution_count": 242,
   "outputs": [],
   "source": [
    "cat_freqs = data.funded_organization_categories.explode().value_counts() / data.funded_organization_categories.size\n",
    "data.funded_organization_categories = data.funded_organization_categories.map(get_most_relevant_cat)"
   ],
   "metadata": {
    "collapsed": false,
    "pycharm": {
     "name": "#%%\n"
    }
   }
  },
  {
   "cell_type": "code",
   "execution_count": 243,
   "outputs": [
    {
     "data": {
      "text/plain": "                                        uuid  announced_on  money_raised_usd  \\\n0       89da2fef-059b-4ec8-a2dc-e18fad3e9697    2954966400        16000000.0   \n4       89daa3bc-98ef-4d91-98f4-7d46e5ade50f    2987452800         3700000.0   \n5       89daa934-05ad-f167-7adb-e6bb5abe07ab    2736460800       104351864.0   \n6       89dac972-b1eb-48ae-a216-76e1c47a7b3b    3012249600       422423953.0   \n9       89db2d4f-729d-444a-a913-141e16e1ca76    2922393600            5427.0   \n...                                      ...           ...               ...   \n451989  3c04f126-28d7-4f59-86ac-5c0dc08cd934    2822083200         1111353.0   \n451990  3c04fdb0-05f6-4892-9c32-d8f772418e70    3028233600         1400000.0   \n451992  3c054e87-628c-2bee-41c0-90999a31e67e    2863987200          300000.0   \n451995  3c0587fa-46de-421d-8ea7-7c2aed9352c7    3028060800        47113512.0   \n451996  3c05ac01-6b66-4d15-b7d9-f6501d6ed341    3016656000         3800000.0   \n\n        num_investors funded_organization_categories  \\\n0                   8                     E-Commerce   \n4                   3        Artificial Intelligence   \n5                   1                      Biopharma   \n6                   1                        Finance   \n9                   1                Assisted Living   \n...               ...                            ...   \n451989              1                Food Processing   \n451990              1                           Apps   \n451992              1           Business Development   \n451995              6        Artificial Intelligence   \n451996              6                    Health Care   \n\n       funded_organization_location investment_type  \\\n0                     United States        series_b   \n4                           Germany            seed   \n5                           Germany        series_d   \n6                    United Kingdom  debt_financing   \n9                             India           grant   \n...                             ...             ...   \n451989                       Latvia           other   \n451990                 South Africa            seed   \n451992                United States            seed   \n451995                        China        series_b   \n451996                United States            seed   \n\n                     lead_investor_identifiers  post_money_valuation_usd  \\\n0                                        Accel                       NaN   \n4                              Shasta Ventures                       NaN   \n5                 dievini Hopp Biotech Holding                       NaN   \n6                                NatWest Group                       NaN   \n9       DTU Innovation & Incubation Foundation                       NaN   \n...                                        ...                       ...   \n451989                             ZGI Capital                11113531.0   \n451990                         Imvelo Ventures                       NaN   \n451992                      Cofounders Capital                       NaN   \n451995                          Cathay Capital                       NaN   \n451996                           Quiet Capital                       NaN   \n\n         funded_organization_identifier.uuid  \n0       c7916a39-10cb-485a-b364-7fe414d9868d  \n4       9fcbc4c7-5a74-43f6-8df1-e0c2917a6657  \n5       dd139f96-52cc-112a-fdb4-aae2d1a08a2a  \n6       9f9eaedd-2860-4570-af08-f687bb99b667  \n9       6bd56d23-32af-4050-aa98-714685173443  \n...                                      ...  \n451989  173842bf-8568-41ec-91ae-485e4b6e8346  \n451990  1cf97acc-3d7a-4f86-8bdd-af2029930a25  \n451992  b4171162-cd6f-1e34-d6e1-288fe61575a6  \n451995  c9cf2757-aba4-4a08-be2d-0757e7a079ea  \n451996  53c909e2-9b8b-424d-a2d4-c8608f851f8e  \n\n[174229 rows x 10 columns]",
      "text/html": "<div>\n<style scoped>\n    .dataframe tbody tr th:only-of-type {\n        vertical-align: middle;\n    }\n\n    .dataframe tbody tr th {\n        vertical-align: top;\n    }\n\n    .dataframe thead th {\n        text-align: right;\n    }\n</style>\n<table border=\"1\" class=\"dataframe\">\n  <thead>\n    <tr style=\"text-align: right;\">\n      <th></th>\n      <th>uuid</th>\n      <th>announced_on</th>\n      <th>money_raised_usd</th>\n      <th>num_investors</th>\n      <th>funded_organization_categories</th>\n      <th>funded_organization_location</th>\n      <th>investment_type</th>\n      <th>lead_investor_identifiers</th>\n      <th>post_money_valuation_usd</th>\n      <th>funded_organization_identifier.uuid</th>\n    </tr>\n  </thead>\n  <tbody>\n    <tr>\n      <th>0</th>\n      <td>89da2fef-059b-4ec8-a2dc-e18fad3e9697</td>\n      <td>2954966400</td>\n      <td>16000000.0</td>\n      <td>8</td>\n      <td>E-Commerce</td>\n      <td>United States</td>\n      <td>series_b</td>\n      <td>Accel</td>\n      <td>NaN</td>\n      <td>c7916a39-10cb-485a-b364-7fe414d9868d</td>\n    </tr>\n    <tr>\n      <th>4</th>\n      <td>89daa3bc-98ef-4d91-98f4-7d46e5ade50f</td>\n      <td>2987452800</td>\n      <td>3700000.0</td>\n      <td>3</td>\n      <td>Artificial Intelligence</td>\n      <td>Germany</td>\n      <td>seed</td>\n      <td>Shasta Ventures</td>\n      <td>NaN</td>\n      <td>9fcbc4c7-5a74-43f6-8df1-e0c2917a6657</td>\n    </tr>\n    <tr>\n      <th>5</th>\n      <td>89daa934-05ad-f167-7adb-e6bb5abe07ab</td>\n      <td>2736460800</td>\n      <td>104351864.0</td>\n      <td>1</td>\n      <td>Biopharma</td>\n      <td>Germany</td>\n      <td>series_d</td>\n      <td>dievini Hopp Biotech Holding</td>\n      <td>NaN</td>\n      <td>dd139f96-52cc-112a-fdb4-aae2d1a08a2a</td>\n    </tr>\n    <tr>\n      <th>6</th>\n      <td>89dac972-b1eb-48ae-a216-76e1c47a7b3b</td>\n      <td>3012249600</td>\n      <td>422423953.0</td>\n      <td>1</td>\n      <td>Finance</td>\n      <td>United Kingdom</td>\n      <td>debt_financing</td>\n      <td>NatWest Group</td>\n      <td>NaN</td>\n      <td>9f9eaedd-2860-4570-af08-f687bb99b667</td>\n    </tr>\n    <tr>\n      <th>9</th>\n      <td>89db2d4f-729d-444a-a913-141e16e1ca76</td>\n      <td>2922393600</td>\n      <td>5427.0</td>\n      <td>1</td>\n      <td>Assisted Living</td>\n      <td>India</td>\n      <td>grant</td>\n      <td>DTU Innovation &amp; Incubation Foundation</td>\n      <td>NaN</td>\n      <td>6bd56d23-32af-4050-aa98-714685173443</td>\n    </tr>\n    <tr>\n      <th>...</th>\n      <td>...</td>\n      <td>...</td>\n      <td>...</td>\n      <td>...</td>\n      <td>...</td>\n      <td>...</td>\n      <td>...</td>\n      <td>...</td>\n      <td>...</td>\n      <td>...</td>\n    </tr>\n    <tr>\n      <th>451989</th>\n      <td>3c04f126-28d7-4f59-86ac-5c0dc08cd934</td>\n      <td>2822083200</td>\n      <td>1111353.0</td>\n      <td>1</td>\n      <td>Food Processing</td>\n      <td>Latvia</td>\n      <td>other</td>\n      <td>ZGI Capital</td>\n      <td>11113531.0</td>\n      <td>173842bf-8568-41ec-91ae-485e4b6e8346</td>\n    </tr>\n    <tr>\n      <th>451990</th>\n      <td>3c04fdb0-05f6-4892-9c32-d8f772418e70</td>\n      <td>3028233600</td>\n      <td>1400000.0</td>\n      <td>1</td>\n      <td>Apps</td>\n      <td>South Africa</td>\n      <td>seed</td>\n      <td>Imvelo Ventures</td>\n      <td>NaN</td>\n      <td>1cf97acc-3d7a-4f86-8bdd-af2029930a25</td>\n    </tr>\n    <tr>\n      <th>451992</th>\n      <td>3c054e87-628c-2bee-41c0-90999a31e67e</td>\n      <td>2863987200</td>\n      <td>300000.0</td>\n      <td>1</td>\n      <td>Business Development</td>\n      <td>United States</td>\n      <td>seed</td>\n      <td>Cofounders Capital</td>\n      <td>NaN</td>\n      <td>b4171162-cd6f-1e34-d6e1-288fe61575a6</td>\n    </tr>\n    <tr>\n      <th>451995</th>\n      <td>3c0587fa-46de-421d-8ea7-7c2aed9352c7</td>\n      <td>3028060800</td>\n      <td>47113512.0</td>\n      <td>6</td>\n      <td>Artificial Intelligence</td>\n      <td>China</td>\n      <td>series_b</td>\n      <td>Cathay Capital</td>\n      <td>NaN</td>\n      <td>c9cf2757-aba4-4a08-be2d-0757e7a079ea</td>\n    </tr>\n    <tr>\n      <th>451996</th>\n      <td>3c05ac01-6b66-4d15-b7d9-f6501d6ed341</td>\n      <td>3016656000</td>\n      <td>3800000.0</td>\n      <td>6</td>\n      <td>Health Care</td>\n      <td>United States</td>\n      <td>seed</td>\n      <td>Quiet Capital</td>\n      <td>NaN</td>\n      <td>53c909e2-9b8b-424d-a2d4-c8608f851f8e</td>\n    </tr>\n  </tbody>\n</table>\n<p>174229 rows × 10 columns</p>\n</div>"
     },
     "execution_count": 243,
     "metadata": {},
     "output_type": "execute_result"
    }
   ],
   "source": [
    "data"
   ],
   "metadata": {
    "collapsed": false,
    "pycharm": {
     "name": "#%%\n"
    }
   }
  },
  {
   "cell_type": "code",
   "execution_count": 244,
   "outputs": [],
   "source": [
    "observed = data[data.post_money_valuation_usd.notna()].drop(columns=['uuid', 'funded_organization_identifier.uuid'])\n",
    "unobserved = data[data.post_money_valuation_usd.isna()].drop(columns=['uuid', 'funded_organization_identifier.uuid'])"
   ],
   "metadata": {
    "collapsed": false,
    "pycharm": {
     "name": "#%%\n"
    }
   }
  },
  {
   "cell_type": "code",
   "execution_count": 349,
   "outputs": [],
   "source": [
    "X = observed[['announced_on', 'money_raised_usd', 'num_investors', 'investment_type']]\n",
    "X = pd.concat([X.drop(columns='investment_type'), pd.get_dummies(X.investment_type, prefix='rnd_type')], axis=1)\n",
    "\n",
    "y = observed.post_money_valuation_usd"
   ],
   "metadata": {
    "collapsed": false,
    "pycharm": {
     "name": "#%%\n"
    }
   }
  },
  {
   "cell_type": "code",
   "execution_count": 391,
   "outputs": [
    {
     "name": "stdout",
     "output_type": "stream",
     "text": [
      "0.6552940929130775\n",
      "GradientBoostingRegressor(max_depth=4, n_estimators=700, subsample=0.85)\n"
     ]
    }
   ],
   "source": [
    "from sklearn.ensemble import GradientBoostingRegressor\n",
    "from sklearn.model_selection import GridSearchCV\n",
    "\n",
    "params = {\n",
    "    'n_estimators': range(100, 1000, 100),\n",
    "    'subsample': np.append(np.arange(0.8, 1, 0.05), [1]),\n",
    "    'max_depth': range(3, 10)\n",
    "}\n",
    "\n",
    "reg = GridSearchCV(GradientBoostingRegressor(), params, n_jobs=-1, verbose=1).fit(X, y)\n",
    "print(reg.best_score_)\n",
    "print(reg.best_estimator_)"
   ],
   "metadata": {
    "collapsed": false,
    "pycharm": {
     "name": "#%%\n"
    }
   }
  },
  {
   "cell_type": "code",
   "execution_count": null,
   "outputs": [],
   "source": [],
   "metadata": {
    "collapsed": false,
    "pycharm": {
     "name": "#%%\n"
    }
   }
  }
 ],
 "metadata": {
  "kernelspec": {
   "display_name": "Python 3",
   "language": "python",
   "name": "python3"
  },
  "language_info": {
   "codemirror_mode": {
    "name": "ipython",
    "version": 2
   },
   "file_extension": ".py",
   "mimetype": "text/x-python",
   "name": "python",
   "nbconvert_exporter": "python",
   "pygments_lexer": "ipython2",
   "version": "2.7.6"
  }
 },
 "nbformat": 4,
 "nbformat_minor": 0
}