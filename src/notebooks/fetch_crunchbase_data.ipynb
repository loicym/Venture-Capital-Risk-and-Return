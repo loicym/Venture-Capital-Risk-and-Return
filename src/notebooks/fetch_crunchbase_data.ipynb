{
 "cells": [
  {
   "cell_type": "markdown",
   "source": [
    "#### Imports"
   ],
   "metadata": {
    "collapsed": false
   }
  },
  {
   "cell_type": "code",
   "execution_count": 2,
   "metadata": {},
   "outputs": [],
   "source": [
    "import pandas as pd\n",
    "import requests\n",
    "import dotenv\n",
    "import json\n",
    "\n",
    "from tqdm import tqdm"
   ]
  },
  {
   "cell_type": "code",
   "execution_count": 3,
   "metadata": {},
   "outputs": [],
   "source": [
    "API_KEY = dotenv.get_key('./.env', \"CRUNCHBASE_API_KEY\")\n",
    "params = {\"user_key\" : API_KEY}\n",
    "url = \"https://api.crunchbase.com/api/v4/searches\""
   ]
  },
  {
   "cell_type": "markdown",
   "source": [
    "### Bulk export"
   ],
   "metadata": {
    "collapsed": false
   }
  },
  {
   "cell_type": "code",
   "execution_count": null,
   "outputs": [],
   "source": [
    "import tarfile\n",
    "from tqdm.auto import tqdm\n",
    "import dotenv\n",
    "import os\n",
    "\n",
    "dir_path = \"../../data/crunchbase\"\n",
    "data_path = dir_path + '/bulk_export.tar.gz'\n",
    "\n",
    "if not os.path.isdir(dir_path):\n",
    "    print('Crunchbase data not found. Downloading bulk export...')\n",
    "    os.makedirs(dir_path)\n",
    "\n",
    "API_KEY = dotenv.get_key('.env', \"CRUNCHBASE_API_KEY\")\n",
    "url = f\"https://api.crunchbase.com/bulk/v4/bulk_export.tar.gz?user_key={API_KEY}\"\n",
    "\n",
    "response = requests.get(url, stream=True)\n",
    "with open(data_path, \"wb\") as fout:\n",
    "    with tqdm(\n",
    "            unit='B', unit_scale=True, unit_divisor=1024, miniters=1,\n",
    "            desc='bulk_export.tar.gz', total=int(response.headers.get('content-length', 0))\n",
    "    ) as pbar:\n",
    "        for chunk in response.iter_content(chunk_size=4096):\n",
    "            fout.write(chunk)\n",
    "            pbar.update(len(chunk))\n",
    "\n",
    "tar = tarfile.open(data_path, \"r:gz\")\n",
    "tar.extractall(dir_path)\n",
    "tar.close()"
   ],
   "metadata": {
    "collapsed": false,
    "pycharm": {
     "name": "#%%\n"
    }
   }
  },
  {
   "cell_type": "markdown",
   "source": [
    "### API functions"
   ],
   "metadata": {
    "collapsed": false
   }
  },
  {
   "cell_type": "code",
   "execution_count": 71,
   "metadata": {},
   "outputs": [],
   "source": [
    "def get_query_for_uuids(properties, uuid_start, size_limit=1000):\n",
    "    return {\n",
    "        \"field_ids\": properties,\n",
    "        \"order\": [\n",
    "            {\n",
    "                \"field_id\": \"uuid\",\n",
    "                \"sort\": \"asc\",\n",
    "                \"nulls\": \"last\"\n",
    "            }\n",
    "        ],\n",
    "        \"query\": [\n",
    "            {\n",
    "                \"type\": \"predicate\",\n",
    "                \"field_id\": \"target_money_raised\",\n",
    "                \"operator_id\": \"gt\",\n",
    "                \"values\": {\"value_usd\": 0}\n",
    "            },\n",
    "            {\n",
    "                \"type\": \"predicate\",\n",
    "                \"field_id\": \"money_raised\",\n",
    "                \"operator_id\": \"gt\",\n",
    "                \"values\": {\"value_usd\": 0}\n",
    "            },\n",
    "            {\n",
    "                \"type\": \"predicate\",\n",
    "                \"field_id\": \"num_investors\",\n",
    "                \"operator_id\": \"gt\",\n",
    "                \"values\": [0]\n",
    "            }\n",
    "        ],\n",
    "        \"limit\": size_limit,\n",
    "        \"before_id\": uuid_start\n",
    "    }\n",
    "\n",
    "\n",
    "def get_categories(funded_organization_categories):\n",
    "    if isinstance(funded_organization_categories, float):\n",
    "        return None\n",
    "    return [cat['value'] for cat in funded_organization_categories]\n",
    "\n",
    "\n",
    "def get_country(funded_organization_location):\n",
    "    if isinstance(funded_organization_location, float):\n",
    "        return None\n",
    "    for loc in funded_organization_location:\n",
    "        if loc['location_type'] == 'country':\n",
    "            return loc['value']\n",
    "    return None\n",
    "\n",
    "\n",
    "def get_lead_investor(lead_investor_identifiers):\n",
    "    if isinstance(lead_investor_identifiers, float):\n",
    "        return None\n",
    "    return lead_investor_identifiers[0]['value']\n",
    "\n",
    "\n",
    "def get_df_from_response(json_response):\n",
    "    rounds_columns = ['uuid', 'properties.announced_on', 'properties.money_raised.value_usd',\n",
    "                      'properties.num_investors', 'properties.funded_organization_categories',\n",
    "                      'properties.funded_organization_location', 'properties.investment_type',\n",
    "                      'properties.lead_investor_identifiers', 'properties.post_money_valuation.value_usd',\n",
    "                      'properties.funded_organization_identifier.uuid']\n",
    "\n",
    "    data = pd.json_normalize(json_response[\"entities\"])\n",
    "    data['properties.funded_organization_categories'] =  data['properties.funded_organization_categories'].apply(get_categories)\n",
    "    data['properties.funded_organization_location'] =  data['properties.funded_organization_location'].apply(get_categories)\n",
    "    data['properties.lead_investor_identifiers'] = data['properties.lead_investor_identifiers'].apply(get_lead_investor)\n",
    "    data = data[rounds_columns]\n",
    "    data.columns = [label.replace('properties.', '').replace('.value', '') for label in data.columns]\n",
    "    return data"
   ]
  },
  {
   "cell_type": "code",
   "execution_count": 76,
   "metadata": {},
   "outputs": [
    {
     "name": "stderr",
     "output_type": "stream",
     "text": [
      "100%|██████████| 452/452 [29:27<00:00,  3.91s/it] \n"
     ]
    }
   ],
   "source": [
    "rounds_data = pd.DataFrame()\n",
    "rounds_uuids = pd.read_csv(\"../../data/crunchbase/funding_rounds.csv\")[\"uuid\"].values\n",
    "rounds_properties = [\n",
    "    \"funded_organization_identifier\",\n",
    "    \"announced_on\",\n",
    "    \"target_money_raised\",\n",
    "    \"money_raised\",\n",
    "    \"num_investors\",\n",
    "    \"lead_investor_identifiers\",\n",
    "    \"investment_type\",\n",
    "    \"funded_organization_location\",\n",
    "    \"funded_organization_categories\",\n",
    "    \"post_money_valuation\"\n",
    "]\n",
    "\n",
    "query_limit = 1000\n",
    "for uuid in tqdm(rounds_uuids[::query_limit]):\n",
    "    query = get_query_for_uuids(rounds_properties, uuid, query_limit)\n",
    "    r = requests.post(url + \"/funding_rounds\", json=query, params=params)\n",
    "    chunk = get_df_from_response(json.loads(r.text))\n",
    "    rounds_data = pd.concat([rounds_data, chunk])\n"
   ]
  },
  {
   "cell_type": "code",
   "execution_count": 82,
   "outputs": [
    {
     "data": {
      "text/plain": "                                     uuid announced_on  money_raised_usd  \\\n0    89da2fef-059b-4ec8-a2dc-e18fad3e9697   2019-08-22        16000000.0   \n1    89da8960-820d-fc16-0048-d277b1c74040   2009-03-10          780001.0   \n2    89daa031-180b-4e80-9d84-de6f77644f37   2020-01-01               NaN   \n3    89daa224-d40b-4696-bfe4-6824e18ff4d8   2018-06-01               NaN   \n4    89daa3bc-98ef-4d91-98f4-7d46e5ade50f   2020-09-01         3700000.0   \n..                                    ...          ...               ...   \n995  3c0587fa-46de-421d-8ea7-7c2aed9352c7   2021-12-15        47113512.0   \n996  3c05ac01-6b66-4d15-b7d9-f6501d6ed341   2021-08-05         3800000.0   \n997  3c060241-856f-4eae-b77a-ab5c47c1608c   2014-09-15           50258.0   \n998  3c063583-bd4f-439f-9c41-2483d4ab1a28   2005-02-01               NaN   \n999  3c063ad4-58be-4b3a-9e46-ce445b199db3   2014-01-01               NaN   \n\n     num_investors                     funded_organization_categories  \\\n0                8  [E-Commerce, Furniture, Home and Garden, Home ...   \n1                1          [Analytics, Life Science, Nanotechnology]   \n2                5                                       [E-Commerce]   \n3                1      [Food and Beverage, Hospitality, Restaurants]   \n4                3  [Artificial Intelligence, Computer Vision, Mac...   \n..             ...                                                ...   \n995              6  [Artificial Intelligence, Machine Learning, Sa...   \n996              6                     [Health Care, Personal Health]   \n997              1                    [Software, Translation Service]   \n998              1                                    [Manufacturing]   \n999              1  [Biotechnology, Health Care, Health Diagnostic...   \n\n    funded_organization_location   investment_type lead_investor_identifiers  \\\n0                  United States          series_b                     Accel   \n1                  United States    series_unknown                      None   \n2                  United States              seed                      None   \n3                  United States       undisclosed                      None   \n4                        Germany              seed           Shasta Ventures   \n..                           ...               ...                       ...   \n995                        China          series_b            Cathay Capital   \n996                United States              seed             Quiet Capital   \n997                United States  convertible_note                      None   \n998                United States    series_unknown                      None   \n999                United States              seed                      None   \n\n     post_money_valuation_usd   funded_organization_identifier.uuid  \n0                         NaN  c7916a39-10cb-485a-b364-7fe414d9868d  \n1                         NaN  76f05830-746b-5ccc-5a2d-f39f8840e060  \n2                         NaN  c6a64d14-0f54-4077-89e5-a07838f36265  \n3                         NaN  97d4ad30-abd4-47b3-8318-1f6a02b98a89  \n4                         NaN  9fcbc4c7-5a74-43f6-8df1-e0c2917a6657  \n..                        ...                                   ...  \n995                       NaN  c9cf2757-aba4-4a08-be2d-0757e7a079ea  \n996                       NaN  53c909e2-9b8b-424d-a2d4-c8608f851f8e  \n997                       NaN  8a29b56a-4a20-db0f-bd83-c85f8e3ffe6f  \n998                       NaN  7b9b770d-d990-5e41-0a42-db770564f1c2  \n999                       NaN  cd3e7cc8-bb7e-65da-38c2-02affad352f5  \n\n[452000 rows x 10 columns]",
      "text/html": "<div>\n<style scoped>\n    .dataframe tbody tr th:only-of-type {\n        vertical-align: middle;\n    }\n\n    .dataframe tbody tr th {\n        vertical-align: top;\n    }\n\n    .dataframe thead th {\n        text-align: right;\n    }\n</style>\n<table border=\"1\" class=\"dataframe\">\n  <thead>\n    <tr style=\"text-align: right;\">\n      <th></th>\n      <th>uuid</th>\n      <th>announced_on</th>\n      <th>money_raised_usd</th>\n      <th>num_investors</th>\n      <th>funded_organization_categories</th>\n      <th>funded_organization_location</th>\n      <th>investment_type</th>\n      <th>lead_investor_identifiers</th>\n      <th>post_money_valuation_usd</th>\n      <th>funded_organization_identifier.uuid</th>\n    </tr>\n  </thead>\n  <tbody>\n    <tr>\n      <th>0</th>\n      <td>89da2fef-059b-4ec8-a2dc-e18fad3e9697</td>\n      <td>2019-08-22</td>\n      <td>16000000.0</td>\n      <td>8</td>\n      <td>[E-Commerce, Furniture, Home and Garden, Home ...</td>\n      <td>United States</td>\n      <td>series_b</td>\n      <td>Accel</td>\n      <td>NaN</td>\n      <td>c7916a39-10cb-485a-b364-7fe414d9868d</td>\n    </tr>\n    <tr>\n      <th>1</th>\n      <td>89da8960-820d-fc16-0048-d277b1c74040</td>\n      <td>2009-03-10</td>\n      <td>780001.0</td>\n      <td>1</td>\n      <td>[Analytics, Life Science, Nanotechnology]</td>\n      <td>United States</td>\n      <td>series_unknown</td>\n      <td>None</td>\n      <td>NaN</td>\n      <td>76f05830-746b-5ccc-5a2d-f39f8840e060</td>\n    </tr>\n    <tr>\n      <th>2</th>\n      <td>89daa031-180b-4e80-9d84-de6f77644f37</td>\n      <td>2020-01-01</td>\n      <td>NaN</td>\n      <td>5</td>\n      <td>[E-Commerce]</td>\n      <td>United States</td>\n      <td>seed</td>\n      <td>None</td>\n      <td>NaN</td>\n      <td>c6a64d14-0f54-4077-89e5-a07838f36265</td>\n    </tr>\n    <tr>\n      <th>3</th>\n      <td>89daa224-d40b-4696-bfe4-6824e18ff4d8</td>\n      <td>2018-06-01</td>\n      <td>NaN</td>\n      <td>1</td>\n      <td>[Food and Beverage, Hospitality, Restaurants]</td>\n      <td>United States</td>\n      <td>undisclosed</td>\n      <td>None</td>\n      <td>NaN</td>\n      <td>97d4ad30-abd4-47b3-8318-1f6a02b98a89</td>\n    </tr>\n    <tr>\n      <th>4</th>\n      <td>89daa3bc-98ef-4d91-98f4-7d46e5ade50f</td>\n      <td>2020-09-01</td>\n      <td>3700000.0</td>\n      <td>3</td>\n      <td>[Artificial Intelligence, Computer Vision, Mac...</td>\n      <td>Germany</td>\n      <td>seed</td>\n      <td>Shasta Ventures</td>\n      <td>NaN</td>\n      <td>9fcbc4c7-5a74-43f6-8df1-e0c2917a6657</td>\n    </tr>\n    <tr>\n      <th>...</th>\n      <td>...</td>\n      <td>...</td>\n      <td>...</td>\n      <td>...</td>\n      <td>...</td>\n      <td>...</td>\n      <td>...</td>\n      <td>...</td>\n      <td>...</td>\n      <td>...</td>\n    </tr>\n    <tr>\n      <th>995</th>\n      <td>3c0587fa-46de-421d-8ea7-7c2aed9352c7</td>\n      <td>2021-12-15</td>\n      <td>47113512.0</td>\n      <td>6</td>\n      <td>[Artificial Intelligence, Machine Learning, Sa...</td>\n      <td>China</td>\n      <td>series_b</td>\n      <td>Cathay Capital</td>\n      <td>NaN</td>\n      <td>c9cf2757-aba4-4a08-be2d-0757e7a079ea</td>\n    </tr>\n    <tr>\n      <th>996</th>\n      <td>3c05ac01-6b66-4d15-b7d9-f6501d6ed341</td>\n      <td>2021-08-05</td>\n      <td>3800000.0</td>\n      <td>6</td>\n      <td>[Health Care, Personal Health]</td>\n      <td>United States</td>\n      <td>seed</td>\n      <td>Quiet Capital</td>\n      <td>NaN</td>\n      <td>53c909e2-9b8b-424d-a2d4-c8608f851f8e</td>\n    </tr>\n    <tr>\n      <th>997</th>\n      <td>3c060241-856f-4eae-b77a-ab5c47c1608c</td>\n      <td>2014-09-15</td>\n      <td>50258.0</td>\n      <td>1</td>\n      <td>[Software, Translation Service]</td>\n      <td>United States</td>\n      <td>convertible_note</td>\n      <td>None</td>\n      <td>NaN</td>\n      <td>8a29b56a-4a20-db0f-bd83-c85f8e3ffe6f</td>\n    </tr>\n    <tr>\n      <th>998</th>\n      <td>3c063583-bd4f-439f-9c41-2483d4ab1a28</td>\n      <td>2005-02-01</td>\n      <td>NaN</td>\n      <td>1</td>\n      <td>[Manufacturing]</td>\n      <td>United States</td>\n      <td>series_unknown</td>\n      <td>None</td>\n      <td>NaN</td>\n      <td>7b9b770d-d990-5e41-0a42-db770564f1c2</td>\n    </tr>\n    <tr>\n      <th>999</th>\n      <td>3c063ad4-58be-4b3a-9e46-ce445b199db3</td>\n      <td>2014-01-01</td>\n      <td>NaN</td>\n      <td>1</td>\n      <td>[Biotechnology, Health Care, Health Diagnostic...</td>\n      <td>United States</td>\n      <td>seed</td>\n      <td>None</td>\n      <td>NaN</td>\n      <td>cd3e7cc8-bb7e-65da-38c2-02affad352f5</td>\n    </tr>\n  </tbody>\n</table>\n<p>452000 rows × 10 columns</p>\n</div>"
     },
     "execution_count": 82,
     "metadata": {},
     "output_type": "execute_result"
    }
   ],
   "source": [
    "rounds_data"
   ],
   "metadata": {
    "collapsed": false,
    "pycharm": {
     "name": "#%%\n"
    }
   }
  },
  {
   "cell_type": "code",
   "execution_count": 83,
   "outputs": [],
   "source": [
    "rounds_data.to_csv('../../data/rounds_data.csv', index=False)"
   ],
   "metadata": {
    "collapsed": false,
    "pycharm": {
     "name": "#%%\n"
    }
   }
  },
  {
   "cell_type": "code",
   "execution_count": null,
   "outputs": [],
   "source": [],
   "metadata": {
    "collapsed": false,
    "pycharm": {
     "name": "#%%\n"
    }
   }
  }
 ],
 "metadata": {
  "interpreter": {
   "hash": "4cd4398770f52323a936c32f4c9c33f20493122a0515696d6ebafdd949421bc2"
  },
  "kernelspec": {
   "display_name": "Python 3.10.2 64-bit ('3.10.2')",
   "language": "python",
   "name": "python3"
  },
  "language_info": {
   "codemirror_mode": {
    "name": "ipython",
    "version": 3
   },
   "file_extension": ".py",
   "mimetype": "text/x-python",
   "name": "python",
   "nbconvert_exporter": "python",
   "pygments_lexer": "ipython3",
   "version": "3.10.2"
  },
  "orig_nbformat": 4
 },
 "nbformat": 4,
 "nbformat_minor": 2
}