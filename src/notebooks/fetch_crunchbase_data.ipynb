{
 "cells": [
  {
   "cell_type": "markdown",
   "metadata": {
    "collapsed": false
   },
   "source": [
    "#### Imports"
   ]
  },
  {
   "cell_type": "code",
   "execution_count": 6,
   "metadata": {},
   "outputs": [],
   "source": [
    "import pandas as pd\n",
    "import requests\n",
    "import dotenv\n",
    "import json\n",
    "\n",
    "from tqdm import tqdm"
   ]
  },
  {
   "cell_type": "code",
   "execution_count": 7,
   "metadata": {},
   "outputs": [],
   "source": [
    "API_KEY = dotenv.get_key('../../.env', \"CRUNCHBASE_API_KEY\")\n",
    "params = {\"user_key\" : API_KEY}\n",
    "url = \"https://api.crunchbase.com/api/v4/searches\""
   ]
  },
  {
   "cell_type": "markdown",
   "metadata": {
    "collapsed": false
   },
   "source": [
    "### Bulk export"
   ]
  },
  {
   "cell_type": "code",
   "execution_count": 8,
   "metadata": {
    "collapsed": false,
    "pycharm": {
     "name": "#%%\n"
    }
   },
   "outputs": [
    {
     "name": "stderr",
     "output_type": "stream",
     "text": [
      "bulk_export.tar.gz: 100%|██████████| 1.50G/1.50G [02:15<00:00, 11.9MB/s]  \n"
     ]
    }
   ],
   "source": [
    "import tarfile\n",
    "from tqdm.auto import tqdm\n",
    "import dotenv\n",
    "import os\n",
    "\n",
    "dir_path = \"../../data/crunchbase\"\n",
    "data_path = dir_path + '/bulk_export.tar.gz'\n",
    "\n",
    "if not os.path.isdir(dir_path):\n",
    "    print('Crunchbase data not found. Downloading bulk export...')\n",
    "    os.makedirs(dir_path)\n",
    "\n",
    "url = f\"https://api.crunchbase.com/bulk/v4/bulk_export.tar.gz?user_key={API_KEY}\"\n",
    "\n",
    "response = requests.get(url, stream=True)\n",
    "with open(data_path, \"wb\") as fout:\n",
    "    with tqdm(\n",
    "            unit='B', unit_scale=True, unit_divisor=1024, miniters=1,\n",
    "            desc='bulk_export.tar.gz', total=int(response.headers.get('content-length', 0))\n",
    "    ) as pbar:\n",
    "        for chunk in response.iter_content(chunk_size=4096):\n",
    "            fout.write(chunk)\n",
    "            pbar.update(len(chunk))\n",
    "\n",
    "tar = tarfile.open(data_path)\n",
    "tar.extractall(dir_path)\n",
    "tar.close()"
   ]
  },
  {
   "cell_type": "markdown",
   "metadata": {
    "collapsed": false
   },
   "source": [
    "### API functions"
   ]
  },
  {
   "cell_type": "code",
   "execution_count": null,
   "metadata": {},
   "outputs": [],
   "source": [
    "def get_query_for_uuids(properties, uuid_start, size_limit=1000):\n",
    "    return {\n",
    "        \"field_ids\": properties,\n",
    "        \"order\": [\n",
    "            {\n",
    "                \"field_id\": \"uuid\",\n",
    "                \"sort\": \"asc\",\n",
    "                \"nulls\": \"last\"\n",
    "            }\n",
    "        ],\n",
    "        \"query\": [\n",
    "            {\n",
    "                \"type\": \"predicate\",\n",
    "                \"field_id\": \"target_money_raised\",\n",
    "                \"operator_id\": \"gt\",\n",
    "                \"values\": {\"value_usd\": 0}\n",
    "            },\n",
    "            {\n",
    "                \"type\": \"predicate\",\n",
    "                \"field_id\": \"money_raised\",\n",
    "                \"operator_id\": \"gt\",\n",
    "                \"values\": {\"value_usd\": 0}\n",
    "            },\n",
    "            {\n",
    "                \"type\": \"predicate\",\n",
    "                \"field_id\": \"num_investors\",\n",
    "                \"operator_id\": \"gt\",\n",
    "                \"values\": [0]\n",
    "            }\n",
    "        ],\n",
    "        \"limit\": size_limit,\n",
    "        \"before_id\": uuid_start\n",
    "    }\n",
    "\n",
    "\n",
    "def get_categories(funded_organization_categories):\n",
    "    if isinstance(funded_organization_categories, float):\n",
    "        return None\n",
    "    return [cat['value'] for cat in funded_organization_categories]\n",
    "\n",
    "\n",
    "def get_country(funded_organization_location):\n",
    "    if isinstance(funded_organization_location, float):\n",
    "        return None\n",
    "    for loc in funded_organization_location:\n",
    "        if loc['location_type'] == 'country':\n",
    "            return loc['value']\n",
    "    return None\n",
    "\n",
    "\n",
    "def get_lead_investor(lead_investor_identifiers):\n",
    "    if isinstance(lead_investor_identifiers, float):\n",
    "        return None\n",
    "    return lead_investor_identifiers[0]['value']\n",
    "\n",
    "\n",
    "def get_df_from_response(json_response):\n",
    "    rounds_columns = ['uuid', 'properties.announced_on', 'properties.money_raised.value_usd',\n",
    "                      'properties.num_investors', 'properties.funded_organization_categories',\n",
    "                      'properties.funded_organization_location', 'properties.investment_type',\n",
    "                      'properties.lead_investor_identifiers', 'properties.post_money_valuation.value_usd',\n",
    "                      'properties.funded_organization_identifier.uuid']\n",
    "\n",
    "    data = pd.json_normalize(json_response[\"entities\"])\n",
    "    data['properties.funded_organization_categories'] =  data['properties.funded_organization_categories'].apply(get_categories)\n",
    "    data['properties.funded_organization_location'] =  data['properties.funded_organization_location'].apply(get_categories)\n",
    "    data['properties.lead_investor_identifiers'] = data['properties.lead_investor_identifiers'].apply(get_lead_investor)\n",
    "    data = data[rounds_columns]\n",
    "    data.columns = [label.replace('properties.', '').replace('.value', '') for label in data.columns]\n",
    "    return data"
   ]
  },
  {
   "cell_type": "code",
   "execution_count": null,
   "metadata": {},
   "outputs": [],
   "source": [
    "rounds_data = pd.DataFrame()\n",
    "rounds_uuids = pd.read_csv(\"../../data/crunchbase/funding_rounds.csv\")[\"uuid\"].values\n",
    "rounds_properties = [\n",
    "    \"funded_organization_identifier\",\n",
    "    \"announced_on\",\n",
    "    \"target_money_raised\",\n",
    "    \"money_raised\",\n",
    "    \"num_investors\",\n",
    "    \"lead_investor_identifiers\",\n",
    "    \"investment_type\",\n",
    "    \"funded_organization_location\",\n",
    "    \"funded_organization_categories\",\n",
    "    \"post_money_valuation\"\n",
    "]\n",
    "\n",
    "query_limit = 1000\n",
    "for uuid in tqdm(rounds_uuids[::query_limit]):\n",
    "    query = get_query_for_uuids(rounds_properties, uuid, query_limit)\n",
    "    r = requests.post(url + \"/funding_rounds\", json=query, params=params)\n",
    "    chunk = get_df_from_response(json.loads(r.text))\n",
    "    rounds_data = pd.concat([rounds_data, chunk])\n"
   ]
  },
  {
   "cell_type": "code",
   "execution_count": null,
   "metadata": {
    "collapsed": false,
    "pycharm": {
     "name": "#%%\n"
    }
   },
   "outputs": [],
   "source": [
    "rounds_data"
   ]
  },
  {
   "cell_type": "code",
   "execution_count": null,
   "metadata": {
    "collapsed": false,
    "pycharm": {
     "name": "#%%\n"
    }
   },
   "outputs": [],
   "source": [
    "rounds_data.to_csv('../../data/rounds_data.csv', index=False)"
   ]
  },
  {
   "cell_type": "code",
   "execution_count": null,
   "metadata": {
    "collapsed": false,
    "pycharm": {
     "name": "#%%\n"
    }
   },
   "outputs": [],
   "source": []
  }
 ],
 "metadata": {
  "interpreter": {
   "hash": "4cd4398770f52323a936c32f4c9c33f20493122a0515696d6ebafdd949421bc2"
  },
  "kernelspec": {
   "display_name": "Python 3.10.2 64-bit ('3.10.2')",
   "language": "python",
   "name": "python3"
  },
  "language_info": {
   "codemirror_mode": {
    "name": "ipython",
    "version": 3
   },
   "file_extension": ".py",
   "mimetype": "text/x-python",
   "name": "python",
   "nbconvert_exporter": "python",
   "pygments_lexer": "ipython3",
   "version": "3.10.2"
  },
  "orig_nbformat": 4
 },
 "nbformat": 4,
 "nbformat_minor": 2
}
